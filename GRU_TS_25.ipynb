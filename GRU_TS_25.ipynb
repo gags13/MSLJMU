{
  "nbformat": 4,
  "nbformat_minor": 0,
  "metadata": {
    "colab": {
      "provenance": []
    },
    "kernelspec": {
      "name": "python3",
      "display_name": "Python 3"
    },
    "language_info": {
      "name": "python"
    },
    "accelerator": "GPU",
    "gpuClass": "standard"
  },
  "cells": [
    {
      "cell_type": "code",
      "source": [
        "ts_files = [\n",
        "    'vm_1_VmgiCwYcPy.csv',\n",
        "    'vm_2_rr2y46iWRI.csv',\n",
        "    'vm_3_Ch2tshNe8X.csv',\n",
        "    'vm_5_FXoWmAfKug.csv',\n",
        "    'vm_8_gesjL49nFh.csv',\n",
        "    'vm_12_aa1PrVE9ie.csv',\n",
        "    'vm_14_XpTL07_3it.csv',\n",
        "    'vm_15_PNj1J6v0YJ.csv',\n",
        "    'vm_17_YDo5PVK_75.csv',\n",
        "    'vm_19_GF6t1yYrx3.csv',\n",
        "    'vm_20_N0gBVBQviQ.csv',\n",
        "    'vm_21_gQI5vMY9+5.csv',\n",
        "    'vm_22_l93uKkSTv8.csv',\n",
        "    'vm_23_KxsOjS16uU.csv',\n",
        "    'vm_25_bImCpIMf2H.csv',\n",
        "    'vm_26_mY+fWVBQe0.csv'\n",
        "]"
      ],
      "metadata": {
        "id": "vbZ7AKs2VM6H"
      },
      "execution_count": 371,
      "outputs": []
    },
    {
      "cell_type": "code",
      "source": [
        "#base_path = '/content/drive/MyDrive/MS/dataset/singlets/'\n",
        "#data_path = base_path + ts_files[2]\n",
        "\n",
        "base_path = 'https://raw.githubusercontent.com/gags13/datasets/main/'\n",
        "data_path = base_path + ts_files[14]"
      ],
      "metadata": {
        "id": "ibHRMOU9Uxp9"
      },
      "execution_count": 372,
      "outputs": []
    },
    {
      "cell_type": "code",
      "execution_count": 373,
      "metadata": {
        "id": "nifmmUKpTrNT"
      },
      "outputs": [],
      "source": [
        "import numpy as np\n",
        "import pandas as pd\n",
        "from IPython.display import display\n",
        "import matplotlib.pyplot as plt\n",
        "from matplotlib.backends.backend_pdf import PdfPages\n",
        "\n",
        "%matplotlib inline"
      ]
    },
    {
      "cell_type": "code",
      "source": [
        "#from google.colab import drive\n",
        "#drive.mount('/content/drive/')"
      ],
      "metadata": {
        "id": "mKC7ZRE1U1FM"
      },
      "execution_count": 374,
      "outputs": []
    },
    {
      "cell_type": "code",
      "source": [
        "ts_df = pd.read_csv(data_path, index_col=False, delimiter=',')\n",
        "ts_df.drop(['Unnamed: 0'],axis=1, inplace=True)\n",
        "ts_df.head()"
      ],
      "metadata": {
        "colab": {
          "base_uri": "https://localhost:8080/",
          "height": 206
        },
        "id": "jbdsx0FBU5QO",
        "outputId": "61eebf92-8e82-4a65-e4f1-6e05cd852f5f"
      },
      "execution_count": 375,
      "outputs": [
        {
          "output_type": "execute_result",
          "data": {
            "text/plain": [
              "   timestamp                                              vm_id   min_cpu  \\\n",
              "0      84900  bImCpIMf2HKgje7Dhiny++Km4PB/Q4upcjrH/bitFIJTmU...  0.152037   \n",
              "1      85200  bImCpIMf2HKgje7Dhiny++Km4PB/Q4upcjrH/bitFIJTmU...  0.304617   \n",
              "2      85500  bImCpIMf2HKgje7Dhiny++Km4PB/Q4upcjrH/bitFIJTmU...  0.303374   \n",
              "3      85800  bImCpIMf2HKgje7Dhiny++Km4PB/Q4upcjrH/bitFIJTmU...  1.099643   \n",
              "4      86100  bImCpIMf2HKgje7Dhiny++Km4PB/Q4upcjrH/bitFIJTmU...  1.156628   \n",
              "\n",
              "     max_cpu    avg_cpu  \n",
              "0   4.491775   0.587234  \n",
              "1   0.600853   0.404078  \n",
              "2  24.150389   5.078643  \n",
              "3   2.075340   1.506655  \n",
              "4  97.988954  11.964372  "
            ],
            "text/html": [
              "\n",
              "  <div id=\"df-a1b78998-77cd-4a00-bbcf-29cd6833a14f\">\n",
              "    <div class=\"colab-df-container\">\n",
              "      <div>\n",
              "<style scoped>\n",
              "    .dataframe tbody tr th:only-of-type {\n",
              "        vertical-align: middle;\n",
              "    }\n",
              "\n",
              "    .dataframe tbody tr th {\n",
              "        vertical-align: top;\n",
              "    }\n",
              "\n",
              "    .dataframe thead th {\n",
              "        text-align: right;\n",
              "    }\n",
              "</style>\n",
              "<table border=\"1\" class=\"dataframe\">\n",
              "  <thead>\n",
              "    <tr style=\"text-align: right;\">\n",
              "      <th></th>\n",
              "      <th>timestamp</th>\n",
              "      <th>vm_id</th>\n",
              "      <th>min_cpu</th>\n",
              "      <th>max_cpu</th>\n",
              "      <th>avg_cpu</th>\n",
              "    </tr>\n",
              "  </thead>\n",
              "  <tbody>\n",
              "    <tr>\n",
              "      <th>0</th>\n",
              "      <td>84900</td>\n",
              "      <td>bImCpIMf2HKgje7Dhiny++Km4PB/Q4upcjrH/bitFIJTmU...</td>\n",
              "      <td>0.152037</td>\n",
              "      <td>4.491775</td>\n",
              "      <td>0.587234</td>\n",
              "    </tr>\n",
              "    <tr>\n",
              "      <th>1</th>\n",
              "      <td>85200</td>\n",
              "      <td>bImCpIMf2HKgje7Dhiny++Km4PB/Q4upcjrH/bitFIJTmU...</td>\n",
              "      <td>0.304617</td>\n",
              "      <td>0.600853</td>\n",
              "      <td>0.404078</td>\n",
              "    </tr>\n",
              "    <tr>\n",
              "      <th>2</th>\n",
              "      <td>85500</td>\n",
              "      <td>bImCpIMf2HKgje7Dhiny++Km4PB/Q4upcjrH/bitFIJTmU...</td>\n",
              "      <td>0.303374</td>\n",
              "      <td>24.150389</td>\n",
              "      <td>5.078643</td>\n",
              "    </tr>\n",
              "    <tr>\n",
              "      <th>3</th>\n",
              "      <td>85800</td>\n",
              "      <td>bImCpIMf2HKgje7Dhiny++Km4PB/Q4upcjrH/bitFIJTmU...</td>\n",
              "      <td>1.099643</td>\n",
              "      <td>2.075340</td>\n",
              "      <td>1.506655</td>\n",
              "    </tr>\n",
              "    <tr>\n",
              "      <th>4</th>\n",
              "      <td>86100</td>\n",
              "      <td>bImCpIMf2HKgje7Dhiny++Km4PB/Q4upcjrH/bitFIJTmU...</td>\n",
              "      <td>1.156628</td>\n",
              "      <td>97.988954</td>\n",
              "      <td>11.964372</td>\n",
              "    </tr>\n",
              "  </tbody>\n",
              "</table>\n",
              "</div>\n",
              "      <button class=\"colab-df-convert\" onclick=\"convertToInteractive('df-a1b78998-77cd-4a00-bbcf-29cd6833a14f')\"\n",
              "              title=\"Convert this dataframe to an interactive table.\"\n",
              "              style=\"display:none;\">\n",
              "        \n",
              "  <svg xmlns=\"http://www.w3.org/2000/svg\" height=\"24px\"viewBox=\"0 0 24 24\"\n",
              "       width=\"24px\">\n",
              "    <path d=\"M0 0h24v24H0V0z\" fill=\"none\"/>\n",
              "    <path d=\"M18.56 5.44l.94 2.06.94-2.06 2.06-.94-2.06-.94-.94-2.06-.94 2.06-2.06.94zm-11 1L8.5 8.5l.94-2.06 2.06-.94-2.06-.94L8.5 2.5l-.94 2.06-2.06.94zm10 10l.94 2.06.94-2.06 2.06-.94-2.06-.94-.94-2.06-.94 2.06-2.06.94z\"/><path d=\"M17.41 7.96l-1.37-1.37c-.4-.4-.92-.59-1.43-.59-.52 0-1.04.2-1.43.59L10.3 9.45l-7.72 7.72c-.78.78-.78 2.05 0 2.83L4 21.41c.39.39.9.59 1.41.59.51 0 1.02-.2 1.41-.59l7.78-7.78 2.81-2.81c.8-.78.8-2.07 0-2.86zM5.41 20L4 18.59l7.72-7.72 1.47 1.35L5.41 20z\"/>\n",
              "  </svg>\n",
              "      </button>\n",
              "      \n",
              "  <style>\n",
              "    .colab-df-container {\n",
              "      display:flex;\n",
              "      flex-wrap:wrap;\n",
              "      gap: 12px;\n",
              "    }\n",
              "\n",
              "    .colab-df-convert {\n",
              "      background-color: #E8F0FE;\n",
              "      border: none;\n",
              "      border-radius: 50%;\n",
              "      cursor: pointer;\n",
              "      display: none;\n",
              "      fill: #1967D2;\n",
              "      height: 32px;\n",
              "      padding: 0 0 0 0;\n",
              "      width: 32px;\n",
              "    }\n",
              "\n",
              "    .colab-df-convert:hover {\n",
              "      background-color: #E2EBFA;\n",
              "      box-shadow: 0px 1px 2px rgba(60, 64, 67, 0.3), 0px 1px 3px 1px rgba(60, 64, 67, 0.15);\n",
              "      fill: #174EA6;\n",
              "    }\n",
              "\n",
              "    [theme=dark] .colab-df-convert {\n",
              "      background-color: #3B4455;\n",
              "      fill: #D2E3FC;\n",
              "    }\n",
              "\n",
              "    [theme=dark] .colab-df-convert:hover {\n",
              "      background-color: #434B5C;\n",
              "      box-shadow: 0px 1px 3px 1px rgba(0, 0, 0, 0.15);\n",
              "      filter: drop-shadow(0px 1px 2px rgba(0, 0, 0, 0.3));\n",
              "      fill: #FFFFFF;\n",
              "    }\n",
              "  </style>\n",
              "\n",
              "      <script>\n",
              "        const buttonEl =\n",
              "          document.querySelector('#df-a1b78998-77cd-4a00-bbcf-29cd6833a14f button.colab-df-convert');\n",
              "        buttonEl.style.display =\n",
              "          google.colab.kernel.accessAllowed ? 'block' : 'none';\n",
              "\n",
              "        async function convertToInteractive(key) {\n",
              "          const element = document.querySelector('#df-a1b78998-77cd-4a00-bbcf-29cd6833a14f');\n",
              "          const dataTable =\n",
              "            await google.colab.kernel.invokeFunction('convertToInteractive',\n",
              "                                                     [key], {});\n",
              "          if (!dataTable) return;\n",
              "\n",
              "          const docLinkHtml = 'Like what you see? Visit the ' +\n",
              "            '<a target=\"_blank\" href=https://colab.research.google.com/notebooks/data_table.ipynb>data table notebook</a>'\n",
              "            + ' to learn more about interactive tables.';\n",
              "          element.innerHTML = '';\n",
              "          dataTable['output_type'] = 'display_data';\n",
              "          await google.colab.output.renderOutput(dataTable, element);\n",
              "          const docLink = document.createElement('div');\n",
              "          docLink.innerHTML = docLinkHtml;\n",
              "          element.appendChild(docLink);\n",
              "        }\n",
              "      </script>\n",
              "    </div>\n",
              "  </div>\n",
              "  "
            ]
          },
          "metadata": {},
          "execution_count": 375
        }
      ]
    },
    {
      "cell_type": "code",
      "source": [
        "vm_id = ts_df.vm_id.values[0]\n",
        "print(\"VM ID :\", vm_id)"
      ],
      "metadata": {
        "colab": {
          "base_uri": "https://localhost:8080/"
        },
        "id": "Tr2YJgXEVcYv",
        "outputId": "53a8d96c-b157-4b83-9361-23823b409a44"
      },
      "execution_count": 376,
      "outputs": [
        {
          "output_type": "stream",
          "name": "stdout",
          "text": [
            "VM ID : bImCpIMf2HKgje7Dhiny++Km4PB/Q4upcjrH/bitFIJTmUNxeN3L2BPGhf53Fl2c\n"
          ]
        }
      ]
    },
    {
      "cell_type": "code",
      "source": [
        "ts_df.drop(['vm_id'],axis=1, inplace=True)\n",
        "ts_df.head()"
      ],
      "metadata": {
        "colab": {
          "base_uri": "https://localhost:8080/",
          "height": 206
        },
        "id": "CZ4ZvKh1WnlR",
        "outputId": "9efc979b-0ed3-4983-9ef5-60360bfdca99"
      },
      "execution_count": 377,
      "outputs": [
        {
          "output_type": "execute_result",
          "data": {
            "text/plain": [
              "   timestamp   min_cpu    max_cpu    avg_cpu\n",
              "0      84900  0.152037   4.491775   0.587234\n",
              "1      85200  0.304617   0.600853   0.404078\n",
              "2      85500  0.303374  24.150389   5.078643\n",
              "3      85800  1.099643   2.075340   1.506655\n",
              "4      86100  1.156628  97.988954  11.964372"
            ],
            "text/html": [
              "\n",
              "  <div id=\"df-076ed8d6-4510-42ba-adac-04e44a61da4d\">\n",
              "    <div class=\"colab-df-container\">\n",
              "      <div>\n",
              "<style scoped>\n",
              "    .dataframe tbody tr th:only-of-type {\n",
              "        vertical-align: middle;\n",
              "    }\n",
              "\n",
              "    .dataframe tbody tr th {\n",
              "        vertical-align: top;\n",
              "    }\n",
              "\n",
              "    .dataframe thead th {\n",
              "        text-align: right;\n",
              "    }\n",
              "</style>\n",
              "<table border=\"1\" class=\"dataframe\">\n",
              "  <thead>\n",
              "    <tr style=\"text-align: right;\">\n",
              "      <th></th>\n",
              "      <th>timestamp</th>\n",
              "      <th>min_cpu</th>\n",
              "      <th>max_cpu</th>\n",
              "      <th>avg_cpu</th>\n",
              "    </tr>\n",
              "  </thead>\n",
              "  <tbody>\n",
              "    <tr>\n",
              "      <th>0</th>\n",
              "      <td>84900</td>\n",
              "      <td>0.152037</td>\n",
              "      <td>4.491775</td>\n",
              "      <td>0.587234</td>\n",
              "    </tr>\n",
              "    <tr>\n",
              "      <th>1</th>\n",
              "      <td>85200</td>\n",
              "      <td>0.304617</td>\n",
              "      <td>0.600853</td>\n",
              "      <td>0.404078</td>\n",
              "    </tr>\n",
              "    <tr>\n",
              "      <th>2</th>\n",
              "      <td>85500</td>\n",
              "      <td>0.303374</td>\n",
              "      <td>24.150389</td>\n",
              "      <td>5.078643</td>\n",
              "    </tr>\n",
              "    <tr>\n",
              "      <th>3</th>\n",
              "      <td>85800</td>\n",
              "      <td>1.099643</td>\n",
              "      <td>2.075340</td>\n",
              "      <td>1.506655</td>\n",
              "    </tr>\n",
              "    <tr>\n",
              "      <th>4</th>\n",
              "      <td>86100</td>\n",
              "      <td>1.156628</td>\n",
              "      <td>97.988954</td>\n",
              "      <td>11.964372</td>\n",
              "    </tr>\n",
              "  </tbody>\n",
              "</table>\n",
              "</div>\n",
              "      <button class=\"colab-df-convert\" onclick=\"convertToInteractive('df-076ed8d6-4510-42ba-adac-04e44a61da4d')\"\n",
              "              title=\"Convert this dataframe to an interactive table.\"\n",
              "              style=\"display:none;\">\n",
              "        \n",
              "  <svg xmlns=\"http://www.w3.org/2000/svg\" height=\"24px\"viewBox=\"0 0 24 24\"\n",
              "       width=\"24px\">\n",
              "    <path d=\"M0 0h24v24H0V0z\" fill=\"none\"/>\n",
              "    <path d=\"M18.56 5.44l.94 2.06.94-2.06 2.06-.94-2.06-.94-.94-2.06-.94 2.06-2.06.94zm-11 1L8.5 8.5l.94-2.06 2.06-.94-2.06-.94L8.5 2.5l-.94 2.06-2.06.94zm10 10l.94 2.06.94-2.06 2.06-.94-2.06-.94-.94-2.06-.94 2.06-2.06.94z\"/><path d=\"M17.41 7.96l-1.37-1.37c-.4-.4-.92-.59-1.43-.59-.52 0-1.04.2-1.43.59L10.3 9.45l-7.72 7.72c-.78.78-.78 2.05 0 2.83L4 21.41c.39.39.9.59 1.41.59.51 0 1.02-.2 1.41-.59l7.78-7.78 2.81-2.81c.8-.78.8-2.07 0-2.86zM5.41 20L4 18.59l7.72-7.72 1.47 1.35L5.41 20z\"/>\n",
              "  </svg>\n",
              "      </button>\n",
              "      \n",
              "  <style>\n",
              "    .colab-df-container {\n",
              "      display:flex;\n",
              "      flex-wrap:wrap;\n",
              "      gap: 12px;\n",
              "    }\n",
              "\n",
              "    .colab-df-convert {\n",
              "      background-color: #E8F0FE;\n",
              "      border: none;\n",
              "      border-radius: 50%;\n",
              "      cursor: pointer;\n",
              "      display: none;\n",
              "      fill: #1967D2;\n",
              "      height: 32px;\n",
              "      padding: 0 0 0 0;\n",
              "      width: 32px;\n",
              "    }\n",
              "\n",
              "    .colab-df-convert:hover {\n",
              "      background-color: #E2EBFA;\n",
              "      box-shadow: 0px 1px 2px rgba(60, 64, 67, 0.3), 0px 1px 3px 1px rgba(60, 64, 67, 0.15);\n",
              "      fill: #174EA6;\n",
              "    }\n",
              "\n",
              "    [theme=dark] .colab-df-convert {\n",
              "      background-color: #3B4455;\n",
              "      fill: #D2E3FC;\n",
              "    }\n",
              "\n",
              "    [theme=dark] .colab-df-convert:hover {\n",
              "      background-color: #434B5C;\n",
              "      box-shadow: 0px 1px 3px 1px rgba(0, 0, 0, 0.15);\n",
              "      filter: drop-shadow(0px 1px 2px rgba(0, 0, 0, 0.3));\n",
              "      fill: #FFFFFF;\n",
              "    }\n",
              "  </style>\n",
              "\n",
              "      <script>\n",
              "        const buttonEl =\n",
              "          document.querySelector('#df-076ed8d6-4510-42ba-adac-04e44a61da4d button.colab-df-convert');\n",
              "        buttonEl.style.display =\n",
              "          google.colab.kernel.accessAllowed ? 'block' : 'none';\n",
              "\n",
              "        async function convertToInteractive(key) {\n",
              "          const element = document.querySelector('#df-076ed8d6-4510-42ba-adac-04e44a61da4d');\n",
              "          const dataTable =\n",
              "            await google.colab.kernel.invokeFunction('convertToInteractive',\n",
              "                                                     [key], {});\n",
              "          if (!dataTable) return;\n",
              "\n",
              "          const docLinkHtml = 'Like what you see? Visit the ' +\n",
              "            '<a target=\"_blank\" href=https://colab.research.google.com/notebooks/data_table.ipynb>data table notebook</a>'\n",
              "            + ' to learn more about interactive tables.';\n",
              "          element.innerHTML = '';\n",
              "          dataTable['output_type'] = 'display_data';\n",
              "          await google.colab.output.renderOutput(dataTable, element);\n",
              "          const docLink = document.createElement('div');\n",
              "          docLink.innerHTML = docLinkHtml;\n",
              "          element.appendChild(docLink);\n",
              "        }\n",
              "      </script>\n",
              "    </div>\n",
              "  </div>\n",
              "  "
            ]
          },
          "metadata": {},
          "execution_count": 377
        }
      ]
    },
    {
      "cell_type": "code",
      "source": [
        "from sklearn.preprocessing import MinMaxScaler, StandardScaler\n",
        "import warnings\n",
        "warnings.filterwarnings('ignore')\n",
        "from scipy import stats\n",
        "import tensorflow as tf\n",
        "from tensorflow import keras\n",
        "from tensorflow.keras import Sequential, layers, callbacks\n",
        "from tensorflow.keras.layers import Dense, Dropout, GRU"
      ],
      "metadata": {
        "id": "2_9d7Uygo82M"
      },
      "execution_count": 378,
      "outputs": []
    },
    {
      "cell_type": "code",
      "source": [
        "tf.random.set_seed(1310)"
      ],
      "metadata": {
        "id": "75URiRLcpAYx"
      },
      "execution_count": 379,
      "outputs": []
    },
    {
      "cell_type": "code",
      "source": [
        "ts_df['timestamp'] = ts_df['timestamp']/300\n",
        "ts_df['timestamp'] = ts_df['timestamp'].astype('int')\n",
        "ts_df.head()"
      ],
      "metadata": {
        "colab": {
          "base_uri": "https://localhost:8080/",
          "height": 206
        },
        "id": "oyDro-5a8NBR",
        "outputId": "aff6c645-99f1-4d65-ab55-008c9bc67666"
      },
      "execution_count": 380,
      "outputs": [
        {
          "output_type": "execute_result",
          "data": {
            "text/plain": [
              "   timestamp   min_cpu    max_cpu    avg_cpu\n",
              "0        283  0.152037   4.491775   0.587234\n",
              "1        284  0.304617   0.600853   0.404078\n",
              "2        285  0.303374  24.150389   5.078643\n",
              "3        286  1.099643   2.075340   1.506655\n",
              "4        287  1.156628  97.988954  11.964372"
            ],
            "text/html": [
              "\n",
              "  <div id=\"df-2f3dd13a-cb44-49c9-8881-66e16b6b1f23\">\n",
              "    <div class=\"colab-df-container\">\n",
              "      <div>\n",
              "<style scoped>\n",
              "    .dataframe tbody tr th:only-of-type {\n",
              "        vertical-align: middle;\n",
              "    }\n",
              "\n",
              "    .dataframe tbody tr th {\n",
              "        vertical-align: top;\n",
              "    }\n",
              "\n",
              "    .dataframe thead th {\n",
              "        text-align: right;\n",
              "    }\n",
              "</style>\n",
              "<table border=\"1\" class=\"dataframe\">\n",
              "  <thead>\n",
              "    <tr style=\"text-align: right;\">\n",
              "      <th></th>\n",
              "      <th>timestamp</th>\n",
              "      <th>min_cpu</th>\n",
              "      <th>max_cpu</th>\n",
              "      <th>avg_cpu</th>\n",
              "    </tr>\n",
              "  </thead>\n",
              "  <tbody>\n",
              "    <tr>\n",
              "      <th>0</th>\n",
              "      <td>283</td>\n",
              "      <td>0.152037</td>\n",
              "      <td>4.491775</td>\n",
              "      <td>0.587234</td>\n",
              "    </tr>\n",
              "    <tr>\n",
              "      <th>1</th>\n",
              "      <td>284</td>\n",
              "      <td>0.304617</td>\n",
              "      <td>0.600853</td>\n",
              "      <td>0.404078</td>\n",
              "    </tr>\n",
              "    <tr>\n",
              "      <th>2</th>\n",
              "      <td>285</td>\n",
              "      <td>0.303374</td>\n",
              "      <td>24.150389</td>\n",
              "      <td>5.078643</td>\n",
              "    </tr>\n",
              "    <tr>\n",
              "      <th>3</th>\n",
              "      <td>286</td>\n",
              "      <td>1.099643</td>\n",
              "      <td>2.075340</td>\n",
              "      <td>1.506655</td>\n",
              "    </tr>\n",
              "    <tr>\n",
              "      <th>4</th>\n",
              "      <td>287</td>\n",
              "      <td>1.156628</td>\n",
              "      <td>97.988954</td>\n",
              "      <td>11.964372</td>\n",
              "    </tr>\n",
              "  </tbody>\n",
              "</table>\n",
              "</div>\n",
              "      <button class=\"colab-df-convert\" onclick=\"convertToInteractive('df-2f3dd13a-cb44-49c9-8881-66e16b6b1f23')\"\n",
              "              title=\"Convert this dataframe to an interactive table.\"\n",
              "              style=\"display:none;\">\n",
              "        \n",
              "  <svg xmlns=\"http://www.w3.org/2000/svg\" height=\"24px\"viewBox=\"0 0 24 24\"\n",
              "       width=\"24px\">\n",
              "    <path d=\"M0 0h24v24H0V0z\" fill=\"none\"/>\n",
              "    <path d=\"M18.56 5.44l.94 2.06.94-2.06 2.06-.94-2.06-.94-.94-2.06-.94 2.06-2.06.94zm-11 1L8.5 8.5l.94-2.06 2.06-.94-2.06-.94L8.5 2.5l-.94 2.06-2.06.94zm10 10l.94 2.06.94-2.06 2.06-.94-2.06-.94-.94-2.06-.94 2.06-2.06.94z\"/><path d=\"M17.41 7.96l-1.37-1.37c-.4-.4-.92-.59-1.43-.59-.52 0-1.04.2-1.43.59L10.3 9.45l-7.72 7.72c-.78.78-.78 2.05 0 2.83L4 21.41c.39.39.9.59 1.41.59.51 0 1.02-.2 1.41-.59l7.78-7.78 2.81-2.81c.8-.78.8-2.07 0-2.86zM5.41 20L4 18.59l7.72-7.72 1.47 1.35L5.41 20z\"/>\n",
              "  </svg>\n",
              "      </button>\n",
              "      \n",
              "  <style>\n",
              "    .colab-df-container {\n",
              "      display:flex;\n",
              "      flex-wrap:wrap;\n",
              "      gap: 12px;\n",
              "    }\n",
              "\n",
              "    .colab-df-convert {\n",
              "      background-color: #E8F0FE;\n",
              "      border: none;\n",
              "      border-radius: 50%;\n",
              "      cursor: pointer;\n",
              "      display: none;\n",
              "      fill: #1967D2;\n",
              "      height: 32px;\n",
              "      padding: 0 0 0 0;\n",
              "      width: 32px;\n",
              "    }\n",
              "\n",
              "    .colab-df-convert:hover {\n",
              "      background-color: #E2EBFA;\n",
              "      box-shadow: 0px 1px 2px rgba(60, 64, 67, 0.3), 0px 1px 3px 1px rgba(60, 64, 67, 0.15);\n",
              "      fill: #174EA6;\n",
              "    }\n",
              "\n",
              "    [theme=dark] .colab-df-convert {\n",
              "      background-color: #3B4455;\n",
              "      fill: #D2E3FC;\n",
              "    }\n",
              "\n",
              "    [theme=dark] .colab-df-convert:hover {\n",
              "      background-color: #434B5C;\n",
              "      box-shadow: 0px 1px 3px 1px rgba(0, 0, 0, 0.15);\n",
              "      filter: drop-shadow(0px 1px 2px rgba(0, 0, 0, 0.3));\n",
              "      fill: #FFFFFF;\n",
              "    }\n",
              "  </style>\n",
              "\n",
              "      <script>\n",
              "        const buttonEl =\n",
              "          document.querySelector('#df-2f3dd13a-cb44-49c9-8881-66e16b6b1f23 button.colab-df-convert');\n",
              "        buttonEl.style.display =\n",
              "          google.colab.kernel.accessAllowed ? 'block' : 'none';\n",
              "\n",
              "        async function convertToInteractive(key) {\n",
              "          const element = document.querySelector('#df-2f3dd13a-cb44-49c9-8881-66e16b6b1f23');\n",
              "          const dataTable =\n",
              "            await google.colab.kernel.invokeFunction('convertToInteractive',\n",
              "                                                     [key], {});\n",
              "          if (!dataTable) return;\n",
              "\n",
              "          const docLinkHtml = 'Like what you see? Visit the ' +\n",
              "            '<a target=\"_blank\" href=https://colab.research.google.com/notebooks/data_table.ipynb>data table notebook</a>'\n",
              "            + ' to learn more about interactive tables.';\n",
              "          element.innerHTML = '';\n",
              "          dataTable['output_type'] = 'display_data';\n",
              "          await google.colab.output.renderOutput(dataTable, element);\n",
              "          const docLink = document.createElement('div');\n",
              "          docLink.innerHTML = docLinkHtml;\n",
              "          element.appendChild(docLink);\n",
              "        }\n",
              "      </script>\n",
              "    </div>\n",
              "  </div>\n",
              "  "
            ]
          },
          "metadata": {},
          "execution_count": 380
        }
      ]
    },
    {
      "cell_type": "code",
      "source": [
        "def timeseries (x_axis, y_axis, y_label):\n",
        "    plt.figure(figsize = (20, 6))\n",
        "    plt.plot(x_axis, y_axis, color ='blue')\n",
        "    plt.xlabel('time', {'fontsize': 12}) \n",
        "    plt.ylabel(y_label, {'fontsize': 12})"
      ],
      "metadata": {
        "id": "F2FLML_m8aJq"
      },
      "execution_count": 381,
      "outputs": []
    },
    {
      "cell_type": "code",
      "source": [
        "timeseries (ts_df['timestamp'], ts_df['max_cpu'], 'MAX CPU')"
      ],
      "metadata": {
        "colab": {
          "base_uri": "https://localhost:8080/",
          "height": 391
        },
        "id": "VJ0_WJ-q8djd",
        "outputId": "acfe6eb1-65cb-4725-98f7-2c05464f6459"
      },
      "execution_count": 382,
      "outputs": [
        {
          "output_type": "display_data",
          "data": {
            "text/plain": [
              "<Figure size 1440x432 with 1 Axes>"
            ],
            "image/png": "[encoded data removed]"
          },
          "metadata": {
            "needs_background": "light"
          }
        }
      ]
    },
    {
      "cell_type": "code",
      "source": [
        "df_max = ts_df.drop(['min_cpu', 'avg_cpu'], axis=1)\n",
        "df_max = df_max.set_index('timestamp')\n",
        "df_max.head()"
      ],
      "metadata": {
        "colab": {
          "base_uri": "https://localhost:8080/",
          "height": 238
        },
        "id": "tvXQoXzY8iED",
        "outputId": "d29a0f7b-d794-43d7-a977-86e79231bc5b"
      },
      "execution_count": 383,
      "outputs": [
        {
          "output_type": "execute_result",
          "data": {
            "text/plain": [
              "             max_cpu\n",
              "timestamp           \n",
              "283         4.491775\n",
              "284         0.600853\n",
              "285        24.150389\n",
              "286         2.075340\n",
              "287        97.988954"
            ],
            "text/html": [
              "\n",
              "  <div id=\"df-c1bfb0da-f878-40b5-b4e3-045989c6b385\">\n",
              "    <div class=\"colab-df-container\">\n",
              "      <div>\n",
              "<style scoped>\n",
              "    .dataframe tbody tr th:only-of-type {\n",
              "        vertical-align: middle;\n",
              "    }\n",
              "\n",
              "    .dataframe tbody tr th {\n",
              "        vertical-align: top;\n",
              "    }\n",
              "\n",
              "    .dataframe thead th {\n",
              "        text-align: right;\n",
              "    }\n",
              "</style>\n",
              "<table border=\"1\" class=\"dataframe\">\n",
              "  <thead>\n",
              "    <tr style=\"text-align: right;\">\n",
              "      <th></th>\n",
              "      <th>max_cpu</th>\n",
              "    </tr>\n",
              "    <tr>\n",
              "      <th>timestamp</th>\n",
              "      <th></th>\n",
              "    </tr>\n",
              "  </thead>\n",
              "  <tbody>\n",
              "    <tr>\n",
              "      <th>283</th>\n",
              "      <td>4.491775</td>\n",
              "    </tr>\n",
              "    <tr>\n",
              "      <th>284</th>\n",
              "      <td>0.600853</td>\n",
              "    </tr>\n",
              "    <tr>\n",
              "      <th>285</th>\n",
              "      <td>24.150389</td>\n",
              "    </tr>\n",
              "    <tr>\n",
              "      <th>286</th>\n",
              "      <td>2.075340</td>\n",
              "    </tr>\n",
              "    <tr>\n",
              "      <th>287</th>\n",
              "      <td>97.988954</td>\n",
              "    </tr>\n",
              "  </tbody>\n",
              "</table>\n",
              "</div>\n",
              "      <button class=\"colab-df-convert\" onclick=\"convertToInteractive('df-c1bfb0da-f878-40b5-b4e3-045989c6b385')\"\n",
              "              title=\"Convert this dataframe to an interactive table.\"\n",
              "              style=\"display:none;\">\n",
              "        \n",
              "  <svg xmlns=\"http://www.w3.org/2000/svg\" height=\"24px\"viewBox=\"0 0 24 24\"\n",
              "       width=\"24px\">\n",
              "    <path d=\"M0 0h24v24H0V0z\" fill=\"none\"/>\n",
              "    <path d=\"M18.56 5.44l.94 2.06.94-2.06 2.06-.94-2.06-.94-.94-2.06-.94 2.06-2.06.94zm-11 1L8.5 8.5l.94-2.06 2.06-.94-2.06-.94L8.5 2.5l-.94 2.06-2.06.94zm10 10l.94 2.06.94-2.06 2.06-.94-2.06-.94-.94-2.06-.94 2.06-2.06.94z\"/><path d=\"M17.41 7.96l-1.37-1.37c-.4-.4-.92-.59-1.43-.59-.52 0-1.04.2-1.43.59L10.3 9.45l-7.72 7.72c-.78.78-.78 2.05 0 2.83L4 21.41c.39.39.9.59 1.41.59.51 0 1.02-.2 1.41-.59l7.78-7.78 2.81-2.81c.8-.78.8-2.07 0-2.86zM5.41 20L4 18.59l7.72-7.72 1.47 1.35L5.41 20z\"/>\n",
              "  </svg>\n",
              "      </button>\n",
              "      \n",
              "  <style>\n",
              "    .colab-df-container {\n",
              "      display:flex;\n",
              "      flex-wrap:wrap;\n",
              "      gap: 12px;\n",
              "    }\n",
              "\n",
              "    .colab-df-convert {\n",
              "      background-color: #E8F0FE;\n",
              "      border: none;\n",
              "      border-radius: 50%;\n",
              "      cursor: pointer;\n",
              "      display: none;\n",
              "      fill: #1967D2;\n",
              "      height: 32px;\n",
              "      padding: 0 0 0 0;\n",
              "      width: 32px;\n",
              "    }\n",
              "\n",
              "    .colab-df-convert:hover {\n",
              "      background-color: #E2EBFA;\n",
              "      box-shadow: 0px 1px 2px rgba(60, 64, 67, 0.3), 0px 1px 3px 1px rgba(60, 64, 67, 0.15);\n",
              "      fill: #174EA6;\n",
              "    }\n",
              "\n",
              "    [theme=dark] .colab-df-convert {\n",
              "      background-color: #3B4455;\n",
              "      fill: #D2E3FC;\n",
              "    }\n",
              "\n",
              "    [theme=dark] .colab-df-convert:hover {\n",
              "      background-color: #434B5C;\n",
              "      box-shadow: 0px 1px 3px 1px rgba(0, 0, 0, 0.15);\n",
              "      filter: drop-shadow(0px 1px 2px rgba(0, 0, 0, 0.3));\n",
              "      fill: #FFFFFF;\n",
              "    }\n",
              "  </style>\n",
              "\n",
              "      <script>\n",
              "        const buttonEl =\n",
              "          document.querySelector('#df-c1bfb0da-f878-40b5-b4e3-045989c6b385 button.colab-df-convert');\n",
              "        buttonEl.style.display =\n",
              "          google.colab.kernel.accessAllowed ? 'block' : 'none';\n",
              "\n",
              "        async function convertToInteractive(key) {\n",
              "          const element = document.querySelector('#df-c1bfb0da-f878-40b5-b4e3-045989c6b385');\n",
              "          const dataTable =\n",
              "            await google.colab.kernel.invokeFunction('convertToInteractive',\n",
              "                                                     [key], {});\n",
              "          if (!dataTable) return;\n",
              "\n",
              "          const docLinkHtml = 'Like what you see? Visit the ' +\n",
              "            '<a target=\"_blank\" href=https://colab.research.google.com/notebooks/data_table.ipynb>data table notebook</a>'\n",
              "            + ' to learn more about interactive tables.';\n",
              "          element.innerHTML = '';\n",
              "          dataTable['output_type'] = 'display_data';\n",
              "          await google.colab.output.renderOutput(dataTable, element);\n",
              "          const docLink = document.createElement('div');\n",
              "          docLink.innerHTML = docLinkHtml;\n",
              "          element.appendChild(docLink);\n",
              "        }\n",
              "      </script>\n",
              "    </div>\n",
              "  </div>\n",
              "  "
            ]
          },
          "metadata": {},
          "execution_count": 383
        }
      ]
    },
    {
      "cell_type": "code",
      "source": [
        "# Split train data and test data\n",
        "train_size = int(len(df_max)*0.7)\n",
        "\n",
        "train_data = df_max.iloc[:train_size]\n",
        "test_data = df_max.iloc[train_size:]"
      ],
      "metadata": {
        "id": "X6SjiZG48p4B"
      },
      "execution_count": 384,
      "outputs": []
    },
    {
      "cell_type": "code",
      "source": [
        "test_data.shape"
      ],
      "metadata": {
        "colab": {
          "base_uri": "https://localhost:8080/"
        },
        "id": "6YTX4Bcq8tHn",
        "outputId": "c8b8952c-98d5-4d61-fa64-fc03e02c5047"
      },
      "execution_count": 385,
      "outputs": [
        {
          "output_type": "execute_result",
          "data": {
            "text/plain": [
              "(2489, 1)"
            ]
          },
          "metadata": {},
          "execution_count": 385
        }
      ]
    },
    {
      "cell_type": "code",
      "source": [
        "def df_input_to_X_y(df, window_size=864):\n",
        "  df_to_np = df.to_numpy()\n",
        "  X = []\n",
        "  y = []\n",
        "  for i in range(len(df_to_np)-window_size):\n",
        "    row = [[a] for a in df_to_np[i:i+window_size]]\n",
        "    X.append(row)\n",
        "    label = df_to_np[i+window_size]\n",
        "    y.append(label)\n",
        "  return np.array(X), np.array(y)"
      ],
      "metadata": {
        "id": "BOl9jShb8vEo"
      },
      "execution_count": 386,
      "outputs": []
    },
    {
      "cell_type": "code",
      "source": [
        "WINDOW_SIZE = 864\n",
        "X_train, y_train = df_input_to_X_y(train_data,WINDOW_SIZE)\n",
        "X_test, y_test = df_input_to_X_y(test_data,WINDOW_SIZE)\n",
        "# Print data shape\n",
        "print('X_train.shape: ', X_train.shape)\n",
        "print('y_train.shape: ', y_train.shape)\n",
        "print('X_test.shape: ', X_test.shape) \n",
        "print('y_test.shape: ', y_test.shape)"
      ],
      "metadata": {
        "colab": {
          "base_uri": "https://localhost:8080/"
        },
        "id": "_y5V_mwE8xhX",
        "outputId": "9607357a-86b0-43b8-f40f-4048348386fc"
      },
      "execution_count": 387,
      "outputs": [
        {
          "output_type": "stream",
          "name": "stdout",
          "text": [
            "X_train.shape:  (4942, 864, 1, 1)\n",
            "y_train.shape:  (4942, 1)\n",
            "X_test.shape:  (1625, 864, 1, 1)\n",
            "y_test.shape:  (1625, 1)\n"
          ]
        }
      ]
    },
    {
      "cell_type": "code",
      "source": [
        "# Create GRU model\n",
        "def create_gru(units):\n",
        "    model = Sequential()\n",
        "    # Input layer\n",
        "    model.add(GRU (units = units, return_sequences = True, \n",
        "    input_shape = [X_train.shape[1], X_train.shape[2]]))\n",
        "    model.add(Dropout(0.2)) \n",
        "    # Hidden layer\n",
        "    model.add(GRU(units = units)) \n",
        "    model.add(Dropout(0.2))\n",
        "    model.add(Dense(units = 1)) \n",
        "    #Compile model\n",
        "    model.compile(optimizer='adam',loss='mse', metrics=[\"mae\", \"acc\"])\n",
        "    return model\n",
        "model_gru = create_gru(64)"
      ],
      "metadata": {
        "id": "sFiMcVTM83cT"
      },
      "execution_count": 388,
      "outputs": []
    },
    {
      "cell_type": "code",
      "source": [
        "def fit_model(model):\n",
        "    early_stop = keras.callbacks.EarlyStopping(monitor = 'val_loss',\n",
        "                                               patience = 10)\n",
        "    history = model.fit(X_train, y_train, epochs = 15,  \n",
        "                        validation_split = 0.3,\n",
        "                        batch_size = 8, shuffle = False)\n",
        "    return history\n",
        "history_gru = fit_model(model_gru)"
      ],
      "metadata": {
        "colab": {
          "base_uri": "https://localhost:8080/"
        },
        "id": "VwYq2qDM9GAD",
        "outputId": "af845196-10ad-4b7a-e863-7f057912f584"
      },
      "execution_count": 389,
      "outputs": [
        {
          "output_type": "stream",
          "name": "stdout",
          "text": [
            "Epoch 1/15\n",
            "433/433 [==============================] - 30s 61ms/step - loss: 117.3383 - mae: 1.8305 - acc: 0.0000e+00 - val_loss: 13.8491 - val_mae: 0.8273 - val_acc: 0.0000e+00\n",
            "Epoch 2/15\n",
            "433/433 [==============================] - 25s 58ms/step - loss: 103.9383 - mae: 1.7856 - acc: 0.0000e+00 - val_loss: 13.2826 - val_mae: 0.8122 - val_acc: 0.0000e+00\n",
            "Epoch 3/15\n",
            "433/433 [==============================] - 26s 60ms/step - loss: 95.2938 - mae: 1.6770 - acc: 0.0000e+00 - val_loss: 12.3575 - val_mae: 0.6393 - val_acc: 0.0000e+00\n",
            "Epoch 4/15\n",
            "433/433 [==============================] - 25s 57ms/step - loss: 89.2975 - mae: 1.6230 - acc: 0.0000e+00 - val_loss: 11.8540 - val_mae: 0.6359 - val_acc: 0.0000e+00\n",
            "Epoch 5/15\n",
            "433/433 [==============================] - 27s 61ms/step - loss: 82.8280 - mae: 1.5888 - acc: 0.0000e+00 - val_loss: 11.9133 - val_mae: 0.7646 - val_acc: 0.0000e+00\n",
            "Epoch 6/15\n",
            "433/433 [==============================] - 25s 57ms/step - loss: 76.9501 - mae: 1.5842 - acc: 0.0000e+00 - val_loss: 10.8967 - val_mae: 0.6532 - val_acc: 0.0000e+00\n",
            "Epoch 7/15\n",
            "433/433 [==============================] - 25s 57ms/step - loss: 71.0756 - mae: 1.5375 - acc: 0.0000e+00 - val_loss: 10.1155 - val_mae: 0.5924 - val_acc: 0.0000e+00\n",
            "Epoch 8/15\n",
            "433/433 [==============================] - 26s 60ms/step - loss: 66.2511 - mae: 1.4725 - acc: 0.0000e+00 - val_loss: 9.5835 - val_mae: 0.5195 - val_acc: 0.0000e+00\n",
            "Epoch 9/15\n",
            "433/433 [==============================] - 25s 57ms/step - loss: 61.7396 - mae: 1.4419 - acc: 0.0000e+00 - val_loss: 10.6721 - val_mae: 0.6971 - val_acc: 0.0000e+00\n",
            "Epoch 10/15\n",
            "433/433 [==============================] - 26s 59ms/step - loss: 56.1635 - mae: 1.4138 - acc: 0.0000e+00 - val_loss: 9.1317 - val_mae: 0.5696 - val_acc: 0.0000e+00\n",
            "Epoch 11/15\n",
            "433/433 [==============================] - 25s 58ms/step - loss: 52.7437 - mae: 1.3691 - acc: 0.0000e+00 - val_loss: 8.9647 - val_mae: 0.5743 - val_acc: 0.0000e+00\n",
            "Epoch 12/15\n",
            "433/433 [==============================] - 26s 59ms/step - loss: 47.8320 - mae: 1.3184 - acc: 0.0000e+00 - val_loss: 8.7851 - val_mae: 0.5528 - val_acc: 0.0000e+00\n",
            "Epoch 13/15\n",
            "433/433 [==============================] - 25s 57ms/step - loss: 44.7825 - mae: 1.2883 - acc: 0.0000e+00 - val_loss: 8.6798 - val_mae: 0.5580 - val_acc: 0.0000e+00\n",
            "Epoch 14/15\n",
            "433/433 [==============================] - 27s 62ms/step - loss: 40.7801 - mae: 1.2788 - acc: 0.0000e+00 - val_loss: 9.1966 - val_mae: 0.5501 - val_acc: 0.0000e+00\n",
            "Epoch 15/15\n",
            "433/433 [==============================] - 25s 57ms/step - loss: 42.4270 - mae: 1.2849 - acc: 0.0000e+00 - val_loss: 13.2531 - val_mae: 0.8890 - val_acc: 0.0000e+00\n"
          ]
        }
      ]
    },
    {
      "cell_type": "code",
      "source": [
        "def plot_loss (history, model_name):\n",
        "    plt.figure(figsize = (10, 6))\n",
        "    plt.plot(history.history['loss'])\n",
        "    plt.plot(history.history['val_loss'])\n",
        "    plt.title('Model Train vs Validation Loss for ' + model_name)\n",
        "    plt.ylabel('Loss')\n",
        "    plt.xlabel('epoch')\n",
        "    plt.legend(['Train loss', 'Validation loss'], loc='upper right')\n",
        " \n",
        "plot_loss (history_gru, 'GRU')"
      ],
      "metadata": {
        "colab": {
          "base_uri": "https://localhost:8080/",
          "height": 404
        },
        "id": "X9Mo1deO9J0K",
        "outputId": "81360a98-33ec-4651-acb1-5dce1e06d02a"
      },
      "execution_count": 390,
      "outputs": [
        {
          "output_type": "display_data",
          "data": {
            "text/plain": [
              "<Figure size 720x432 with 1 Axes>"
            ],
            "image/png": "[encoded data removed]"
          },
          "metadata": {
            "needs_background": "light"
          }
        }
      ]
    },
    {
      "cell_type": "code",
      "source": [
        "# Make prediction\n",
        "def prediction(model):\n",
        "    prediction = model.predict(X_test)\n",
        "    return prediction\n",
        "prediction_gru = prediction(model_gru)"
      ],
      "metadata": {
        "colab": {
          "base_uri": "https://localhost:8080/"
        },
        "id": "zbcIsZR5-5Wg",
        "outputId": "4b9001ff-a69d-4f4e-dbc6-c71bd75f7ddd"
      },
      "execution_count": 391,
      "outputs": [
        {
          "output_type": "stream",
          "name": "stdout",
          "text": [
            "51/51 [==============================] - 2s 23ms/step\n"
          ]
        }
      ]
    },
    {
      "cell_type": "code",
      "source": [
        "# Plot test data vs prediction\n",
        "def plot_future(prediction, model_name, y_test):\n",
        "    plt.figure(figsize=(30, 6))\n",
        "    range_future = len(prediction)\n",
        "    plt.plot(np.arange(range_future), np.array(y_test), \n",
        "             label='Actual data')\n",
        "    plt.plot(np.arange(range_future), \n",
        "             np.array(prediction),label='Prediction')\n",
        "    plt.title('Test data vs prediction for ' + model_name)\n",
        "    plt.legend(loc='upper left')\n",
        "    plt.xlabel('Time ')\n",
        "    plt.ylabel('Max CPU')\n",
        " \n",
        "plot_future(prediction_gru, 'GRU', y_test)"
      ],
      "metadata": {
        "colab": {
          "base_uri": "https://localhost:8080/",
          "height": 307
        },
        "id": "9U2EvyRy_Bf1",
        "outputId": "6d1e7e3c-eb41-43c0-ab57-6699db2538d9"
      },
      "execution_count": 392,
      "outputs": [
        {
          "output_type": "display_data",
          "data": {
            "text/plain": [
              "<Figure size 2160x432 with 1 Axes>"
            ],
            "image/png": "[encoded data removed]"
          },
          "metadata": {
            "needs_background": "light"
          }
        }
      ]
    },
    {
      "cell_type": "code",
      "source": [
        "predicted_max_list = []\n",
        "for looped in prediction_gru:\n",
        "  predicted_max_list.append(looped[0])\n",
        "len(predicted_max_list)"
      ],
      "metadata": {
        "colab": {
          "base_uri": "https://localhost:8080/"
        },
        "id": "xKgSvBcBBjz4",
        "outputId": "53fd4792-b099-4554-ce34-3acbb8b93d3e"
      },
      "execution_count": 393,
      "outputs": [
        {
          "output_type": "execute_result",
          "data": {
            "text/plain": [
              "1625"
            ]
          },
          "metadata": {},
          "execution_count": 393
        }
      ]
    },
    {
      "cell_type": "code",
      "source": [
        "analysis_df = pd.DataFrame()\n",
        "analysis_df = test_data.tail(prediction_gru.shape[0])\n",
        "analysis_df['pred_max_cpu'] = predicted_max_list\n",
        "analysis_df.shape"
      ],
      "metadata": {
        "colab": {
          "base_uri": "https://localhost:8080/"
        },
        "id": "LGW-t3P7BkTY",
        "outputId": "b77c65ef-c36a-454c-e540-6d47e60fc2f7"
      },
      "execution_count": 394,
      "outputs": [
        {
          "output_type": "execute_result",
          "data": {
            "text/plain": [
              "(1625, 2)"
            ]
          },
          "metadata": {},
          "execution_count": 394
        }
      ]
    },
    {
      "cell_type": "code",
      "source": [
        "max_allowed_jump = 1.5\n",
        "peak_quantile = 0.9\n",
        "prev_val = analysis_df['pred_max_cpu'].quantile(q=peak_quantile)\n",
        "i = 0.91\n",
        "while i < 1:\n",
        "  curr_val = analysis_df['pred_max_cpu'].quantile(q=i)\n",
        "  if (curr_val - (prev_val*max_allowed_jump)) > 0.0:\n",
        "    break\n",
        "  peak_quantile = i\n",
        "  prev_val = curr_val\n",
        "  i = i + 0.01\n",
        "\n",
        "peak_val = analysis_df['pred_max_cpu'].quantile(q=peak_quantile)\n",
        "print(peak_val)"
      ],
      "metadata": {
        "colab": {
          "base_uri": "https://localhost:8080/"
        },
        "id": "hv2RhkQLBoXl",
        "outputId": "e251a658-18f0-48fe-ef6d-f94cde2de5a8"
      },
      "execution_count": 395,
      "outputs": [
        {
          "output_type": "stream",
          "name": "stdout",
          "text": [
            "3.910437507629416\n"
          ]
        }
      ]
    },
    {
      "cell_type": "code",
      "source": [
        "analysis_df.insert(0, 'id', range(1, 1 + len(analysis_df)))\n",
        "analysis_df.head()"
      ],
      "metadata": {
        "colab": {
          "base_uri": "https://localhost:8080/",
          "height": 238
        },
        "id": "kvZEXo-4GMcq",
        "outputId": "d99685fe-37b3-4cb9-f1df-5a5504ad3793"
      },
      "execution_count": 396,
      "outputs": [
        {
          "output_type": "execute_result",
          "data": {
            "text/plain": [
              "           id   max_cpu  pred_max_cpu\n",
              "timestamp                            \n",
              "6990        1  1.475613      1.481869\n",
              "6991        2  1.375223      1.679217\n",
              "6992        3  1.356730      1.766411\n",
              "6993        4  1.389669      1.672552\n",
              "6994        5  1.351804      1.596131"
            ],
            "text/html": [
              "\n",
              "  <div id=\"df-745c1345-1c6e-4634-9dec-3442385d79a2\">\n",
              "    <div class=\"colab-df-container\">\n",
              "      <div>\n",
              "<style scoped>\n",
              "    .dataframe tbody tr th:only-of-type {\n",
              "        vertical-align: middle;\n",
              "    }\n",
              "\n",
              "    .dataframe tbody tr th {\n",
              "        vertical-align: top;\n",
              "    }\n",
              "\n",
              "    .dataframe thead th {\n",
              "        text-align: right;\n",
              "    }\n",
              "</style>\n",
              "<table border=\"1\" class=\"dataframe\">\n",
              "  <thead>\n",
              "    <tr style=\"text-align: right;\">\n",
              "      <th></th>\n",
              "      <th>id</th>\n",
              "      <th>max_cpu</th>\n",
              "      <th>pred_max_cpu</th>\n",
              "    </tr>\n",
              "    <tr>\n",
              "      <th>timestamp</th>\n",
              "      <th></th>\n",
              "      <th></th>\n",
              "      <th></th>\n",
              "    </tr>\n",
              "  </thead>\n",
              "  <tbody>\n",
              "    <tr>\n",
              "      <th>6990</th>\n",
              "      <td>1</td>\n",
              "      <td>1.475613</td>\n",
              "      <td>1.481869</td>\n",
              "    </tr>\n",
              "    <tr>\n",
              "      <th>6991</th>\n",
              "      <td>2</td>\n",
              "      <td>1.375223</td>\n",
              "      <td>1.679217</td>\n",
              "    </tr>\n",
              "    <tr>\n",
              "      <th>6992</th>\n",
              "      <td>3</td>\n",
              "      <td>1.356730</td>\n",
              "      <td>1.766411</td>\n",
              "    </tr>\n",
              "    <tr>\n",
              "      <th>6993</th>\n",
              "      <td>4</td>\n",
              "      <td>1.389669</td>\n",
              "      <td>1.672552</td>\n",
              "    </tr>\n",
              "    <tr>\n",
              "      <th>6994</th>\n",
              "      <td>5</td>\n",
              "      <td>1.351804</td>\n",
              "      <td>1.596131</td>\n",
              "    </tr>\n",
              "  </tbody>\n",
              "</table>\n",
              "</div>\n",
              "      <button class=\"colab-df-convert\" onclick=\"convertToInteractive('df-745c1345-1c6e-4634-9dec-3442385d79a2')\"\n",
              "              title=\"Convert this dataframe to an interactive table.\"\n",
              "              style=\"display:none;\">\n",
              "        \n",
              "  <svg xmlns=\"http://www.w3.org/2000/svg\" height=\"24px\"viewBox=\"0 0 24 24\"\n",
              "       width=\"24px\">\n",
              "    <path d=\"M0 0h24v24H0V0z\" fill=\"none\"/>\n",
              "    <path d=\"M18.56 5.44l.94 2.06.94-2.06 2.06-.94-2.06-.94-.94-2.06-.94 2.06-2.06.94zm-11 1L8.5 8.5l.94-2.06 2.06-.94-2.06-.94L8.5 2.5l-.94 2.06-2.06.94zm10 10l.94 2.06.94-2.06 2.06-.94-2.06-.94-.94-2.06-.94 2.06-2.06.94z\"/><path d=\"M17.41 7.96l-1.37-1.37c-.4-.4-.92-.59-1.43-.59-.52 0-1.04.2-1.43.59L10.3 9.45l-7.72 7.72c-.78.78-.78 2.05 0 2.83L4 21.41c.39.39.9.59 1.41.59.51 0 1.02-.2 1.41-.59l7.78-7.78 2.81-2.81c.8-.78.8-2.07 0-2.86zM5.41 20L4 18.59l7.72-7.72 1.47 1.35L5.41 20z\"/>\n",
              "  </svg>\n",
              "      </button>\n",
              "      \n",
              "  <style>\n",
              "    .colab-df-container {\n",
              "      display:flex;\n",
              "      flex-wrap:wrap;\n",
              "      gap: 12px;\n",
              "    }\n",
              "\n",
              "    .colab-df-convert {\n",
              "      background-color: #E8F0FE;\n",
              "      border: none;\n",
              "      border-radius: 50%;\n",
              "      cursor: pointer;\n",
              "      display: none;\n",
              "      fill: #1967D2;\n",
              "      height: 32px;\n",
              "      padding: 0 0 0 0;\n",
              "      width: 32px;\n",
              "    }\n",
              "\n",
              "    .colab-df-convert:hover {\n",
              "      background-color: #E2EBFA;\n",
              "      box-shadow: 0px 1px 2px rgba(60, 64, 67, 0.3), 0px 1px 3px 1px rgba(60, 64, 67, 0.15);\n",
              "      fill: #174EA6;\n",
              "    }\n",
              "\n",
              "    [theme=dark] .colab-df-convert {\n",
              "      background-color: #3B4455;\n",
              "      fill: #D2E3FC;\n",
              "    }\n",
              "\n",
              "    [theme=dark] .colab-df-convert:hover {\n",
              "      background-color: #434B5C;\n",
              "      box-shadow: 0px 1px 3px 1px rgba(0, 0, 0, 0.15);\n",
              "      filter: drop-shadow(0px 1px 2px rgba(0, 0, 0, 0.3));\n",
              "      fill: #FFFFFF;\n",
              "    }\n",
              "  </style>\n",
              "\n",
              "      <script>\n",
              "        const buttonEl =\n",
              "          document.querySelector('#df-745c1345-1c6e-4634-9dec-3442385d79a2 button.colab-df-convert');\n",
              "        buttonEl.style.display =\n",
              "          google.colab.kernel.accessAllowed ? 'block' : 'none';\n",
              "\n",
              "        async function convertToInteractive(key) {\n",
              "          const element = document.querySelector('#df-745c1345-1c6e-4634-9dec-3442385d79a2');\n",
              "          const dataTable =\n",
              "            await google.colab.kernel.invokeFunction('convertToInteractive',\n",
              "                                                     [key], {});\n",
              "          if (!dataTable) return;\n",
              "\n",
              "          const docLinkHtml = 'Like what you see? Visit the ' +\n",
              "            '<a target=\"_blank\" href=https://colab.research.google.com/notebooks/data_table.ipynb>data table notebook</a>'\n",
              "            + ' to learn more about interactive tables.';\n",
              "          element.innerHTML = '';\n",
              "          dataTable['output_type'] = 'display_data';\n",
              "          await google.colab.output.renderOutput(dataTable, element);\n",
              "          const docLink = document.createElement('div');\n",
              "          docLink.innerHTML = docLinkHtml;\n",
              "          element.appendChild(docLink);\n",
              "        }\n",
              "      </script>\n",
              "    </div>\n",
              "  </div>\n",
              "  "
            ]
          },
          "metadata": {},
          "execution_count": 396
        }
      ]
    },
    {
      "cell_type": "code",
      "source": [
        "analysis_df[analysis_df['pred_max_cpu'] > peak_val].id.values"
      ],
      "metadata": {
        "colab": {
          "base_uri": "https://localhost:8080/"
        },
        "id": "wAARGeP9LlFb",
        "outputId": "a2e5dc49-eaa2-4500-a88d-bcb58753c1ee"
      },
      "execution_count": 397,
      "outputs": [
        {
          "output_type": "execute_result",
          "data": {
            "text/plain": [
              "array([ 102,  103,  169,  170,  202,  203,  243,  244,  439,  440,  441,\n",
              "        449,  450,  485,  486,  523,  770,  771,  772,  806,  807, 1044,\n",
              "       1045, 1095, 1096, 1114, 1115, 1327, 1328, 1384, 1385, 1399, 1400])"
            ]
          },
          "metadata": {},
          "execution_count": 397
        }
      ]
    },
    {
      "cell_type": "code",
      "source": [
        "high_cpu_values = set(analysis_df[analysis_df['pred_max_cpu'] > peak_val].id.values)\n",
        "len(high_cpu_values)"
      ],
      "metadata": {
        "colab": {
          "base_uri": "https://localhost:8080/"
        },
        "id": "loGpE0jvLlMr",
        "outputId": "995e9a6c-569b-4f0e-eea7-ee13a7435f65"
      },
      "execution_count": 398,
      "outputs": [
        {
          "output_type": "execute_result",
          "data": {
            "text/plain": [
              "33"
            ]
          },
          "metadata": {},
          "execution_count": 398
        }
      ]
    },
    {
      "cell_type": "code",
      "source": [
        "high_band_cpu = []\n",
        "for val in high_cpu_values:\n",
        "  high_band_cpu.extend(list(range(val-5,val+5)))"
      ],
      "metadata": {
        "id": "iA6eagAbHNKW"
      },
      "execution_count": 399,
      "outputs": []
    },
    {
      "cell_type": "code",
      "source": [
        "print(len(high_band_cpu))\n",
        "print(len(set(high_band_cpu)))"
      ],
      "metadata": {
        "colab": {
          "base_uri": "https://localhost:8080/"
        },
        "id": "okNw5SeVNohL",
        "outputId": "9af959e6-62f9-4303-8a97-c3731e125a6d"
      },
      "execution_count": 400,
      "outputs": [
        {
          "output_type": "stream",
          "name": "stdout",
          "text": [
            "330\n",
            "175\n"
          ]
        }
      ]
    },
    {
      "cell_type": "code",
      "source": [
        "high_cpu_values = high_cpu_values.union(set(high_band_cpu))\n",
        "len(high_cpu_values)"
      ],
      "metadata": {
        "colab": {
          "base_uri": "https://localhost:8080/"
        },
        "id": "CL9hNX8kNYfN",
        "outputId": "d3457dcc-291a-4ae0-a246-07d579c6d7bb"
      },
      "execution_count": 401,
      "outputs": [
        {
          "output_type": "execute_result",
          "data": {
            "text/plain": [
              "175"
            ]
          },
          "metadata": {},
          "execution_count": 401
        }
      ]
    },
    {
      "cell_type": "code",
      "source": [
        "analysis_df['highcpu'] = analysis_df['id'].map(lambda p : 100 if p in high_cpu_values else 50)\n",
        "analysis_df[analysis_df['highcpu'] == 100].shape"
      ],
      "metadata": {
        "colab": {
          "base_uri": "https://localhost:8080/"
        },
        "id": "PTHgJAiICrBG",
        "outputId": "c4882555-9dcc-455c-8232-4a1ed3346266"
      },
      "execution_count": 402,
      "outputs": [
        {
          "output_type": "execute_result",
          "data": {
            "text/plain": [
              "(175, 4)"
            ]
          },
          "metadata": {},
          "execution_count": 402
        }
      ]
    },
    {
      "cell_type": "code",
      "source": [
        "plt.figure(figsize=(30, 6))\n",
        "range_future = len(analysis_df)\n",
        "plt.plot(np.arange(range_future), np.array(analysis_df.max_cpu), \n",
        "         label='Actual data')\n",
        "plt.plot(np.arange(range_future), \n",
        "         np.array(analysis_df.pred_max_cpu),label='Predicted data')\n",
        "plt.plot(np.arange(range_future), \n",
        "         np.array(analysis_df.highcpu),label='High CPU')\n",
        "plt.title('High CPU Bands')\n",
        "plt.legend(loc='upper left')\n",
        "plt.xlabel('Time ')\n",
        "plt.ylabel('Max CPU')"
      ],
      "metadata": {
        "colab": {
          "base_uri": "https://localhost:8080/",
          "height": 323
        },
        "id": "3zRVsiAIJroD",
        "outputId": "a83c64d8-bc0e-4b1c-882d-be5771f415f0"
      },
      "execution_count": 403,
      "outputs": [
        {
          "output_type": "execute_result",
          "data": {
            "text/plain": [
              "Text(0, 0.5, 'Max CPU')"
            ]
          },
          "metadata": {},
          "execution_count": 403
        },
        {
          "output_type": "display_data",
          "data": {
            "text/plain": [
              "<Figure size 2160x432 with 1 Axes>"
            ],
            "image/png": "[encoded data removed]"
          },
          "metadata": {
            "needs_background": "light"
          }
        }
      ]
    },
    {
      "cell_type": "code",
      "source": [
        "data_path = 'https://raw.githubusercontent.com/gags13/datasets/main/final_filtered.csv'\n",
        "\n",
        "vm_dataframe = pd.read_csv(data_path, index_col=False, delimiter=',')\n",
        "vm_dataframe.drop(['Unnamed: 0'],axis=1, inplace=True)\n",
        "vm_dataframe.head()"
      ],
      "metadata": {
        "colab": {
          "base_uri": "https://localhost:8080/",
          "height": 357
        },
        "id": "OZfxddVFP_zi",
        "outputId": "61a45ad1-169c-48db-cf51-94ac52f15aa7"
      },
      "execution_count": 404,
      "outputs": [
        {
          "output_type": "execute_result",
          "data": {
            "text/plain": [
              "                                                vmid  \\\n",
              "0  trjCc/lisNnKRnpFtPMmULgw1gUoiymSCshiGZfLY/Oil4...   \n",
              "1  RVfel1jVo2UTjdHeqMgqJcVcfBUG/V9mV6Un47p8vGHiFj...   \n",
              "2  mY+fWVBQe0tTfdVMO/2Ea9AAjDyN2ndi/40U59iUNxiTRu...   \n",
              "3  N0gBVBQviQ4n/jyolzXWac39GOcL3596Re7d2N7RpmffGF...   \n",
              "4  4Cka/a5H763ZPaDuuNo6MhnfKQ56hvTrTxPgWmcJyh2ItB...   \n",
              "\n",
              "                                      subscriptionid  \\\n",
              "0  9j4lLAdcydRsC+LhAQG/IS6Q15Z+tw3IYiCwH6QuxxtuQ1...   \n",
              "1  NM+rYlOuvfObftjnvrHy7hUorr5ulWm8UgTM9A1SZniRTv...   \n",
              "2  8mYUop47Ih3Ka0m8+fxnNmM1rUjlJ9vDkclgoBJViVmWPr...   \n",
              "3  8mYUop47Ih3Ka0m8+fxnNmM1rUjlJ9vDkclgoBJViVmWPr...   \n",
              "4  HzLK24LbYXd1kU9jw99gYFREpnAkKefq7MKwAxhEwzct60...   \n",
              "\n",
              "                                        deploymentid  vmcreated  vmdeleted  \\\n",
              "0  amCh31pwRrNqxYhYZMQ9kTaBv6Nsj9KELkMwZXIujmvpbm...          0    2591400   \n",
              "1  tGInpwc5Wi0Tq15xunBKLtsbC6Bxk5LP2e+NIsoDe/D3jg...          0    2589000   \n",
              "2  fIRf+CYG8jmlnysPUgzCuo7L/D1tV9jirr4FaJCQtaI7/n...      28800    2591400   \n",
              "3  fIRf+CYG8jmlnysPUgzCuo7L/D1tV9jirr4FaJCQtaI7/n...      28500    2591400   \n",
              "4  wggQWvknTcqrfDqxcQGGT40iu8/aEgjBj5i6e3bu9qtUc8...          0    2591400   \n",
              "\n",
              "      maxcpu    avgcpu  p95maxcpu         vmcategory  vmcorecountbucket  \\\n",
              "0  96.715705  0.938933   0.863622  Delay-insensitive                  2   \n",
              "1  98.226568  2.410055   2.297678  Delay-insensitive                  2   \n",
              "2  97.194277  2.076477   1.938042  Delay-insensitive                  4   \n",
              "3  98.838522  2.479152   2.367730  Delay-insensitive                  4   \n",
              "4  99.278745  0.895093   0.716898  Delay-insensitive                  2   \n",
              "\n",
              "   vmmemorybucket    lifetime     corehour  target  delmaxavg  delmaxp95  \\\n",
              "0               2  719.833333  1439.666667       1  95.776771  95.852083   \n",
              "1               8  719.166667  1438.333333       1  95.816514  95.928891   \n",
              "2              32  711.833333  2847.333333       1  95.117800  95.256236   \n",
              "3              32  711.916667  2847.666667       1  96.359369  96.470792   \n",
              "4               2  719.833333  1439.666667       1  98.383652  98.561847   \n",
              "\n",
              "   delp95avg  kmeans  gm  p95avgcpuslope  \n",
              "0  -0.075311       0   1        0.919790  \n",
              "1  -0.112377       0   2        0.953372  \n",
              "2  -0.138435       0   1        0.933332  \n",
              "3  -0.111423       0   1        0.955056  \n",
              "4  -0.178195       0   1        0.800920  "
            ],
            "text/html": [
              "\n",
              "  <div id=\"df-c2a45276-a910-4ab8-a678-a9cf711703ff\">\n",
              "    <div class=\"colab-df-container\">\n",
              "      <div>\n",
              "<style scoped>\n",
              "    .dataframe tbody tr th:only-of-type {\n",
              "        vertical-align: middle;\n",
              "    }\n",
              "\n",
              "    .dataframe tbody tr th {\n",
              "        vertical-align: top;\n",
              "    }\n",
              "\n",
              "    .dataframe thead th {\n",
              "        text-align: right;\n",
              "    }\n",
              "</style>\n",
              "<table border=\"1\" class=\"dataframe\">\n",
              "  <thead>\n",
              "    <tr style=\"text-align: right;\">\n",
              "      <th></th>\n",
              "      <th>vmid</th>\n",
              "      <th>subscriptionid</th>\n",
              "      <th>deploymentid</th>\n",
              "      <th>vmcreated</th>\n",
              "      <th>vmdeleted</th>\n",
              "      <th>maxcpu</th>\n",
              "      <th>avgcpu</th>\n",
              "      <th>p95maxcpu</th>\n",
              "      <th>vmcategory</th>\n",
              "      <th>vmcorecountbucket</th>\n",
              "      <th>vmmemorybucket</th>\n",
              "      <th>lifetime</th>\n",
              "      <th>corehour</th>\n",
              "      <th>target</th>\n",
              "      <th>delmaxavg</th>\n",
              "      <th>delmaxp95</th>\n",
              "      <th>delp95avg</th>\n",
              "      <th>kmeans</th>\n",
              "      <th>gm</th>\n",
              "      <th>p95avgcpuslope</th>\n",
              "    </tr>\n",
              "  </thead>\n",
              "  <tbody>\n",
              "    <tr>\n",
              "      <th>0</th>\n",
              "      <td>trjCc/lisNnKRnpFtPMmULgw1gUoiymSCshiGZfLY/Oil4...</td>\n",
              "      <td>9j4lLAdcydRsC+LhAQG/IS6Q15Z+tw3IYiCwH6QuxxtuQ1...</td>\n",
              "      <td>amCh31pwRrNqxYhYZMQ9kTaBv6Nsj9KELkMwZXIujmvpbm...</td>\n",
              "      <td>0</td>\n",
              "      <td>2591400</td>\n",
              "      <td>96.715705</td>\n",
              "      <td>0.938933</td>\n",
              "      <td>0.863622</td>\n",
              "      <td>Delay-insensitive</td>\n",
              "      <td>2</td>\n",
              "      <td>2</td>\n",
              "      <td>719.833333</td>\n",
              "      <td>1439.666667</td>\n",
              "      <td>1</td>\n",
              "      <td>95.776771</td>\n",
              "      <td>95.852083</td>\n",
              "      <td>-0.075311</td>\n",
              "      <td>0</td>\n",
              "      <td>1</td>\n",
              "      <td>0.919790</td>\n",
              "    </tr>\n",
              "    <tr>\n",
              "      <th>1</th>\n",
              "      <td>RVfel1jVo2UTjdHeqMgqJcVcfBUG/V9mV6Un47p8vGHiFj...</td>\n",
              "      <td>NM+rYlOuvfObftjnvrHy7hUorr5ulWm8UgTM9A1SZniRTv...</td>\n",
              "      <td>tGInpwc5Wi0Tq15xunBKLtsbC6Bxk5LP2e+NIsoDe/D3jg...</td>\n",
              "      <td>0</td>\n",
              "      <td>2589000</td>\n",
              "      <td>98.226568</td>\n",
              "      <td>2.410055</td>\n",
              "      <td>2.297678</td>\n",
              "      <td>Delay-insensitive</td>\n",
              "      <td>2</td>\n",
              "      <td>8</td>\n",
              "      <td>719.166667</td>\n",
              "      <td>1438.333333</td>\n",
              "      <td>1</td>\n",
              "      <td>95.816514</td>\n",
              "      <td>95.928891</td>\n",
              "      <td>-0.112377</td>\n",
              "      <td>0</td>\n",
              "      <td>2</td>\n",
              "      <td>0.953372</td>\n",
              "    </tr>\n",
              "    <tr>\n",
              "      <th>2</th>\n",
              "      <td>mY+fWVBQe0tTfdVMO/2Ea9AAjDyN2ndi/40U59iUNxiTRu...</td>\n",
              "      <td>8mYUop47Ih3Ka0m8+fxnNmM1rUjlJ9vDkclgoBJViVmWPr...</td>\n",
              "      <td>fIRf+CYG8jmlnysPUgzCuo7L/D1tV9jirr4FaJCQtaI7/n...</td>\n",
              "      <td>28800</td>\n",
              "      <td>2591400</td>\n",
              "      <td>97.194277</td>\n",
              "      <td>2.076477</td>\n",
              "      <td>1.938042</td>\n",
              "      <td>Delay-insensitive</td>\n",
              "      <td>4</td>\n",
              "      <td>32</td>\n",
              "      <td>711.833333</td>\n",
              "      <td>2847.333333</td>\n",
              "      <td>1</td>\n",
              "      <td>95.117800</td>\n",
              "      <td>95.256236</td>\n",
              "      <td>-0.138435</td>\n",
              "      <td>0</td>\n",
              "      <td>1</td>\n",
              "      <td>0.933332</td>\n",
              "    </tr>\n",
              "    <tr>\n",
              "      <th>3</th>\n",
              "      <td>N0gBVBQviQ4n/jyolzXWac39GOcL3596Re7d2N7RpmffGF...</td>\n",
              "      <td>8mYUop47Ih3Ka0m8+fxnNmM1rUjlJ9vDkclgoBJViVmWPr...</td>\n",
              "      <td>fIRf+CYG8jmlnysPUgzCuo7L/D1tV9jirr4FaJCQtaI7/n...</td>\n",
              "      <td>28500</td>\n",
              "      <td>2591400</td>\n",
              "      <td>98.838522</td>\n",
              "      <td>2.479152</td>\n",
              "      <td>2.367730</td>\n",
              "      <td>Delay-insensitive</td>\n",
              "      <td>4</td>\n",
              "      <td>32</td>\n",
              "      <td>711.916667</td>\n",
              "      <td>2847.666667</td>\n",
              "      <td>1</td>\n",
              "      <td>96.359369</td>\n",
              "      <td>96.470792</td>\n",
              "      <td>-0.111423</td>\n",
              "      <td>0</td>\n",
              "      <td>1</td>\n",
              "      <td>0.955056</td>\n",
              "    </tr>\n",
              "    <tr>\n",
              "      <th>4</th>\n",
              "      <td>4Cka/a5H763ZPaDuuNo6MhnfKQ56hvTrTxPgWmcJyh2ItB...</td>\n",
              "      <td>HzLK24LbYXd1kU9jw99gYFREpnAkKefq7MKwAxhEwzct60...</td>\n",
              "      <td>wggQWvknTcqrfDqxcQGGT40iu8/aEgjBj5i6e3bu9qtUc8...</td>\n",
              "      <td>0</td>\n",
              "      <td>2591400</td>\n",
              "      <td>99.278745</td>\n",
              "      <td>0.895093</td>\n",
              "      <td>0.716898</td>\n",
              "      <td>Delay-insensitive</td>\n",
              "      <td>2</td>\n",
              "      <td>2</td>\n",
              "      <td>719.833333</td>\n",
              "      <td>1439.666667</td>\n",
              "      <td>1</td>\n",
              "      <td>98.383652</td>\n",
              "      <td>98.561847</td>\n",
              "      <td>-0.178195</td>\n",
              "      <td>0</td>\n",
              "      <td>1</td>\n",
              "      <td>0.800920</td>\n",
              "    </tr>\n",
              "  </tbody>\n",
              "</table>\n",
              "</div>\n",
              "      <button class=\"colab-df-convert\" onclick=\"convertToInteractive('df-c2a45276-a910-4ab8-a678-a9cf711703ff')\"\n",
              "              title=\"Convert this dataframe to an interactive table.\"\n",
              "              style=\"display:none;\">\n",
              "        \n",
              "  <svg xmlns=\"http://www.w3.org/2000/svg\" height=\"24px\"viewBox=\"0 0 24 24\"\n",
              "       width=\"24px\">\n",
              "    <path d=\"M0 0h24v24H0V0z\" fill=\"none\"/>\n",
              "    <path d=\"M18.56 5.44l.94 2.06.94-2.06 2.06-.94-2.06-.94-.94-2.06-.94 2.06-2.06.94zm-11 1L8.5 8.5l.94-2.06 2.06-.94-2.06-.94L8.5 2.5l-.94 2.06-2.06.94zm10 10l.94 2.06.94-2.06 2.06-.94-2.06-.94-.94-2.06-.94 2.06-2.06.94z\"/><path d=\"M17.41 7.96l-1.37-1.37c-.4-.4-.92-.59-1.43-.59-.52 0-1.04.2-1.43.59L10.3 9.45l-7.72 7.72c-.78.78-.78 2.05 0 2.83L4 21.41c.39.39.9.59 1.41.59.51 0 1.02-.2 1.41-.59l7.78-7.78 2.81-2.81c.8-.78.8-2.07 0-2.86zM5.41 20L4 18.59l7.72-7.72 1.47 1.35L5.41 20z\"/>\n",
              "  </svg>\n",
              "      </button>\n",
              "      \n",
              "  <style>\n",
              "    .colab-df-container {\n",
              "      display:flex;\n",
              "      flex-wrap:wrap;\n",
              "      gap: 12px;\n",
              "    }\n",
              "\n",
              "    .colab-df-convert {\n",
              "      background-color: #E8F0FE;\n",
              "      border: none;\n",
              "      border-radius: 50%;\n",
              "      cursor: pointer;\n",
              "      display: none;\n",
              "      fill: #1967D2;\n",
              "      height: 32px;\n",
              "      padding: 0 0 0 0;\n",
              "      width: 32px;\n",
              "    }\n",
              "\n",
              "    .colab-df-convert:hover {\n",
              "      background-color: #E2EBFA;\n",
              "      box-shadow: 0px 1px 2px rgba(60, 64, 67, 0.3), 0px 1px 3px 1px rgba(60, 64, 67, 0.15);\n",
              "      fill: #174EA6;\n",
              "    }\n",
              "\n",
              "    [theme=dark] .colab-df-convert {\n",
              "      background-color: #3B4455;\n",
              "      fill: #D2E3FC;\n",
              "    }\n",
              "\n",
              "    [theme=dark] .colab-df-convert:hover {\n",
              "      background-color: #434B5C;\n",
              "      box-shadow: 0px 1px 3px 1px rgba(0, 0, 0, 0.15);\n",
              "      filter: drop-shadow(0px 1px 2px rgba(0, 0, 0, 0.3));\n",
              "      fill: #FFFFFF;\n",
              "    }\n",
              "  </style>\n",
              "\n",
              "      <script>\n",
              "        const buttonEl =\n",
              "          document.querySelector('#df-c2a45276-a910-4ab8-a678-a9cf711703ff button.colab-df-convert');\n",
              "        buttonEl.style.display =\n",
              "          google.colab.kernel.accessAllowed ? 'block' : 'none';\n",
              "\n",
              "        async function convertToInteractive(key) {\n",
              "          const element = document.querySelector('#df-c2a45276-a910-4ab8-a678-a9cf711703ff');\n",
              "          const dataTable =\n",
              "            await google.colab.kernel.invokeFunction('convertToInteractive',\n",
              "                                                     [key], {});\n",
              "          if (!dataTable) return;\n",
              "\n",
              "          const docLinkHtml = 'Like what you see? Visit the ' +\n",
              "            '<a target=\"_blank\" href=https://colab.research.google.com/notebooks/data_table.ipynb>data table notebook</a>'\n",
              "            + ' to learn more about interactive tables.';\n",
              "          element.innerHTML = '';\n",
              "          dataTable['output_type'] = 'display_data';\n",
              "          await google.colab.output.renderOutput(dataTable, element);\n",
              "          const docLink = document.createElement('div');\n",
              "          docLink.innerHTML = docLinkHtml;\n",
              "          element.appendChild(docLink);\n",
              "        }\n",
              "      </script>\n",
              "    </div>\n",
              "  </div>\n",
              "  "
            ]
          },
          "metadata": {},
          "execution_count": 404
        }
      ]
    },
    {
      "cell_type": "code",
      "source": [
        "core_hour_saved_per_core = (5*len(analysis_df[analysis_df['highcpu'] == 50])/60)/2\n",
        "total_core_hour_per_core = 5*len(analysis_df)/60\n",
        "core_count = vm_dataframe[vm_dataframe['vmid'] == vm_id].vmcorecountbucket.values[0]"
      ],
      "metadata": {
        "id": "-NzhBC2ZRHir"
      },
      "execution_count": 405,
      "outputs": []
    },
    {
      "cell_type": "code",
      "source": [
        "print(\"TOTAL CPU CORE HOUR (CURRENT)\", total_core_hour_per_core*core_count)\n",
        "print(\"TOTAL CPU CORE HOUR (PROPOSED)\", (total_core_hour_per_core*core_count) - (core_hour_saved_per_core*core_count))"
      ],
      "metadata": {
        "colab": {
          "base_uri": "https://localhost:8080/"
        },
        "id": "sPXzq_XJRX7v",
        "outputId": "2311680b-a454-4350-a351-51513b801cb9"
      },
      "execution_count": 406,
      "outputs": [
        {
          "output_type": "stream",
          "name": "stdout",
          "text": [
            "TOTAL CPU CORE HOUR (CURRENT) 541.6666666666666\n",
            "TOTAL CPU CORE HOUR (PROPOSED) 300.0\n"
          ]
        }
      ]
    },
    {
      "cell_type": "code",
      "source": [
        "print(\"WASTED CPU %\",100*(((total_core_hour_per_core*core_count) - (core_hour_saved_per_core*core_count))/(total_core_hour_per_core*core_count)))"
      ],
      "metadata": {
        "colab": {
          "base_uri": "https://localhost:8080/"
        },
        "id": "Jm0EDrfIRkgO",
        "outputId": "1d5a9636-b604-4179-d82e-f802bb8c5700"
      },
      "execution_count": 407,
      "outputs": [
        {
          "output_type": "stream",
          "name": "stdout",
          "text": [
            "WASTED CPU % 55.38461538461539\n"
          ]
        }
      ]
    }
  ]
}