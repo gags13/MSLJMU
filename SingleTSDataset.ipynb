{
  "nbformat": 4,
  "nbformat_minor": 0,
  "metadata": {
    "colab": {
      "provenance": []
    },
    "kernelspec": {
      "name": "python3",
      "display_name": "Python 3"
    },
    "language_info": {
      "name": "python"
    }
  },
  "cells": [
    {
      "cell_type": "code",
      "execution_count": 1,
      "metadata": {
        "id": "WfLeaftnrTfp"
      },
      "outputs": [],
      "source": [
        "import numpy as np\n",
        "import pandas as pd\n",
        "from IPython.display import display\n",
        "import matplotlib.pyplot as plt\n",
        "from matplotlib.backends.backend_pdf import PdfPages\n",
        "\n",
        "%matplotlib inline"
      ]
    },
    {
      "cell_type": "code",
      "source": [
        "from google.colab import drive\n",
        "drive.mount('/content/drive/')"
      ],
      "metadata": {
        "colab": {
          "base_uri": "https://localhost:8080/"
        },
        "id": "PsOHZjn6rm3u",
        "outputId": "b5f3eb3d-bbc5-4d61-d3a8-00d4b4708113"
      },
      "execution_count": 2,
      "outputs": [
        {
          "output_type": "stream",
          "name": "stdout",
          "text": [
            "Mounted at /content/drive/\n"
          ]
        }
      ]
    },
    {
      "cell_type": "code",
      "source": [
        "base_path = '/content/drive/MyDrive/MS/dataset/'\n",
        "data_path = base_path + 'final_26_all_ts.csv'\n",
        "\n",
        "ts_26 = pd.read_csv(data_path, index_col=False, delimiter=',')\n",
        "ts_26.drop(['Unnamed: 0'],axis=1, inplace=True)\n",
        "ts_26.head()"
      ],
      "metadata": {
        "colab": {
          "base_uri": "https://localhost:8080/",
          "height": 206
        },
        "id": "zT9PWPJorofh",
        "outputId": "d262b88f-b5a9-4507-f792-7450f7f6bed8"
      },
      "execution_count": 3,
      "outputs": [
        {
          "output_type": "execute_result",
          "data": {
            "text/plain": [
              "   timestamp                                              vm_id   min_cpu  \\\n",
              "0          0  yujS7dubWw+34q8X25Bo1HAM+oYDpmX6msJ3S3cVc2qglt...  0.348194   \n",
              "1          0  HD22nCSvfLXG4Q3EFmcLoITCtHA3wgONq8RjxfSmQiQ+87...  1.426744   \n",
              "2          0  QGVbzPr/R4zskVaNP4DPrWinrF9CaXa7gP8QHRS1vINMpD...  0.464066   \n",
              "3          0  RVfel1jVo2UTjdHeqMgqJcVcfBUG/V9mV6Un47p8vGHiFj...  1.125566   \n",
              "4          0  trjCc/lisNnKRnpFtPMmULgw1gUoiymSCshiGZfLY/Oil4...  0.812914   \n",
              "\n",
              "    max_cpu   avg_cpu  \n",
              "0  0.406795  0.368682  \n",
              "1  2.081334  1.754496  \n",
              "2  1.047260  0.772895  \n",
              "3  1.524487  1.318181  \n",
              "4  0.852220  0.831735  "
            ],
            "text/html": [
              "\n",
              "  <div id=\"df-f6a743e4-07a9-48e1-bb41-48e5d9c21739\">\n",
              "    <div class=\"colab-df-container\">\n",
              "      <div>\n",
              "<style scoped>\n",
              "    .dataframe tbody tr th:only-of-type {\n",
              "        vertical-align: middle;\n",
              "    }\n",
              "\n",
              "    .dataframe tbody tr th {\n",
              "        vertical-align: top;\n",
              "    }\n",
              "\n",
              "    .dataframe thead th {\n",
              "        text-align: right;\n",
              "    }\n",
              "</style>\n",
              "<table border=\"1\" class=\"dataframe\">\n",
              "  <thead>\n",
              "    <tr style=\"text-align: right;\">\n",
              "      <th></th>\n",
              "      <th>timestamp</th>\n",
              "      <th>vm_id</th>\n",
              "      <th>min_cpu</th>\n",
              "      <th>max_cpu</th>\n",
              "      <th>avg_cpu</th>\n",
              "    </tr>\n",
              "  </thead>\n",
              "  <tbody>\n",
              "    <tr>\n",
              "      <th>0</th>\n",
              "      <td>0</td>\n",
              "      <td>yujS7dubWw+34q8X25Bo1HAM+oYDpmX6msJ3S3cVc2qglt...</td>\n",
              "      <td>0.348194</td>\n",
              "      <td>0.406795</td>\n",
              "      <td>0.368682</td>\n",
              "    </tr>\n",
              "    <tr>\n",
              "      <th>1</th>\n",
              "      <td>0</td>\n",
              "      <td>HD22nCSvfLXG4Q3EFmcLoITCtHA3wgONq8RjxfSmQiQ+87...</td>\n",
              "      <td>1.426744</td>\n",
              "      <td>2.081334</td>\n",
              "      <td>1.754496</td>\n",
              "    </tr>\n",
              "    <tr>\n",
              "      <th>2</th>\n",
              "      <td>0</td>\n",
              "      <td>QGVbzPr/R4zskVaNP4DPrWinrF9CaXa7gP8QHRS1vINMpD...</td>\n",
              "      <td>0.464066</td>\n",
              "      <td>1.047260</td>\n",
              "      <td>0.772895</td>\n",
              "    </tr>\n",
              "    <tr>\n",
              "      <th>3</th>\n",
              "      <td>0</td>\n",
              "      <td>RVfel1jVo2UTjdHeqMgqJcVcfBUG/V9mV6Un47p8vGHiFj...</td>\n",
              "      <td>1.125566</td>\n",
              "      <td>1.524487</td>\n",
              "      <td>1.318181</td>\n",
              "    </tr>\n",
              "    <tr>\n",
              "      <th>4</th>\n",
              "      <td>0</td>\n",
              "      <td>trjCc/lisNnKRnpFtPMmULgw1gUoiymSCshiGZfLY/Oil4...</td>\n",
              "      <td>0.812914</td>\n",
              "      <td>0.852220</td>\n",
              "      <td>0.831735</td>\n",
              "    </tr>\n",
              "  </tbody>\n",
              "</table>\n",
              "</div>\n",
              "      <button class=\"colab-df-convert\" onclick=\"convertToInteractive('df-f6a743e4-07a9-48e1-bb41-48e5d9c21739')\"\n",
              "              title=\"Convert this dataframe to an interactive table.\"\n",
              "              style=\"display:none;\">\n",
              "        \n",
              "  <svg xmlns=\"http://www.w3.org/2000/svg\" height=\"24px\"viewBox=\"0 0 24 24\"\n",
              "       width=\"24px\">\n",
              "    <path d=\"M0 0h24v24H0V0z\" fill=\"none\"/>\n",
              "    <path d=\"M18.56 5.44l.94 2.06.94-2.06 2.06-.94-2.06-.94-.94-2.06-.94 2.06-2.06.94zm-11 1L8.5 8.5l.94-2.06 2.06-.94-2.06-.94L8.5 2.5l-.94 2.06-2.06.94zm10 10l.94 2.06.94-2.06 2.06-.94-2.06-.94-.94-2.06-.94 2.06-2.06.94z\"/><path d=\"M17.41 7.96l-1.37-1.37c-.4-.4-.92-.59-1.43-.59-.52 0-1.04.2-1.43.59L10.3 9.45l-7.72 7.72c-.78.78-.78 2.05 0 2.83L4 21.41c.39.39.9.59 1.41.59.51 0 1.02-.2 1.41-.59l7.78-7.78 2.81-2.81c.8-.78.8-2.07 0-2.86zM5.41 20L4 18.59l7.72-7.72 1.47 1.35L5.41 20z\"/>\n",
              "  </svg>\n",
              "      </button>\n",
              "      \n",
              "  <style>\n",
              "    .colab-df-container {\n",
              "      display:flex;\n",
              "      flex-wrap:wrap;\n",
              "      gap: 12px;\n",
              "    }\n",
              "\n",
              "    .colab-df-convert {\n",
              "      background-color: #E8F0FE;\n",
              "      border: none;\n",
              "      border-radius: 50%;\n",
              "      cursor: pointer;\n",
              "      display: none;\n",
              "      fill: #1967D2;\n",
              "      height: 32px;\n",
              "      padding: 0 0 0 0;\n",
              "      width: 32px;\n",
              "    }\n",
              "\n",
              "    .colab-df-convert:hover {\n",
              "      background-color: #E2EBFA;\n",
              "      box-shadow: 0px 1px 2px rgba(60, 64, 67, 0.3), 0px 1px 3px 1px rgba(60, 64, 67, 0.15);\n",
              "      fill: #174EA6;\n",
              "    }\n",
              "\n",
              "    [theme=dark] .colab-df-convert {\n",
              "      background-color: #3B4455;\n",
              "      fill: #D2E3FC;\n",
              "    }\n",
              "\n",
              "    [theme=dark] .colab-df-convert:hover {\n",
              "      background-color: #434B5C;\n",
              "      box-shadow: 0px 1px 3px 1px rgba(0, 0, 0, 0.15);\n",
              "      filter: drop-shadow(0px 1px 2px rgba(0, 0, 0, 0.3));\n",
              "      fill: #FFFFFF;\n",
              "    }\n",
              "  </style>\n",
              "\n",
              "      <script>\n",
              "        const buttonEl =\n",
              "          document.querySelector('#df-f6a743e4-07a9-48e1-bb41-48e5d9c21739 button.colab-df-convert');\n",
              "        buttonEl.style.display =\n",
              "          google.colab.kernel.accessAllowed ? 'block' : 'none';\n",
              "\n",
              "        async function convertToInteractive(key) {\n",
              "          const element = document.querySelector('#df-f6a743e4-07a9-48e1-bb41-48e5d9c21739');\n",
              "          const dataTable =\n",
              "            await google.colab.kernel.invokeFunction('convertToInteractive',\n",
              "                                                     [key], {});\n",
              "          if (!dataTable) return;\n",
              "\n",
              "          const docLinkHtml = 'Like what you see? Visit the ' +\n",
              "            '<a target=\"_blank\" href=https://colab.research.google.com/notebooks/data_table.ipynb>data table notebook</a>'\n",
              "            + ' to learn more about interactive tables.';\n",
              "          element.innerHTML = '';\n",
              "          dataTable['output_type'] = 'display_data';\n",
              "          await google.colab.output.renderOutput(dataTable, element);\n",
              "          const docLink = document.createElement('div');\n",
              "          docLink.innerHTML = docLinkHtml;\n",
              "          element.appendChild(docLink);\n",
              "        }\n",
              "      </script>\n",
              "    </div>\n",
              "  </div>\n",
              "  "
            ]
          },
          "metadata": {},
          "execution_count": 3
        }
      ]
    },
    {
      "cell_type": "code",
      "source": [
        "ts_26.vm_id.values"
      ],
      "metadata": {
        "colab": {
          "base_uri": "https://localhost:8080/"
        },
        "id": "flJevU0pr7r4",
        "outputId": "82d4992a-26f5-4264-d155-dfd5feed39a8"
      },
      "execution_count": 4,
      "outputs": [
        {
          "output_type": "execute_result",
          "data": {
            "text/plain": [
              "array(['yujS7dubWw+34q8X25Bo1HAM+oYDpmX6msJ3S3cVc2qgltIwFkBkD9WzRg3ymN3h',\n",
              "       'HD22nCSvfLXG4Q3EFmcLoITCtHA3wgONq8RjxfSmQiQ+87s4emnUOzEyOICvcbTd',\n",
              "       'QGVbzPr/R4zskVaNP4DPrWinrF9CaXa7gP8QHRS1vINMpD7ofg8Dd3D4J0WQ7bg7',\n",
              "       ...,\n",
              "       'KxsOjS16uUQHzMcaCAw/0auAXsRsyJrl/OWMA4j2cuYkKCXW6ks8F35t1nSUwGXQ',\n",
              "       'gQI5vMY9+5Al0VB75TauNTv3cQsFymksKJt1NG/q8XH82BCZZluhSwjecXJdj0aH',\n",
              "       'FXoWmAfKugZ5oYGzaouQN/szW03kSA2RayVC+YjKo8Xq0lQ/zzHI0ZnCnCC21Bj8'],\n",
              "      dtype=object)"
            ]
          },
          "metadata": {},
          "execution_count": 4
        }
      ]
    },
    {
      "cell_type": "code",
      "source": [
        "print(len(set(ts_26.vm_id.values)))"
      ],
      "metadata": {
        "colab": {
          "base_uri": "https://localhost:8080/"
        },
        "id": "qvkQ4iG84--I",
        "outputId": "2b6b7ba7-41e7-4dbd-e97a-4b726647699c"
      },
      "execution_count": 11,
      "outputs": [
        {
          "output_type": "stream",
          "name": "stdout",
          "text": [
            "26\n"
          ]
        }
      ]
    },
    {
      "cell_type": "code",
      "source": [
        "ts_26.vm_id.values[0][0:10]"
      ],
      "metadata": {
        "colab": {
          "base_uri": "https://localhost:8080/",
          "height": 35
        },
        "id": "kJjH773D6OIi",
        "outputId": "84bc976e-cf24-4d5d-b2c3-325853393fdd"
      },
      "execution_count": 18,
      "outputs": [
        {
          "output_type": "execute_result",
          "data": {
            "text/plain": [
              "'yujS7dubWw'"
            ],
            "application/vnd.google.colaboratory.intrinsic+json": {
              "type": "string"
            }
          },
          "metadata": {},
          "execution_count": 18
        }
      ]
    },
    {
      "cell_type": "code",
      "source": [
        "mkdir singlets"
      ],
      "metadata": {
        "id": "lZ3ElIsw6hob"
      },
      "execution_count": 19,
      "outputs": []
    },
    {
      "cell_type": "code",
      "source": [
        "i = 0\n",
        "for ids in set(ts_26.vm_id.values):\n",
        "  ts_df = ts_26[ts_26['vm_id'] == ids]\n",
        "  print(ts_df.shape)\n",
        "  clean_list = [ts_df]\n",
        "  i = i + 1\n",
        "  vmid_substr = ids[0:10].replace('/', '_')\n",
        "  name = \"vm_\"+str(i)+\"_\"+vmid_substr+\".csv\"\n",
        "  print(name)\n",
        "  ts_df.to_csv('singlets' + '/' + name)\n",
        "  del clean_list  "
      ],
      "metadata": {
        "colab": {
          "base_uri": "https://localhost:8080/"
        },
        "id": "HY6kNj1BsErz",
        "outputId": "b4983298-0111-4a39-900a-a361c2c4034a"
      },
      "execution_count": 21,
      "outputs": [
        {
          "output_type": "stream",
          "name": "stdout",
          "text": [
            "(8245, 5)\n",
            "vm_1_VmgiCwYcPy.csv\n",
            "(8295, 5)\n",
            "vm_2_rr2y46iWRI.csv\n",
            "(8291, 5)\n",
            "vm_3_Ch2tshNe8X.csv\n",
            "(8638, 5)\n",
            "vm_4_4Cka_a5H76.csv\n",
            "(8249, 5)\n",
            "vm_5_FXoWmAfKug.csv\n",
            "(8007, 5)\n",
            "vm_6_jMde6NdGW3.csv\n",
            "(8638, 5)\n",
            "vm_7_QGVbzPr_R4.csv\n",
            "(8309, 5)\n",
            "vm_8_gesjL49nFh.csv\n",
            "(8127, 5)\n",
            "vm_9_RVfel1jVo2.csv\n",
            "(7951, 5)\n",
            "vm_10_HD22nCSvfL.csv\n",
            "(8278, 5)\n",
            "vm_11_cFHdzRkmxh.csv\n",
            "(8454, 5)\n",
            "vm_12_aa1PrVE9ie.csv\n",
            "(8638, 5)\n",
            "vm_13_yujS7dubWw.csv\n",
            "(8637, 5)\n",
            "vm_14_XpTL07_3it.csv\n",
            "(8295, 5)\n",
            "vm_15_PNj1J6v0YJ.csv\n",
            "(7531, 5)\n",
            "vm_16_NROpQWeBda.csv\n",
            "(8266, 5)\n",
            "vm_17_YDo5PVK_75.csv\n",
            "(8639, 5)\n",
            "vm_18_trjCc_lisN.csv\n",
            "(8350, 5)\n",
            "vm_19_GF6t1yYrx3.csv\n",
            "(8420, 5)\n",
            "vm_20_N0gBVBQviQ.csv\n",
            "(8304, 5)\n",
            "vm_21_gQI5vMY9+5.csv\n",
            "(8426, 5)\n",
            "vm_22_l93uKkSTv8.csv\n",
            "(8266, 5)\n",
            "vm_23_KxsOjS16uU.csv\n",
            "(8639, 5)\n",
            "vm_24__b+duBkmUY.csv\n",
            "(8295, 5)\n",
            "vm_25_bImCpIMf2H.csv\n",
            "(8455, 5)\n",
            "vm_26_mY+fWVBQe0.csv\n"
          ]
        }
      ]
    },
    {
      "cell_type": "code",
      "source": [
        "ts_files = [\n",
        "    'vm_1_VmgiCwYcPy.csv',\n",
        "    'vm_2_rr2y46iWRI.csv',\n",
        "    'vm_3_Ch2tshNe8X.csv',\n",
        "    'vm_4_4Cka_a5H76.csv',\n",
        "    'vm_5_FXoWmAfKug.csv',\n",
        "    'vm_6_jMde6NdGW3.csv',\n",
        "    'vm_7_QGVbzPr_R4.csv',\n",
        "    'vm_8_gesjL49nFh.csv',\n",
        "    'vm_9_RVfel1jVo2.csv',\n",
        "    'vm_10_HD22nCSvfL.csv',\n",
        "    'vm_11_cFHdzRkmxh.csv',\n",
        "    'vm_12_aa1PrVE9ie.csv',\n",
        "    'vm_13_yujS7dubWw.csv',\n",
        "    'vm_14_XpTL07_3it.csv',\n",
        "    'vm_15_PNj1J6v0YJ.csv',\n",
        "    'vm_16_NROpQWeBda.csv',\n",
        "    'vm_17_YDo5PVK_75.csv',\n",
        "    'vm_18_trjCc_lisN.csv',\n",
        "    'vm_19_GF6t1yYrx3.csv',\n",
        "    'vm_20_N0gBVBQviQ.csv',\n",
        "    'vm_21_gQI5vMY9+5.csv',\n",
        "    'vm_22_l93uKkSTv8.csv',\n",
        "    'vm_23_KxsOjS16uU.csv',\n",
        "    'vm_24__b+duBkmUY.csv',\n",
        "    'vm_25_bImCpIMf2H.csv',\n",
        "    'vm_26_mY+fWVBQe0.csv'\n",
        "]"
      ],
      "metadata": {
        "id": "Yt2HW9SJ0pqB"
      },
      "execution_count": 22,
      "outputs": []
    },
    {
      "cell_type": "code",
      "source": [],
      "metadata": {
        "id": "5YiCBaab8lfH"
      },
      "execution_count": null,
      "outputs": []
    }
  ]
}