{
  "nbformat": 4,
  "nbformat_minor": 0,
  "metadata": {
    "colab": {
      "provenance": []
    },
    "kernelspec": {
      "name": "python3",
      "display_name": "Python 3"
    },
    "language_info": {
      "name": "python"
    },
    "accelerator": "GPU",
    "gpuClass": "standard"
  },
  "cells": [
    {
      "cell_type": "code",
      "source": [
        "ts_files = [\n",
        "    'vm_1_VmgiCwYcPy.csv',\n",
        "    'vm_2_rr2y46iWRI.csv',\n",
        "    'vm_3_Ch2tshNe8X.csv',\n",
        "    'vm_5_FXoWmAfKug.csv',\n",
        "    'vm_8_gesjL49nFh.csv',\n",
        "    'vm_12_aa1PrVE9ie.csv',\n",
        "    'vm_14_XpTL07_3it.csv',\n",
        "    'vm_15_PNj1J6v0YJ.csv',\n",
        "    'vm_17_YDo5PVK_75.csv',\n",
        "    'vm_19_GF6t1yYrx3.csv',\n",
        "    'vm_20_N0gBVBQviQ.csv',\n",
        "    'vm_21_gQI5vMY9+5.csv',\n",
        "    'vm_22_l93uKkSTv8.csv',\n",
        "    'vm_23_KxsOjS16uU.csv',\n",
        "    'vm_25_bImCpIMf2H.csv',\n",
        "    'vm_26_mY+fWVBQe0.csv'\n",
        "]"
      ],
      "metadata": {
        "id": "vbZ7AKs2VM6H"
      },
      "execution_count": 297,
      "outputs": []
    },
    {
      "cell_type": "code",
      "source": [
        "#base_path = '/content/drive/MyDrive/MS/dataset/singlets/'\n",
        "#data_path = base_path + ts_files[2]\n",
        "\n",
        "base_path = 'https://raw.githubusercontent.com/gags13/datasets/main/'\n",
        "data_path = base_path + ts_files[12]"
      ],
      "metadata": {
        "id": "ibHRMOU9Uxp9"
      },
      "execution_count": 298,
      "outputs": []
    },
    {
      "cell_type": "code",
      "execution_count": 299,
      "metadata": {
        "id": "nifmmUKpTrNT"
      },
      "outputs": [],
      "source": [
        "import numpy as np\n",
        "import pandas as pd\n",
        "from IPython.display import display\n",
        "import matplotlib.pyplot as plt\n",
        "from matplotlib.backends.backend_pdf import PdfPages\n",
        "\n",
        "%matplotlib inline"
      ]
    },
    {
      "cell_type": "code",
      "source": [
        "#from google.colab import drive\n",
        "#drive.mount('/content/drive/')"
      ],
      "metadata": {
        "id": "mKC7ZRE1U1FM"
      },
      "execution_count": 300,
      "outputs": []
    },
    {
      "cell_type": "code",
      "source": [
        "ts_df = pd.read_csv(data_path, index_col=False, delimiter=',')\n",
        "ts_df.drop(['Unnamed: 0'],axis=1, inplace=True)\n",
        "ts_df.head()"
      ],
      "metadata": {
        "colab": {
          "base_uri": "https://localhost:8080/",
          "height": 206
        },
        "id": "jbdsx0FBU5QO",
        "outputId": "5ae51870-b34f-4cd6-e25e-35129a8a85d1"
      },
      "execution_count": 301,
      "outputs": [
        {
          "output_type": "execute_result",
          "data": {
            "text/plain": [
              "   timestamp                                              vm_id   min_cpu  \\\n",
              "0      28800  l93uKkSTv8kpeTaz+6RQfgXIIhW8MRm+jdX6qZUiWKtaBa...  0.182328   \n",
              "1      29100  l93uKkSTv8kpeTaz+6RQfgXIIhW8MRm+jdX6qZUiWKtaBa...  0.773235   \n",
              "2      29400  l93uKkSTv8kpeTaz+6RQfgXIIhW8MRm+jdX6qZUiWKtaBa...  0.664220   \n",
              "3      29700  l93uKkSTv8kpeTaz+6RQfgXIIhW8MRm+jdX6qZUiWKtaBa...  0.732992   \n",
              "4      30000  l93uKkSTv8kpeTaz+6RQfgXIIhW8MRm+jdX6qZUiWKtaBa...  0.841129   \n",
              "\n",
              "     max_cpu    avg_cpu  \n",
              "0   0.317601   0.267267  \n",
              "1  22.434897   4.289689  \n",
              "2   1.181118   0.967551  \n",
              "3  98.920224  17.173388  \n",
              "4  10.594962   3.852647  "
            ],
            "text/html": [
              "\n",
              "  <div id=\"df-c9475e82-33b8-4dd5-8b00-db018ff5f58b\">\n",
              "    <div class=\"colab-df-container\">\n",
              "      <div>\n",
              "<style scoped>\n",
              "    .dataframe tbody tr th:only-of-type {\n",
              "        vertical-align: middle;\n",
              "    }\n",
              "\n",
              "    .dataframe tbody tr th {\n",
              "        vertical-align: top;\n",
              "    }\n",
              "\n",
              "    .dataframe thead th {\n",
              "        text-align: right;\n",
              "    }\n",
              "</style>\n",
              "<table border=\"1\" class=\"dataframe\">\n",
              "  <thead>\n",
              "    <tr style=\"text-align: right;\">\n",
              "      <th></th>\n",
              "      <th>timestamp</th>\n",
              "      <th>vm_id</th>\n",
              "      <th>min_cpu</th>\n",
              "      <th>max_cpu</th>\n",
              "      <th>avg_cpu</th>\n",
              "    </tr>\n",
              "  </thead>\n",
              "  <tbody>\n",
              "    <tr>\n",
              "      <th>0</th>\n",
              "      <td>28800</td>\n",
              "      <td>l93uKkSTv8kpeTaz+6RQfgXIIhW8MRm+jdX6qZUiWKtaBa...</td>\n",
              "      <td>0.182328</td>\n",
              "      <td>0.317601</td>\n",
              "      <td>0.267267</td>\n",
              "    </tr>\n",
              "    <tr>\n",
              "      <th>1</th>\n",
              "      <td>29100</td>\n",
              "      <td>l93uKkSTv8kpeTaz+6RQfgXIIhW8MRm+jdX6qZUiWKtaBa...</td>\n",
              "      <td>0.773235</td>\n",
              "      <td>22.434897</td>\n",
              "      <td>4.289689</td>\n",
              "    </tr>\n",
              "    <tr>\n",
              "      <th>2</th>\n",
              "      <td>29400</td>\n",
              "      <td>l93uKkSTv8kpeTaz+6RQfgXIIhW8MRm+jdX6qZUiWKtaBa...</td>\n",
              "      <td>0.664220</td>\n",
              "      <td>1.181118</td>\n",
              "      <td>0.967551</td>\n",
              "    </tr>\n",
              "    <tr>\n",
              "      <th>3</th>\n",
              "      <td>29700</td>\n",
              "      <td>l93uKkSTv8kpeTaz+6RQfgXIIhW8MRm+jdX6qZUiWKtaBa...</td>\n",
              "      <td>0.732992</td>\n",
              "      <td>98.920224</td>\n",
              "      <td>17.173388</td>\n",
              "    </tr>\n",
              "    <tr>\n",
              "      <th>4</th>\n",
              "      <td>30000</td>\n",
              "      <td>l93uKkSTv8kpeTaz+6RQfgXIIhW8MRm+jdX6qZUiWKtaBa...</td>\n",
              "      <td>0.841129</td>\n",
              "      <td>10.594962</td>\n",
              "      <td>3.852647</td>\n",
              "    </tr>\n",
              "  </tbody>\n",
              "</table>\n",
              "</div>\n",
              "      <button class=\"colab-df-convert\" onclick=\"convertToInteractive('df-c9475e82-33b8-4dd5-8b00-db018ff5f58b')\"\n",
              "              title=\"Convert this dataframe to an interactive table.\"\n",
              "              style=\"display:none;\">\n",
              "        \n",
              "  <svg xmlns=\"http://www.w3.org/2000/svg\" height=\"24px\"viewBox=\"0 0 24 24\"\n",
              "       width=\"24px\">\n",
              "    <path d=\"M0 0h24v24H0V0z\" fill=\"none\"/>\n",
              "    <path d=\"M18.56 5.44l.94 2.06.94-2.06 2.06-.94-2.06-.94-.94-2.06-.94 2.06-2.06.94zm-11 1L8.5 8.5l.94-2.06 2.06-.94-2.06-.94L8.5 2.5l-.94 2.06-2.06.94zm10 10l.94 2.06.94-2.06 2.06-.94-2.06-.94-.94-2.06-.94 2.06-2.06.94z\"/><path d=\"M17.41 7.96l-1.37-1.37c-.4-.4-.92-.59-1.43-.59-.52 0-1.04.2-1.43.59L10.3 9.45l-7.72 7.72c-.78.78-.78 2.05 0 2.83L4 21.41c.39.39.9.59 1.41.59.51 0 1.02-.2 1.41-.59l7.78-7.78 2.81-2.81c.8-.78.8-2.07 0-2.86zM5.41 20L4 18.59l7.72-7.72 1.47 1.35L5.41 20z\"/>\n",
              "  </svg>\n",
              "      </button>\n",
              "      \n",
              "  <style>\n",
              "    .colab-df-container {\n",
              "      display:flex;\n",
              "      flex-wrap:wrap;\n",
              "      gap: 12px;\n",
              "    }\n",
              "\n",
              "    .colab-df-convert {\n",
              "      background-color: #E8F0FE;\n",
              "      border: none;\n",
              "      border-radius: 50%;\n",
              "      cursor: pointer;\n",
              "      display: none;\n",
              "      fill: #1967D2;\n",
              "      height: 32px;\n",
              "      padding: 0 0 0 0;\n",
              "      width: 32px;\n",
              "    }\n",
              "\n",
              "    .colab-df-convert:hover {\n",
              "      background-color: #E2EBFA;\n",
              "      box-shadow: 0px 1px 2px rgba(60, 64, 67, 0.3), 0px 1px 3px 1px rgba(60, 64, 67, 0.15);\n",
              "      fill: #174EA6;\n",
              "    }\n",
              "\n",
              "    [theme=dark] .colab-df-convert {\n",
              "      background-color: #3B4455;\n",
              "      fill: #D2E3FC;\n",
              "    }\n",
              "\n",
              "    [theme=dark] .colab-df-convert:hover {\n",
              "      background-color: #434B5C;\n",
              "      box-shadow: 0px 1px 3px 1px rgba(0, 0, 0, 0.15);\n",
              "      filter: drop-shadow(0px 1px 2px rgba(0, 0, 0, 0.3));\n",
              "      fill: #FFFFFF;\n",
              "    }\n",
              "  </style>\n",
              "\n",
              "      <script>\n",
              "        const buttonEl =\n",
              "          document.querySelector('#df-c9475e82-33b8-4dd5-8b00-db018ff5f58b button.colab-df-convert');\n",
              "        buttonEl.style.display =\n",
              "          google.colab.kernel.accessAllowed ? 'block' : 'none';\n",
              "\n",
              "        async function convertToInteractive(key) {\n",
              "          const element = document.querySelector('#df-c9475e82-33b8-4dd5-8b00-db018ff5f58b');\n",
              "          const dataTable =\n",
              "            await google.colab.kernel.invokeFunction('convertToInteractive',\n",
              "                                                     [key], {});\n",
              "          if (!dataTable) return;\n",
              "\n",
              "          const docLinkHtml = 'Like what you see? Visit the ' +\n",
              "            '<a target=\"_blank\" href=https://colab.research.google.com/notebooks/data_table.ipynb>data table notebook</a>'\n",
              "            + ' to learn more about interactive tables.';\n",
              "          element.innerHTML = '';\n",
              "          dataTable['output_type'] = 'display_data';\n",
              "          await google.colab.output.renderOutput(dataTable, element);\n",
              "          const docLink = document.createElement('div');\n",
              "          docLink.innerHTML = docLinkHtml;\n",
              "          element.appendChild(docLink);\n",
              "        }\n",
              "      </script>\n",
              "    </div>\n",
              "  </div>\n",
              "  "
            ]
          },
          "metadata": {},
          "execution_count": 301
        }
      ]
    },
    {
      "cell_type": "code",
      "source": [
        "vm_id = ts_df.vm_id.values[0]\n",
        "print(\"VM ID :\", vm_id)"
      ],
      "metadata": {
        "colab": {
          "base_uri": "https://localhost:8080/"
        },
        "id": "Tr2YJgXEVcYv",
        "outputId": "3cf20827-6621-44f8-9b93-9d9e6900158f"
      },
      "execution_count": 302,
      "outputs": [
        {
          "output_type": "stream",
          "name": "stdout",
          "text": [
            "VM ID : l93uKkSTv8kpeTaz+6RQfgXIIhW8MRm+jdX6qZUiWKtaBa6H6IsuO3KoXA42ZHQ/\n"
          ]
        }
      ]
    },
    {
      "cell_type": "code",
      "source": [
        "ts_df.drop(['vm_id'],axis=1, inplace=True)\n",
        "ts_df.head()"
      ],
      "metadata": {
        "colab": {
          "base_uri": "https://localhost:8080/",
          "height": 206
        },
        "id": "CZ4ZvKh1WnlR",
        "outputId": "8764c209-a2da-4557-f6ef-2cdfe84115ad"
      },
      "execution_count": 303,
      "outputs": [
        {
          "output_type": "execute_result",
          "data": {
            "text/plain": [
              "   timestamp   min_cpu    max_cpu    avg_cpu\n",
              "0      28800  0.182328   0.317601   0.267267\n",
              "1      29100  0.773235  22.434897   4.289689\n",
              "2      29400  0.664220   1.181118   0.967551\n",
              "3      29700  0.732992  98.920224  17.173388\n",
              "4      30000  0.841129  10.594962   3.852647"
            ],
            "text/html": [
              "\n",
              "  <div id=\"df-88a7d99d-58cb-4172-b7cc-df32ac9df389\">\n",
              "    <div class=\"colab-df-container\">\n",
              "      <div>\n",
              "<style scoped>\n",
              "    .dataframe tbody tr th:only-of-type {\n",
              "        vertical-align: middle;\n",
              "    }\n",
              "\n",
              "    .dataframe tbody tr th {\n",
              "        vertical-align: top;\n",
              "    }\n",
              "\n",
              "    .dataframe thead th {\n",
              "        text-align: right;\n",
              "    }\n",
              "</style>\n",
              "<table border=\"1\" class=\"dataframe\">\n",
              "  <thead>\n",
              "    <tr style=\"text-align: right;\">\n",
              "      <th></th>\n",
              "      <th>timestamp</th>\n",
              "      <th>min_cpu</th>\n",
              "      <th>max_cpu</th>\n",
              "      <th>avg_cpu</th>\n",
              "    </tr>\n",
              "  </thead>\n",
              "  <tbody>\n",
              "    <tr>\n",
              "      <th>0</th>\n",
              "      <td>28800</td>\n",
              "      <td>0.182328</td>\n",
              "      <td>0.317601</td>\n",
              "      <td>0.267267</td>\n",
              "    </tr>\n",
              "    <tr>\n",
              "      <th>1</th>\n",
              "      <td>29100</td>\n",
              "      <td>0.773235</td>\n",
              "      <td>22.434897</td>\n",
              "      <td>4.289689</td>\n",
              "    </tr>\n",
              "    <tr>\n",
              "      <th>2</th>\n",
              "      <td>29400</td>\n",
              "      <td>0.664220</td>\n",
              "      <td>1.181118</td>\n",
              "      <td>0.967551</td>\n",
              "    </tr>\n",
              "    <tr>\n",
              "      <th>3</th>\n",
              "      <td>29700</td>\n",
              "      <td>0.732992</td>\n",
              "      <td>98.920224</td>\n",
              "      <td>17.173388</td>\n",
              "    </tr>\n",
              "    <tr>\n",
              "      <th>4</th>\n",
              "      <td>30000</td>\n",
              "      <td>0.841129</td>\n",
              "      <td>10.594962</td>\n",
              "      <td>3.852647</td>\n",
              "    </tr>\n",
              "  </tbody>\n",
              "</table>\n",
              "</div>\n",
              "      <button class=\"colab-df-convert\" onclick=\"convertToInteractive('df-88a7d99d-58cb-4172-b7cc-df32ac9df389')\"\n",
              "              title=\"Convert this dataframe to an interactive table.\"\n",
              "              style=\"display:none;\">\n",
              "        \n",
              "  <svg xmlns=\"http://www.w3.org/2000/svg\" height=\"24px\"viewBox=\"0 0 24 24\"\n",
              "       width=\"24px\">\n",
              "    <path d=\"M0 0h24v24H0V0z\" fill=\"none\"/>\n",
              "    <path d=\"M18.56 5.44l.94 2.06.94-2.06 2.06-.94-2.06-.94-.94-2.06-.94 2.06-2.06.94zm-11 1L8.5 8.5l.94-2.06 2.06-.94-2.06-.94L8.5 2.5l-.94 2.06-2.06.94zm10 10l.94 2.06.94-2.06 2.06-.94-2.06-.94-.94-2.06-.94 2.06-2.06.94z\"/><path d=\"M17.41 7.96l-1.37-1.37c-.4-.4-.92-.59-1.43-.59-.52 0-1.04.2-1.43.59L10.3 9.45l-7.72 7.72c-.78.78-.78 2.05 0 2.83L4 21.41c.39.39.9.59 1.41.59.51 0 1.02-.2 1.41-.59l7.78-7.78 2.81-2.81c.8-.78.8-2.07 0-2.86zM5.41 20L4 18.59l7.72-7.72 1.47 1.35L5.41 20z\"/>\n",
              "  </svg>\n",
              "      </button>\n",
              "      \n",
              "  <style>\n",
              "    .colab-df-container {\n",
              "      display:flex;\n",
              "      flex-wrap:wrap;\n",
              "      gap: 12px;\n",
              "    }\n",
              "\n",
              "    .colab-df-convert {\n",
              "      background-color: #E8F0FE;\n",
              "      border: none;\n",
              "      border-radius: 50%;\n",
              "      cursor: pointer;\n",
              "      display: none;\n",
              "      fill: #1967D2;\n",
              "      height: 32px;\n",
              "      padding: 0 0 0 0;\n",
              "      width: 32px;\n",
              "    }\n",
              "\n",
              "    .colab-df-convert:hover {\n",
              "      background-color: #E2EBFA;\n",
              "      box-shadow: 0px 1px 2px rgba(60, 64, 67, 0.3), 0px 1px 3px 1px rgba(60, 64, 67, 0.15);\n",
              "      fill: #174EA6;\n",
              "    }\n",
              "\n",
              "    [theme=dark] .colab-df-convert {\n",
              "      background-color: #3B4455;\n",
              "      fill: #D2E3FC;\n",
              "    }\n",
              "\n",
              "    [theme=dark] .colab-df-convert:hover {\n",
              "      background-color: #434B5C;\n",
              "      box-shadow: 0px 1px 3px 1px rgba(0, 0, 0, 0.15);\n",
              "      filter: drop-shadow(0px 1px 2px rgba(0, 0, 0, 0.3));\n",
              "      fill: #FFFFFF;\n",
              "    }\n",
              "  </style>\n",
              "\n",
              "      <script>\n",
              "        const buttonEl =\n",
              "          document.querySelector('#df-88a7d99d-58cb-4172-b7cc-df32ac9df389 button.colab-df-convert');\n",
              "        buttonEl.style.display =\n",
              "          google.colab.kernel.accessAllowed ? 'block' : 'none';\n",
              "\n",
              "        async function convertToInteractive(key) {\n",
              "          const element = document.querySelector('#df-88a7d99d-58cb-4172-b7cc-df32ac9df389');\n",
              "          const dataTable =\n",
              "            await google.colab.kernel.invokeFunction('convertToInteractive',\n",
              "                                                     [key], {});\n",
              "          if (!dataTable) return;\n",
              "\n",
              "          const docLinkHtml = 'Like what you see? Visit the ' +\n",
              "            '<a target=\"_blank\" href=https://colab.research.google.com/notebooks/data_table.ipynb>data table notebook</a>'\n",
              "            + ' to learn more about interactive tables.';\n",
              "          element.innerHTML = '';\n",
              "          dataTable['output_type'] = 'display_data';\n",
              "          await google.colab.output.renderOutput(dataTable, element);\n",
              "          const docLink = document.createElement('div');\n",
              "          docLink.innerHTML = docLinkHtml;\n",
              "          element.appendChild(docLink);\n",
              "        }\n",
              "      </script>\n",
              "    </div>\n",
              "  </div>\n",
              "  "
            ]
          },
          "metadata": {},
          "execution_count": 303
        }
      ]
    },
    {
      "cell_type": "code",
      "source": [
        "from sklearn.preprocessing import MinMaxScaler, StandardScaler\n",
        "import warnings\n",
        "warnings.filterwarnings('ignore')\n",
        "from scipy import stats\n",
        "import tensorflow as tf\n",
        "from tensorflow import keras\n",
        "from tensorflow.keras import Sequential, layers, callbacks\n",
        "from tensorflow.keras.layers import Dense, Dropout, GRU"
      ],
      "metadata": {
        "id": "2_9d7Uygo82M"
      },
      "execution_count": 304,
      "outputs": []
    },
    {
      "cell_type": "code",
      "source": [
        "tf.random.set_seed(1310)"
      ],
      "metadata": {
        "id": "75URiRLcpAYx"
      },
      "execution_count": 305,
      "outputs": []
    },
    {
      "cell_type": "code",
      "source": [
        "ts_df['timestamp'] = ts_df['timestamp']/300\n",
        "ts_df['timestamp'] = ts_df['timestamp'].astype('int')\n",
        "ts_df.head()"
      ],
      "metadata": {
        "colab": {
          "base_uri": "https://localhost:8080/",
          "height": 206
        },
        "id": "oyDro-5a8NBR",
        "outputId": "e967d29e-bb77-450f-9b8f-1cd1483e6e45"
      },
      "execution_count": 306,
      "outputs": [
        {
          "output_type": "execute_result",
          "data": {
            "text/plain": [
              "   timestamp   min_cpu    max_cpu    avg_cpu\n",
              "0         96  0.182328   0.317601   0.267267\n",
              "1         97  0.773235  22.434897   4.289689\n",
              "2         98  0.664220   1.181118   0.967551\n",
              "3         99  0.732992  98.920224  17.173388\n",
              "4        100  0.841129  10.594962   3.852647"
            ],
            "text/html": [
              "\n",
              "  <div id=\"df-30180cf4-c12e-4ced-adf7-1cc7ecf56fa5\">\n",
              "    <div class=\"colab-df-container\">\n",
              "      <div>\n",
              "<style scoped>\n",
              "    .dataframe tbody tr th:only-of-type {\n",
              "        vertical-align: middle;\n",
              "    }\n",
              "\n",
              "    .dataframe tbody tr th {\n",
              "        vertical-align: top;\n",
              "    }\n",
              "\n",
              "    .dataframe thead th {\n",
              "        text-align: right;\n",
              "    }\n",
              "</style>\n",
              "<table border=\"1\" class=\"dataframe\">\n",
              "  <thead>\n",
              "    <tr style=\"text-align: right;\">\n",
              "      <th></th>\n",
              "      <th>timestamp</th>\n",
              "      <th>min_cpu</th>\n",
              "      <th>max_cpu</th>\n",
              "      <th>avg_cpu</th>\n",
              "    </tr>\n",
              "  </thead>\n",
              "  <tbody>\n",
              "    <tr>\n",
              "      <th>0</th>\n",
              "      <td>96</td>\n",
              "      <td>0.182328</td>\n",
              "      <td>0.317601</td>\n",
              "      <td>0.267267</td>\n",
              "    </tr>\n",
              "    <tr>\n",
              "      <th>1</th>\n",
              "      <td>97</td>\n",
              "      <td>0.773235</td>\n",
              "      <td>22.434897</td>\n",
              "      <td>4.289689</td>\n",
              "    </tr>\n",
              "    <tr>\n",
              "      <th>2</th>\n",
              "      <td>98</td>\n",
              "      <td>0.664220</td>\n",
              "      <td>1.181118</td>\n",
              "      <td>0.967551</td>\n",
              "    </tr>\n",
              "    <tr>\n",
              "      <th>3</th>\n",
              "      <td>99</td>\n",
              "      <td>0.732992</td>\n",
              "      <td>98.920224</td>\n",
              "      <td>17.173388</td>\n",
              "    </tr>\n",
              "    <tr>\n",
              "      <th>4</th>\n",
              "      <td>100</td>\n",
              "      <td>0.841129</td>\n",
              "      <td>10.594962</td>\n",
              "      <td>3.852647</td>\n",
              "    </tr>\n",
              "  </tbody>\n",
              "</table>\n",
              "</div>\n",
              "      <button class=\"colab-df-convert\" onclick=\"convertToInteractive('df-30180cf4-c12e-4ced-adf7-1cc7ecf56fa5')\"\n",
              "              title=\"Convert this dataframe to an interactive table.\"\n",
              "              style=\"display:none;\">\n",
              "        \n",
              "  <svg xmlns=\"http://www.w3.org/2000/svg\" height=\"24px\"viewBox=\"0 0 24 24\"\n",
              "       width=\"24px\">\n",
              "    <path d=\"M0 0h24v24H0V0z\" fill=\"none\"/>\n",
              "    <path d=\"M18.56 5.44l.94 2.06.94-2.06 2.06-.94-2.06-.94-.94-2.06-.94 2.06-2.06.94zm-11 1L8.5 8.5l.94-2.06 2.06-.94-2.06-.94L8.5 2.5l-.94 2.06-2.06.94zm10 10l.94 2.06.94-2.06 2.06-.94-2.06-.94-.94-2.06-.94 2.06-2.06.94z\"/><path d=\"M17.41 7.96l-1.37-1.37c-.4-.4-.92-.59-1.43-.59-.52 0-1.04.2-1.43.59L10.3 9.45l-7.72 7.72c-.78.78-.78 2.05 0 2.83L4 21.41c.39.39.9.59 1.41.59.51 0 1.02-.2 1.41-.59l7.78-7.78 2.81-2.81c.8-.78.8-2.07 0-2.86zM5.41 20L4 18.59l7.72-7.72 1.47 1.35L5.41 20z\"/>\n",
              "  </svg>\n",
              "      </button>\n",
              "      \n",
              "  <style>\n",
              "    .colab-df-container {\n",
              "      display:flex;\n",
              "      flex-wrap:wrap;\n",
              "      gap: 12px;\n",
              "    }\n",
              "\n",
              "    .colab-df-convert {\n",
              "      background-color: #E8F0FE;\n",
              "      border: none;\n",
              "      border-radius: 50%;\n",
              "      cursor: pointer;\n",
              "      display: none;\n",
              "      fill: #1967D2;\n",
              "      height: 32px;\n",
              "      padding: 0 0 0 0;\n",
              "      width: 32px;\n",
              "    }\n",
              "\n",
              "    .colab-df-convert:hover {\n",
              "      background-color: #E2EBFA;\n",
              "      box-shadow: 0px 1px 2px rgba(60, 64, 67, 0.3), 0px 1px 3px 1px rgba(60, 64, 67, 0.15);\n",
              "      fill: #174EA6;\n",
              "    }\n",
              "\n",
              "    [theme=dark] .colab-df-convert {\n",
              "      background-color: #3B4455;\n",
              "      fill: #D2E3FC;\n",
              "    }\n",
              "\n",
              "    [theme=dark] .colab-df-convert:hover {\n",
              "      background-color: #434B5C;\n",
              "      box-shadow: 0px 1px 3px 1px rgba(0, 0, 0, 0.15);\n",
              "      filter: drop-shadow(0px 1px 2px rgba(0, 0, 0, 0.3));\n",
              "      fill: #FFFFFF;\n",
              "    }\n",
              "  </style>\n",
              "\n",
              "      <script>\n",
              "        const buttonEl =\n",
              "          document.querySelector('#df-30180cf4-c12e-4ced-adf7-1cc7ecf56fa5 button.colab-df-convert');\n",
              "        buttonEl.style.display =\n",
              "          google.colab.kernel.accessAllowed ? 'block' : 'none';\n",
              "\n",
              "        async function convertToInteractive(key) {\n",
              "          const element = document.querySelector('#df-30180cf4-c12e-4ced-adf7-1cc7ecf56fa5');\n",
              "          const dataTable =\n",
              "            await google.colab.kernel.invokeFunction('convertToInteractive',\n",
              "                                                     [key], {});\n",
              "          if (!dataTable) return;\n",
              "\n",
              "          const docLinkHtml = 'Like what you see? Visit the ' +\n",
              "            '<a target=\"_blank\" href=https://colab.research.google.com/notebooks/data_table.ipynb>data table notebook</a>'\n",
              "            + ' to learn more about interactive tables.';\n",
              "          element.innerHTML = '';\n",
              "          dataTable['output_type'] = 'display_data';\n",
              "          await google.colab.output.renderOutput(dataTable, element);\n",
              "          const docLink = document.createElement('div');\n",
              "          docLink.innerHTML = docLinkHtml;\n",
              "          element.appendChild(docLink);\n",
              "        }\n",
              "      </script>\n",
              "    </div>\n",
              "  </div>\n",
              "  "
            ]
          },
          "metadata": {},
          "execution_count": 306
        }
      ]
    },
    {
      "cell_type": "code",
      "source": [
        "def timeseries (x_axis, y_axis, y_label):\n",
        "    plt.figure(figsize = (20, 6))\n",
        "    plt.plot(x_axis, y_axis, color ='blue')\n",
        "    plt.xlabel('time', {'fontsize': 12}) \n",
        "    plt.ylabel(y_label, {'fontsize': 12})"
      ],
      "metadata": {
        "id": "F2FLML_m8aJq"
      },
      "execution_count": 307,
      "outputs": []
    },
    {
      "cell_type": "code",
      "source": [
        "timeseries (ts_df['timestamp'], ts_df['max_cpu'], 'MAX CPU')"
      ],
      "metadata": {
        "colab": {
          "base_uri": "https://localhost:8080/",
          "height": 391
        },
        "id": "VJ0_WJ-q8djd",
        "outputId": "5cbfc5e6-88c5-442f-c699-cb1c33879d46"
      },
      "execution_count": 308,
      "outputs": [
        {
          "output_type": "display_data",
          "data": {
            "text/plain": [
              "<Figure size 1440x432 with 1 Axes>"
            ],
            "image/png": "[encoded data removed]"
          },
          "metadata": {
            "needs_background": "light"
          }
        }
      ]
    },
    {
      "cell_type": "code",
      "source": [
        "df_max = ts_df.drop(['min_cpu', 'avg_cpu'], axis=1)\n",
        "df_max = df_max.set_index('timestamp')\n",
        "df_max.head()"
      ],
      "metadata": {
        "colab": {
          "base_uri": "https://localhost:8080/",
          "height": 238
        },
        "id": "tvXQoXzY8iED",
        "outputId": "0d25ec80-122d-445a-9ec0-39334ce62e35"
      },
      "execution_count": 309,
      "outputs": [
        {
          "output_type": "execute_result",
          "data": {
            "text/plain": [
              "             max_cpu\n",
              "timestamp           \n",
              "96          0.317601\n",
              "97         22.434897\n",
              "98          1.181118\n",
              "99         98.920224\n",
              "100        10.594962"
            ],
            "text/html": [
              "\n",
              "  <div id=\"df-d977466e-36ad-4952-9c74-8e98ec7a06ab\">\n",
              "    <div class=\"colab-df-container\">\n",
              "      <div>\n",
              "<style scoped>\n",
              "    .dataframe tbody tr th:only-of-type {\n",
              "        vertical-align: middle;\n",
              "    }\n",
              "\n",
              "    .dataframe tbody tr th {\n",
              "        vertical-align: top;\n",
              "    }\n",
              "\n",
              "    .dataframe thead th {\n",
              "        text-align: right;\n",
              "    }\n",
              "</style>\n",
              "<table border=\"1\" class=\"dataframe\">\n",
              "  <thead>\n",
              "    <tr style=\"text-align: right;\">\n",
              "      <th></th>\n",
              "      <th>max_cpu</th>\n",
              "    </tr>\n",
              "    <tr>\n",
              "      <th>timestamp</th>\n",
              "      <th></th>\n",
              "    </tr>\n",
              "  </thead>\n",
              "  <tbody>\n",
              "    <tr>\n",
              "      <th>96</th>\n",
              "      <td>0.317601</td>\n",
              "    </tr>\n",
              "    <tr>\n",
              "      <th>97</th>\n",
              "      <td>22.434897</td>\n",
              "    </tr>\n",
              "    <tr>\n",
              "      <th>98</th>\n",
              "      <td>1.181118</td>\n",
              "    </tr>\n",
              "    <tr>\n",
              "      <th>99</th>\n",
              "      <td>98.920224</td>\n",
              "    </tr>\n",
              "    <tr>\n",
              "      <th>100</th>\n",
              "      <td>10.594962</td>\n",
              "    </tr>\n",
              "  </tbody>\n",
              "</table>\n",
              "</div>\n",
              "      <button class=\"colab-df-convert\" onclick=\"convertToInteractive('df-d977466e-36ad-4952-9c74-8e98ec7a06ab')\"\n",
              "              title=\"Convert this dataframe to an interactive table.\"\n",
              "              style=\"display:none;\">\n",
              "        \n",
              "  <svg xmlns=\"http://www.w3.org/2000/svg\" height=\"24px\"viewBox=\"0 0 24 24\"\n",
              "       width=\"24px\">\n",
              "    <path d=\"M0 0h24v24H0V0z\" fill=\"none\"/>\n",
              "    <path d=\"M18.56 5.44l.94 2.06.94-2.06 2.06-.94-2.06-.94-.94-2.06-.94 2.06-2.06.94zm-11 1L8.5 8.5l.94-2.06 2.06-.94-2.06-.94L8.5 2.5l-.94 2.06-2.06.94zm10 10l.94 2.06.94-2.06 2.06-.94-2.06-.94-.94-2.06-.94 2.06-2.06.94z\"/><path d=\"M17.41 7.96l-1.37-1.37c-.4-.4-.92-.59-1.43-.59-.52 0-1.04.2-1.43.59L10.3 9.45l-7.72 7.72c-.78.78-.78 2.05 0 2.83L4 21.41c.39.39.9.59 1.41.59.51 0 1.02-.2 1.41-.59l7.78-7.78 2.81-2.81c.8-.78.8-2.07 0-2.86zM5.41 20L4 18.59l7.72-7.72 1.47 1.35L5.41 20z\"/>\n",
              "  </svg>\n",
              "      </button>\n",
              "      \n",
              "  <style>\n",
              "    .colab-df-container {\n",
              "      display:flex;\n",
              "      flex-wrap:wrap;\n",
              "      gap: 12px;\n",
              "    }\n",
              "\n",
              "    .colab-df-convert {\n",
              "      background-color: #E8F0FE;\n",
              "      border: none;\n",
              "      border-radius: 50%;\n",
              "      cursor: pointer;\n",
              "      display: none;\n",
              "      fill: #1967D2;\n",
              "      height: 32px;\n",
              "      padding: 0 0 0 0;\n",
              "      width: 32px;\n",
              "    }\n",
              "\n",
              "    .colab-df-convert:hover {\n",
              "      background-color: #E2EBFA;\n",
              "      box-shadow: 0px 1px 2px rgba(60, 64, 67, 0.3), 0px 1px 3px 1px rgba(60, 64, 67, 0.15);\n",
              "      fill: #174EA6;\n",
              "    }\n",
              "\n",
              "    [theme=dark] .colab-df-convert {\n",
              "      background-color: #3B4455;\n",
              "      fill: #D2E3FC;\n",
              "    }\n",
              "\n",
              "    [theme=dark] .colab-df-convert:hover {\n",
              "      background-color: #434B5C;\n",
              "      box-shadow: 0px 1px 3px 1px rgba(0, 0, 0, 0.15);\n",
              "      filter: drop-shadow(0px 1px 2px rgba(0, 0, 0, 0.3));\n",
              "      fill: #FFFFFF;\n",
              "    }\n",
              "  </style>\n",
              "\n",
              "      <script>\n",
              "        const buttonEl =\n",
              "          document.querySelector('#df-d977466e-36ad-4952-9c74-8e98ec7a06ab button.colab-df-convert');\n",
              "        buttonEl.style.display =\n",
              "          google.colab.kernel.accessAllowed ? 'block' : 'none';\n",
              "\n",
              "        async function convertToInteractive(key) {\n",
              "          const element = document.querySelector('#df-d977466e-36ad-4952-9c74-8e98ec7a06ab');\n",
              "          const dataTable =\n",
              "            await google.colab.kernel.invokeFunction('convertToInteractive',\n",
              "                                                     [key], {});\n",
              "          if (!dataTable) return;\n",
              "\n",
              "          const docLinkHtml = 'Like what you see? Visit the ' +\n",
              "            '<a target=\"_blank\" href=https://colab.research.google.com/notebooks/data_table.ipynb>data table notebook</a>'\n",
              "            + ' to learn more about interactive tables.';\n",
              "          element.innerHTML = '';\n",
              "          dataTable['output_type'] = 'display_data';\n",
              "          await google.colab.output.renderOutput(dataTable, element);\n",
              "          const docLink = document.createElement('div');\n",
              "          docLink.innerHTML = docLinkHtml;\n",
              "          element.appendChild(docLink);\n",
              "        }\n",
              "      </script>\n",
              "    </div>\n",
              "  </div>\n",
              "  "
            ]
          },
          "metadata": {},
          "execution_count": 309
        }
      ]
    },
    {
      "cell_type": "code",
      "source": [
        "# Split train data and test data\n",
        "train_size = int(len(df_max)*0.7)\n",
        "\n",
        "train_data = df_max.iloc[:train_size]\n",
        "test_data = df_max.iloc[train_size:]"
      ],
      "metadata": {
        "id": "X6SjiZG48p4B"
      },
      "execution_count": 310,
      "outputs": []
    },
    {
      "cell_type": "code",
      "source": [
        "test_data.shape"
      ],
      "metadata": {
        "colab": {
          "base_uri": "https://localhost:8080/"
        },
        "id": "6YTX4Bcq8tHn",
        "outputId": "f465451d-1fe1-4eda-9c42-d3f3ee4b806b"
      },
      "execution_count": 311,
      "outputs": [
        {
          "output_type": "execute_result",
          "data": {
            "text/plain": [
              "(2528, 1)"
            ]
          },
          "metadata": {},
          "execution_count": 311
        }
      ]
    },
    {
      "cell_type": "code",
      "source": [
        "def df_input_to_X_y(df, window_size=864):\n",
        "  df_to_np = df.to_numpy()\n",
        "  X = []\n",
        "  y = []\n",
        "  for i in range(len(df_to_np)-window_size):\n",
        "    row = [[a] for a in df_to_np[i:i+window_size]]\n",
        "    X.append(row)\n",
        "    label = df_to_np[i+window_size]\n",
        "    y.append(label)\n",
        "  return np.array(X), np.array(y)"
      ],
      "metadata": {
        "id": "BOl9jShb8vEo"
      },
      "execution_count": 312,
      "outputs": []
    },
    {
      "cell_type": "code",
      "source": [
        "WINDOW_SIZE = 864\n",
        "X_train, y_train = df_input_to_X_y(train_data,WINDOW_SIZE)\n",
        "X_test, y_test = df_input_to_X_y(test_data,WINDOW_SIZE)\n",
        "# Print data shape\n",
        "print('X_train.shape: ', X_train.shape)\n",
        "print('y_train.shape: ', y_train.shape)\n",
        "print('X_test.shape: ', X_test.shape) \n",
        "print('y_test.shape: ', y_test.shape)"
      ],
      "metadata": {
        "colab": {
          "base_uri": "https://localhost:8080/"
        },
        "id": "_y5V_mwE8xhX",
        "outputId": "16e98811-5728-4df1-c001-feadc75ada9a"
      },
      "execution_count": 313,
      "outputs": [
        {
          "output_type": "stream",
          "name": "stdout",
          "text": [
            "X_train.shape:  (5034, 864, 1, 1)\n",
            "y_train.shape:  (5034, 1)\n",
            "X_test.shape:  (1664, 864, 1, 1)\n",
            "y_test.shape:  (1664, 1)\n"
          ]
        }
      ]
    },
    {
      "cell_type": "code",
      "source": [
        "# Create GRU model\n",
        "def create_gru(units):\n",
        "    model = Sequential()\n",
        "    # Input layer\n",
        "    model.add(GRU (units = units, return_sequences = True, \n",
        "    input_shape = [X_train.shape[1], X_train.shape[2]]))\n",
        "    model.add(Dropout(0.2)) \n",
        "    # Hidden layer\n",
        "    model.add(GRU(units = units)) \n",
        "    model.add(Dropout(0.2))\n",
        "    model.add(Dense(units = 1)) \n",
        "    #Compile model\n",
        "    model.compile(optimizer='adam',loss='mse', metrics=[\"mae\", \"acc\"])\n",
        "    return model\n",
        "model_gru = create_gru(64)"
      ],
      "metadata": {
        "id": "sFiMcVTM83cT"
      },
      "execution_count": 314,
      "outputs": []
    },
    {
      "cell_type": "code",
      "source": [
        "def fit_model(model):\n",
        "    early_stop = keras.callbacks.EarlyStopping(monitor = 'val_loss',\n",
        "                                               patience = 10)\n",
        "    history = model.fit(X_train, y_train, epochs = 15,  \n",
        "                        validation_split = 0.3,\n",
        "                        batch_size = 8, shuffle = False)\n",
        "    return history\n",
        "history_gru = fit_model(model_gru)"
      ],
      "metadata": {
        "colab": {
          "base_uri": "https://localhost:8080/"
        },
        "id": "VwYq2qDM9GAD",
        "outputId": "ec56732b-933a-403a-bdb6-21d07d338cdc"
      },
      "execution_count": 315,
      "outputs": [
        {
          "output_type": "stream",
          "name": "stdout",
          "text": [
            "Epoch 1/15\n",
            "441/441 [==============================] - 29s 59ms/step - loss: 130.1030 - mae: 2.2717 - acc: 0.0000e+00 - val_loss: 25.1855 - val_mae: 0.6474 - val_acc: 0.0000e+00\n",
            "Epoch 2/15\n",
            "441/441 [==============================] - 26s 58ms/step - loss: 121.4888 - mae: 2.4148 - acc: 0.0000e+00 - val_loss: 23.1958 - val_mae: 0.8715 - val_acc: 0.0000e+00\n",
            "Epoch 3/15\n",
            "441/441 [==============================] - 25s 57ms/step - loss: 111.5517 - mae: 2.2947 - acc: 0.0000e+00 - val_loss: 22.6601 - val_mae: 1.0534 - val_acc: 0.0000e+00\n",
            "Epoch 4/15\n",
            "441/441 [==============================] - 26s 58ms/step - loss: 105.6370 - mae: 2.3610 - acc: 0.0000e+00 - val_loss: 20.5591 - val_mae: 0.7051 - val_acc: 0.0000e+00\n",
            "Epoch 5/15\n",
            "441/441 [==============================] - 25s 57ms/step - loss: 98.3798 - mae: 2.2978 - acc: 0.0000e+00 - val_loss: 20.5843 - val_mae: 0.7417 - val_acc: 0.0000e+00\n",
            "Epoch 6/15\n",
            "441/441 [==============================] - 26s 59ms/step - loss: 92.0531 - mae: 2.2659 - acc: 0.0000e+00 - val_loss: 20.1465 - val_mae: 0.7143 - val_acc: 0.0000e+00\n",
            "Epoch 7/15\n",
            "441/441 [==============================] - 26s 58ms/step - loss: 86.0350 - mae: 2.2115 - acc: 0.0000e+00 - val_loss: 19.5704 - val_mae: 0.7733 - val_acc: 0.0000e+00\n",
            "Epoch 8/15\n",
            "441/441 [==============================] - 26s 59ms/step - loss: 80.6598 - mae: 2.1775 - acc: 0.0000e+00 - val_loss: 19.2962 - val_mae: 0.6823 - val_acc: 0.0000e+00\n",
            "Epoch 9/15\n",
            "441/441 [==============================] - 25s 57ms/step - loss: 75.1331 - mae: 2.1099 - acc: 0.0000e+00 - val_loss: 17.8344 - val_mae: 0.8257 - val_acc: 0.0000e+00\n",
            "Epoch 10/15\n",
            "441/441 [==============================] - 26s 58ms/step - loss: 71.2135 - mae: 2.0842 - acc: 0.0000e+00 - val_loss: 18.4923 - val_mae: 0.7279 - val_acc: 0.0000e+00\n",
            "Epoch 11/15\n",
            "441/441 [==============================] - 25s 56ms/step - loss: 66.6029 - mae: 2.0288 - acc: 0.0000e+00 - val_loss: 19.6254 - val_mae: 0.8906 - val_acc: 0.0000e+00\n",
            "Epoch 12/15\n",
            "441/441 [==============================] - 25s 56ms/step - loss: 60.6624 - mae: 1.9935 - acc: 0.0000e+00 - val_loss: 17.0654 - val_mae: 0.8104 - val_acc: 0.0000e+00\n",
            "Epoch 13/15\n",
            "441/441 [==============================] - 26s 58ms/step - loss: 55.8315 - mae: 1.9121 - acc: 0.0000e+00 - val_loss: 18.4738 - val_mae: 0.7542 - val_acc: 0.0000e+00\n",
            "Epoch 14/15\n",
            "441/441 [==============================] - 25s 56ms/step - loss: 51.8057 - mae: 1.8755 - acc: 0.0000e+00 - val_loss: 18.7539 - val_mae: 0.6812 - val_acc: 0.0000e+00\n",
            "Epoch 15/15\n",
            "441/441 [==============================] - 27s 60ms/step - loss: 48.7689 - mae: 1.8464 - acc: 0.0000e+00 - val_loss: 17.7219 - val_mae: 0.7212 - val_acc: 0.0000e+00\n"
          ]
        }
      ]
    },
    {
      "cell_type": "code",
      "source": [
        "def plot_loss (history, model_name):\n",
        "    plt.figure(figsize = (10, 6))\n",
        "    plt.plot(history.history['loss'])\n",
        "    plt.plot(history.history['val_loss'])\n",
        "    plt.title('Model Train vs Validation Loss for ' + model_name)\n",
        "    plt.ylabel('Loss')\n",
        "    plt.xlabel('epoch')\n",
        "    plt.legend(['Train loss', 'Validation loss'], loc='upper right')\n",
        " \n",
        "plot_loss (history_gru, 'GRU')"
      ],
      "metadata": {
        "colab": {
          "base_uri": "https://localhost:8080/",
          "height": 404
        },
        "id": "X9Mo1deO9J0K",
        "outputId": "f7552eb2-d05b-4a3a-da66-087b7d995bcc"
      },
      "execution_count": 316,
      "outputs": [
        {
          "output_type": "display_data",
          "data": {
            "text/plain": [
              "<Figure size 720x432 with 1 Axes>"
            ],
            "image/png": "[encoded data removed]"
          },
          "metadata": {
            "needs_background": "light"
          }
        }
      ]
    },
    {
      "cell_type": "code",
      "source": [
        "# Make prediction\n",
        "def prediction(model):\n",
        "    prediction = model.predict(X_test)\n",
        "    return prediction\n",
        "prediction_gru = prediction(model_gru)"
      ],
      "metadata": {
        "colab": {
          "base_uri": "https://localhost:8080/"
        },
        "id": "zbcIsZR5-5Wg",
        "outputId": "84c36e9a-4c44-4538-cbe9-4501af5f32e2"
      },
      "execution_count": 317,
      "outputs": [
        {
          "output_type": "stream",
          "name": "stdout",
          "text": [
            "52/52 [==============================] - 2s 21ms/step\n"
          ]
        }
      ]
    },
    {
      "cell_type": "code",
      "source": [
        "# Plot test data vs prediction\n",
        "def plot_future(prediction, model_name, y_test):\n",
        "    plt.figure(figsize=(30, 6))\n",
        "    range_future = len(prediction)\n",
        "    plt.plot(np.arange(range_future), np.array(y_test), \n",
        "             label='Actual data')\n",
        "    plt.plot(np.arange(range_future), \n",
        "             np.array(prediction),label='Prediction')\n",
        "    plt.title('Test data vs prediction for ' + model_name)\n",
        "    plt.legend(loc='upper left')\n",
        "    plt.xlabel('Time ')\n",
        "    plt.ylabel('Max CPU')\n",
        " \n",
        "plot_future(prediction_gru, 'GRU', y_test)"
      ],
      "metadata": {
        "colab": {
          "base_uri": "https://localhost:8080/",
          "height": 307
        },
        "id": "9U2EvyRy_Bf1",
        "outputId": "e2930f73-479e-47d0-9156-5da3c2d06e6a"
      },
      "execution_count": 318,
      "outputs": [
        {
          "output_type": "display_data",
          "data": {
            "text/plain": [
              "<Figure size 2160x432 with 1 Axes>"
            ],
            "image/png": "[encoded data removed]"
          },
          "metadata": {
            "needs_background": "light"
          }
        }
      ]
    },
    {
      "cell_type": "code",
      "source": [
        "predicted_max_list = []\n",
        "for looped in prediction_gru:\n",
        "  predicted_max_list.append(looped[0])\n",
        "len(predicted_max_list)"
      ],
      "metadata": {
        "colab": {
          "base_uri": "https://localhost:8080/"
        },
        "id": "xKgSvBcBBjz4",
        "outputId": "14fcbe5f-1108-4dea-e750-5893fa4da967"
      },
      "execution_count": 319,
      "outputs": [
        {
          "output_type": "execute_result",
          "data": {
            "text/plain": [
              "1664"
            ]
          },
          "metadata": {},
          "execution_count": 319
        }
      ]
    },
    {
      "cell_type": "code",
      "source": [
        "analysis_df = pd.DataFrame()\n",
        "analysis_df = test_data.tail(prediction_gru.shape[0])\n",
        "analysis_df['pred_max_cpu'] = predicted_max_list\n",
        "analysis_df.shape"
      ],
      "metadata": {
        "colab": {
          "base_uri": "https://localhost:8080/"
        },
        "id": "LGW-t3P7BkTY",
        "outputId": "3b7d77b6-6e31-45a9-e674-4bd564331b2c"
      },
      "execution_count": 320,
      "outputs": [
        {
          "output_type": "execute_result",
          "data": {
            "text/plain": [
              "(1664, 2)"
            ]
          },
          "metadata": {},
          "execution_count": 320
        }
      ]
    },
    {
      "cell_type": "code",
      "source": [
        "max_allowed_jump = 1.5\n",
        "peak_quantile = 0.9\n",
        "prev_val = analysis_df['pred_max_cpu'].quantile(q=peak_quantile)\n",
        "i = 0.91\n",
        "while i < 1:\n",
        "  curr_val = analysis_df['pred_max_cpu'].quantile(q=i)\n",
        "  if (curr_val - (prev_val*max_allowed_jump)) > 0.0:\n",
        "    break\n",
        "  peak_quantile = i\n",
        "  prev_val = curr_val\n",
        "  i = i + 0.01\n",
        "\n",
        "peak_val = analysis_df['pred_max_cpu'].quantile(q=peak_quantile)\n",
        "print(peak_val)"
      ],
      "metadata": {
        "colab": {
          "base_uri": "https://localhost:8080/"
        },
        "id": "hv2RhkQLBoXl",
        "outputId": "c8438ea7-bd83-4fb0-b3ae-f801592640c7"
      },
      "execution_count": 321,
      "outputs": [
        {
          "output_type": "stream",
          "name": "stdout",
          "text": [
            "3.1962094402313395\n"
          ]
        }
      ]
    },
    {
      "cell_type": "code",
      "source": [
        "analysis_df.insert(0, 'id', range(1, 1 + len(analysis_df)))\n",
        "analysis_df.head()"
      ],
      "metadata": {
        "colab": {
          "base_uri": "https://localhost:8080/",
          "height": 238
        },
        "id": "kvZEXo-4GMcq",
        "outputId": "e9dd0d13-b90c-448d-9fad-c62dfba67f65"
      },
      "execution_count": 322,
      "outputs": [
        {
          "output_type": "execute_result",
          "data": {
            "text/plain": [
              "           id   max_cpu  pred_max_cpu\n",
              "timestamp                            \n",
              "6909        1  1.046700      3.443111\n",
              "6910        2  1.084445      0.052379\n",
              "6911        3  1.012450     -0.880951\n",
              "6912        4  2.656574     -1.129976\n",
              "6920        5  1.108798     -1.195669"
            ],
            "text/html": [
              "\n",
              "  <div id=\"df-b9957b6f-888f-4987-86e4-4014bdc1b307\">\n",
              "    <div class=\"colab-df-container\">\n",
              "      <div>\n",
              "<style scoped>\n",
              "    .dataframe tbody tr th:only-of-type {\n",
              "        vertical-align: middle;\n",
              "    }\n",
              "\n",
              "    .dataframe tbody tr th {\n",
              "        vertical-align: top;\n",
              "    }\n",
              "\n",
              "    .dataframe thead th {\n",
              "        text-align: right;\n",
              "    }\n",
              "</style>\n",
              "<table border=\"1\" class=\"dataframe\">\n",
              "  <thead>\n",
              "    <tr style=\"text-align: right;\">\n",
              "      <th></th>\n",
              "      <th>id</th>\n",
              "      <th>max_cpu</th>\n",
              "      <th>pred_max_cpu</th>\n",
              "    </tr>\n",
              "    <tr>\n",
              "      <th>timestamp</th>\n",
              "      <th></th>\n",
              "      <th></th>\n",
              "      <th></th>\n",
              "    </tr>\n",
              "  </thead>\n",
              "  <tbody>\n",
              "    <tr>\n",
              "      <th>6909</th>\n",
              "      <td>1</td>\n",
              "      <td>1.046700</td>\n",
              "      <td>3.443111</td>\n",
              "    </tr>\n",
              "    <tr>\n",
              "      <th>6910</th>\n",
              "      <td>2</td>\n",
              "      <td>1.084445</td>\n",
              "      <td>0.052379</td>\n",
              "    </tr>\n",
              "    <tr>\n",
              "      <th>6911</th>\n",
              "      <td>3</td>\n",
              "      <td>1.012450</td>\n",
              "      <td>-0.880951</td>\n",
              "    </tr>\n",
              "    <tr>\n",
              "      <th>6912</th>\n",
              "      <td>4</td>\n",
              "      <td>2.656574</td>\n",
              "      <td>-1.129976</td>\n",
              "    </tr>\n",
              "    <tr>\n",
              "      <th>6920</th>\n",
              "      <td>5</td>\n",
              "      <td>1.108798</td>\n",
              "      <td>-1.195669</td>\n",
              "    </tr>\n",
              "  </tbody>\n",
              "</table>\n",
              "</div>\n",
              "      <button class=\"colab-df-convert\" onclick=\"convertToInteractive('df-b9957b6f-888f-4987-86e4-4014bdc1b307')\"\n",
              "              title=\"Convert this dataframe to an interactive table.\"\n",
              "              style=\"display:none;\">\n",
              "        \n",
              "  <svg xmlns=\"http://www.w3.org/2000/svg\" height=\"24px\"viewBox=\"0 0 24 24\"\n",
              "       width=\"24px\">\n",
              "    <path d=\"M0 0h24v24H0V0z\" fill=\"none\"/>\n",
              "    <path d=\"M18.56 5.44l.94 2.06.94-2.06 2.06-.94-2.06-.94-.94-2.06-.94 2.06-2.06.94zm-11 1L8.5 8.5l.94-2.06 2.06-.94-2.06-.94L8.5 2.5l-.94 2.06-2.06.94zm10 10l.94 2.06.94-2.06 2.06-.94-2.06-.94-.94-2.06-.94 2.06-2.06.94z\"/><path d=\"M17.41 7.96l-1.37-1.37c-.4-.4-.92-.59-1.43-.59-.52 0-1.04.2-1.43.59L10.3 9.45l-7.72 7.72c-.78.78-.78 2.05 0 2.83L4 21.41c.39.39.9.59 1.41.59.51 0 1.02-.2 1.41-.59l7.78-7.78 2.81-2.81c.8-.78.8-2.07 0-2.86zM5.41 20L4 18.59l7.72-7.72 1.47 1.35L5.41 20z\"/>\n",
              "  </svg>\n",
              "      </button>\n",
              "      \n",
              "  <style>\n",
              "    .colab-df-container {\n",
              "      display:flex;\n",
              "      flex-wrap:wrap;\n",
              "      gap: 12px;\n",
              "    }\n",
              "\n",
              "    .colab-df-convert {\n",
              "      background-color: #E8F0FE;\n",
              "      border: none;\n",
              "      border-radius: 50%;\n",
              "      cursor: pointer;\n",
              "      display: none;\n",
              "      fill: #1967D2;\n",
              "      height: 32px;\n",
              "      padding: 0 0 0 0;\n",
              "      width: 32px;\n",
              "    }\n",
              "\n",
              "    .colab-df-convert:hover {\n",
              "      background-color: #E2EBFA;\n",
              "      box-shadow: 0px 1px 2px rgba(60, 64, 67, 0.3), 0px 1px 3px 1px rgba(60, 64, 67, 0.15);\n",
              "      fill: #174EA6;\n",
              "    }\n",
              "\n",
              "    [theme=dark] .colab-df-convert {\n",
              "      background-color: #3B4455;\n",
              "      fill: #D2E3FC;\n",
              "    }\n",
              "\n",
              "    [theme=dark] .colab-df-convert:hover {\n",
              "      background-color: #434B5C;\n",
              "      box-shadow: 0px 1px 3px 1px rgba(0, 0, 0, 0.15);\n",
              "      filter: drop-shadow(0px 1px 2px rgba(0, 0, 0, 0.3));\n",
              "      fill: #FFFFFF;\n",
              "    }\n",
              "  </style>\n",
              "\n",
              "      <script>\n",
              "        const buttonEl =\n",
              "          document.querySelector('#df-b9957b6f-888f-4987-86e4-4014bdc1b307 button.colab-df-convert');\n",
              "        buttonEl.style.display =\n",
              "          google.colab.kernel.accessAllowed ? 'block' : 'none';\n",
              "\n",
              "        async function convertToInteractive(key) {\n",
              "          const element = document.querySelector('#df-b9957b6f-888f-4987-86e4-4014bdc1b307');\n",
              "          const dataTable =\n",
              "            await google.colab.kernel.invokeFunction('convertToInteractive',\n",
              "                                                     [key], {});\n",
              "          if (!dataTable) return;\n",
              "\n",
              "          const docLinkHtml = 'Like what you see? Visit the ' +\n",
              "            '<a target=\"_blank\" href=https://colab.research.google.com/notebooks/data_table.ipynb>data table notebook</a>'\n",
              "            + ' to learn more about interactive tables.';\n",
              "          element.innerHTML = '';\n",
              "          dataTable['output_type'] = 'display_data';\n",
              "          await google.colab.output.renderOutput(dataTable, element);\n",
              "          const docLink = document.createElement('div');\n",
              "          docLink.innerHTML = docLinkHtml;\n",
              "          element.appendChild(docLink);\n",
              "        }\n",
              "      </script>\n",
              "    </div>\n",
              "  </div>\n",
              "  "
            ]
          },
          "metadata": {},
          "execution_count": 322
        }
      ]
    },
    {
      "cell_type": "code",
      "source": [
        "analysis_df[analysis_df['pred_max_cpu'] > peak_val].id.values"
      ],
      "metadata": {
        "colab": {
          "base_uri": "https://localhost:8080/"
        },
        "id": "wAARGeP9LlFb",
        "outputId": "9410694a-6f4f-4e6d-ce1d-dd7c1ad3fdb1"
      },
      "execution_count": 323,
      "outputs": [
        {
          "output_type": "execute_result",
          "data": {
            "text/plain": [
              "array([   1,  267,  268,  274,  501,  509,  510,  511,  512,  513,  524,\n",
              "        537,  538,  539,  540,  804,  805,  806,  818,  819,  820, 1081,\n",
              "       1089, 1090, 1091, 1092, 1157, 1158, 1159, 1378, 1379, 1580, 1581,\n",
              "       1660])"
            ]
          },
          "metadata": {},
          "execution_count": 323
        }
      ]
    },
    {
      "cell_type": "code",
      "source": [
        "high_cpu_values = set(analysis_df[analysis_df['pred_max_cpu'] > peak_val].id.values)\n",
        "len(high_cpu_values)"
      ],
      "metadata": {
        "colab": {
          "base_uri": "https://localhost:8080/"
        },
        "id": "loGpE0jvLlMr",
        "outputId": "80363d38-18cf-4020-a5b8-7f792433f9cd"
      },
      "execution_count": 324,
      "outputs": [
        {
          "output_type": "execute_result",
          "data": {
            "text/plain": [
              "34"
            ]
          },
          "metadata": {},
          "execution_count": 324
        }
      ]
    },
    {
      "cell_type": "code",
      "source": [
        "high_band_cpu = []\n",
        "for val in high_cpu_values:\n",
        "  high_band_cpu.extend(list(range(val-5,val+5)))"
      ],
      "metadata": {
        "id": "iA6eagAbHNKW"
      },
      "execution_count": 325,
      "outputs": []
    },
    {
      "cell_type": "code",
      "source": [
        "print(len(high_band_cpu))\n",
        "print(len(set(high_band_cpu)))"
      ],
      "metadata": {
        "colab": {
          "base_uri": "https://localhost:8080/"
        },
        "id": "okNw5SeVNohL",
        "outputId": "d83b97e3-3d01-400d-ae0f-4a8db5ca4777"
      },
      "execution_count": 326,
      "outputs": [
        {
          "output_type": "stream",
          "name": "stdout",
          "text": [
            "340\n",
            "161\n"
          ]
        }
      ]
    },
    {
      "cell_type": "code",
      "source": [
        "high_cpu_values = high_cpu_values.union(set(high_band_cpu))\n",
        "len(high_cpu_values)"
      ],
      "metadata": {
        "colab": {
          "base_uri": "https://localhost:8080/"
        },
        "id": "CL9hNX8kNYfN",
        "outputId": "29b4595f-9816-401f-c88d-38c6ba7bd99a"
      },
      "execution_count": 327,
      "outputs": [
        {
          "output_type": "execute_result",
          "data": {
            "text/plain": [
              "161"
            ]
          },
          "metadata": {},
          "execution_count": 327
        }
      ]
    },
    {
      "cell_type": "code",
      "source": [
        "analysis_df['highcpu'] = analysis_df['id'].map(lambda p : 100 if p in high_cpu_values else 50)\n",
        "analysis_df[analysis_df['highcpu'] == 100].shape"
      ],
      "metadata": {
        "colab": {
          "base_uri": "https://localhost:8080/"
        },
        "id": "PTHgJAiICrBG",
        "outputId": "93048060-4100-4061-a20a-95b01cb8d51d"
      },
      "execution_count": 328,
      "outputs": [
        {
          "output_type": "execute_result",
          "data": {
            "text/plain": [
              "(156, 4)"
            ]
          },
          "metadata": {},
          "execution_count": 328
        }
      ]
    },
    {
      "cell_type": "code",
      "source": [
        "plt.figure(figsize=(30, 6))\n",
        "range_future = len(analysis_df)\n",
        "plt.plot(np.arange(range_future), np.array(analysis_df.max_cpu), \n",
        "         label='Actual data')\n",
        "plt.plot(np.arange(range_future), \n",
        "         np.array(analysis_df.pred_max_cpu),label='Predicted data')\n",
        "plt.plot(np.arange(range_future), \n",
        "         np.array(analysis_df.highcpu),label='High CPU')\n",
        "plt.title('High CPU Bands')\n",
        "plt.legend(loc='upper left')\n",
        "plt.xlabel('Time ')\n",
        "plt.ylabel('Max CPU')"
      ],
      "metadata": {
        "colab": {
          "base_uri": "https://localhost:8080/",
          "height": 323
        },
        "id": "3zRVsiAIJroD",
        "outputId": "95fab874-8da6-4ba8-f1f2-99831dc8a982"
      },
      "execution_count": 329,
      "outputs": [
        {
          "output_type": "execute_result",
          "data": {
            "text/plain": [
              "Text(0, 0.5, 'Max CPU')"
            ]
          },
          "metadata": {},
          "execution_count": 329
        },
        {
          "output_type": "display_data",
          "data": {
            "text/plain": [
              "<Figure size 2160x432 with 1 Axes>"
            ],
            "image/png": "[encoded data removed]"
          },
          "metadata": {
            "needs_background": "light"
          }
        }
      ]
    },
    {
      "cell_type": "code",
      "source": [
        "data_path = 'https://raw.githubusercontent.com/gags13/datasets/main/final_filtered.csv'\n",
        "\n",
        "vm_dataframe = pd.read_csv(data_path, index_col=False, delimiter=',')\n",
        "vm_dataframe.drop(['Unnamed: 0'],axis=1, inplace=True)\n",
        "vm_dataframe.head()"
      ],
      "metadata": {
        "colab": {
          "base_uri": "https://localhost:8080/",
          "height": 357
        },
        "id": "OZfxddVFP_zi",
        "outputId": "378a4112-baa2-4c23-941f-894103dcba48"
      },
      "execution_count": 330,
      "outputs": [
        {
          "output_type": "execute_result",
          "data": {
            "text/plain": [
              "                                                vmid  \\\n",
              "0  trjCc/lisNnKRnpFtPMmULgw1gUoiymSCshiGZfLY/Oil4...   \n",
              "1  RVfel1jVo2UTjdHeqMgqJcVcfBUG/V9mV6Un47p8vGHiFj...   \n",
              "2  mY+fWVBQe0tTfdVMO/2Ea9AAjDyN2ndi/40U59iUNxiTRu...   \n",
              "3  N0gBVBQviQ4n/jyolzXWac39GOcL3596Re7d2N7RpmffGF...   \n",
              "4  4Cka/a5H763ZPaDuuNo6MhnfKQ56hvTrTxPgWmcJyh2ItB...   \n",
              "\n",
              "                                      subscriptionid  \\\n",
              "0  9j4lLAdcydRsC+LhAQG/IS6Q15Z+tw3IYiCwH6QuxxtuQ1...   \n",
              "1  NM+rYlOuvfObftjnvrHy7hUorr5ulWm8UgTM9A1SZniRTv...   \n",
              "2  8mYUop47Ih3Ka0m8+fxnNmM1rUjlJ9vDkclgoBJViVmWPr...   \n",
              "3  8mYUop47Ih3Ka0m8+fxnNmM1rUjlJ9vDkclgoBJViVmWPr...   \n",
              "4  HzLK24LbYXd1kU9jw99gYFREpnAkKefq7MKwAxhEwzct60...   \n",
              "\n",
              "                                        deploymentid  vmcreated  vmdeleted  \\\n",
              "0  amCh31pwRrNqxYhYZMQ9kTaBv6Nsj9KELkMwZXIujmvpbm...          0    2591400   \n",
              "1  tGInpwc5Wi0Tq15xunBKLtsbC6Bxk5LP2e+NIsoDe/D3jg...          0    2589000   \n",
              "2  fIRf+CYG8jmlnysPUgzCuo7L/D1tV9jirr4FaJCQtaI7/n...      28800    2591400   \n",
              "3  fIRf+CYG8jmlnysPUgzCuo7L/D1tV9jirr4FaJCQtaI7/n...      28500    2591400   \n",
              "4  wggQWvknTcqrfDqxcQGGT40iu8/aEgjBj5i6e3bu9qtUc8...          0    2591400   \n",
              "\n",
              "      maxcpu    avgcpu  p95maxcpu         vmcategory  vmcorecountbucket  \\\n",
              "0  96.715705  0.938933   0.863622  Delay-insensitive                  2   \n",
              "1  98.226568  2.410055   2.297678  Delay-insensitive                  2   \n",
              "2  97.194277  2.076477   1.938042  Delay-insensitive                  4   \n",
              "3  98.838522  2.479152   2.367730  Delay-insensitive                  4   \n",
              "4  99.278745  0.895093   0.716898  Delay-insensitive                  2   \n",
              "\n",
              "   vmmemorybucket    lifetime     corehour  target  delmaxavg  delmaxp95  \\\n",
              "0               2  719.833333  1439.666667       1  95.776771  95.852083   \n",
              "1               8  719.166667  1438.333333       1  95.816514  95.928891   \n",
              "2              32  711.833333  2847.333333       1  95.117800  95.256236   \n",
              "3              32  711.916667  2847.666667       1  96.359369  96.470792   \n",
              "4               2  719.833333  1439.666667       1  98.383652  98.561847   \n",
              "\n",
              "   delp95avg  kmeans  gm  p95avgcpuslope  \n",
              "0  -0.075311       0   1        0.919790  \n",
              "1  -0.112377       0   2        0.953372  \n",
              "2  -0.138435       0   1        0.933332  \n",
              "3  -0.111423       0   1        0.955056  \n",
              "4  -0.178195       0   1        0.800920  "
            ],
            "text/html": [
              "\n",
              "  <div id=\"df-7c8f341e-63d7-4898-a281-c9c66a1218ae\">\n",
              "    <div class=\"colab-df-container\">\n",
              "      <div>\n",
              "<style scoped>\n",
              "    .dataframe tbody tr th:only-of-type {\n",
              "        vertical-align: middle;\n",
              "    }\n",
              "\n",
              "    .dataframe tbody tr th {\n",
              "        vertical-align: top;\n",
              "    }\n",
              "\n",
              "    .dataframe thead th {\n",
              "        text-align: right;\n",
              "    }\n",
              "</style>\n",
              "<table border=\"1\" class=\"dataframe\">\n",
              "  <thead>\n",
              "    <tr style=\"text-align: right;\">\n",
              "      <th></th>\n",
              "      <th>vmid</th>\n",
              "      <th>subscriptionid</th>\n",
              "      <th>deploymentid</th>\n",
              "      <th>vmcreated</th>\n",
              "      <th>vmdeleted</th>\n",
              "      <th>maxcpu</th>\n",
              "      <th>avgcpu</th>\n",
              "      <th>p95maxcpu</th>\n",
              "      <th>vmcategory</th>\n",
              "      <th>vmcorecountbucket</th>\n",
              "      <th>vmmemorybucket</th>\n",
              "      <th>lifetime</th>\n",
              "      <th>corehour</th>\n",
              "      <th>target</th>\n",
              "      <th>delmaxavg</th>\n",
              "      <th>delmaxp95</th>\n",
              "      <th>delp95avg</th>\n",
              "      <th>kmeans</th>\n",
              "      <th>gm</th>\n",
              "      <th>p95avgcpuslope</th>\n",
              "    </tr>\n",
              "  </thead>\n",
              "  <tbody>\n",
              "    <tr>\n",
              "      <th>0</th>\n",
              "      <td>trjCc/lisNnKRnpFtPMmULgw1gUoiymSCshiGZfLY/Oil4...</td>\n",
              "      <td>9j4lLAdcydRsC+LhAQG/IS6Q15Z+tw3IYiCwH6QuxxtuQ1...</td>\n",
              "      <td>amCh31pwRrNqxYhYZMQ9kTaBv6Nsj9KELkMwZXIujmvpbm...</td>\n",
              "      <td>0</td>\n",
              "      <td>2591400</td>\n",
              "      <td>96.715705</td>\n",
              "      <td>0.938933</td>\n",
              "      <td>0.863622</td>\n",
              "      <td>Delay-insensitive</td>\n",
              "      <td>2</td>\n",
              "      <td>2</td>\n",
              "      <td>719.833333</td>\n",
              "      <td>1439.666667</td>\n",
              "      <td>1</td>\n",
              "      <td>95.776771</td>\n",
              "      <td>95.852083</td>\n",
              "      <td>-0.075311</td>\n",
              "      <td>0</td>\n",
              "      <td>1</td>\n",
              "      <td>0.919790</td>\n",
              "    </tr>\n",
              "    <tr>\n",
              "      <th>1</th>\n",
              "      <td>RVfel1jVo2UTjdHeqMgqJcVcfBUG/V9mV6Un47p8vGHiFj...</td>\n",
              "      <td>NM+rYlOuvfObftjnvrHy7hUorr5ulWm8UgTM9A1SZniRTv...</td>\n",
              "      <td>tGInpwc5Wi0Tq15xunBKLtsbC6Bxk5LP2e+NIsoDe/D3jg...</td>\n",
              "      <td>0</td>\n",
              "      <td>2589000</td>\n",
              "      <td>98.226568</td>\n",
              "      <td>2.410055</td>\n",
              "      <td>2.297678</td>\n",
              "      <td>Delay-insensitive</td>\n",
              "      <td>2</td>\n",
              "      <td>8</td>\n",
              "      <td>719.166667</td>\n",
              "      <td>1438.333333</td>\n",
              "      <td>1</td>\n",
              "      <td>95.816514</td>\n",
              "      <td>95.928891</td>\n",
              "      <td>-0.112377</td>\n",
              "      <td>0</td>\n",
              "      <td>2</td>\n",
              "      <td>0.953372</td>\n",
              "    </tr>\n",
              "    <tr>\n",
              "      <th>2</th>\n",
              "      <td>mY+fWVBQe0tTfdVMO/2Ea9AAjDyN2ndi/40U59iUNxiTRu...</td>\n",
              "      <td>8mYUop47Ih3Ka0m8+fxnNmM1rUjlJ9vDkclgoBJViVmWPr...</td>\n",
              "      <td>fIRf+CYG8jmlnysPUgzCuo7L/D1tV9jirr4FaJCQtaI7/n...</td>\n",
              "      <td>28800</td>\n",
              "      <td>2591400</td>\n",
              "      <td>97.194277</td>\n",
              "      <td>2.076477</td>\n",
              "      <td>1.938042</td>\n",
              "      <td>Delay-insensitive</td>\n",
              "      <td>4</td>\n",
              "      <td>32</td>\n",
              "      <td>711.833333</td>\n",
              "      <td>2847.333333</td>\n",
              "      <td>1</td>\n",
              "      <td>95.117800</td>\n",
              "      <td>95.256236</td>\n",
              "      <td>-0.138435</td>\n",
              "      <td>0</td>\n",
              "      <td>1</td>\n",
              "      <td>0.933332</td>\n",
              "    </tr>\n",
              "    <tr>\n",
              "      <th>3</th>\n",
              "      <td>N0gBVBQviQ4n/jyolzXWac39GOcL3596Re7d2N7RpmffGF...</td>\n",
              "      <td>8mYUop47Ih3Ka0m8+fxnNmM1rUjlJ9vDkclgoBJViVmWPr...</td>\n",
              "      <td>fIRf+CYG8jmlnysPUgzCuo7L/D1tV9jirr4FaJCQtaI7/n...</td>\n",
              "      <td>28500</td>\n",
              "      <td>2591400</td>\n",
              "      <td>98.838522</td>\n",
              "      <td>2.479152</td>\n",
              "      <td>2.367730</td>\n",
              "      <td>Delay-insensitive</td>\n",
              "      <td>4</td>\n",
              "      <td>32</td>\n",
              "      <td>711.916667</td>\n",
              "      <td>2847.666667</td>\n",
              "      <td>1</td>\n",
              "      <td>96.359369</td>\n",
              "      <td>96.470792</td>\n",
              "      <td>-0.111423</td>\n",
              "      <td>0</td>\n",
              "      <td>1</td>\n",
              "      <td>0.955056</td>\n",
              "    </tr>\n",
              "    <tr>\n",
              "      <th>4</th>\n",
              "      <td>4Cka/a5H763ZPaDuuNo6MhnfKQ56hvTrTxPgWmcJyh2ItB...</td>\n",
              "      <td>HzLK24LbYXd1kU9jw99gYFREpnAkKefq7MKwAxhEwzct60...</td>\n",
              "      <td>wggQWvknTcqrfDqxcQGGT40iu8/aEgjBj5i6e3bu9qtUc8...</td>\n",
              "      <td>0</td>\n",
              "      <td>2591400</td>\n",
              "      <td>99.278745</td>\n",
              "      <td>0.895093</td>\n",
              "      <td>0.716898</td>\n",
              "      <td>Delay-insensitive</td>\n",
              "      <td>2</td>\n",
              "      <td>2</td>\n",
              "      <td>719.833333</td>\n",
              "      <td>1439.666667</td>\n",
              "      <td>1</td>\n",
              "      <td>98.383652</td>\n",
              "      <td>98.561847</td>\n",
              "      <td>-0.178195</td>\n",
              "      <td>0</td>\n",
              "      <td>1</td>\n",
              "      <td>0.800920</td>\n",
              "    </tr>\n",
              "  </tbody>\n",
              "</table>\n",
              "</div>\n",
              "      <button class=\"colab-df-convert\" onclick=\"convertToInteractive('df-7c8f341e-63d7-4898-a281-c9c66a1218ae')\"\n",
              "              title=\"Convert this dataframe to an interactive table.\"\n",
              "              style=\"display:none;\">\n",
              "        \n",
              "  <svg xmlns=\"http://www.w3.org/2000/svg\" height=\"24px\"viewBox=\"0 0 24 24\"\n",
              "       width=\"24px\">\n",
              "    <path d=\"M0 0h24v24H0V0z\" fill=\"none\"/>\n",
              "    <path d=\"M18.56 5.44l.94 2.06.94-2.06 2.06-.94-2.06-.94-.94-2.06-.94 2.06-2.06.94zm-11 1L8.5 8.5l.94-2.06 2.06-.94-2.06-.94L8.5 2.5l-.94 2.06-2.06.94zm10 10l.94 2.06.94-2.06 2.06-.94-2.06-.94-.94-2.06-.94 2.06-2.06.94z\"/><path d=\"M17.41 7.96l-1.37-1.37c-.4-.4-.92-.59-1.43-.59-.52 0-1.04.2-1.43.59L10.3 9.45l-7.72 7.72c-.78.78-.78 2.05 0 2.83L4 21.41c.39.39.9.59 1.41.59.51 0 1.02-.2 1.41-.59l7.78-7.78 2.81-2.81c.8-.78.8-2.07 0-2.86zM5.41 20L4 18.59l7.72-7.72 1.47 1.35L5.41 20z\"/>\n",
              "  </svg>\n",
              "      </button>\n",
              "      \n",
              "  <style>\n",
              "    .colab-df-container {\n",
              "      display:flex;\n",
              "      flex-wrap:wrap;\n",
              "      gap: 12px;\n",
              "    }\n",
              "\n",
              "    .colab-df-convert {\n",
              "      background-color: #E8F0FE;\n",
              "      border: none;\n",
              "      border-radius: 50%;\n",
              "      cursor: pointer;\n",
              "      display: none;\n",
              "      fill: #1967D2;\n",
              "      height: 32px;\n",
              "      padding: 0 0 0 0;\n",
              "      width: 32px;\n",
              "    }\n",
              "\n",
              "    .colab-df-convert:hover {\n",
              "      background-color: #E2EBFA;\n",
              "      box-shadow: 0px 1px 2px rgba(60, 64, 67, 0.3), 0px 1px 3px 1px rgba(60, 64, 67, 0.15);\n",
              "      fill: #174EA6;\n",
              "    }\n",
              "\n",
              "    [theme=dark] .colab-df-convert {\n",
              "      background-color: #3B4455;\n",
              "      fill: #D2E3FC;\n",
              "    }\n",
              "\n",
              "    [theme=dark] .colab-df-convert:hover {\n",
              "      background-color: #434B5C;\n",
              "      box-shadow: 0px 1px 3px 1px rgba(0, 0, 0, 0.15);\n",
              "      filter: drop-shadow(0px 1px 2px rgba(0, 0, 0, 0.3));\n",
              "      fill: #FFFFFF;\n",
              "    }\n",
              "  </style>\n",
              "\n",
              "      <script>\n",
              "        const buttonEl =\n",
              "          document.querySelector('#df-7c8f341e-63d7-4898-a281-c9c66a1218ae button.colab-df-convert');\n",
              "        buttonEl.style.display =\n",
              "          google.colab.kernel.accessAllowed ? 'block' : 'none';\n",
              "\n",
              "        async function convertToInteractive(key) {\n",
              "          const element = document.querySelector('#df-7c8f341e-63d7-4898-a281-c9c66a1218ae');\n",
              "          const dataTable =\n",
              "            await google.colab.kernel.invokeFunction('convertToInteractive',\n",
              "                                                     [key], {});\n",
              "          if (!dataTable) return;\n",
              "\n",
              "          const docLinkHtml = 'Like what you see? Visit the ' +\n",
              "            '<a target=\"_blank\" href=https://colab.research.google.com/notebooks/data_table.ipynb>data table notebook</a>'\n",
              "            + ' to learn more about interactive tables.';\n",
              "          element.innerHTML = '';\n",
              "          dataTable['output_type'] = 'display_data';\n",
              "          await google.colab.output.renderOutput(dataTable, element);\n",
              "          const docLink = document.createElement('div');\n",
              "          docLink.innerHTML = docLinkHtml;\n",
              "          element.appendChild(docLink);\n",
              "        }\n",
              "      </script>\n",
              "    </div>\n",
              "  </div>\n",
              "  "
            ]
          },
          "metadata": {},
          "execution_count": 330
        }
      ]
    },
    {
      "cell_type": "code",
      "source": [
        "core_hour_saved_per_core = (5*len(analysis_df[analysis_df['highcpu'] == 50])/60)/2\n",
        "total_core_hour_per_core = 5*len(analysis_df)/60\n",
        "core_count = vm_dataframe[vm_dataframe['vmid'] == vm_id].vmcorecountbucket.values[0]"
      ],
      "metadata": {
        "id": "-NzhBC2ZRHir"
      },
      "execution_count": 331,
      "outputs": []
    },
    {
      "cell_type": "code",
      "source": [
        "print(\"TOTAL CPU CORE HOUR (CURRENT)\", total_core_hour_per_core*core_count)\n",
        "print(\"TOTAL CPU CORE HOUR (PROPOSED)\", (total_core_hour_per_core*core_count) - (core_hour_saved_per_core*core_count))"
      ],
      "metadata": {
        "colab": {
          "base_uri": "https://localhost:8080/"
        },
        "id": "sPXzq_XJRX7v",
        "outputId": "50150be8-6612-4dc9-a6ca-2002a8ec146b"
      },
      "execution_count": 332,
      "outputs": [
        {
          "output_type": "stream",
          "name": "stdout",
          "text": [
            "TOTAL CPU CORE HOUR (CURRENT) 554.6666666666666\n",
            "TOTAL CPU CORE HOUR (PROPOSED) 303.33333333333326\n"
          ]
        }
      ]
    },
    {
      "cell_type": "code",
      "source": [
        "print(\"WASTED CPU %\",100*(((total_core_hour_per_core*core_count) - (core_hour_saved_per_core*core_count))/(total_core_hour_per_core*core_count)))"
      ],
      "metadata": {
        "colab": {
          "base_uri": "https://localhost:8080/"
        },
        "id": "Jm0EDrfIRkgO",
        "outputId": "27a9cfd5-bb12-40bf-bbd5-da83a49233ca"
      },
      "execution_count": 333,
      "outputs": [
        {
          "output_type": "stream",
          "name": "stdout",
          "text": [
            "WASTED CPU % 54.687499999999986\n"
          ]
        }
      ]
    }
  ]
}