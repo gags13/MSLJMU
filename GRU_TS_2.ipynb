{
  "nbformat": 4,
  "nbformat_minor": 0,
  "metadata": {
    "colab": {
      "provenance": []
    },
    "kernelspec": {
      "name": "python3",
      "display_name": "Python 3"
    },
    "language_info": {
      "name": "python"
    },
    "accelerator": "GPU",
    "gpuClass": "standard"
  },
  "cells": [
    {
      "cell_type": "code",
      "source": [
        "ts_files = [\n",
        "    'vm_1_VmgiCwYcPy.csv',\n",
        "    'vm_2_rr2y46iWRI.csv',\n",
        "    'vm_3_Ch2tshNe8X.csv',\n",
        "    'vm_5_FXoWmAfKug.csv',\n",
        "    'vm_8_gesjL49nFh.csv',\n",
        "    'vm_12_aa1PrVE9ie.csv',\n",
        "    'vm_14_XpTL07_3it.csv',\n",
        "    'vm_15_PNj1J6v0YJ.csv',\n",
        "    'vm_17_YDo5PVK_75.csv',\n",
        "    'vm_19_GF6t1yYrx3.csv',\n",
        "    'vm_20_N0gBVBQviQ.csv',\n",
        "    'vm_21_gQI5vMY9+5.csv',\n",
        "    'vm_22_l93uKkSTv8.csv',\n",
        "    'vm_23_KxsOjS16uU.csv',\n",
        "    'vm_25_bImCpIMf2H.csv',\n",
        "    'vm_26_mY+fWVBQe0.csv'\n",
        "]"
      ],
      "metadata": {
        "id": "vbZ7AKs2VM6H"
      },
      "execution_count": 375,
      "outputs": []
    },
    {
      "cell_type": "code",
      "source": [
        "#base_path = '/content/drive/MyDrive/MS/dataset/singlets/'\n",
        "#data_path = base_path + ts_files[2]\n",
        "\n",
        "base_path = 'https://raw.githubusercontent.com/gags13/datasets/main/'\n",
        "data_path = base_path + ts_files[1]"
      ],
      "metadata": {
        "id": "ibHRMOU9Uxp9"
      },
      "execution_count": 376,
      "outputs": []
    },
    {
      "cell_type": "code",
      "execution_count": 377,
      "metadata": {
        "id": "nifmmUKpTrNT"
      },
      "outputs": [],
      "source": [
        "import numpy as np\n",
        "import pandas as pd\n",
        "from IPython.display import display\n",
        "import matplotlib.pyplot as plt\n",
        "from matplotlib.backends.backend_pdf import PdfPages\n",
        "\n",
        "%matplotlib inline"
      ]
    },
    {
      "cell_type": "code",
      "source": [
        "#from google.colab import drive\n",
        "#drive.mount('/content/drive/')"
      ],
      "metadata": {
        "id": "mKC7ZRE1U1FM"
      },
      "execution_count": 378,
      "outputs": []
    },
    {
      "cell_type": "code",
      "source": [
        "ts_df = pd.read_csv(data_path, index_col=False, delimiter=',')\n",
        "ts_df.drop(['Unnamed: 0'],axis=1, inplace=True)\n",
        "ts_df.head()"
      ],
      "metadata": {
        "colab": {
          "base_uri": "https://localhost:8080/",
          "height": 206
        },
        "id": "jbdsx0FBU5QO",
        "outputId": "024a6b26-c4f8-445e-cb33-90da55923018"
      },
      "execution_count": 379,
      "outputs": [
        {
          "output_type": "execute_result",
          "data": {
            "text/plain": [
              "   timestamp                                              vm_id   min_cpu  \\\n",
              "0      65700  rr2y46iWRII1abo5vnCXmFH7+7Ovuzmav2wK5Zt2u4tJIs...  0.318611   \n",
              "1      66000  rr2y46iWRII1abo5vnCXmFH7+7Ovuzmav2wK5Zt2u4tJIs...  0.320147   \n",
              "2      66300  rr2y46iWRII1abo5vnCXmFH7+7Ovuzmav2wK5Zt2u4tJIs...  1.012703   \n",
              "3      66600  rr2y46iWRII1abo5vnCXmFH7+7Ovuzmav2wK5Zt2u4tJIs...  1.082122   \n",
              "4      66900  rr2y46iWRII1abo5vnCXmFH7+7Ovuzmav2wK5Zt2u4tJIs...  1.435824   \n",
              "\n",
              "     max_cpu    avg_cpu  \n",
              "0   0.509233   0.380644  \n",
              "1  19.271898   5.285660  \n",
              "2   1.827091   1.387086  \n",
              "3  95.211881  12.816840  \n",
              "4  95.062333  13.660493  "
            ],
            "text/html": [
              "\n",
              "  <div id=\"df-95b58cb3-ee00-4228-888d-080f003854a2\">\n",
              "    <div class=\"colab-df-container\">\n",
              "      <div>\n",
              "<style scoped>\n",
              "    .dataframe tbody tr th:only-of-type {\n",
              "        vertical-align: middle;\n",
              "    }\n",
              "\n",
              "    .dataframe tbody tr th {\n",
              "        vertical-align: top;\n",
              "    }\n",
              "\n",
              "    .dataframe thead th {\n",
              "        text-align: right;\n",
              "    }\n",
              "</style>\n",
              "<table border=\"1\" class=\"dataframe\">\n",
              "  <thead>\n",
              "    <tr style=\"text-align: right;\">\n",
              "      <th></th>\n",
              "      <th>timestamp</th>\n",
              "      <th>vm_id</th>\n",
              "      <th>min_cpu</th>\n",
              "      <th>max_cpu</th>\n",
              "      <th>avg_cpu</th>\n",
              "    </tr>\n",
              "  </thead>\n",
              "  <tbody>\n",
              "    <tr>\n",
              "      <th>0</th>\n",
              "      <td>65700</td>\n",
              "      <td>rr2y46iWRII1abo5vnCXmFH7+7Ovuzmav2wK5Zt2u4tJIs...</td>\n",
              "      <td>0.318611</td>\n",
              "      <td>0.509233</td>\n",
              "      <td>0.380644</td>\n",
              "    </tr>\n",
              "    <tr>\n",
              "      <th>1</th>\n",
              "      <td>66000</td>\n",
              "      <td>rr2y46iWRII1abo5vnCXmFH7+7Ovuzmav2wK5Zt2u4tJIs...</td>\n",
              "      <td>0.320147</td>\n",
              "      <td>19.271898</td>\n",
              "      <td>5.285660</td>\n",
              "    </tr>\n",
              "    <tr>\n",
              "      <th>2</th>\n",
              "      <td>66300</td>\n",
              "      <td>rr2y46iWRII1abo5vnCXmFH7+7Ovuzmav2wK5Zt2u4tJIs...</td>\n",
              "      <td>1.012703</td>\n",
              "      <td>1.827091</td>\n",
              "      <td>1.387086</td>\n",
              "    </tr>\n",
              "    <tr>\n",
              "      <th>3</th>\n",
              "      <td>66600</td>\n",
              "      <td>rr2y46iWRII1abo5vnCXmFH7+7Ovuzmav2wK5Zt2u4tJIs...</td>\n",
              "      <td>1.082122</td>\n",
              "      <td>95.211881</td>\n",
              "      <td>12.816840</td>\n",
              "    </tr>\n",
              "    <tr>\n",
              "      <th>4</th>\n",
              "      <td>66900</td>\n",
              "      <td>rr2y46iWRII1abo5vnCXmFH7+7Ovuzmav2wK5Zt2u4tJIs...</td>\n",
              "      <td>1.435824</td>\n",
              "      <td>95.062333</td>\n",
              "      <td>13.660493</td>\n",
              "    </tr>\n",
              "  </tbody>\n",
              "</table>\n",
              "</div>\n",
              "      <button class=\"colab-df-convert\" onclick=\"convertToInteractive('df-95b58cb3-ee00-4228-888d-080f003854a2')\"\n",
              "              title=\"Convert this dataframe to an interactive table.\"\n",
              "              style=\"display:none;\">\n",
              "        \n",
              "  <svg xmlns=\"http://www.w3.org/2000/svg\" height=\"24px\"viewBox=\"0 0 24 24\"\n",
              "       width=\"24px\">\n",
              "    <path d=\"M0 0h24v24H0V0z\" fill=\"none\"/>\n",
              "    <path d=\"M18.56 5.44l.94 2.06.94-2.06 2.06-.94-2.06-.94-.94-2.06-.94 2.06-2.06.94zm-11 1L8.5 8.5l.94-2.06 2.06-.94-2.06-.94L8.5 2.5l-.94 2.06-2.06.94zm10 10l.94 2.06.94-2.06 2.06-.94-2.06-.94-.94-2.06-.94 2.06-2.06.94z\"/><path d=\"M17.41 7.96l-1.37-1.37c-.4-.4-.92-.59-1.43-.59-.52 0-1.04.2-1.43.59L10.3 9.45l-7.72 7.72c-.78.78-.78 2.05 0 2.83L4 21.41c.39.39.9.59 1.41.59.51 0 1.02-.2 1.41-.59l7.78-7.78 2.81-2.81c.8-.78.8-2.07 0-2.86zM5.41 20L4 18.59l7.72-7.72 1.47 1.35L5.41 20z\"/>\n",
              "  </svg>\n",
              "      </button>\n",
              "      \n",
              "  <style>\n",
              "    .colab-df-container {\n",
              "      display:flex;\n",
              "      flex-wrap:wrap;\n",
              "      gap: 12px;\n",
              "    }\n",
              "\n",
              "    .colab-df-convert {\n",
              "      background-color: #E8F0FE;\n",
              "      border: none;\n",
              "      border-radius: 50%;\n",
              "      cursor: pointer;\n",
              "      display: none;\n",
              "      fill: #1967D2;\n",
              "      height: 32px;\n",
              "      padding: 0 0 0 0;\n",
              "      width: 32px;\n",
              "    }\n",
              "\n",
              "    .colab-df-convert:hover {\n",
              "      background-color: #E2EBFA;\n",
              "      box-shadow: 0px 1px 2px rgba(60, 64, 67, 0.3), 0px 1px 3px 1px rgba(60, 64, 67, 0.15);\n",
              "      fill: #174EA6;\n",
              "    }\n",
              "\n",
              "    [theme=dark] .colab-df-convert {\n",
              "      background-color: #3B4455;\n",
              "      fill: #D2E3FC;\n",
              "    }\n",
              "\n",
              "    [theme=dark] .colab-df-convert:hover {\n",
              "      background-color: #434B5C;\n",
              "      box-shadow: 0px 1px 3px 1px rgba(0, 0, 0, 0.15);\n",
              "      filter: drop-shadow(0px 1px 2px rgba(0, 0, 0, 0.3));\n",
              "      fill: #FFFFFF;\n",
              "    }\n",
              "  </style>\n",
              "\n",
              "      <script>\n",
              "        const buttonEl =\n",
              "          document.querySelector('#df-95b58cb3-ee00-4228-888d-080f003854a2 button.colab-df-convert');\n",
              "        buttonEl.style.display =\n",
              "          google.colab.kernel.accessAllowed ? 'block' : 'none';\n",
              "\n",
              "        async function convertToInteractive(key) {\n",
              "          const element = document.querySelector('#df-95b58cb3-ee00-4228-888d-080f003854a2');\n",
              "          const dataTable =\n",
              "            await google.colab.kernel.invokeFunction('convertToInteractive',\n",
              "                                                     [key], {});\n",
              "          if (!dataTable) return;\n",
              "\n",
              "          const docLinkHtml = 'Like what you see? Visit the ' +\n",
              "            '<a target=\"_blank\" href=https://colab.research.google.com/notebooks/data_table.ipynb>data table notebook</a>'\n",
              "            + ' to learn more about interactive tables.';\n",
              "          element.innerHTML = '';\n",
              "          dataTable['output_type'] = 'display_data';\n",
              "          await google.colab.output.renderOutput(dataTable, element);\n",
              "          const docLink = document.createElement('div');\n",
              "          docLink.innerHTML = docLinkHtml;\n",
              "          element.appendChild(docLink);\n",
              "        }\n",
              "      </script>\n",
              "    </div>\n",
              "  </div>\n",
              "  "
            ]
          },
          "metadata": {},
          "execution_count": 379
        }
      ]
    },
    {
      "cell_type": "code",
      "source": [
        "vm_id = ts_df.vm_id.values[0]\n",
        "print(\"VM ID :\", vm_id)"
      ],
      "metadata": {
        "colab": {
          "base_uri": "https://localhost:8080/"
        },
        "id": "Tr2YJgXEVcYv",
        "outputId": "01cbc441-a967-44a4-e1c1-630996113200"
      },
      "execution_count": 380,
      "outputs": [
        {
          "output_type": "stream",
          "name": "stdout",
          "text": [
            "VM ID : rr2y46iWRII1abo5vnCXmFH7+7Ovuzmav2wK5Zt2u4tJIshokXNiToExNigsIh1E\n"
          ]
        }
      ]
    },
    {
      "cell_type": "code",
      "source": [
        "ts_df.drop(['vm_id'],axis=1, inplace=True)\n",
        "ts_df.head()"
      ],
      "metadata": {
        "colab": {
          "base_uri": "https://localhost:8080/",
          "height": 206
        },
        "id": "CZ4ZvKh1WnlR",
        "outputId": "ca34bcf8-dcc6-48e4-8ea5-62816b7d7f30"
      },
      "execution_count": 381,
      "outputs": [
        {
          "output_type": "execute_result",
          "data": {
            "text/plain": [
              "   timestamp   min_cpu    max_cpu    avg_cpu\n",
              "0      65700  0.318611   0.509233   0.380644\n",
              "1      66000  0.320147  19.271898   5.285660\n",
              "2      66300  1.012703   1.827091   1.387086\n",
              "3      66600  1.082122  95.211881  12.816840\n",
              "4      66900  1.435824  95.062333  13.660493"
            ],
            "text/html": [
              "\n",
              "  <div id=\"df-78e0137b-b0d8-4400-aad2-5c33a9bc39f7\">\n",
              "    <div class=\"colab-df-container\">\n",
              "      <div>\n",
              "<style scoped>\n",
              "    .dataframe tbody tr th:only-of-type {\n",
              "        vertical-align: middle;\n",
              "    }\n",
              "\n",
              "    .dataframe tbody tr th {\n",
              "        vertical-align: top;\n",
              "    }\n",
              "\n",
              "    .dataframe thead th {\n",
              "        text-align: right;\n",
              "    }\n",
              "</style>\n",
              "<table border=\"1\" class=\"dataframe\">\n",
              "  <thead>\n",
              "    <tr style=\"text-align: right;\">\n",
              "      <th></th>\n",
              "      <th>timestamp</th>\n",
              "      <th>min_cpu</th>\n",
              "      <th>max_cpu</th>\n",
              "      <th>avg_cpu</th>\n",
              "    </tr>\n",
              "  </thead>\n",
              "  <tbody>\n",
              "    <tr>\n",
              "      <th>0</th>\n",
              "      <td>65700</td>\n",
              "      <td>0.318611</td>\n",
              "      <td>0.509233</td>\n",
              "      <td>0.380644</td>\n",
              "    </tr>\n",
              "    <tr>\n",
              "      <th>1</th>\n",
              "      <td>66000</td>\n",
              "      <td>0.320147</td>\n",
              "      <td>19.271898</td>\n",
              "      <td>5.285660</td>\n",
              "    </tr>\n",
              "    <tr>\n",
              "      <th>2</th>\n",
              "      <td>66300</td>\n",
              "      <td>1.012703</td>\n",
              "      <td>1.827091</td>\n",
              "      <td>1.387086</td>\n",
              "    </tr>\n",
              "    <tr>\n",
              "      <th>3</th>\n",
              "      <td>66600</td>\n",
              "      <td>1.082122</td>\n",
              "      <td>95.211881</td>\n",
              "      <td>12.816840</td>\n",
              "    </tr>\n",
              "    <tr>\n",
              "      <th>4</th>\n",
              "      <td>66900</td>\n",
              "      <td>1.435824</td>\n",
              "      <td>95.062333</td>\n",
              "      <td>13.660493</td>\n",
              "    </tr>\n",
              "  </tbody>\n",
              "</table>\n",
              "</div>\n",
              "      <button class=\"colab-df-convert\" onclick=\"convertToInteractive('df-78e0137b-b0d8-4400-aad2-5c33a9bc39f7')\"\n",
              "              title=\"Convert this dataframe to an interactive table.\"\n",
              "              style=\"display:none;\">\n",
              "        \n",
              "  <svg xmlns=\"http://www.w3.org/2000/svg\" height=\"24px\"viewBox=\"0 0 24 24\"\n",
              "       width=\"24px\">\n",
              "    <path d=\"M0 0h24v24H0V0z\" fill=\"none\"/>\n",
              "    <path d=\"M18.56 5.44l.94 2.06.94-2.06 2.06-.94-2.06-.94-.94-2.06-.94 2.06-2.06.94zm-11 1L8.5 8.5l.94-2.06 2.06-.94-2.06-.94L8.5 2.5l-.94 2.06-2.06.94zm10 10l.94 2.06.94-2.06 2.06-.94-2.06-.94-.94-2.06-.94 2.06-2.06.94z\"/><path d=\"M17.41 7.96l-1.37-1.37c-.4-.4-.92-.59-1.43-.59-.52 0-1.04.2-1.43.59L10.3 9.45l-7.72 7.72c-.78.78-.78 2.05 0 2.83L4 21.41c.39.39.9.59 1.41.59.51 0 1.02-.2 1.41-.59l7.78-7.78 2.81-2.81c.8-.78.8-2.07 0-2.86zM5.41 20L4 18.59l7.72-7.72 1.47 1.35L5.41 20z\"/>\n",
              "  </svg>\n",
              "      </button>\n",
              "      \n",
              "  <style>\n",
              "    .colab-df-container {\n",
              "      display:flex;\n",
              "      flex-wrap:wrap;\n",
              "      gap: 12px;\n",
              "    }\n",
              "\n",
              "    .colab-df-convert {\n",
              "      background-color: #E8F0FE;\n",
              "      border: none;\n",
              "      border-radius: 50%;\n",
              "      cursor: pointer;\n",
              "      display: none;\n",
              "      fill: #1967D2;\n",
              "      height: 32px;\n",
              "      padding: 0 0 0 0;\n",
              "      width: 32px;\n",
              "    }\n",
              "\n",
              "    .colab-df-convert:hover {\n",
              "      background-color: #E2EBFA;\n",
              "      box-shadow: 0px 1px 2px rgba(60, 64, 67, 0.3), 0px 1px 3px 1px rgba(60, 64, 67, 0.15);\n",
              "      fill: #174EA6;\n",
              "    }\n",
              "\n",
              "    [theme=dark] .colab-df-convert {\n",
              "      background-color: #3B4455;\n",
              "      fill: #D2E3FC;\n",
              "    }\n",
              "\n",
              "    [theme=dark] .colab-df-convert:hover {\n",
              "      background-color: #434B5C;\n",
              "      box-shadow: 0px 1px 3px 1px rgba(0, 0, 0, 0.15);\n",
              "      filter: drop-shadow(0px 1px 2px rgba(0, 0, 0, 0.3));\n",
              "      fill: #FFFFFF;\n",
              "    }\n",
              "  </style>\n",
              "\n",
              "      <script>\n",
              "        const buttonEl =\n",
              "          document.querySelector('#df-78e0137b-b0d8-4400-aad2-5c33a9bc39f7 button.colab-df-convert');\n",
              "        buttonEl.style.display =\n",
              "          google.colab.kernel.accessAllowed ? 'block' : 'none';\n",
              "\n",
              "        async function convertToInteractive(key) {\n",
              "          const element = document.querySelector('#df-78e0137b-b0d8-4400-aad2-5c33a9bc39f7');\n",
              "          const dataTable =\n",
              "            await google.colab.kernel.invokeFunction('convertToInteractive',\n",
              "                                                     [key], {});\n",
              "          if (!dataTable) return;\n",
              "\n",
              "          const docLinkHtml = 'Like what you see? Visit the ' +\n",
              "            '<a target=\"_blank\" href=https://colab.research.google.com/notebooks/data_table.ipynb>data table notebook</a>'\n",
              "            + ' to learn more about interactive tables.';\n",
              "          element.innerHTML = '';\n",
              "          dataTable['output_type'] = 'display_data';\n",
              "          await google.colab.output.renderOutput(dataTable, element);\n",
              "          const docLink = document.createElement('div');\n",
              "          docLink.innerHTML = docLinkHtml;\n",
              "          element.appendChild(docLink);\n",
              "        }\n",
              "      </script>\n",
              "    </div>\n",
              "  </div>\n",
              "  "
            ]
          },
          "metadata": {},
          "execution_count": 381
        }
      ]
    },
    {
      "cell_type": "code",
      "source": [
        "from sklearn.preprocessing import MinMaxScaler, StandardScaler\n",
        "import warnings\n",
        "warnings.filterwarnings('ignore')\n",
        "from scipy import stats\n",
        "import tensorflow as tf\n",
        "from tensorflow import keras\n",
        "from tensorflow.keras import Sequential, layers, callbacks\n",
        "from tensorflow.keras.layers import Dense, Dropout, GRU"
      ],
      "metadata": {
        "id": "2_9d7Uygo82M"
      },
      "execution_count": 382,
      "outputs": []
    },
    {
      "cell_type": "code",
      "source": [
        "tf.random.set_seed(1310)"
      ],
      "metadata": {
        "id": "75URiRLcpAYx"
      },
      "execution_count": 383,
      "outputs": []
    },
    {
      "cell_type": "code",
      "source": [
        "ts_df['timestamp'] = ts_df['timestamp']/300\n",
        "ts_df['timestamp'] = ts_df['timestamp'].astype('int')\n",
        "ts_df.head()"
      ],
      "metadata": {
        "colab": {
          "base_uri": "https://localhost:8080/",
          "height": 206
        },
        "id": "oyDro-5a8NBR",
        "outputId": "eeba6768-a02c-4214-a0a3-6d0eeac212b2"
      },
      "execution_count": 384,
      "outputs": [
        {
          "output_type": "execute_result",
          "data": {
            "text/plain": [
              "   timestamp   min_cpu    max_cpu    avg_cpu\n",
              "0        219  0.318611   0.509233   0.380644\n",
              "1        220  0.320147  19.271898   5.285660\n",
              "2        221  1.012703   1.827091   1.387086\n",
              "3        222  1.082122  95.211881  12.816840\n",
              "4        223  1.435824  95.062333  13.660493"
            ],
            "text/html": [
              "\n",
              "  <div id=\"df-b6fe080e-2acf-49a0-b8e4-ab3e3b41f38f\">\n",
              "    <div class=\"colab-df-container\">\n",
              "      <div>\n",
              "<style scoped>\n",
              "    .dataframe tbody tr th:only-of-type {\n",
              "        vertical-align: middle;\n",
              "    }\n",
              "\n",
              "    .dataframe tbody tr th {\n",
              "        vertical-align: top;\n",
              "    }\n",
              "\n",
              "    .dataframe thead th {\n",
              "        text-align: right;\n",
              "    }\n",
              "</style>\n",
              "<table border=\"1\" class=\"dataframe\">\n",
              "  <thead>\n",
              "    <tr style=\"text-align: right;\">\n",
              "      <th></th>\n",
              "      <th>timestamp</th>\n",
              "      <th>min_cpu</th>\n",
              "      <th>max_cpu</th>\n",
              "      <th>avg_cpu</th>\n",
              "    </tr>\n",
              "  </thead>\n",
              "  <tbody>\n",
              "    <tr>\n",
              "      <th>0</th>\n",
              "      <td>219</td>\n",
              "      <td>0.318611</td>\n",
              "      <td>0.509233</td>\n",
              "      <td>0.380644</td>\n",
              "    </tr>\n",
              "    <tr>\n",
              "      <th>1</th>\n",
              "      <td>220</td>\n",
              "      <td>0.320147</td>\n",
              "      <td>19.271898</td>\n",
              "      <td>5.285660</td>\n",
              "    </tr>\n",
              "    <tr>\n",
              "      <th>2</th>\n",
              "      <td>221</td>\n",
              "      <td>1.012703</td>\n",
              "      <td>1.827091</td>\n",
              "      <td>1.387086</td>\n",
              "    </tr>\n",
              "    <tr>\n",
              "      <th>3</th>\n",
              "      <td>222</td>\n",
              "      <td>1.082122</td>\n",
              "      <td>95.211881</td>\n",
              "      <td>12.816840</td>\n",
              "    </tr>\n",
              "    <tr>\n",
              "      <th>4</th>\n",
              "      <td>223</td>\n",
              "      <td>1.435824</td>\n",
              "      <td>95.062333</td>\n",
              "      <td>13.660493</td>\n",
              "    </tr>\n",
              "  </tbody>\n",
              "</table>\n",
              "</div>\n",
              "      <button class=\"colab-df-convert\" onclick=\"convertToInteractive('df-b6fe080e-2acf-49a0-b8e4-ab3e3b41f38f')\"\n",
              "              title=\"Convert this dataframe to an interactive table.\"\n",
              "              style=\"display:none;\">\n",
              "        \n",
              "  <svg xmlns=\"http://www.w3.org/2000/svg\" height=\"24px\"viewBox=\"0 0 24 24\"\n",
              "       width=\"24px\">\n",
              "    <path d=\"M0 0h24v24H0V0z\" fill=\"none\"/>\n",
              "    <path d=\"M18.56 5.44l.94 2.06.94-2.06 2.06-.94-2.06-.94-.94-2.06-.94 2.06-2.06.94zm-11 1L8.5 8.5l.94-2.06 2.06-.94-2.06-.94L8.5 2.5l-.94 2.06-2.06.94zm10 10l.94 2.06.94-2.06 2.06-.94-2.06-.94-.94-2.06-.94 2.06-2.06.94z\"/><path d=\"M17.41 7.96l-1.37-1.37c-.4-.4-.92-.59-1.43-.59-.52 0-1.04.2-1.43.59L10.3 9.45l-7.72 7.72c-.78.78-.78 2.05 0 2.83L4 21.41c.39.39.9.59 1.41.59.51 0 1.02-.2 1.41-.59l7.78-7.78 2.81-2.81c.8-.78.8-2.07 0-2.86zM5.41 20L4 18.59l7.72-7.72 1.47 1.35L5.41 20z\"/>\n",
              "  </svg>\n",
              "      </button>\n",
              "      \n",
              "  <style>\n",
              "    .colab-df-container {\n",
              "      display:flex;\n",
              "      flex-wrap:wrap;\n",
              "      gap: 12px;\n",
              "    }\n",
              "\n",
              "    .colab-df-convert {\n",
              "      background-color: #E8F0FE;\n",
              "      border: none;\n",
              "      border-radius: 50%;\n",
              "      cursor: pointer;\n",
              "      display: none;\n",
              "      fill: #1967D2;\n",
              "      height: 32px;\n",
              "      padding: 0 0 0 0;\n",
              "      width: 32px;\n",
              "    }\n",
              "\n",
              "    .colab-df-convert:hover {\n",
              "      background-color: #E2EBFA;\n",
              "      box-shadow: 0px 1px 2px rgba(60, 64, 67, 0.3), 0px 1px 3px 1px rgba(60, 64, 67, 0.15);\n",
              "      fill: #174EA6;\n",
              "    }\n",
              "\n",
              "    [theme=dark] .colab-df-convert {\n",
              "      background-color: #3B4455;\n",
              "      fill: #D2E3FC;\n",
              "    }\n",
              "\n",
              "    [theme=dark] .colab-df-convert:hover {\n",
              "      background-color: #434B5C;\n",
              "      box-shadow: 0px 1px 3px 1px rgba(0, 0, 0, 0.15);\n",
              "      filter: drop-shadow(0px 1px 2px rgba(0, 0, 0, 0.3));\n",
              "      fill: #FFFFFF;\n",
              "    }\n",
              "  </style>\n",
              "\n",
              "      <script>\n",
              "        const buttonEl =\n",
              "          document.querySelector('#df-b6fe080e-2acf-49a0-b8e4-ab3e3b41f38f button.colab-df-convert');\n",
              "        buttonEl.style.display =\n",
              "          google.colab.kernel.accessAllowed ? 'block' : 'none';\n",
              "\n",
              "        async function convertToInteractive(key) {\n",
              "          const element = document.querySelector('#df-b6fe080e-2acf-49a0-b8e4-ab3e3b41f38f');\n",
              "          const dataTable =\n",
              "            await google.colab.kernel.invokeFunction('convertToInteractive',\n",
              "                                                     [key], {});\n",
              "          if (!dataTable) return;\n",
              "\n",
              "          const docLinkHtml = 'Like what you see? Visit the ' +\n",
              "            '<a target=\"_blank\" href=https://colab.research.google.com/notebooks/data_table.ipynb>data table notebook</a>'\n",
              "            + ' to learn more about interactive tables.';\n",
              "          element.innerHTML = '';\n",
              "          dataTable['output_type'] = 'display_data';\n",
              "          await google.colab.output.renderOutput(dataTable, element);\n",
              "          const docLink = document.createElement('div');\n",
              "          docLink.innerHTML = docLinkHtml;\n",
              "          element.appendChild(docLink);\n",
              "        }\n",
              "      </script>\n",
              "    </div>\n",
              "  </div>\n",
              "  "
            ]
          },
          "metadata": {},
          "execution_count": 384
        }
      ]
    },
    {
      "cell_type": "code",
      "source": [
        "def timeseries (x_axis, y_axis, y_label):\n",
        "    plt.figure(figsize = (20, 6))\n",
        "    plt.plot(x_axis, y_axis, color ='blue')\n",
        "    plt.xlabel('time', {'fontsize': 12}) \n",
        "    plt.ylabel(y_label, {'fontsize': 12})"
      ],
      "metadata": {
        "id": "F2FLML_m8aJq"
      },
      "execution_count": 385,
      "outputs": []
    },
    {
      "cell_type": "code",
      "source": [
        "timeseries (ts_df['timestamp'], ts_df['max_cpu'], 'MAX CPU')"
      ],
      "metadata": {
        "colab": {
          "base_uri": "https://localhost:8080/",
          "height": 394
        },
        "id": "VJ0_WJ-q8djd",
        "outputId": "2333cfaf-7902-4955-e29a-1b9352563957"
      },
      "execution_count": 386,
      "outputs": [
        {
          "output_type": "display_data",
          "data": {
            "text/plain": [
              "<Figure size 1440x432 with 1 Axes>"
            ],
            "image/png": "[encoded data removed]"
          },
          "metadata": {
            "needs_background": "light"
          }
        }
      ]
    },
    {
      "cell_type": "code",
      "source": [
        "df_max = ts_df.drop(['min_cpu', 'avg_cpu'], axis=1)\n",
        "df_max = df_max.set_index('timestamp')\n",
        "df_max.head()"
      ],
      "metadata": {
        "colab": {
          "base_uri": "https://localhost:8080/",
          "height": 238
        },
        "id": "tvXQoXzY8iED",
        "outputId": "5b86f296-b6fc-4213-ccbf-fef854a9bb6a"
      },
      "execution_count": 387,
      "outputs": [
        {
          "output_type": "execute_result",
          "data": {
            "text/plain": [
              "             max_cpu\n",
              "timestamp           \n",
              "219         0.509233\n",
              "220        19.271898\n",
              "221         1.827091\n",
              "222        95.211881\n",
              "223        95.062333"
            ],
            "text/html": [
              "\n",
              "  <div id=\"df-1c20b60e-d584-4066-9abb-4e0a5dcd6206\">\n",
              "    <div class=\"colab-df-container\">\n",
              "      <div>\n",
              "<style scoped>\n",
              "    .dataframe tbody tr th:only-of-type {\n",
              "        vertical-align: middle;\n",
              "    }\n",
              "\n",
              "    .dataframe tbody tr th {\n",
              "        vertical-align: top;\n",
              "    }\n",
              "\n",
              "    .dataframe thead th {\n",
              "        text-align: right;\n",
              "    }\n",
              "</style>\n",
              "<table border=\"1\" class=\"dataframe\">\n",
              "  <thead>\n",
              "    <tr style=\"text-align: right;\">\n",
              "      <th></th>\n",
              "      <th>max_cpu</th>\n",
              "    </tr>\n",
              "    <tr>\n",
              "      <th>timestamp</th>\n",
              "      <th></th>\n",
              "    </tr>\n",
              "  </thead>\n",
              "  <tbody>\n",
              "    <tr>\n",
              "      <th>219</th>\n",
              "      <td>0.509233</td>\n",
              "    </tr>\n",
              "    <tr>\n",
              "      <th>220</th>\n",
              "      <td>19.271898</td>\n",
              "    </tr>\n",
              "    <tr>\n",
              "      <th>221</th>\n",
              "      <td>1.827091</td>\n",
              "    </tr>\n",
              "    <tr>\n",
              "      <th>222</th>\n",
              "      <td>95.211881</td>\n",
              "    </tr>\n",
              "    <tr>\n",
              "      <th>223</th>\n",
              "      <td>95.062333</td>\n",
              "    </tr>\n",
              "  </tbody>\n",
              "</table>\n",
              "</div>\n",
              "      <button class=\"colab-df-convert\" onclick=\"convertToInteractive('df-1c20b60e-d584-4066-9abb-4e0a5dcd6206')\"\n",
              "              title=\"Convert this dataframe to an interactive table.\"\n",
              "              style=\"display:none;\">\n",
              "        \n",
              "  <svg xmlns=\"http://www.w3.org/2000/svg\" height=\"24px\"viewBox=\"0 0 24 24\"\n",
              "       width=\"24px\">\n",
              "    <path d=\"M0 0h24v24H0V0z\" fill=\"none\"/>\n",
              "    <path d=\"M18.56 5.44l.94 2.06.94-2.06 2.06-.94-2.06-.94-.94-2.06-.94 2.06-2.06.94zm-11 1L8.5 8.5l.94-2.06 2.06-.94-2.06-.94L8.5 2.5l-.94 2.06-2.06.94zm10 10l.94 2.06.94-2.06 2.06-.94-2.06-.94-.94-2.06-.94 2.06-2.06.94z\"/><path d=\"M17.41 7.96l-1.37-1.37c-.4-.4-.92-.59-1.43-.59-.52 0-1.04.2-1.43.59L10.3 9.45l-7.72 7.72c-.78.78-.78 2.05 0 2.83L4 21.41c.39.39.9.59 1.41.59.51 0 1.02-.2 1.41-.59l7.78-7.78 2.81-2.81c.8-.78.8-2.07 0-2.86zM5.41 20L4 18.59l7.72-7.72 1.47 1.35L5.41 20z\"/>\n",
              "  </svg>\n",
              "      </button>\n",
              "      \n",
              "  <style>\n",
              "    .colab-df-container {\n",
              "      display:flex;\n",
              "      flex-wrap:wrap;\n",
              "      gap: 12px;\n",
              "    }\n",
              "\n",
              "    .colab-df-convert {\n",
              "      background-color: #E8F0FE;\n",
              "      border: none;\n",
              "      border-radius: 50%;\n",
              "      cursor: pointer;\n",
              "      display: none;\n",
              "      fill: #1967D2;\n",
              "      height: 32px;\n",
              "      padding: 0 0 0 0;\n",
              "      width: 32px;\n",
              "    }\n",
              "\n",
              "    .colab-df-convert:hover {\n",
              "      background-color: #E2EBFA;\n",
              "      box-shadow: 0px 1px 2px rgba(60, 64, 67, 0.3), 0px 1px 3px 1px rgba(60, 64, 67, 0.15);\n",
              "      fill: #174EA6;\n",
              "    }\n",
              "\n",
              "    [theme=dark] .colab-df-convert {\n",
              "      background-color: #3B4455;\n",
              "      fill: #D2E3FC;\n",
              "    }\n",
              "\n",
              "    [theme=dark] .colab-df-convert:hover {\n",
              "      background-color: #434B5C;\n",
              "      box-shadow: 0px 1px 3px 1px rgba(0, 0, 0, 0.15);\n",
              "      filter: drop-shadow(0px 1px 2px rgba(0, 0, 0, 0.3));\n",
              "      fill: #FFFFFF;\n",
              "    }\n",
              "  </style>\n",
              "\n",
              "      <script>\n",
              "        const buttonEl =\n",
              "          document.querySelector('#df-1c20b60e-d584-4066-9abb-4e0a5dcd6206 button.colab-df-convert');\n",
              "        buttonEl.style.display =\n",
              "          google.colab.kernel.accessAllowed ? 'block' : 'none';\n",
              "\n",
              "        async function convertToInteractive(key) {\n",
              "          const element = document.querySelector('#df-1c20b60e-d584-4066-9abb-4e0a5dcd6206');\n",
              "          const dataTable =\n",
              "            await google.colab.kernel.invokeFunction('convertToInteractive',\n",
              "                                                     [key], {});\n",
              "          if (!dataTable) return;\n",
              "\n",
              "          const docLinkHtml = 'Like what you see? Visit the ' +\n",
              "            '<a target=\"_blank\" href=https://colab.research.google.com/notebooks/data_table.ipynb>data table notebook</a>'\n",
              "            + ' to learn more about interactive tables.';\n",
              "          element.innerHTML = '';\n",
              "          dataTable['output_type'] = 'display_data';\n",
              "          await google.colab.output.renderOutput(dataTable, element);\n",
              "          const docLink = document.createElement('div');\n",
              "          docLink.innerHTML = docLinkHtml;\n",
              "          element.appendChild(docLink);\n",
              "        }\n",
              "      </script>\n",
              "    </div>\n",
              "  </div>\n",
              "  "
            ]
          },
          "metadata": {},
          "execution_count": 387
        }
      ]
    },
    {
      "cell_type": "code",
      "source": [
        "# Split train data and test data\n",
        "train_size = int(len(df_max)*0.7)\n",
        "\n",
        "train_data = df_max.iloc[:train_size]\n",
        "test_data = df_max.iloc[train_size:]"
      ],
      "metadata": {
        "id": "X6SjiZG48p4B"
      },
      "execution_count": 388,
      "outputs": []
    },
    {
      "cell_type": "code",
      "source": [
        "test_data.shape"
      ],
      "metadata": {
        "colab": {
          "base_uri": "https://localhost:8080/"
        },
        "id": "6YTX4Bcq8tHn",
        "outputId": "65bd5ed5-7498-44b2-bfef-adbb75cbcedb"
      },
      "execution_count": 389,
      "outputs": [
        {
          "output_type": "execute_result",
          "data": {
            "text/plain": [
              "(2489, 1)"
            ]
          },
          "metadata": {},
          "execution_count": 389
        }
      ]
    },
    {
      "cell_type": "code",
      "source": [
        "def df_input_to_X_y(df, window_size=864):\n",
        "  df_to_np = df.to_numpy()\n",
        "  X = []\n",
        "  y = []\n",
        "  for i in range(len(df_to_np)-window_size):\n",
        "    row = [[a] for a in df_to_np[i:i+window_size]]\n",
        "    X.append(row)\n",
        "    label = df_to_np[i+window_size]\n",
        "    y.append(label)\n",
        "  return np.array(X), np.array(y)"
      ],
      "metadata": {
        "id": "BOl9jShb8vEo"
      },
      "execution_count": 390,
      "outputs": []
    },
    {
      "cell_type": "code",
      "source": [
        "WINDOW_SIZE = 864\n",
        "X_train, y_train = df_input_to_X_y(train_data,WINDOW_SIZE)\n",
        "X_test, y_test = df_input_to_X_y(test_data,WINDOW_SIZE)\n",
        "# Print data shape\n",
        "print('X_train.shape: ', X_train.shape)\n",
        "print('y_train.shape: ', y_train.shape)\n",
        "print('X_test.shape: ', X_test.shape) \n",
        "print('y_test.shape: ', y_test.shape)"
      ],
      "metadata": {
        "colab": {
          "base_uri": "https://localhost:8080/"
        },
        "id": "_y5V_mwE8xhX",
        "outputId": "d2d5c3ae-c439-4145-86c0-4f994dd799a7"
      },
      "execution_count": 391,
      "outputs": [
        {
          "output_type": "stream",
          "name": "stdout",
          "text": [
            "X_train.shape:  (4942, 864, 1, 1)\n",
            "y_train.shape:  (4942, 1)\n",
            "X_test.shape:  (1625, 864, 1, 1)\n",
            "y_test.shape:  (1625, 1)\n"
          ]
        }
      ]
    },
    {
      "cell_type": "code",
      "source": [
        "# Create GRU model\n",
        "def create_gru(units):\n",
        "    model = Sequential()\n",
        "    # Input layer\n",
        "    model.add(GRU (units = units, return_sequences = True, \n",
        "    input_shape = [X_train.shape[1], X_train.shape[2]]))\n",
        "    model.add(Dropout(0.2)) \n",
        "    # Hidden layer\n",
        "    model.add(GRU(units = units)) \n",
        "    model.add(Dropout(0.2))\n",
        "    model.add(Dense(units = 1)) \n",
        "    #Compile model\n",
        "    model.compile(optimizer='adam',loss='mse', metrics=[\"mae\", \"acc\"])\n",
        "    return model\n",
        "model_gru = create_gru(64)"
      ],
      "metadata": {
        "id": "sFiMcVTM83cT"
      },
      "execution_count": 392,
      "outputs": []
    },
    {
      "cell_type": "code",
      "source": [
        "def fit_model(model):\n",
        "    early_stop = keras.callbacks.EarlyStopping(monitor = 'val_loss',\n",
        "                                               patience = 10)\n",
        "    history = model.fit(X_train, y_train, epochs = 15,  \n",
        "                        validation_split = 0.3,\n",
        "                        batch_size = 8, shuffle = False)\n",
        "    return history\n",
        "history_gru = fit_model(model_gru)"
      ],
      "metadata": {
        "colab": {
          "base_uri": "https://localhost:8080/"
        },
        "id": "VwYq2qDM9GAD",
        "outputId": "0f44a1f8-aa05-4e46-e13e-8036b4eedfc5"
      },
      "execution_count": 393,
      "outputs": [
        {
          "output_type": "stream",
          "name": "stdout",
          "text": [
            "Epoch 1/15\n",
            "433/433 [==============================] - 29s 61ms/step - loss: 23.5916 - mae: 1.3213 - acc: 0.0000e+00 - val_loss: 268.3811 - val_mae: 3.2530 - val_acc: 0.0000e+00\n",
            "Epoch 2/15\n",
            "433/433 [==============================] - 24s 55ms/step - loss: 22.7752 - mae: 1.3058 - acc: 0.0000e+00 - val_loss: 261.6843 - val_mae: 3.4793 - val_acc: 0.0000e+00\n",
            "Epoch 3/15\n",
            "433/433 [==============================] - 25s 58ms/step - loss: 21.2354 - mae: 1.2496 - acc: 0.0000e+00 - val_loss: 252.0045 - val_mae: 3.3276 - val_acc: 0.0000e+00\n",
            "Epoch 4/15\n",
            "433/433 [==============================] - 25s 58ms/step - loss: 24.2861 - mae: 1.6336 - acc: 0.0000e+00 - val_loss: 273.0544 - val_mae: 3.1935 - val_acc: 0.0000e+00\n",
            "Epoch 5/15\n",
            "433/433 [==============================] - 24s 55ms/step - loss: 24.5145 - mae: 1.6084 - acc: 0.0000e+00 - val_loss: 271.9313 - val_mae: 3.6135 - val_acc: 0.0000e+00\n",
            "Epoch 6/15\n",
            "433/433 [==============================] - 25s 58ms/step - loss: 24.3128 - mae: 1.5504 - acc: 0.0000e+00 - val_loss: 268.8872 - val_mae: 3.7420 - val_acc: 0.0000e+00\n",
            "Epoch 7/15\n",
            "433/433 [==============================] - 24s 56ms/step - loss: 24.3730 - mae: 1.5089 - acc: 0.0000e+00 - val_loss: 268.8159 - val_mae: 3.5157 - val_acc: 0.0000e+00\n",
            "Epoch 8/15\n",
            "433/433 [==============================] - 25s 58ms/step - loss: 24.1973 - mae: 1.5130 - acc: 0.0000e+00 - val_loss: 268.3384 - val_mae: 3.3896 - val_acc: 0.0000e+00\n",
            "Epoch 9/15\n",
            "433/433 [==============================] - 26s 59ms/step - loss: 24.0798 - mae: 1.4756 - acc: 0.0000e+00 - val_loss: 263.2586 - val_mae: 3.3516 - val_acc: 0.0000e+00\n",
            "Epoch 10/15\n",
            "433/433 [==============================] - 24s 55ms/step - loss: 23.7534 - mae: 1.4668 - acc: 0.0000e+00 - val_loss: 265.0959 - val_mae: 3.4932 - val_acc: 0.0000e+00\n",
            "Epoch 11/15\n",
            "433/433 [==============================] - 26s 59ms/step - loss: 23.6591 - mae: 1.4393 - acc: 0.0000e+00 - val_loss: 262.5634 - val_mae: 3.3461 - val_acc: 0.0000e+00\n",
            "Epoch 12/15\n",
            "433/433 [==============================] - 26s 59ms/step - loss: 23.8141 - mae: 1.4612 - acc: 0.0000e+00 - val_loss: 263.5362 - val_mae: 3.5810 - val_acc: 0.0000e+00\n",
            "Epoch 13/15\n",
            "433/433 [==============================] - 25s 58ms/step - loss: 23.5663 - mae: 1.3929 - acc: 0.0000e+00 - val_loss: 260.1212 - val_mae: 3.5863 - val_acc: 0.0000e+00\n",
            "Epoch 14/15\n",
            "433/433 [==============================] - 24s 55ms/step - loss: 23.5840 - mae: 1.4251 - acc: 0.0000e+00 - val_loss: 263.5142 - val_mae: 3.6839 - val_acc: 0.0000e+00\n",
            "Epoch 15/15\n",
            "433/433 [==============================] - 24s 55ms/step - loss: 23.4653 - mae: 1.3931 - acc: 0.0000e+00 - val_loss: 259.3179 - val_mae: 3.4717 - val_acc: 0.0000e+00\n"
          ]
        }
      ]
    },
    {
      "cell_type": "code",
      "source": [
        "def plot_loss (history, model_name):\n",
        "    plt.figure(figsize = (10, 6))\n",
        "    plt.plot(history.history['loss'])\n",
        "    plt.plot(history.history['val_loss'])\n",
        "    plt.title('Model Train vs Validation Loss for ' + model_name)\n",
        "    plt.ylabel('Loss')\n",
        "    plt.xlabel('epoch')\n",
        "    plt.legend(['Train loss', 'Validation loss'], loc='upper right')\n",
        " \n",
        "plot_loss (history_gru, 'GRU')"
      ],
      "metadata": {
        "colab": {
          "base_uri": "https://localhost:8080/",
          "height": 404
        },
        "id": "X9Mo1deO9J0K",
        "outputId": "c48c608b-c8dc-4bef-eabe-c3da4b6c699c"
      },
      "execution_count": 394,
      "outputs": [
        {
          "output_type": "display_data",
          "data": {
            "text/plain": [
              "<Figure size 720x432 with 1 Axes>"
            ],
            "image/png": "[encoded data removed]"
          },
          "metadata": {
            "needs_background": "light"
          }
        }
      ]
    },
    {
      "cell_type": "code",
      "source": [
        "# Make prediction\n",
        "def prediction(model):\n",
        "    prediction = model.predict(X_test)\n",
        "    return prediction\n",
        "prediction_gru = prediction(model_gru)"
      ],
      "metadata": {
        "colab": {
          "base_uri": "https://localhost:8080/"
        },
        "id": "zbcIsZR5-5Wg",
        "outputId": "b1908315-fbe0-409f-e850-b419ae7749c6"
      },
      "execution_count": 395,
      "outputs": [
        {
          "output_type": "stream",
          "name": "stdout",
          "text": [
            "51/51 [==============================] - 2s 20ms/step\n"
          ]
        }
      ]
    },
    {
      "cell_type": "code",
      "source": [
        "# Plot test data vs prediction\n",
        "def plot_future(prediction, model_name, y_test):\n",
        "    plt.figure(figsize=(30, 6))\n",
        "    range_future = len(prediction)\n",
        "    plt.plot(np.arange(range_future), np.array(y_test), \n",
        "             label='Actual data')\n",
        "    plt.plot(np.arange(range_future), \n",
        "             np.array(prediction),label='Prediction')\n",
        "    plt.title('Test data vs prediction for ' + model_name)\n",
        "    plt.legend(loc='upper left')\n",
        "    plt.xlabel('Time ')\n",
        "    plt.ylabel('Max CPU')\n",
        " \n",
        "plot_future(prediction_gru, 'GRU', y_test)"
      ],
      "metadata": {
        "colab": {
          "base_uri": "https://localhost:8080/",
          "height": 404
        },
        "id": "9U2EvyRy_Bf1",
        "outputId": "f74832a4-2d5e-49d2-8d6e-77c6cbaf54a3"
      },
      "execution_count": 396,
      "outputs": [
        {
          "output_type": "display_data",
          "data": {
            "text/plain": [
              "<Figure size 2160x432 with 1 Axes>"
            ],
            "image/png": "[encoded data removed]"
          },
          "metadata": {
            "needs_background": "light"
          }
        }
      ]
    },
    {
      "cell_type": "code",
      "source": [
        "predicted_max_list = []\n",
        "for looped in prediction_gru:\n",
        "  predicted_max_list.append(looped[0])\n",
        "len(predicted_max_list)"
      ],
      "metadata": {
        "colab": {
          "base_uri": "https://localhost:8080/"
        },
        "id": "xKgSvBcBBjz4",
        "outputId": "0121d185-9de2-4483-d041-b6f345853394"
      },
      "execution_count": 397,
      "outputs": [
        {
          "output_type": "execute_result",
          "data": {
            "text/plain": [
              "1625"
            ]
          },
          "metadata": {},
          "execution_count": 397
        }
      ]
    },
    {
      "cell_type": "code",
      "source": [
        "analysis_df = pd.DataFrame()\n",
        "analysis_df = test_data.tail(prediction_gru.shape[0])\n",
        "analysis_df['pred_max_cpu'] = predicted_max_list\n",
        "analysis_df.shape"
      ],
      "metadata": {
        "colab": {
          "base_uri": "https://localhost:8080/"
        },
        "id": "LGW-t3P7BkTY",
        "outputId": "a0dfa000-072d-4331-cffb-63601e6fb528"
      },
      "execution_count": 398,
      "outputs": [
        {
          "output_type": "execute_result",
          "data": {
            "text/plain": [
              "(1625, 2)"
            ]
          },
          "metadata": {},
          "execution_count": 398
        }
      ]
    },
    {
      "cell_type": "code",
      "source": [
        "max_allowed_jump = 1.5\n",
        "peak_quantile = 0.9\n",
        "prev_val = analysis_df['pred_max_cpu'].quantile(q=peak_quantile)\n",
        "i = 0.91\n",
        "while i < 1:\n",
        "  curr_val = analysis_df['pred_max_cpu'].quantile(q=i)\n",
        "  if (curr_val - (prev_val*max_allowed_jump)) > 0.0:\n",
        "    break\n",
        "  peak_quantile = i\n",
        "  prev_val = curr_val\n",
        "  i = i + 0.01\n",
        "\n",
        "peak_val = analysis_df['pred_max_cpu'].quantile(q=peak_quantile)\n",
        "print(peak_val)"
      ],
      "metadata": {
        "colab": {
          "base_uri": "https://localhost:8080/"
        },
        "id": "hv2RhkQLBoXl",
        "outputId": "a4a805c0-06cc-4b19-a859-c5e6e96ab141"
      },
      "execution_count": 399,
      "outputs": [
        {
          "output_type": "stream",
          "name": "stdout",
          "text": [
            "3.201833639144898\n"
          ]
        }
      ]
    },
    {
      "cell_type": "code",
      "source": [
        "analysis_df.insert(0, 'id', range(1, 1 + len(analysis_df)))\n",
        "analysis_df.head()"
      ],
      "metadata": {
        "colab": {
          "base_uri": "https://localhost:8080/",
          "height": 238
        },
        "id": "kvZEXo-4GMcq",
        "outputId": "e4004b9e-fe53-48ab-cc5d-8e75c2b48dfc"
      },
      "execution_count": 400,
      "outputs": [
        {
          "output_type": "execute_result",
          "data": {
            "text/plain": [
              "           id   max_cpu  pred_max_cpu\n",
              "timestamp                            \n",
              "6956        1  1.254187      1.940334\n",
              "6957        2  1.246505      1.942601\n",
              "6958        3  1.251669      1.939780\n",
              "6959        4  1.178291      1.946302\n",
              "6960        5  1.428274      1.937993"
            ],
            "text/html": [
              "\n",
              "  <div id=\"df-d13d5495-1f8d-4f51-a286-732b5204e0fa\">\n",
              "    <div class=\"colab-df-container\">\n",
              "      <div>\n",
              "<style scoped>\n",
              "    .dataframe tbody tr th:only-of-type {\n",
              "        vertical-align: middle;\n",
              "    }\n",
              "\n",
              "    .dataframe tbody tr th {\n",
              "        vertical-align: top;\n",
              "    }\n",
              "\n",
              "    .dataframe thead th {\n",
              "        text-align: right;\n",
              "    }\n",
              "</style>\n",
              "<table border=\"1\" class=\"dataframe\">\n",
              "  <thead>\n",
              "    <tr style=\"text-align: right;\">\n",
              "      <th></th>\n",
              "      <th>id</th>\n",
              "      <th>max_cpu</th>\n",
              "      <th>pred_max_cpu</th>\n",
              "    </tr>\n",
              "    <tr>\n",
              "      <th>timestamp</th>\n",
              "      <th></th>\n",
              "      <th></th>\n",
              "      <th></th>\n",
              "    </tr>\n",
              "  </thead>\n",
              "  <tbody>\n",
              "    <tr>\n",
              "      <th>6956</th>\n",
              "      <td>1</td>\n",
              "      <td>1.254187</td>\n",
              "      <td>1.940334</td>\n",
              "    </tr>\n",
              "    <tr>\n",
              "      <th>6957</th>\n",
              "      <td>2</td>\n",
              "      <td>1.246505</td>\n",
              "      <td>1.942601</td>\n",
              "    </tr>\n",
              "    <tr>\n",
              "      <th>6958</th>\n",
              "      <td>3</td>\n",
              "      <td>1.251669</td>\n",
              "      <td>1.939780</td>\n",
              "    </tr>\n",
              "    <tr>\n",
              "      <th>6959</th>\n",
              "      <td>4</td>\n",
              "      <td>1.178291</td>\n",
              "      <td>1.946302</td>\n",
              "    </tr>\n",
              "    <tr>\n",
              "      <th>6960</th>\n",
              "      <td>5</td>\n",
              "      <td>1.428274</td>\n",
              "      <td>1.937993</td>\n",
              "    </tr>\n",
              "  </tbody>\n",
              "</table>\n",
              "</div>\n",
              "      <button class=\"colab-df-convert\" onclick=\"convertToInteractive('df-d13d5495-1f8d-4f51-a286-732b5204e0fa')\"\n",
              "              title=\"Convert this dataframe to an interactive table.\"\n",
              "              style=\"display:none;\">\n",
              "        \n",
              "  <svg xmlns=\"http://www.w3.org/2000/svg\" height=\"24px\"viewBox=\"0 0 24 24\"\n",
              "       width=\"24px\">\n",
              "    <path d=\"M0 0h24v24H0V0z\" fill=\"none\"/>\n",
              "    <path d=\"M18.56 5.44l.94 2.06.94-2.06 2.06-.94-2.06-.94-.94-2.06-.94 2.06-2.06.94zm-11 1L8.5 8.5l.94-2.06 2.06-.94-2.06-.94L8.5 2.5l-.94 2.06-2.06.94zm10 10l.94 2.06.94-2.06 2.06-.94-2.06-.94-.94-2.06-.94 2.06-2.06.94z\"/><path d=\"M17.41 7.96l-1.37-1.37c-.4-.4-.92-.59-1.43-.59-.52 0-1.04.2-1.43.59L10.3 9.45l-7.72 7.72c-.78.78-.78 2.05 0 2.83L4 21.41c.39.39.9.59 1.41.59.51 0 1.02-.2 1.41-.59l7.78-7.78 2.81-2.81c.8-.78.8-2.07 0-2.86zM5.41 20L4 18.59l7.72-7.72 1.47 1.35L5.41 20z\"/>\n",
              "  </svg>\n",
              "      </button>\n",
              "      \n",
              "  <style>\n",
              "    .colab-df-container {\n",
              "      display:flex;\n",
              "      flex-wrap:wrap;\n",
              "      gap: 12px;\n",
              "    }\n",
              "\n",
              "    .colab-df-convert {\n",
              "      background-color: #E8F0FE;\n",
              "      border: none;\n",
              "      border-radius: 50%;\n",
              "      cursor: pointer;\n",
              "      display: none;\n",
              "      fill: #1967D2;\n",
              "      height: 32px;\n",
              "      padding: 0 0 0 0;\n",
              "      width: 32px;\n",
              "    }\n",
              "\n",
              "    .colab-df-convert:hover {\n",
              "      background-color: #E2EBFA;\n",
              "      box-shadow: 0px 1px 2px rgba(60, 64, 67, 0.3), 0px 1px 3px 1px rgba(60, 64, 67, 0.15);\n",
              "      fill: #174EA6;\n",
              "    }\n",
              "\n",
              "    [theme=dark] .colab-df-convert {\n",
              "      background-color: #3B4455;\n",
              "      fill: #D2E3FC;\n",
              "    }\n",
              "\n",
              "    [theme=dark] .colab-df-convert:hover {\n",
              "      background-color: #434B5C;\n",
              "      box-shadow: 0px 1px 3px 1px rgba(0, 0, 0, 0.15);\n",
              "      filter: drop-shadow(0px 1px 2px rgba(0, 0, 0, 0.3));\n",
              "      fill: #FFFFFF;\n",
              "    }\n",
              "  </style>\n",
              "\n",
              "      <script>\n",
              "        const buttonEl =\n",
              "          document.querySelector('#df-d13d5495-1f8d-4f51-a286-732b5204e0fa button.colab-df-convert');\n",
              "        buttonEl.style.display =\n",
              "          google.colab.kernel.accessAllowed ? 'block' : 'none';\n",
              "\n",
              "        async function convertToInteractive(key) {\n",
              "          const element = document.querySelector('#df-d13d5495-1f8d-4f51-a286-732b5204e0fa');\n",
              "          const dataTable =\n",
              "            await google.colab.kernel.invokeFunction('convertToInteractive',\n",
              "                                                     [key], {});\n",
              "          if (!dataTable) return;\n",
              "\n",
              "          const docLinkHtml = 'Like what you see? Visit the ' +\n",
              "            '<a target=\"_blank\" href=https://colab.research.google.com/notebooks/data_table.ipynb>data table notebook</a>'\n",
              "            + ' to learn more about interactive tables.';\n",
              "          element.innerHTML = '';\n",
              "          dataTable['output_type'] = 'display_data';\n",
              "          await google.colab.output.renderOutput(dataTable, element);\n",
              "          const docLink = document.createElement('div');\n",
              "          docLink.innerHTML = docLinkHtml;\n",
              "          element.appendChild(docLink);\n",
              "        }\n",
              "      </script>\n",
              "    </div>\n",
              "  </div>\n",
              "  "
            ]
          },
          "metadata": {},
          "execution_count": 400
        }
      ]
    },
    {
      "cell_type": "code",
      "source": [
        "analysis_df[analysis_df['pred_max_cpu'] > peak_val].id.values"
      ],
      "metadata": {
        "colab": {
          "base_uri": "https://localhost:8080/"
        },
        "id": "wAARGeP9LlFb",
        "outputId": "0d7210a0-2310-4b93-9e8d-f4641c68139f"
      },
      "execution_count": 401,
      "outputs": [
        {
          "output_type": "execute_result",
          "data": {
            "text/plain": [
              "array([238, 239, 240, 241, 242, 245, 495, 732, 733, 734, 735, 736, 737,\n",
              "       738, 739, 740, 741])"
            ]
          },
          "metadata": {},
          "execution_count": 401
        }
      ]
    },
    {
      "cell_type": "code",
      "source": [
        "high_cpu_values = set(analysis_df[analysis_df['pred_max_cpu'] > peak_val].id.values)\n",
        "len(high_cpu_values)"
      ],
      "metadata": {
        "colab": {
          "base_uri": "https://localhost:8080/"
        },
        "id": "loGpE0jvLlMr",
        "outputId": "decc6bd8-265b-46c3-bab8-cae472d1f0d6"
      },
      "execution_count": 402,
      "outputs": [
        {
          "output_type": "execute_result",
          "data": {
            "text/plain": [
              "17"
            ]
          },
          "metadata": {},
          "execution_count": 402
        }
      ]
    },
    {
      "cell_type": "code",
      "source": [
        "high_band_cpu = []\n",
        "for val in high_cpu_values:\n",
        "  high_band_cpu.extend(list(range(val-5,val+5)))"
      ],
      "metadata": {
        "id": "iA6eagAbHNKW"
      },
      "execution_count": 403,
      "outputs": []
    },
    {
      "cell_type": "code",
      "source": [
        "print(len(high_band_cpu))\n",
        "print(len(set(high_band_cpu)))"
      ],
      "metadata": {
        "colab": {
          "base_uri": "https://localhost:8080/"
        },
        "id": "okNw5SeVNohL",
        "outputId": "e5ae421c-7215-4e3a-b2bf-bad59dd272e4"
      },
      "execution_count": 404,
      "outputs": [
        {
          "output_type": "stream",
          "name": "stdout",
          "text": [
            "170\n",
            "46\n"
          ]
        }
      ]
    },
    {
      "cell_type": "code",
      "source": [
        "high_cpu_values = high_cpu_values.union(set(high_band_cpu))\n",
        "len(high_cpu_values)"
      ],
      "metadata": {
        "colab": {
          "base_uri": "https://localhost:8080/"
        },
        "id": "CL9hNX8kNYfN",
        "outputId": "0024db9d-b324-4a4c-f1ff-6ff0613dcb7b"
      },
      "execution_count": 405,
      "outputs": [
        {
          "output_type": "execute_result",
          "data": {
            "text/plain": [
              "46"
            ]
          },
          "metadata": {},
          "execution_count": 405
        }
      ]
    },
    {
      "cell_type": "code",
      "source": [
        "analysis_df['highcpu'] = analysis_df['id'].map(lambda p : 100 if p in high_cpu_values else 50)\n",
        "analysis_df[analysis_df['highcpu'] == 100].shape"
      ],
      "metadata": {
        "colab": {
          "base_uri": "https://localhost:8080/"
        },
        "id": "PTHgJAiICrBG",
        "outputId": "4915a2e6-d93f-4670-935f-986bee0c0574"
      },
      "execution_count": 406,
      "outputs": [
        {
          "output_type": "execute_result",
          "data": {
            "text/plain": [
              "(46, 4)"
            ]
          },
          "metadata": {},
          "execution_count": 406
        }
      ]
    },
    {
      "cell_type": "code",
      "source": [
        "plt.figure(figsize=(30, 6))\n",
        "range_future = len(analysis_df)\n",
        "plt.plot(np.arange(range_future), np.array(analysis_df.max_cpu), \n",
        "         label='Actual data')\n",
        "plt.plot(np.arange(range_future), \n",
        "         np.array(analysis_df.pred_max_cpu),label='Predicted data')\n",
        "plt.plot(np.arange(range_future), \n",
        "         np.array(analysis_df.highcpu),label='High CPU')\n",
        "plt.title('High CPU Bands')\n",
        "plt.legend(loc='upper left')\n",
        "plt.xlabel('Time ')\n",
        "plt.ylabel('Max CPU')"
      ],
      "metadata": {
        "colab": {
          "base_uri": "https://localhost:8080/",
          "height": 421
        },
        "id": "3zRVsiAIJroD",
        "outputId": "f5ac0eec-4b22-4281-f4ad-16e313badb5a"
      },
      "execution_count": 407,
      "outputs": [
        {
          "output_type": "execute_result",
          "data": {
            "text/plain": [
              "Text(0, 0.5, 'Max CPU')"
            ]
          },
          "metadata": {},
          "execution_count": 407
        },
        {
          "output_type": "display_data",
          "data": {
            "text/plain": [
              "<Figure size 2160x432 with 1 Axes>"
            ],
            "image/png": "[encoded data removed]"
          },
          "metadata": {
            "needs_background": "light"
          }
        }
      ]
    },
    {
      "cell_type": "code",
      "source": [
        "data_path = 'https://raw.githubusercontent.com/gags13/datasets/main/final_filtered.csv'\n",
        "\n",
        "vm_dataframe = pd.read_csv(data_path, index_col=False, delimiter=',')\n",
        "vm_dataframe.drop(['Unnamed: 0'],axis=1, inplace=True)\n",
        "vm_dataframe.head()"
      ],
      "metadata": {
        "colab": {
          "base_uri": "https://localhost:8080/",
          "height": 357
        },
        "id": "OZfxddVFP_zi",
        "outputId": "0cbce5cc-8864-4f49-cb60-dcc9b76086be"
      },
      "execution_count": 408,
      "outputs": [
        {
          "output_type": "execute_result",
          "data": {
            "text/plain": [
              "                                                vmid  \\\n",
              "0  trjCc/lisNnKRnpFtPMmULgw1gUoiymSCshiGZfLY/Oil4...   \n",
              "1  RVfel1jVo2UTjdHeqMgqJcVcfBUG/V9mV6Un47p8vGHiFj...   \n",
              "2  mY+fWVBQe0tTfdVMO/2Ea9AAjDyN2ndi/40U59iUNxiTRu...   \n",
              "3  N0gBVBQviQ4n/jyolzXWac39GOcL3596Re7d2N7RpmffGF...   \n",
              "4  4Cka/a5H763ZPaDuuNo6MhnfKQ56hvTrTxPgWmcJyh2ItB...   \n",
              "\n",
              "                                      subscriptionid  \\\n",
              "0  9j4lLAdcydRsC+LhAQG/IS6Q15Z+tw3IYiCwH6QuxxtuQ1...   \n",
              "1  NM+rYlOuvfObftjnvrHy7hUorr5ulWm8UgTM9A1SZniRTv...   \n",
              "2  8mYUop47Ih3Ka0m8+fxnNmM1rUjlJ9vDkclgoBJViVmWPr...   \n",
              "3  8mYUop47Ih3Ka0m8+fxnNmM1rUjlJ9vDkclgoBJViVmWPr...   \n",
              "4  HzLK24LbYXd1kU9jw99gYFREpnAkKefq7MKwAxhEwzct60...   \n",
              "\n",
              "                                        deploymentid  vmcreated  vmdeleted  \\\n",
              "0  amCh31pwRrNqxYhYZMQ9kTaBv6Nsj9KELkMwZXIujmvpbm...          0    2591400   \n",
              "1  tGInpwc5Wi0Tq15xunBKLtsbC6Bxk5LP2e+NIsoDe/D3jg...          0    2589000   \n",
              "2  fIRf+CYG8jmlnysPUgzCuo7L/D1tV9jirr4FaJCQtaI7/n...      28800    2591400   \n",
              "3  fIRf+CYG8jmlnysPUgzCuo7L/D1tV9jirr4FaJCQtaI7/n...      28500    2591400   \n",
              "4  wggQWvknTcqrfDqxcQGGT40iu8/aEgjBj5i6e3bu9qtUc8...          0    2591400   \n",
              "\n",
              "      maxcpu    avgcpu  p95maxcpu         vmcategory  vmcorecountbucket  \\\n",
              "0  96.715705  0.938933   0.863622  Delay-insensitive                  2   \n",
              "1  98.226568  2.410055   2.297678  Delay-insensitive                  2   \n",
              "2  97.194277  2.076477   1.938042  Delay-insensitive                  4   \n",
              "3  98.838522  2.479152   2.367730  Delay-insensitive                  4   \n",
              "4  99.278745  0.895093   0.716898  Delay-insensitive                  2   \n",
              "\n",
              "   vmmemorybucket    lifetime     corehour  target  delmaxavg  delmaxp95  \\\n",
              "0               2  719.833333  1439.666667       1  95.776771  95.852083   \n",
              "1               8  719.166667  1438.333333       1  95.816514  95.928891   \n",
              "2              32  711.833333  2847.333333       1  95.117800  95.256236   \n",
              "3              32  711.916667  2847.666667       1  96.359369  96.470792   \n",
              "4               2  719.833333  1439.666667       1  98.383652  98.561847   \n",
              "\n",
              "   delp95avg  kmeans  gm  p95avgcpuslope  \n",
              "0  -0.075311       0   1        0.919790  \n",
              "1  -0.112377       0   2        0.953372  \n",
              "2  -0.138435       0   1        0.933332  \n",
              "3  -0.111423       0   1        0.955056  \n",
              "4  -0.178195       0   1        0.800920  "
            ],
            "text/html": [
              "\n",
              "  <div id=\"df-b1e07cea-3984-4cb9-97c3-fe8a5086ccf4\">\n",
              "    <div class=\"colab-df-container\">\n",
              "      <div>\n",
              "<style scoped>\n",
              "    .dataframe tbody tr th:only-of-type {\n",
              "        vertical-align: middle;\n",
              "    }\n",
              "\n",
              "    .dataframe tbody tr th {\n",
              "        vertical-align: top;\n",
              "    }\n",
              "\n",
              "    .dataframe thead th {\n",
              "        text-align: right;\n",
              "    }\n",
              "</style>\n",
              "<table border=\"1\" class=\"dataframe\">\n",
              "  <thead>\n",
              "    <tr style=\"text-align: right;\">\n",
              "      <th></th>\n",
              "      <th>vmid</th>\n",
              "      <th>subscriptionid</th>\n",
              "      <th>deploymentid</th>\n",
              "      <th>vmcreated</th>\n",
              "      <th>vmdeleted</th>\n",
              "      <th>maxcpu</th>\n",
              "      <th>avgcpu</th>\n",
              "      <th>p95maxcpu</th>\n",
              "      <th>vmcategory</th>\n",
              "      <th>vmcorecountbucket</th>\n",
              "      <th>vmmemorybucket</th>\n",
              "      <th>lifetime</th>\n",
              "      <th>corehour</th>\n",
              "      <th>target</th>\n",
              "      <th>delmaxavg</th>\n",
              "      <th>delmaxp95</th>\n",
              "      <th>delp95avg</th>\n",
              "      <th>kmeans</th>\n",
              "      <th>gm</th>\n",
              "      <th>p95avgcpuslope</th>\n",
              "    </tr>\n",
              "  </thead>\n",
              "  <tbody>\n",
              "    <tr>\n",
              "      <th>0</th>\n",
              "      <td>trjCc/lisNnKRnpFtPMmULgw1gUoiymSCshiGZfLY/Oil4...</td>\n",
              "      <td>9j4lLAdcydRsC+LhAQG/IS6Q15Z+tw3IYiCwH6QuxxtuQ1...</td>\n",
              "      <td>amCh31pwRrNqxYhYZMQ9kTaBv6Nsj9KELkMwZXIujmvpbm...</td>\n",
              "      <td>0</td>\n",
              "      <td>2591400</td>\n",
              "      <td>96.715705</td>\n",
              "      <td>0.938933</td>\n",
              "      <td>0.863622</td>\n",
              "      <td>Delay-insensitive</td>\n",
              "      <td>2</td>\n",
              "      <td>2</td>\n",
              "      <td>719.833333</td>\n",
              "      <td>1439.666667</td>\n",
              "      <td>1</td>\n",
              "      <td>95.776771</td>\n",
              "      <td>95.852083</td>\n",
              "      <td>-0.075311</td>\n",
              "      <td>0</td>\n",
              "      <td>1</td>\n",
              "      <td>0.919790</td>\n",
              "    </tr>\n",
              "    <tr>\n",
              "      <th>1</th>\n",
              "      <td>RVfel1jVo2UTjdHeqMgqJcVcfBUG/V9mV6Un47p8vGHiFj...</td>\n",
              "      <td>NM+rYlOuvfObftjnvrHy7hUorr5ulWm8UgTM9A1SZniRTv...</td>\n",
              "      <td>tGInpwc5Wi0Tq15xunBKLtsbC6Bxk5LP2e+NIsoDe/D3jg...</td>\n",
              "      <td>0</td>\n",
              "      <td>2589000</td>\n",
              "      <td>98.226568</td>\n",
              "      <td>2.410055</td>\n",
              "      <td>2.297678</td>\n",
              "      <td>Delay-insensitive</td>\n",
              "      <td>2</td>\n",
              "      <td>8</td>\n",
              "      <td>719.166667</td>\n",
              "      <td>1438.333333</td>\n",
              "      <td>1</td>\n",
              "      <td>95.816514</td>\n",
              "      <td>95.928891</td>\n",
              "      <td>-0.112377</td>\n",
              "      <td>0</td>\n",
              "      <td>2</td>\n",
              "      <td>0.953372</td>\n",
              "    </tr>\n",
              "    <tr>\n",
              "      <th>2</th>\n",
              "      <td>mY+fWVBQe0tTfdVMO/2Ea9AAjDyN2ndi/40U59iUNxiTRu...</td>\n",
              "      <td>8mYUop47Ih3Ka0m8+fxnNmM1rUjlJ9vDkclgoBJViVmWPr...</td>\n",
              "      <td>fIRf+CYG8jmlnysPUgzCuo7L/D1tV9jirr4FaJCQtaI7/n...</td>\n",
              "      <td>28800</td>\n",
              "      <td>2591400</td>\n",
              "      <td>97.194277</td>\n",
              "      <td>2.076477</td>\n",
              "      <td>1.938042</td>\n",
              "      <td>Delay-insensitive</td>\n",
              "      <td>4</td>\n",
              "      <td>32</td>\n",
              "      <td>711.833333</td>\n",
              "      <td>2847.333333</td>\n",
              "      <td>1</td>\n",
              "      <td>95.117800</td>\n",
              "      <td>95.256236</td>\n",
              "      <td>-0.138435</td>\n",
              "      <td>0</td>\n",
              "      <td>1</td>\n",
              "      <td>0.933332</td>\n",
              "    </tr>\n",
              "    <tr>\n",
              "      <th>3</th>\n",
              "      <td>N0gBVBQviQ4n/jyolzXWac39GOcL3596Re7d2N7RpmffGF...</td>\n",
              "      <td>8mYUop47Ih3Ka0m8+fxnNmM1rUjlJ9vDkclgoBJViVmWPr...</td>\n",
              "      <td>fIRf+CYG8jmlnysPUgzCuo7L/D1tV9jirr4FaJCQtaI7/n...</td>\n",
              "      <td>28500</td>\n",
              "      <td>2591400</td>\n",
              "      <td>98.838522</td>\n",
              "      <td>2.479152</td>\n",
              "      <td>2.367730</td>\n",
              "      <td>Delay-insensitive</td>\n",
              "      <td>4</td>\n",
              "      <td>32</td>\n",
              "      <td>711.916667</td>\n",
              "      <td>2847.666667</td>\n",
              "      <td>1</td>\n",
              "      <td>96.359369</td>\n",
              "      <td>96.470792</td>\n",
              "      <td>-0.111423</td>\n",
              "      <td>0</td>\n",
              "      <td>1</td>\n",
              "      <td>0.955056</td>\n",
              "    </tr>\n",
              "    <tr>\n",
              "      <th>4</th>\n",
              "      <td>4Cka/a5H763ZPaDuuNo6MhnfKQ56hvTrTxPgWmcJyh2ItB...</td>\n",
              "      <td>HzLK24LbYXd1kU9jw99gYFREpnAkKefq7MKwAxhEwzct60...</td>\n",
              "      <td>wggQWvknTcqrfDqxcQGGT40iu8/aEgjBj5i6e3bu9qtUc8...</td>\n",
              "      <td>0</td>\n",
              "      <td>2591400</td>\n",
              "      <td>99.278745</td>\n",
              "      <td>0.895093</td>\n",
              "      <td>0.716898</td>\n",
              "      <td>Delay-insensitive</td>\n",
              "      <td>2</td>\n",
              "      <td>2</td>\n",
              "      <td>719.833333</td>\n",
              "      <td>1439.666667</td>\n",
              "      <td>1</td>\n",
              "      <td>98.383652</td>\n",
              "      <td>98.561847</td>\n",
              "      <td>-0.178195</td>\n",
              "      <td>0</td>\n",
              "      <td>1</td>\n",
              "      <td>0.800920</td>\n",
              "    </tr>\n",
              "  </tbody>\n",
              "</table>\n",
              "</div>\n",
              "      <button class=\"colab-df-convert\" onclick=\"convertToInteractive('df-b1e07cea-3984-4cb9-97c3-fe8a5086ccf4')\"\n",
              "              title=\"Convert this dataframe to an interactive table.\"\n",
              "              style=\"display:none;\">\n",
              "        \n",
              "  <svg xmlns=\"http://www.w3.org/2000/svg\" height=\"24px\"viewBox=\"0 0 24 24\"\n",
              "       width=\"24px\">\n",
              "    <path d=\"M0 0h24v24H0V0z\" fill=\"none\"/>\n",
              "    <path d=\"M18.56 5.44l.94 2.06.94-2.06 2.06-.94-2.06-.94-.94-2.06-.94 2.06-2.06.94zm-11 1L8.5 8.5l.94-2.06 2.06-.94-2.06-.94L8.5 2.5l-.94 2.06-2.06.94zm10 10l.94 2.06.94-2.06 2.06-.94-2.06-.94-.94-2.06-.94 2.06-2.06.94z\"/><path d=\"M17.41 7.96l-1.37-1.37c-.4-.4-.92-.59-1.43-.59-.52 0-1.04.2-1.43.59L10.3 9.45l-7.72 7.72c-.78.78-.78 2.05 0 2.83L4 21.41c.39.39.9.59 1.41.59.51 0 1.02-.2 1.41-.59l7.78-7.78 2.81-2.81c.8-.78.8-2.07 0-2.86zM5.41 20L4 18.59l7.72-7.72 1.47 1.35L5.41 20z\"/>\n",
              "  </svg>\n",
              "      </button>\n",
              "      \n",
              "  <style>\n",
              "    .colab-df-container {\n",
              "      display:flex;\n",
              "      flex-wrap:wrap;\n",
              "      gap: 12px;\n",
              "    }\n",
              "\n",
              "    .colab-df-convert {\n",
              "      background-color: #E8F0FE;\n",
              "      border: none;\n",
              "      border-radius: 50%;\n",
              "      cursor: pointer;\n",
              "      display: none;\n",
              "      fill: #1967D2;\n",
              "      height: 32px;\n",
              "      padding: 0 0 0 0;\n",
              "      width: 32px;\n",
              "    }\n",
              "\n",
              "    .colab-df-convert:hover {\n",
              "      background-color: #E2EBFA;\n",
              "      box-shadow: 0px 1px 2px rgba(60, 64, 67, 0.3), 0px 1px 3px 1px rgba(60, 64, 67, 0.15);\n",
              "      fill: #174EA6;\n",
              "    }\n",
              "\n",
              "    [theme=dark] .colab-df-convert {\n",
              "      background-color: #3B4455;\n",
              "      fill: #D2E3FC;\n",
              "    }\n",
              "\n",
              "    [theme=dark] .colab-df-convert:hover {\n",
              "      background-color: #434B5C;\n",
              "      box-shadow: 0px 1px 3px 1px rgba(0, 0, 0, 0.15);\n",
              "      filter: drop-shadow(0px 1px 2px rgba(0, 0, 0, 0.3));\n",
              "      fill: #FFFFFF;\n",
              "    }\n",
              "  </style>\n",
              "\n",
              "      <script>\n",
              "        const buttonEl =\n",
              "          document.querySelector('#df-b1e07cea-3984-4cb9-97c3-fe8a5086ccf4 button.colab-df-convert');\n",
              "        buttonEl.style.display =\n",
              "          google.colab.kernel.accessAllowed ? 'block' : 'none';\n",
              "\n",
              "        async function convertToInteractive(key) {\n",
              "          const element = document.querySelector('#df-b1e07cea-3984-4cb9-97c3-fe8a5086ccf4');\n",
              "          const dataTable =\n",
              "            await google.colab.kernel.invokeFunction('convertToInteractive',\n",
              "                                                     [key], {});\n",
              "          if (!dataTable) return;\n",
              "\n",
              "          const docLinkHtml = 'Like what you see? Visit the ' +\n",
              "            '<a target=\"_blank\" href=https://colab.research.google.com/notebooks/data_table.ipynb>data table notebook</a>'\n",
              "            + ' to learn more about interactive tables.';\n",
              "          element.innerHTML = '';\n",
              "          dataTable['output_type'] = 'display_data';\n",
              "          await google.colab.output.renderOutput(dataTable, element);\n",
              "          const docLink = document.createElement('div');\n",
              "          docLink.innerHTML = docLinkHtml;\n",
              "          element.appendChild(docLink);\n",
              "        }\n",
              "      </script>\n",
              "    </div>\n",
              "  </div>\n",
              "  "
            ]
          },
          "metadata": {},
          "execution_count": 408
        }
      ]
    },
    {
      "cell_type": "code",
      "source": [
        "core_hour_saved_per_core = (5*len(analysis_df[analysis_df['highcpu'] == 50])/60)/2\n",
        "total_core_hour_per_core = 5*len(analysis_df)/60\n",
        "core_count = vm_dataframe[vm_dataframe['vmid'] == vm_id].vmcorecountbucket.values[0]"
      ],
      "metadata": {
        "id": "-NzhBC2ZRHir"
      },
      "execution_count": 409,
      "outputs": []
    },
    {
      "cell_type": "code",
      "source": [
        "print(\"TOTAL CPU CORE HOUR (CURRENT)\", total_core_hour_per_core*core_count)\n",
        "print(\"TOTAL CPU CORE HOUR (PROPOSED)\", (total_core_hour_per_core*core_count) - (core_hour_saved_per_core*core_count))"
      ],
      "metadata": {
        "colab": {
          "base_uri": "https://localhost:8080/"
        },
        "id": "sPXzq_XJRX7v",
        "outputId": "becaee19-b94b-4e9d-949e-1751a37c16da"
      },
      "execution_count": 410,
      "outputs": [
        {
          "output_type": "stream",
          "name": "stdout",
          "text": [
            "TOTAL CPU CORE HOUR (CURRENT) 541.6666666666666\n",
            "TOTAL CPU CORE HOUR (PROPOSED) 278.49999999999994\n"
          ]
        }
      ]
    },
    {
      "cell_type": "code",
      "source": [
        "print(\"WASTED CPU %\",100*(((total_core_hour_per_core*core_count) - (core_hour_saved_per_core*core_count))/(total_core_hour_per_core*core_count)))"
      ],
      "metadata": {
        "colab": {
          "base_uri": "https://localhost:8080/"
        },
        "id": "Jm0EDrfIRkgO",
        "outputId": "cb34e43f-408e-4789-f386-2b82176465a7"
      },
      "execution_count": 411,
      "outputs": [
        {
          "output_type": "stream",
          "name": "stdout",
          "text": [
            "WASTED CPU % 51.41538461538461\n"
          ]
        }
      ]
    }
  ]
}