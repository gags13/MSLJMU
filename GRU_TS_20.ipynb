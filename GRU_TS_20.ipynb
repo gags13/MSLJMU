{
  "nbformat": 4,
  "nbformat_minor": 0,
  "metadata": {
    "colab": {
      "provenance": []
    },
    "kernelspec": {
      "name": "python3",
      "display_name": "Python 3"
    },
    "language_info": {
      "name": "python"
    },
    "accelerator": "GPU",
    "gpuClass": "standard"
  },
  "cells": [
    {
      "cell_type": "code",
      "source": [
        "ts_files = [\n",
        "    'vm_1_VmgiCwYcPy.csv',\n",
        "    'vm_2_rr2y46iWRI.csv',\n",
        "    'vm_3_Ch2tshNe8X.csv',\n",
        "    'vm_5_FXoWmAfKug.csv',\n",
        "    'vm_8_gesjL49nFh.csv',\n",
        "    'vm_12_aa1PrVE9ie.csv',\n",
        "    'vm_14_XpTL07_3it.csv',\n",
        "    'vm_15_PNj1J6v0YJ.csv',\n",
        "    'vm_17_YDo5PVK_75.csv',\n",
        "    'vm_19_GF6t1yYrx3.csv',\n",
        "    'vm_20_N0gBVBQviQ.csv',\n",
        "    'vm_21_gQI5vMY9+5.csv',\n",
        "    'vm_22_l93uKkSTv8.csv',\n",
        "    'vm_23_KxsOjS16uU.csv',\n",
        "    'vm_25_bImCpIMf2H.csv',\n",
        "    'vm_26_mY+fWVBQe0.csv'\n",
        "]"
      ],
      "metadata": {
        "id": "vbZ7AKs2VM6H"
      },
      "execution_count": 223,
      "outputs": []
    },
    {
      "cell_type": "code",
      "source": [
        "#base_path = '/content/drive/MyDrive/MS/dataset/singlets/'\n",
        "#data_path = base_path + ts_files[2]\n",
        "\n",
        "base_path = 'https://raw.githubusercontent.com/gags13/datasets/main/'\n",
        "data_path = base_path + ts_files[10]"
      ],
      "metadata": {
        "id": "ibHRMOU9Uxp9"
      },
      "execution_count": 224,
      "outputs": []
    },
    {
      "cell_type": "code",
      "execution_count": 225,
      "metadata": {
        "id": "nifmmUKpTrNT"
      },
      "outputs": [],
      "source": [
        "import numpy as np\n",
        "import pandas as pd\n",
        "from IPython.display import display\n",
        "import matplotlib.pyplot as plt\n",
        "from matplotlib.backends.backend_pdf import PdfPages\n",
        "\n",
        "%matplotlib inline"
      ]
    },
    {
      "cell_type": "code",
      "source": [
        "#from google.colab import drive\n",
        "#drive.mount('/content/drive/')"
      ],
      "metadata": {
        "id": "mKC7ZRE1U1FM"
      },
      "execution_count": 226,
      "outputs": []
    },
    {
      "cell_type": "code",
      "source": [
        "ts_df = pd.read_csv(data_path, index_col=False, delimiter=',')\n",
        "ts_df.drop(['Unnamed: 0'],axis=1, inplace=True)\n",
        "ts_df.head()"
      ],
      "metadata": {
        "colab": {
          "base_uri": "https://localhost:8080/",
          "height": 206
        },
        "id": "jbdsx0FBU5QO",
        "outputId": "14c5ccd5-1339-439f-d841-959ae770ee5f"
      },
      "execution_count": 227,
      "outputs": [
        {
          "output_type": "execute_result",
          "data": {
            "text/plain": [
              "   timestamp                                              vm_id   min_cpu  \\\n",
              "0      28500  N0gBVBQviQ4n/jyolzXWac39GOcL3596Re7d2N7RpmffGF...  0.229712   \n",
              "1      28800  N0gBVBQviQ4n/jyolzXWac39GOcL3596Re7d2N7RpmffGF...  0.178615   \n",
              "2      29100  N0gBVBQviQ4n/jyolzXWac39GOcL3596Re7d2N7RpmffGF...  0.801574   \n",
              "3      29400  N0gBVBQviQ4n/jyolzXWac39GOcL3596Re7d2N7RpmffGF...  0.791357   \n",
              "4      29700  N0gBVBQviQ4n/jyolzXWac39GOcL3596Re7d2N7RpmffGF...  0.896171   \n",
              "\n",
              "     max_cpu    avg_cpu  \n",
              "0   0.273500   0.259068  \n",
              "1  21.272731   3.830728  \n",
              "2   2.160884   1.119981  \n",
              "3  43.145457   2.321687  \n",
              "4  98.838522  18.760553  "
            ],
            "text/html": [
              "\n",
              "  <div id=\"df-0fd61163-0133-44ab-94ed-d413253430da\">\n",
              "    <div class=\"colab-df-container\">\n",
              "      <div>\n",
              "<style scoped>\n",
              "    .dataframe tbody tr th:only-of-type {\n",
              "        vertical-align: middle;\n",
              "    }\n",
              "\n",
              "    .dataframe tbody tr th {\n",
              "        vertical-align: top;\n",
              "    }\n",
              "\n",
              "    .dataframe thead th {\n",
              "        text-align: right;\n",
              "    }\n",
              "</style>\n",
              "<table border=\"1\" class=\"dataframe\">\n",
              "  <thead>\n",
              "    <tr style=\"text-align: right;\">\n",
              "      <th></th>\n",
              "      <th>timestamp</th>\n",
              "      <th>vm_id</th>\n",
              "      <th>min_cpu</th>\n",
              "      <th>max_cpu</th>\n",
              "      <th>avg_cpu</th>\n",
              "    </tr>\n",
              "  </thead>\n",
              "  <tbody>\n",
              "    <tr>\n",
              "      <th>0</th>\n",
              "      <td>28500</td>\n",
              "      <td>N0gBVBQviQ4n/jyolzXWac39GOcL3596Re7d2N7RpmffGF...</td>\n",
              "      <td>0.229712</td>\n",
              "      <td>0.273500</td>\n",
              "      <td>0.259068</td>\n",
              "    </tr>\n",
              "    <tr>\n",
              "      <th>1</th>\n",
              "      <td>28800</td>\n",
              "      <td>N0gBVBQviQ4n/jyolzXWac39GOcL3596Re7d2N7RpmffGF...</td>\n",
              "      <td>0.178615</td>\n",
              "      <td>21.272731</td>\n",
              "      <td>3.830728</td>\n",
              "    </tr>\n",
              "    <tr>\n",
              "      <th>2</th>\n",
              "      <td>29100</td>\n",
              "      <td>N0gBVBQviQ4n/jyolzXWac39GOcL3596Re7d2N7RpmffGF...</td>\n",
              "      <td>0.801574</td>\n",
              "      <td>2.160884</td>\n",
              "      <td>1.119981</td>\n",
              "    </tr>\n",
              "    <tr>\n",
              "      <th>3</th>\n",
              "      <td>29400</td>\n",
              "      <td>N0gBVBQviQ4n/jyolzXWac39GOcL3596Re7d2N7RpmffGF...</td>\n",
              "      <td>0.791357</td>\n",
              "      <td>43.145457</td>\n",
              "      <td>2.321687</td>\n",
              "    </tr>\n",
              "    <tr>\n",
              "      <th>4</th>\n",
              "      <td>29700</td>\n",
              "      <td>N0gBVBQviQ4n/jyolzXWac39GOcL3596Re7d2N7RpmffGF...</td>\n",
              "      <td>0.896171</td>\n",
              "      <td>98.838522</td>\n",
              "      <td>18.760553</td>\n",
              "    </tr>\n",
              "  </tbody>\n",
              "</table>\n",
              "</div>\n",
              "      <button class=\"colab-df-convert\" onclick=\"convertToInteractive('df-0fd61163-0133-44ab-94ed-d413253430da')\"\n",
              "              title=\"Convert this dataframe to an interactive table.\"\n",
              "              style=\"display:none;\">\n",
              "        \n",
              "  <svg xmlns=\"http://www.w3.org/2000/svg\" height=\"24px\"viewBox=\"0 0 24 24\"\n",
              "       width=\"24px\">\n",
              "    <path d=\"M0 0h24v24H0V0z\" fill=\"none\"/>\n",
              "    <path d=\"M18.56 5.44l.94 2.06.94-2.06 2.06-.94-2.06-.94-.94-2.06-.94 2.06-2.06.94zm-11 1L8.5 8.5l.94-2.06 2.06-.94-2.06-.94L8.5 2.5l-.94 2.06-2.06.94zm10 10l.94 2.06.94-2.06 2.06-.94-2.06-.94-.94-2.06-.94 2.06-2.06.94z\"/><path d=\"M17.41 7.96l-1.37-1.37c-.4-.4-.92-.59-1.43-.59-.52 0-1.04.2-1.43.59L10.3 9.45l-7.72 7.72c-.78.78-.78 2.05 0 2.83L4 21.41c.39.39.9.59 1.41.59.51 0 1.02-.2 1.41-.59l7.78-7.78 2.81-2.81c.8-.78.8-2.07 0-2.86zM5.41 20L4 18.59l7.72-7.72 1.47 1.35L5.41 20z\"/>\n",
              "  </svg>\n",
              "      </button>\n",
              "      \n",
              "  <style>\n",
              "    .colab-df-container {\n",
              "      display:flex;\n",
              "      flex-wrap:wrap;\n",
              "      gap: 12px;\n",
              "    }\n",
              "\n",
              "    .colab-df-convert {\n",
              "      background-color: #E8F0FE;\n",
              "      border: none;\n",
              "      border-radius: 50%;\n",
              "      cursor: pointer;\n",
              "      display: none;\n",
              "      fill: #1967D2;\n",
              "      height: 32px;\n",
              "      padding: 0 0 0 0;\n",
              "      width: 32px;\n",
              "    }\n",
              "\n",
              "    .colab-df-convert:hover {\n",
              "      background-color: #E2EBFA;\n",
              "      box-shadow: 0px 1px 2px rgba(60, 64, 67, 0.3), 0px 1px 3px 1px rgba(60, 64, 67, 0.15);\n",
              "      fill: #174EA6;\n",
              "    }\n",
              "\n",
              "    [theme=dark] .colab-df-convert {\n",
              "      background-color: #3B4455;\n",
              "      fill: #D2E3FC;\n",
              "    }\n",
              "\n",
              "    [theme=dark] .colab-df-convert:hover {\n",
              "      background-color: #434B5C;\n",
              "      box-shadow: 0px 1px 3px 1px rgba(0, 0, 0, 0.15);\n",
              "      filter: drop-shadow(0px 1px 2px rgba(0, 0, 0, 0.3));\n",
              "      fill: #FFFFFF;\n",
              "    }\n",
              "  </style>\n",
              "\n",
              "      <script>\n",
              "        const buttonEl =\n",
              "          document.querySelector('#df-0fd61163-0133-44ab-94ed-d413253430da button.colab-df-convert');\n",
              "        buttonEl.style.display =\n",
              "          google.colab.kernel.accessAllowed ? 'block' : 'none';\n",
              "\n",
              "        async function convertToInteractive(key) {\n",
              "          const element = document.querySelector('#df-0fd61163-0133-44ab-94ed-d413253430da');\n",
              "          const dataTable =\n",
              "            await google.colab.kernel.invokeFunction('convertToInteractive',\n",
              "                                                     [key], {});\n",
              "          if (!dataTable) return;\n",
              "\n",
              "          const docLinkHtml = 'Like what you see? Visit the ' +\n",
              "            '<a target=\"_blank\" href=https://colab.research.google.com/notebooks/data_table.ipynb>data table notebook</a>'\n",
              "            + ' to learn more about interactive tables.';\n",
              "          element.innerHTML = '';\n",
              "          dataTable['output_type'] = 'display_data';\n",
              "          await google.colab.output.renderOutput(dataTable, element);\n",
              "          const docLink = document.createElement('div');\n",
              "          docLink.innerHTML = docLinkHtml;\n",
              "          element.appendChild(docLink);\n",
              "        }\n",
              "      </script>\n",
              "    </div>\n",
              "  </div>\n",
              "  "
            ]
          },
          "metadata": {},
          "execution_count": 227
        }
      ]
    },
    {
      "cell_type": "code",
      "source": [
        "vm_id = ts_df.vm_id.values[0]\n",
        "print(\"VM ID :\", vm_id)"
      ],
      "metadata": {
        "colab": {
          "base_uri": "https://localhost:8080/"
        },
        "id": "Tr2YJgXEVcYv",
        "outputId": "82566726-acdb-4925-9320-25691a911e67"
      },
      "execution_count": 228,
      "outputs": [
        {
          "output_type": "stream",
          "name": "stdout",
          "text": [
            "VM ID : N0gBVBQviQ4n/jyolzXWac39GOcL3596Re7d2N7RpmffGFx5smmLtuuiOL4K2FhH\n"
          ]
        }
      ]
    },
    {
      "cell_type": "code",
      "source": [
        "ts_df.drop(['vm_id'],axis=1, inplace=True)\n",
        "ts_df.head()"
      ],
      "metadata": {
        "colab": {
          "base_uri": "https://localhost:8080/",
          "height": 206
        },
        "id": "CZ4ZvKh1WnlR",
        "outputId": "3671ae7e-b69f-4a1e-a345-3e812bb0f36f"
      },
      "execution_count": 229,
      "outputs": [
        {
          "output_type": "execute_result",
          "data": {
            "text/plain": [
              "   timestamp   min_cpu    max_cpu    avg_cpu\n",
              "0      28500  0.229712   0.273500   0.259068\n",
              "1      28800  0.178615  21.272731   3.830728\n",
              "2      29100  0.801574   2.160884   1.119981\n",
              "3      29400  0.791357  43.145457   2.321687\n",
              "4      29700  0.896171  98.838522  18.760553"
            ],
            "text/html": [
              "\n",
              "  <div id=\"df-a0e4fbd3-3d43-4a0f-9972-57b772d9e83b\">\n",
              "    <div class=\"colab-df-container\">\n",
              "      <div>\n",
              "<style scoped>\n",
              "    .dataframe tbody tr th:only-of-type {\n",
              "        vertical-align: middle;\n",
              "    }\n",
              "\n",
              "    .dataframe tbody tr th {\n",
              "        vertical-align: top;\n",
              "    }\n",
              "\n",
              "    .dataframe thead th {\n",
              "        text-align: right;\n",
              "    }\n",
              "</style>\n",
              "<table border=\"1\" class=\"dataframe\">\n",
              "  <thead>\n",
              "    <tr style=\"text-align: right;\">\n",
              "      <th></th>\n",
              "      <th>timestamp</th>\n",
              "      <th>min_cpu</th>\n",
              "      <th>max_cpu</th>\n",
              "      <th>avg_cpu</th>\n",
              "    </tr>\n",
              "  </thead>\n",
              "  <tbody>\n",
              "    <tr>\n",
              "      <th>0</th>\n",
              "      <td>28500</td>\n",
              "      <td>0.229712</td>\n",
              "      <td>0.273500</td>\n",
              "      <td>0.259068</td>\n",
              "    </tr>\n",
              "    <tr>\n",
              "      <th>1</th>\n",
              "      <td>28800</td>\n",
              "      <td>0.178615</td>\n",
              "      <td>21.272731</td>\n",
              "      <td>3.830728</td>\n",
              "    </tr>\n",
              "    <tr>\n",
              "      <th>2</th>\n",
              "      <td>29100</td>\n",
              "      <td>0.801574</td>\n",
              "      <td>2.160884</td>\n",
              "      <td>1.119981</td>\n",
              "    </tr>\n",
              "    <tr>\n",
              "      <th>3</th>\n",
              "      <td>29400</td>\n",
              "      <td>0.791357</td>\n",
              "      <td>43.145457</td>\n",
              "      <td>2.321687</td>\n",
              "    </tr>\n",
              "    <tr>\n",
              "      <th>4</th>\n",
              "      <td>29700</td>\n",
              "      <td>0.896171</td>\n",
              "      <td>98.838522</td>\n",
              "      <td>18.760553</td>\n",
              "    </tr>\n",
              "  </tbody>\n",
              "</table>\n",
              "</div>\n",
              "      <button class=\"colab-df-convert\" onclick=\"convertToInteractive('df-a0e4fbd3-3d43-4a0f-9972-57b772d9e83b')\"\n",
              "              title=\"Convert this dataframe to an interactive table.\"\n",
              "              style=\"display:none;\">\n",
              "        \n",
              "  <svg xmlns=\"http://www.w3.org/2000/svg\" height=\"24px\"viewBox=\"0 0 24 24\"\n",
              "       width=\"24px\">\n",
              "    <path d=\"M0 0h24v24H0V0z\" fill=\"none\"/>\n",
              "    <path d=\"M18.56 5.44l.94 2.06.94-2.06 2.06-.94-2.06-.94-.94-2.06-.94 2.06-2.06.94zm-11 1L8.5 8.5l.94-2.06 2.06-.94-2.06-.94L8.5 2.5l-.94 2.06-2.06.94zm10 10l.94 2.06.94-2.06 2.06-.94-2.06-.94-.94-2.06-.94 2.06-2.06.94z\"/><path d=\"M17.41 7.96l-1.37-1.37c-.4-.4-.92-.59-1.43-.59-.52 0-1.04.2-1.43.59L10.3 9.45l-7.72 7.72c-.78.78-.78 2.05 0 2.83L4 21.41c.39.39.9.59 1.41.59.51 0 1.02-.2 1.41-.59l7.78-7.78 2.81-2.81c.8-.78.8-2.07 0-2.86zM5.41 20L4 18.59l7.72-7.72 1.47 1.35L5.41 20z\"/>\n",
              "  </svg>\n",
              "      </button>\n",
              "      \n",
              "  <style>\n",
              "    .colab-df-container {\n",
              "      display:flex;\n",
              "      flex-wrap:wrap;\n",
              "      gap: 12px;\n",
              "    }\n",
              "\n",
              "    .colab-df-convert {\n",
              "      background-color: #E8F0FE;\n",
              "      border: none;\n",
              "      border-radius: 50%;\n",
              "      cursor: pointer;\n",
              "      display: none;\n",
              "      fill: #1967D2;\n",
              "      height: 32px;\n",
              "      padding: 0 0 0 0;\n",
              "      width: 32px;\n",
              "    }\n",
              "\n",
              "    .colab-df-convert:hover {\n",
              "      background-color: #E2EBFA;\n",
              "      box-shadow: 0px 1px 2px rgba(60, 64, 67, 0.3), 0px 1px 3px 1px rgba(60, 64, 67, 0.15);\n",
              "      fill: #174EA6;\n",
              "    }\n",
              "\n",
              "    [theme=dark] .colab-df-convert {\n",
              "      background-color: #3B4455;\n",
              "      fill: #D2E3FC;\n",
              "    }\n",
              "\n",
              "    [theme=dark] .colab-df-convert:hover {\n",
              "      background-color: #434B5C;\n",
              "      box-shadow: 0px 1px 3px 1px rgba(0, 0, 0, 0.15);\n",
              "      filter: drop-shadow(0px 1px 2px rgba(0, 0, 0, 0.3));\n",
              "      fill: #FFFFFF;\n",
              "    }\n",
              "  </style>\n",
              "\n",
              "      <script>\n",
              "        const buttonEl =\n",
              "          document.querySelector('#df-a0e4fbd3-3d43-4a0f-9972-57b772d9e83b button.colab-df-convert');\n",
              "        buttonEl.style.display =\n",
              "          google.colab.kernel.accessAllowed ? 'block' : 'none';\n",
              "\n",
              "        async function convertToInteractive(key) {\n",
              "          const element = document.querySelector('#df-a0e4fbd3-3d43-4a0f-9972-57b772d9e83b');\n",
              "          const dataTable =\n",
              "            await google.colab.kernel.invokeFunction('convertToInteractive',\n",
              "                                                     [key], {});\n",
              "          if (!dataTable) return;\n",
              "\n",
              "          const docLinkHtml = 'Like what you see? Visit the ' +\n",
              "            '<a target=\"_blank\" href=https://colab.research.google.com/notebooks/data_table.ipynb>data table notebook</a>'\n",
              "            + ' to learn more about interactive tables.';\n",
              "          element.innerHTML = '';\n",
              "          dataTable['output_type'] = 'display_data';\n",
              "          await google.colab.output.renderOutput(dataTable, element);\n",
              "          const docLink = document.createElement('div');\n",
              "          docLink.innerHTML = docLinkHtml;\n",
              "          element.appendChild(docLink);\n",
              "        }\n",
              "      </script>\n",
              "    </div>\n",
              "  </div>\n",
              "  "
            ]
          },
          "metadata": {},
          "execution_count": 229
        }
      ]
    },
    {
      "cell_type": "code",
      "source": [
        "from sklearn.preprocessing import MinMaxScaler, StandardScaler\n",
        "import warnings\n",
        "warnings.filterwarnings('ignore')\n",
        "from scipy import stats\n",
        "import tensorflow as tf\n",
        "from tensorflow import keras\n",
        "from tensorflow.keras import Sequential, layers, callbacks\n",
        "from tensorflow.keras.layers import Dense, Dropout, GRU"
      ],
      "metadata": {
        "id": "2_9d7Uygo82M"
      },
      "execution_count": 230,
      "outputs": []
    },
    {
      "cell_type": "code",
      "source": [
        "tf.random.set_seed(1310)"
      ],
      "metadata": {
        "id": "75URiRLcpAYx"
      },
      "execution_count": 231,
      "outputs": []
    },
    {
      "cell_type": "code",
      "source": [
        "ts_df['timestamp'] = ts_df['timestamp']/300\n",
        "ts_df['timestamp'] = ts_df['timestamp'].astype('int')\n",
        "ts_df.head()"
      ],
      "metadata": {
        "colab": {
          "base_uri": "https://localhost:8080/",
          "height": 206
        },
        "id": "oyDro-5a8NBR",
        "outputId": "3bef40e6-f318-439d-a407-4c596c915907"
      },
      "execution_count": 232,
      "outputs": [
        {
          "output_type": "execute_result",
          "data": {
            "text/plain": [
              "   timestamp   min_cpu    max_cpu    avg_cpu\n",
              "0         95  0.229712   0.273500   0.259068\n",
              "1         96  0.178615  21.272731   3.830728\n",
              "2         97  0.801574   2.160884   1.119981\n",
              "3         98  0.791357  43.145457   2.321687\n",
              "4         99  0.896171  98.838522  18.760553"
            ],
            "text/html": [
              "\n",
              "  <div id=\"df-96e426bb-275f-47f6-90f5-c7209e7decbf\">\n",
              "    <div class=\"colab-df-container\">\n",
              "      <div>\n",
              "<style scoped>\n",
              "    .dataframe tbody tr th:only-of-type {\n",
              "        vertical-align: middle;\n",
              "    }\n",
              "\n",
              "    .dataframe tbody tr th {\n",
              "        vertical-align: top;\n",
              "    }\n",
              "\n",
              "    .dataframe thead th {\n",
              "        text-align: right;\n",
              "    }\n",
              "</style>\n",
              "<table border=\"1\" class=\"dataframe\">\n",
              "  <thead>\n",
              "    <tr style=\"text-align: right;\">\n",
              "      <th></th>\n",
              "      <th>timestamp</th>\n",
              "      <th>min_cpu</th>\n",
              "      <th>max_cpu</th>\n",
              "      <th>avg_cpu</th>\n",
              "    </tr>\n",
              "  </thead>\n",
              "  <tbody>\n",
              "    <tr>\n",
              "      <th>0</th>\n",
              "      <td>95</td>\n",
              "      <td>0.229712</td>\n",
              "      <td>0.273500</td>\n",
              "      <td>0.259068</td>\n",
              "    </tr>\n",
              "    <tr>\n",
              "      <th>1</th>\n",
              "      <td>96</td>\n",
              "      <td>0.178615</td>\n",
              "      <td>21.272731</td>\n",
              "      <td>3.830728</td>\n",
              "    </tr>\n",
              "    <tr>\n",
              "      <th>2</th>\n",
              "      <td>97</td>\n",
              "      <td>0.801574</td>\n",
              "      <td>2.160884</td>\n",
              "      <td>1.119981</td>\n",
              "    </tr>\n",
              "    <tr>\n",
              "      <th>3</th>\n",
              "      <td>98</td>\n",
              "      <td>0.791357</td>\n",
              "      <td>43.145457</td>\n",
              "      <td>2.321687</td>\n",
              "    </tr>\n",
              "    <tr>\n",
              "      <th>4</th>\n",
              "      <td>99</td>\n",
              "      <td>0.896171</td>\n",
              "      <td>98.838522</td>\n",
              "      <td>18.760553</td>\n",
              "    </tr>\n",
              "  </tbody>\n",
              "</table>\n",
              "</div>\n",
              "      <button class=\"colab-df-convert\" onclick=\"convertToInteractive('df-96e426bb-275f-47f6-90f5-c7209e7decbf')\"\n",
              "              title=\"Convert this dataframe to an interactive table.\"\n",
              "              style=\"display:none;\">\n",
              "        \n",
              "  <svg xmlns=\"http://www.w3.org/2000/svg\" height=\"24px\"viewBox=\"0 0 24 24\"\n",
              "       width=\"24px\">\n",
              "    <path d=\"M0 0h24v24H0V0z\" fill=\"none\"/>\n",
              "    <path d=\"M18.56 5.44l.94 2.06.94-2.06 2.06-.94-2.06-.94-.94-2.06-.94 2.06-2.06.94zm-11 1L8.5 8.5l.94-2.06 2.06-.94-2.06-.94L8.5 2.5l-.94 2.06-2.06.94zm10 10l.94 2.06.94-2.06 2.06-.94-2.06-.94-.94-2.06-.94 2.06-2.06.94z\"/><path d=\"M17.41 7.96l-1.37-1.37c-.4-.4-.92-.59-1.43-.59-.52 0-1.04.2-1.43.59L10.3 9.45l-7.72 7.72c-.78.78-.78 2.05 0 2.83L4 21.41c.39.39.9.59 1.41.59.51 0 1.02-.2 1.41-.59l7.78-7.78 2.81-2.81c.8-.78.8-2.07 0-2.86zM5.41 20L4 18.59l7.72-7.72 1.47 1.35L5.41 20z\"/>\n",
              "  </svg>\n",
              "      </button>\n",
              "      \n",
              "  <style>\n",
              "    .colab-df-container {\n",
              "      display:flex;\n",
              "      flex-wrap:wrap;\n",
              "      gap: 12px;\n",
              "    }\n",
              "\n",
              "    .colab-df-convert {\n",
              "      background-color: #E8F0FE;\n",
              "      border: none;\n",
              "      border-radius: 50%;\n",
              "      cursor: pointer;\n",
              "      display: none;\n",
              "      fill: #1967D2;\n",
              "      height: 32px;\n",
              "      padding: 0 0 0 0;\n",
              "      width: 32px;\n",
              "    }\n",
              "\n",
              "    .colab-df-convert:hover {\n",
              "      background-color: #E2EBFA;\n",
              "      box-shadow: 0px 1px 2px rgba(60, 64, 67, 0.3), 0px 1px 3px 1px rgba(60, 64, 67, 0.15);\n",
              "      fill: #174EA6;\n",
              "    }\n",
              "\n",
              "    [theme=dark] .colab-df-convert {\n",
              "      background-color: #3B4455;\n",
              "      fill: #D2E3FC;\n",
              "    }\n",
              "\n",
              "    [theme=dark] .colab-df-convert:hover {\n",
              "      background-color: #434B5C;\n",
              "      box-shadow: 0px 1px 3px 1px rgba(0, 0, 0, 0.15);\n",
              "      filter: drop-shadow(0px 1px 2px rgba(0, 0, 0, 0.3));\n",
              "      fill: #FFFFFF;\n",
              "    }\n",
              "  </style>\n",
              "\n",
              "      <script>\n",
              "        const buttonEl =\n",
              "          document.querySelector('#df-96e426bb-275f-47f6-90f5-c7209e7decbf button.colab-df-convert');\n",
              "        buttonEl.style.display =\n",
              "          google.colab.kernel.accessAllowed ? 'block' : 'none';\n",
              "\n",
              "        async function convertToInteractive(key) {\n",
              "          const element = document.querySelector('#df-96e426bb-275f-47f6-90f5-c7209e7decbf');\n",
              "          const dataTable =\n",
              "            await google.colab.kernel.invokeFunction('convertToInteractive',\n",
              "                                                     [key], {});\n",
              "          if (!dataTable) return;\n",
              "\n",
              "          const docLinkHtml = 'Like what you see? Visit the ' +\n",
              "            '<a target=\"_blank\" href=https://colab.research.google.com/notebooks/data_table.ipynb>data table notebook</a>'\n",
              "            + ' to learn more about interactive tables.';\n",
              "          element.innerHTML = '';\n",
              "          dataTable['output_type'] = 'display_data';\n",
              "          await google.colab.output.renderOutput(dataTable, element);\n",
              "          const docLink = document.createElement('div');\n",
              "          docLink.innerHTML = docLinkHtml;\n",
              "          element.appendChild(docLink);\n",
              "        }\n",
              "      </script>\n",
              "    </div>\n",
              "  </div>\n",
              "  "
            ]
          },
          "metadata": {},
          "execution_count": 232
        }
      ]
    },
    {
      "cell_type": "code",
      "source": [
        "def timeseries (x_axis, y_axis, y_label):\n",
        "    plt.figure(figsize = (20, 6))\n",
        "    plt.plot(x_axis, y_axis, color ='blue')\n",
        "    plt.xlabel('time', {'fontsize': 12}) \n",
        "    plt.ylabel(y_label, {'fontsize': 12})"
      ],
      "metadata": {
        "id": "F2FLML_m8aJq"
      },
      "execution_count": 233,
      "outputs": []
    },
    {
      "cell_type": "code",
      "source": [
        "timeseries (ts_df['timestamp'], ts_df['max_cpu'], 'MAX CPU')"
      ],
      "metadata": {
        "colab": {
          "base_uri": "https://localhost:8080/",
          "height": 391
        },
        "id": "VJ0_WJ-q8djd",
        "outputId": "622502f5-9c8a-4693-e02a-846b1be717b3"
      },
      "execution_count": 234,
      "outputs": [
        {
          "output_type": "display_data",
          "data": {
            "text/plain": [
              "<Figure size 1440x432 with 1 Axes>"
            ],
            "image/png": "[encoded data removed]"
          },
          "metadata": {
            "needs_background": "light"
          }
        }
      ]
    },
    {
      "cell_type": "code",
      "source": [
        "df_max = ts_df.drop(['min_cpu', 'avg_cpu'], axis=1)\n",
        "df_max = df_max.set_index('timestamp')\n",
        "df_max.head()"
      ],
      "metadata": {
        "colab": {
          "base_uri": "https://localhost:8080/",
          "height": 238
        },
        "id": "tvXQoXzY8iED",
        "outputId": "91e7d6c4-2c31-468f-c2f5-77ea26c1bf50"
      },
      "execution_count": 235,
      "outputs": [
        {
          "output_type": "execute_result",
          "data": {
            "text/plain": [
              "             max_cpu\n",
              "timestamp           \n",
              "95          0.273500\n",
              "96         21.272731\n",
              "97          2.160884\n",
              "98         43.145457\n",
              "99         98.838522"
            ],
            "text/html": [
              "\n",
              "  <div id=\"df-53adb688-ebff-4f96-9b78-4f82be79443e\">\n",
              "    <div class=\"colab-df-container\">\n",
              "      <div>\n",
              "<style scoped>\n",
              "    .dataframe tbody tr th:only-of-type {\n",
              "        vertical-align: middle;\n",
              "    }\n",
              "\n",
              "    .dataframe tbody tr th {\n",
              "        vertical-align: top;\n",
              "    }\n",
              "\n",
              "    .dataframe thead th {\n",
              "        text-align: right;\n",
              "    }\n",
              "</style>\n",
              "<table border=\"1\" class=\"dataframe\">\n",
              "  <thead>\n",
              "    <tr style=\"text-align: right;\">\n",
              "      <th></th>\n",
              "      <th>max_cpu</th>\n",
              "    </tr>\n",
              "    <tr>\n",
              "      <th>timestamp</th>\n",
              "      <th></th>\n",
              "    </tr>\n",
              "  </thead>\n",
              "  <tbody>\n",
              "    <tr>\n",
              "      <th>95</th>\n",
              "      <td>0.273500</td>\n",
              "    </tr>\n",
              "    <tr>\n",
              "      <th>96</th>\n",
              "      <td>21.272731</td>\n",
              "    </tr>\n",
              "    <tr>\n",
              "      <th>97</th>\n",
              "      <td>2.160884</td>\n",
              "    </tr>\n",
              "    <tr>\n",
              "      <th>98</th>\n",
              "      <td>43.145457</td>\n",
              "    </tr>\n",
              "    <tr>\n",
              "      <th>99</th>\n",
              "      <td>98.838522</td>\n",
              "    </tr>\n",
              "  </tbody>\n",
              "</table>\n",
              "</div>\n",
              "      <button class=\"colab-df-convert\" onclick=\"convertToInteractive('df-53adb688-ebff-4f96-9b78-4f82be79443e')\"\n",
              "              title=\"Convert this dataframe to an interactive table.\"\n",
              "              style=\"display:none;\">\n",
              "        \n",
              "  <svg xmlns=\"http://www.w3.org/2000/svg\" height=\"24px\"viewBox=\"0 0 24 24\"\n",
              "       width=\"24px\">\n",
              "    <path d=\"M0 0h24v24H0V0z\" fill=\"none\"/>\n",
              "    <path d=\"M18.56 5.44l.94 2.06.94-2.06 2.06-.94-2.06-.94-.94-2.06-.94 2.06-2.06.94zm-11 1L8.5 8.5l.94-2.06 2.06-.94-2.06-.94L8.5 2.5l-.94 2.06-2.06.94zm10 10l.94 2.06.94-2.06 2.06-.94-2.06-.94-.94-2.06-.94 2.06-2.06.94z\"/><path d=\"M17.41 7.96l-1.37-1.37c-.4-.4-.92-.59-1.43-.59-.52 0-1.04.2-1.43.59L10.3 9.45l-7.72 7.72c-.78.78-.78 2.05 0 2.83L4 21.41c.39.39.9.59 1.41.59.51 0 1.02-.2 1.41-.59l7.78-7.78 2.81-2.81c.8-.78.8-2.07 0-2.86zM5.41 20L4 18.59l7.72-7.72 1.47 1.35L5.41 20z\"/>\n",
              "  </svg>\n",
              "      </button>\n",
              "      \n",
              "  <style>\n",
              "    .colab-df-container {\n",
              "      display:flex;\n",
              "      flex-wrap:wrap;\n",
              "      gap: 12px;\n",
              "    }\n",
              "\n",
              "    .colab-df-convert {\n",
              "      background-color: #E8F0FE;\n",
              "      border: none;\n",
              "      border-radius: 50%;\n",
              "      cursor: pointer;\n",
              "      display: none;\n",
              "      fill: #1967D2;\n",
              "      height: 32px;\n",
              "      padding: 0 0 0 0;\n",
              "      width: 32px;\n",
              "    }\n",
              "\n",
              "    .colab-df-convert:hover {\n",
              "      background-color: #E2EBFA;\n",
              "      box-shadow: 0px 1px 2px rgba(60, 64, 67, 0.3), 0px 1px 3px 1px rgba(60, 64, 67, 0.15);\n",
              "      fill: #174EA6;\n",
              "    }\n",
              "\n",
              "    [theme=dark] .colab-df-convert {\n",
              "      background-color: #3B4455;\n",
              "      fill: #D2E3FC;\n",
              "    }\n",
              "\n",
              "    [theme=dark] .colab-df-convert:hover {\n",
              "      background-color: #434B5C;\n",
              "      box-shadow: 0px 1px 3px 1px rgba(0, 0, 0, 0.15);\n",
              "      filter: drop-shadow(0px 1px 2px rgba(0, 0, 0, 0.3));\n",
              "      fill: #FFFFFF;\n",
              "    }\n",
              "  </style>\n",
              "\n",
              "      <script>\n",
              "        const buttonEl =\n",
              "          document.querySelector('#df-53adb688-ebff-4f96-9b78-4f82be79443e button.colab-df-convert');\n",
              "        buttonEl.style.display =\n",
              "          google.colab.kernel.accessAllowed ? 'block' : 'none';\n",
              "\n",
              "        async function convertToInteractive(key) {\n",
              "          const element = document.querySelector('#df-53adb688-ebff-4f96-9b78-4f82be79443e');\n",
              "          const dataTable =\n",
              "            await google.colab.kernel.invokeFunction('convertToInteractive',\n",
              "                                                     [key], {});\n",
              "          if (!dataTable) return;\n",
              "\n",
              "          const docLinkHtml = 'Like what you see? Visit the ' +\n",
              "            '<a target=\"_blank\" href=https://colab.research.google.com/notebooks/data_table.ipynb>data table notebook</a>'\n",
              "            + ' to learn more about interactive tables.';\n",
              "          element.innerHTML = '';\n",
              "          dataTable['output_type'] = 'display_data';\n",
              "          await google.colab.output.renderOutput(dataTable, element);\n",
              "          const docLink = document.createElement('div');\n",
              "          docLink.innerHTML = docLinkHtml;\n",
              "          element.appendChild(docLink);\n",
              "        }\n",
              "      </script>\n",
              "    </div>\n",
              "  </div>\n",
              "  "
            ]
          },
          "metadata": {},
          "execution_count": 235
        }
      ]
    },
    {
      "cell_type": "code",
      "source": [
        "# Split train data and test data\n",
        "train_size = int(len(df_max)*0.7)\n",
        "\n",
        "train_data = df_max.iloc[:train_size]\n",
        "test_data = df_max.iloc[train_size:]"
      ],
      "metadata": {
        "id": "X6SjiZG48p4B"
      },
      "execution_count": 236,
      "outputs": []
    },
    {
      "cell_type": "code",
      "source": [
        "test_data.shape"
      ],
      "metadata": {
        "colab": {
          "base_uri": "https://localhost:8080/"
        },
        "id": "6YTX4Bcq8tHn",
        "outputId": "b60fceaf-b995-42c7-b762-f1a05c50fb34"
      },
      "execution_count": 237,
      "outputs": [
        {
          "output_type": "execute_result",
          "data": {
            "text/plain": [
              "(2526, 1)"
            ]
          },
          "metadata": {},
          "execution_count": 237
        }
      ]
    },
    {
      "cell_type": "code",
      "source": [
        "def df_input_to_X_y(df, window_size=864):\n",
        "  df_to_np = df.to_numpy()\n",
        "  X = []\n",
        "  y = []\n",
        "  for i in range(len(df_to_np)-window_size):\n",
        "    row = [[a] for a in df_to_np[i:i+window_size]]\n",
        "    X.append(row)\n",
        "    label = df_to_np[i+window_size]\n",
        "    y.append(label)\n",
        "  return np.array(X), np.array(y)"
      ],
      "metadata": {
        "id": "BOl9jShb8vEo"
      },
      "execution_count": 238,
      "outputs": []
    },
    {
      "cell_type": "code",
      "source": [
        "WINDOW_SIZE = 864\n",
        "X_train, y_train = df_input_to_X_y(train_data,WINDOW_SIZE)\n",
        "X_test, y_test = df_input_to_X_y(test_data,WINDOW_SIZE)\n",
        "# Print data shape\n",
        "print('X_train.shape: ', X_train.shape)\n",
        "print('y_train.shape: ', y_train.shape)\n",
        "print('X_test.shape: ', X_test.shape) \n",
        "print('y_test.shape: ', y_test.shape)"
      ],
      "metadata": {
        "colab": {
          "base_uri": "https://localhost:8080/"
        },
        "id": "_y5V_mwE8xhX",
        "outputId": "03ddf1fb-fc7c-4aba-b87f-2c4d67421baa"
      },
      "execution_count": 239,
      "outputs": [
        {
          "output_type": "stream",
          "name": "stdout",
          "text": [
            "X_train.shape:  (5030, 864, 1, 1)\n",
            "y_train.shape:  (5030, 1)\n",
            "X_test.shape:  (1662, 864, 1, 1)\n",
            "y_test.shape:  (1662, 1)\n"
          ]
        }
      ]
    },
    {
      "cell_type": "code",
      "source": [
        "# Create GRU model\n",
        "def create_gru(units):\n",
        "    model = Sequential()\n",
        "    # Input layer\n",
        "    model.add(GRU (units = units, return_sequences = True, \n",
        "    input_shape = [X_train.shape[1], X_train.shape[2]]))\n",
        "    model.add(Dropout(0.2)) \n",
        "    # Hidden layer\n",
        "    model.add(GRU(units = units)) \n",
        "    model.add(Dropout(0.2))\n",
        "    model.add(Dense(units = 1)) \n",
        "    #Compile model\n",
        "    model.compile(optimizer='adam',loss='mse', metrics=[\"mae\", \"acc\"])\n",
        "    return model\n",
        "model_gru = create_gru(64)"
      ],
      "metadata": {
        "id": "sFiMcVTM83cT"
      },
      "execution_count": 240,
      "outputs": []
    },
    {
      "cell_type": "code",
      "source": [
        "def fit_model(model):\n",
        "    early_stop = keras.callbacks.EarlyStopping(monitor = 'val_loss',\n",
        "                                               patience = 10)\n",
        "    history = model.fit(X_train, y_train, epochs = 15,  \n",
        "                        validation_split = 0.3,\n",
        "                        batch_size = 8, shuffle = False)\n",
        "    return history\n",
        "history_gru = fit_model(model_gru)"
      ],
      "metadata": {
        "colab": {
          "base_uri": "https://localhost:8080/"
        },
        "id": "VwYq2qDM9GAD",
        "outputId": "766e9231-a64a-4ad9-88be-1ff1ce815b05"
      },
      "execution_count": 241,
      "outputs": [
        {
          "output_type": "stream",
          "name": "stdout",
          "text": [
            "Epoch 1/15\n",
            "441/441 [==============================] - 30s 60ms/step - loss: 15.9500 - mae: 1.1402 - acc: 0.0000e+00 - val_loss: 291.0363 - val_mae: 3.4996 - val_acc: 0.0000e+00\n",
            "Epoch 2/15\n",
            "441/441 [==============================] - 26s 59ms/step - loss: 14.3025 - mae: 1.0740 - acc: 0.0000e+00 - val_loss: 292.2012 - val_mae: 3.9171 - val_acc: 0.0000e+00\n",
            "Epoch 3/15\n",
            "441/441 [==============================] - 25s 58ms/step - loss: 13.7558 - mae: 1.0915 - acc: 0.0000e+00 - val_loss: 287.3895 - val_mae: 3.8982 - val_acc: 0.0000e+00\n",
            "Epoch 4/15\n",
            "441/441 [==============================] - 26s 60ms/step - loss: 12.2532 - mae: 1.0008 - acc: 0.0000e+00 - val_loss: 275.6215 - val_mae: 3.4099 - val_acc: 0.0000e+00\n",
            "Epoch 5/15\n",
            "441/441 [==============================] - 25s 58ms/step - loss: 10.6081 - mae: 1.0180 - acc: 0.0000e+00 - val_loss: 276.2172 - val_mae: 3.7532 - val_acc: 0.0000e+00\n",
            "Epoch 6/15\n",
            "441/441 [==============================] - 26s 59ms/step - loss: 14.1442 - mae: 1.0957 - acc: 0.0000e+00 - val_loss: 273.4563 - val_mae: 3.7780 - val_acc: 0.0000e+00\n",
            "Epoch 7/15\n",
            "441/441 [==============================] - 26s 58ms/step - loss: 10.5370 - mae: 1.0213 - acc: 0.0000e+00 - val_loss: 280.5428 - val_mae: 3.6655 - val_acc: 0.0000e+00\n",
            "Epoch 8/15\n",
            "441/441 [==============================] - 26s 60ms/step - loss: 8.3673 - mae: 0.9614 - acc: 0.0000e+00 - val_loss: 278.2750 - val_mae: 3.5027 - val_acc: 0.0000e+00\n",
            "Epoch 9/15\n",
            "441/441 [==============================] - 26s 60ms/step - loss: 8.2384 - mae: 0.9475 - acc: 0.0000e+00 - val_loss: 271.0324 - val_mae: 3.2742 - val_acc: 0.0000e+00\n",
            "Epoch 10/15\n",
            "441/441 [==============================] - 26s 60ms/step - loss: 5.7949 - mae: 0.8568 - acc: 0.0000e+00 - val_loss: 269.5260 - val_mae: 3.4025 - val_acc: 0.0000e+00\n",
            "Epoch 11/15\n",
            "441/441 [==============================] - 25s 58ms/step - loss: 6.8509 - mae: 0.9182 - acc: 0.0000e+00 - val_loss: 275.5510 - val_mae: 3.3017 - val_acc: 0.0000e+00\n",
            "Epoch 12/15\n",
            "441/441 [==============================] - 26s 59ms/step - loss: 6.1049 - mae: 0.8954 - acc: 0.0000e+00 - val_loss: 275.5223 - val_mae: 3.2932 - val_acc: 0.0000e+00\n",
            "Epoch 13/15\n",
            "441/441 [==============================] - 26s 58ms/step - loss: 7.6719 - mae: 0.9482 - acc: 0.0000e+00 - val_loss: 277.3747 - val_mae: 3.2821 - val_acc: 0.0000e+00\n",
            "Epoch 14/15\n",
            "441/441 [==============================] - 26s 58ms/step - loss: 4.6255 - mae: 0.8248 - acc: 0.0000e+00 - val_loss: 276.1553 - val_mae: 3.2632 - val_acc: 0.0000e+00\n",
            "Epoch 15/15\n",
            "441/441 [==============================] - 25s 57ms/step - loss: 4.2910 - mae: 0.7949 - acc: 0.0000e+00 - val_loss: 285.1239 - val_mae: 3.2822 - val_acc: 0.0000e+00\n"
          ]
        }
      ]
    },
    {
      "cell_type": "code",
      "source": [
        "def plot_loss (history, model_name):\n",
        "    plt.figure(figsize = (10, 6))\n",
        "    plt.plot(history.history['loss'])\n",
        "    plt.plot(history.history['val_loss'])\n",
        "    plt.title('Model Train vs Validation Loss for ' + model_name)\n",
        "    plt.ylabel('Loss')\n",
        "    plt.xlabel('epoch')\n",
        "    plt.legend(['Train loss', 'Validation loss'], loc='upper right')\n",
        " \n",
        "plot_loss (history_gru, 'GRU')"
      ],
      "metadata": {
        "colab": {
          "base_uri": "https://localhost:8080/",
          "height": 404
        },
        "id": "X9Mo1deO9J0K",
        "outputId": "25f020fe-9852-4fb9-829e-76704fe522b3"
      },
      "execution_count": 242,
      "outputs": [
        {
          "output_type": "display_data",
          "data": {
            "text/plain": [
              "<Figure size 720x432 with 1 Axes>"
            ],
            "image/png": "[encoded data removed]"
          },
          "metadata": {
            "needs_background": "light"
          }
        }
      ]
    },
    {
      "cell_type": "code",
      "source": [
        "# Make prediction\n",
        "def prediction(model):\n",
        "    prediction = model.predict(X_test)\n",
        "    return prediction\n",
        "prediction_gru = prediction(model_gru)"
      ],
      "metadata": {
        "colab": {
          "base_uri": "https://localhost:8080/"
        },
        "id": "zbcIsZR5-5Wg",
        "outputId": "0e1b5ac1-b14f-4bec-f7b7-8c58f88c798b"
      },
      "execution_count": 243,
      "outputs": [
        {
          "output_type": "stream",
          "name": "stdout",
          "text": [
            "52/52 [==============================] - 2s 21ms/step\n"
          ]
        }
      ]
    },
    {
      "cell_type": "code",
      "source": [
        "# Plot test data vs prediction\n",
        "def plot_future(prediction, model_name, y_test):\n",
        "    plt.figure(figsize=(30, 6))\n",
        "    range_future = len(prediction)\n",
        "    plt.plot(np.arange(range_future), np.array(y_test), \n",
        "             label='Actual data')\n",
        "    plt.plot(np.arange(range_future), \n",
        "             np.array(prediction),label='Prediction')\n",
        "    plt.title('Test data vs prediction for ' + model_name)\n",
        "    plt.legend(loc='upper left')\n",
        "    plt.xlabel('Time ')\n",
        "    plt.ylabel('Max CPU')\n",
        " \n",
        "plot_future(prediction_gru, 'GRU', y_test)"
      ],
      "metadata": {
        "colab": {
          "base_uri": "https://localhost:8080/",
          "height": 307
        },
        "id": "9U2EvyRy_Bf1",
        "outputId": "0cebcf25-33bd-4a8a-bc3b-2e6f58da7e95"
      },
      "execution_count": 244,
      "outputs": [
        {
          "output_type": "display_data",
          "data": {
            "text/plain": [
              "<Figure size 2160x432 with 1 Axes>"
            ],
            "image/png": "[encoded data removed]"
          },
          "metadata": {
            "needs_background": "light"
          }
        }
      ]
    },
    {
      "cell_type": "code",
      "source": [
        "predicted_max_list = []\n",
        "for looped in prediction_gru:\n",
        "  predicted_max_list.append(looped[0])\n",
        "len(predicted_max_list)"
      ],
      "metadata": {
        "colab": {
          "base_uri": "https://localhost:8080/"
        },
        "id": "xKgSvBcBBjz4",
        "outputId": "0c0bf8e5-8b9a-41ff-fc6c-87fc1f517ce6"
      },
      "execution_count": 245,
      "outputs": [
        {
          "output_type": "execute_result",
          "data": {
            "text/plain": [
              "1662"
            ]
          },
          "metadata": {},
          "execution_count": 245
        }
      ]
    },
    {
      "cell_type": "code",
      "source": [
        "analysis_df = pd.DataFrame()\n",
        "analysis_df = test_data.tail(prediction_gru.shape[0])\n",
        "analysis_df['pred_max_cpu'] = predicted_max_list\n",
        "analysis_df.shape"
      ],
      "metadata": {
        "colab": {
          "base_uri": "https://localhost:8080/"
        },
        "id": "LGW-t3P7BkTY",
        "outputId": "4ea0757c-1dfb-4d25-bd4f-fe3fd25325f7"
      },
      "execution_count": 246,
      "outputs": [
        {
          "output_type": "execute_result",
          "data": {
            "text/plain": [
              "(1662, 2)"
            ]
          },
          "metadata": {},
          "execution_count": 246
        }
      ]
    },
    {
      "cell_type": "code",
      "source": [
        "max_allowed_jump = 1.5\n",
        "peak_quantile = 0.9\n",
        "prev_val = analysis_df['pred_max_cpu'].quantile(q=peak_quantile)\n",
        "i = 0.91\n",
        "while i < 1:\n",
        "  curr_val = analysis_df['pred_max_cpu'].quantile(q=i)\n",
        "  if (curr_val - (prev_val*max_allowed_jump)) > 0.0:\n",
        "    break\n",
        "  peak_quantile = i\n",
        "  prev_val = curr_val\n",
        "  i = i + 0.01\n",
        "\n",
        "peak_val = analysis_df['pred_max_cpu'].quantile(q=peak_quantile)\n",
        "print(peak_val)"
      ],
      "metadata": {
        "colab": {
          "base_uri": "https://localhost:8080/"
        },
        "id": "hv2RhkQLBoXl",
        "outputId": "9f5fcfb9-c4a9-4dcd-dee8-963408c6e01a"
      },
      "execution_count": 247,
      "outputs": [
        {
          "output_type": "stream",
          "name": "stdout",
          "text": [
            "2.8547589111328406\n"
          ]
        }
      ]
    },
    {
      "cell_type": "code",
      "source": [
        "analysis_df.insert(0, 'id', range(1, 1 + len(analysis_df)))\n",
        "analysis_df.head()"
      ],
      "metadata": {
        "colab": {
          "base_uri": "https://localhost:8080/",
          "height": 238
        },
        "id": "kvZEXo-4GMcq",
        "outputId": "bda04461-4af0-4236-d0ef-527e32b87f30"
      },
      "execution_count": 248,
      "outputs": [
        {
          "output_type": "execute_result",
          "data": {
            "text/plain": [
              "           id   max_cpu  pred_max_cpu\n",
              "timestamp                            \n",
              "6939        1  1.117129      1.132372\n",
              "6940        2  1.039453      1.123870\n",
              "6941        3  1.072090      1.048633\n",
              "6942        4  1.256865      0.984123\n",
              "6943        5  1.046205      1.132227"
            ],
            "text/html": [
              "\n",
              "  <div id=\"df-34027049-d200-4586-a57c-fb0d6ca3e1e6\">\n",
              "    <div class=\"colab-df-container\">\n",
              "      <div>\n",
              "<style scoped>\n",
              "    .dataframe tbody tr th:only-of-type {\n",
              "        vertical-align: middle;\n",
              "    }\n",
              "\n",
              "    .dataframe tbody tr th {\n",
              "        vertical-align: top;\n",
              "    }\n",
              "\n",
              "    .dataframe thead th {\n",
              "        text-align: right;\n",
              "    }\n",
              "</style>\n",
              "<table border=\"1\" class=\"dataframe\">\n",
              "  <thead>\n",
              "    <tr style=\"text-align: right;\">\n",
              "      <th></th>\n",
              "      <th>id</th>\n",
              "      <th>max_cpu</th>\n",
              "      <th>pred_max_cpu</th>\n",
              "    </tr>\n",
              "    <tr>\n",
              "      <th>timestamp</th>\n",
              "      <th></th>\n",
              "      <th></th>\n",
              "      <th></th>\n",
              "    </tr>\n",
              "  </thead>\n",
              "  <tbody>\n",
              "    <tr>\n",
              "      <th>6939</th>\n",
              "      <td>1</td>\n",
              "      <td>1.117129</td>\n",
              "      <td>1.132372</td>\n",
              "    </tr>\n",
              "    <tr>\n",
              "      <th>6940</th>\n",
              "      <td>2</td>\n",
              "      <td>1.039453</td>\n",
              "      <td>1.123870</td>\n",
              "    </tr>\n",
              "    <tr>\n",
              "      <th>6941</th>\n",
              "      <td>3</td>\n",
              "      <td>1.072090</td>\n",
              "      <td>1.048633</td>\n",
              "    </tr>\n",
              "    <tr>\n",
              "      <th>6942</th>\n",
              "      <td>4</td>\n",
              "      <td>1.256865</td>\n",
              "      <td>0.984123</td>\n",
              "    </tr>\n",
              "    <tr>\n",
              "      <th>6943</th>\n",
              "      <td>5</td>\n",
              "      <td>1.046205</td>\n",
              "      <td>1.132227</td>\n",
              "    </tr>\n",
              "  </tbody>\n",
              "</table>\n",
              "</div>\n",
              "      <button class=\"colab-df-convert\" onclick=\"convertToInteractive('df-34027049-d200-4586-a57c-fb0d6ca3e1e6')\"\n",
              "              title=\"Convert this dataframe to an interactive table.\"\n",
              "              style=\"display:none;\">\n",
              "        \n",
              "  <svg xmlns=\"http://www.w3.org/2000/svg\" height=\"24px\"viewBox=\"0 0 24 24\"\n",
              "       width=\"24px\">\n",
              "    <path d=\"M0 0h24v24H0V0z\" fill=\"none\"/>\n",
              "    <path d=\"M18.56 5.44l.94 2.06.94-2.06 2.06-.94-2.06-.94-.94-2.06-.94 2.06-2.06.94zm-11 1L8.5 8.5l.94-2.06 2.06-.94-2.06-.94L8.5 2.5l-.94 2.06-2.06.94zm10 10l.94 2.06.94-2.06 2.06-.94-2.06-.94-.94-2.06-.94 2.06-2.06.94z\"/><path d=\"M17.41 7.96l-1.37-1.37c-.4-.4-.92-.59-1.43-.59-.52 0-1.04.2-1.43.59L10.3 9.45l-7.72 7.72c-.78.78-.78 2.05 0 2.83L4 21.41c.39.39.9.59 1.41.59.51 0 1.02-.2 1.41-.59l7.78-7.78 2.81-2.81c.8-.78.8-2.07 0-2.86zM5.41 20L4 18.59l7.72-7.72 1.47 1.35L5.41 20z\"/>\n",
              "  </svg>\n",
              "      </button>\n",
              "      \n",
              "  <style>\n",
              "    .colab-df-container {\n",
              "      display:flex;\n",
              "      flex-wrap:wrap;\n",
              "      gap: 12px;\n",
              "    }\n",
              "\n",
              "    .colab-df-convert {\n",
              "      background-color: #E8F0FE;\n",
              "      border: none;\n",
              "      border-radius: 50%;\n",
              "      cursor: pointer;\n",
              "      display: none;\n",
              "      fill: #1967D2;\n",
              "      height: 32px;\n",
              "      padding: 0 0 0 0;\n",
              "      width: 32px;\n",
              "    }\n",
              "\n",
              "    .colab-df-convert:hover {\n",
              "      background-color: #E2EBFA;\n",
              "      box-shadow: 0px 1px 2px rgba(60, 64, 67, 0.3), 0px 1px 3px 1px rgba(60, 64, 67, 0.15);\n",
              "      fill: #174EA6;\n",
              "    }\n",
              "\n",
              "    [theme=dark] .colab-df-convert {\n",
              "      background-color: #3B4455;\n",
              "      fill: #D2E3FC;\n",
              "    }\n",
              "\n",
              "    [theme=dark] .colab-df-convert:hover {\n",
              "      background-color: #434B5C;\n",
              "      box-shadow: 0px 1px 3px 1px rgba(0, 0, 0, 0.15);\n",
              "      filter: drop-shadow(0px 1px 2px rgba(0, 0, 0, 0.3));\n",
              "      fill: #FFFFFF;\n",
              "    }\n",
              "  </style>\n",
              "\n",
              "      <script>\n",
              "        const buttonEl =\n",
              "          document.querySelector('#df-34027049-d200-4586-a57c-fb0d6ca3e1e6 button.colab-df-convert');\n",
              "        buttonEl.style.display =\n",
              "          google.colab.kernel.accessAllowed ? 'block' : 'none';\n",
              "\n",
              "        async function convertToInteractive(key) {\n",
              "          const element = document.querySelector('#df-34027049-d200-4586-a57c-fb0d6ca3e1e6');\n",
              "          const dataTable =\n",
              "            await google.colab.kernel.invokeFunction('convertToInteractive',\n",
              "                                                     [key], {});\n",
              "          if (!dataTable) return;\n",
              "\n",
              "          const docLinkHtml = 'Like what you see? Visit the ' +\n",
              "            '<a target=\"_blank\" href=https://colab.research.google.com/notebooks/data_table.ipynb>data table notebook</a>'\n",
              "            + ' to learn more about interactive tables.';\n",
              "          element.innerHTML = '';\n",
              "          dataTable['output_type'] = 'display_data';\n",
              "          await google.colab.output.renderOutput(dataTable, element);\n",
              "          const docLink = document.createElement('div');\n",
              "          docLink.innerHTML = docLinkHtml;\n",
              "          element.appendChild(docLink);\n",
              "        }\n",
              "      </script>\n",
              "    </div>\n",
              "  </div>\n",
              "  "
            ]
          },
          "metadata": {},
          "execution_count": 248
        }
      ]
    },
    {
      "cell_type": "code",
      "source": [
        "analysis_df[analysis_df['pred_max_cpu'] > peak_val].id.values"
      ],
      "metadata": {
        "colab": {
          "base_uri": "https://localhost:8080/"
        },
        "id": "wAARGeP9LlFb",
        "outputId": "d6df1557-ceaf-4ce1-f5da-5ddfbba47778"
      },
      "execution_count": 249,
      "outputs": [
        {
          "output_type": "execute_result",
          "data": {
            "text/plain": [
              "array([ 237,  238,  239,  240,  241,  242,  243,  246,  247,  257,  258,\n",
              "        259,  275,  276,  496,  497,  514,  515,  529,  795,  796,  814,\n",
              "        815,  867,  868, 1079, 1080, 1095, 1096, 1149, 1369, 1428, 1445,\n",
              "       1657])"
            ]
          },
          "metadata": {},
          "execution_count": 249
        }
      ]
    },
    {
      "cell_type": "code",
      "source": [
        "high_cpu_values = set(analysis_df[analysis_df['pred_max_cpu'] > peak_val].id.values)\n",
        "len(high_cpu_values)"
      ],
      "metadata": {
        "colab": {
          "base_uri": "https://localhost:8080/"
        },
        "id": "loGpE0jvLlMr",
        "outputId": "002e3027-47d1-46c9-9297-5cc46c7fd6f5"
      },
      "execution_count": 250,
      "outputs": [
        {
          "output_type": "execute_result",
          "data": {
            "text/plain": [
              "34"
            ]
          },
          "metadata": {},
          "execution_count": 250
        }
      ]
    },
    {
      "cell_type": "code",
      "source": [
        "high_band_cpu = []\n",
        "for val in high_cpu_values:\n",
        "  high_band_cpu.extend(list(range(val-5,val+5)))"
      ],
      "metadata": {
        "id": "iA6eagAbHNKW"
      },
      "execution_count": 251,
      "outputs": []
    },
    {
      "cell_type": "code",
      "source": [
        "print(len(high_band_cpu))\n",
        "print(len(set(high_band_cpu)))"
      ],
      "metadata": {
        "colab": {
          "base_uri": "https://localhost:8080/"
        },
        "id": "okNw5SeVNohL",
        "outputId": "c3cb8fdc-878a-4218-86e7-8f1060016d70"
      },
      "execution_count": 252,
      "outputs": [
        {
          "output_type": "stream",
          "name": "stdout",
          "text": [
            "340\n",
            "180\n"
          ]
        }
      ]
    },
    {
      "cell_type": "code",
      "source": [
        "high_cpu_values = high_cpu_values.union(set(high_band_cpu))\n",
        "len(high_cpu_values)"
      ],
      "metadata": {
        "colab": {
          "base_uri": "https://localhost:8080/"
        },
        "id": "CL9hNX8kNYfN",
        "outputId": "6c421a18-0da0-4c8a-ed08-ea2b969dfceb"
      },
      "execution_count": 253,
      "outputs": [
        {
          "output_type": "execute_result",
          "data": {
            "text/plain": [
              "180"
            ]
          },
          "metadata": {},
          "execution_count": 253
        }
      ]
    },
    {
      "cell_type": "code",
      "source": [
        "analysis_df['highcpu'] = analysis_df['id'].map(lambda p : 100 if p in high_cpu_values else 50)\n",
        "analysis_df[analysis_df['highcpu'] == 100].shape"
      ],
      "metadata": {
        "colab": {
          "base_uri": "https://localhost:8080/"
        },
        "id": "PTHgJAiICrBG",
        "outputId": "83077f18-ce7c-42aa-a8e5-6dd270d566fd"
      },
      "execution_count": 254,
      "outputs": [
        {
          "output_type": "execute_result",
          "data": {
            "text/plain": [
              "(180, 4)"
            ]
          },
          "metadata": {},
          "execution_count": 254
        }
      ]
    },
    {
      "cell_type": "code",
      "source": [
        "plt.figure(figsize=(30, 6))\n",
        "range_future = len(analysis_df)\n",
        "plt.plot(np.arange(range_future), np.array(analysis_df.max_cpu), \n",
        "         label='Actual data')\n",
        "plt.plot(np.arange(range_future), \n",
        "         np.array(analysis_df.pred_max_cpu),label='Predicted data')\n",
        "plt.plot(np.arange(range_future), \n",
        "         np.array(analysis_df.highcpu),label='High CPU')\n",
        "plt.title('High CPU Bands')\n",
        "plt.legend(loc='upper left')\n",
        "plt.xlabel('Time ')\n",
        "plt.ylabel('Max CPU')"
      ],
      "metadata": {
        "colab": {
          "base_uri": "https://localhost:8080/",
          "height": 324
        },
        "id": "3zRVsiAIJroD",
        "outputId": "a3a68525-12ea-4d1a-f655-7289ec2a06df"
      },
      "execution_count": 255,
      "outputs": [
        {
          "output_type": "execute_result",
          "data": {
            "text/plain": [
              "Text(0, 0.5, 'Max CPU')"
            ]
          },
          "metadata": {},
          "execution_count": 255
        },
        {
          "output_type": "display_data",
          "data": {
            "text/plain": [
              "<Figure size 2160x432 with 1 Axes>"
            ],
            "image/png": "[encoded data removed]"
          },
          "metadata": {
            "needs_background": "light"
          }
        }
      ]
    },
    {
      "cell_type": "code",
      "source": [
        "data_path = 'https://raw.githubusercontent.com/gags13/datasets/main/final_filtered.csv'\n",
        "\n",
        "vm_dataframe = pd.read_csv(data_path, index_col=False, delimiter=',')\n",
        "vm_dataframe.drop(['Unnamed: 0'],axis=1, inplace=True)\n",
        "vm_dataframe.head()"
      ],
      "metadata": {
        "colab": {
          "base_uri": "https://localhost:8080/",
          "height": 357
        },
        "id": "OZfxddVFP_zi",
        "outputId": "cc79a3f9-c061-4218-eba7-452299ece521"
      },
      "execution_count": 256,
      "outputs": [
        {
          "output_type": "execute_result",
          "data": {
            "text/plain": [
              "                                                vmid  \\\n",
              "0  trjCc/lisNnKRnpFtPMmULgw1gUoiymSCshiGZfLY/Oil4...   \n",
              "1  RVfel1jVo2UTjdHeqMgqJcVcfBUG/V9mV6Un47p8vGHiFj...   \n",
              "2  mY+fWVBQe0tTfdVMO/2Ea9AAjDyN2ndi/40U59iUNxiTRu...   \n",
              "3  N0gBVBQviQ4n/jyolzXWac39GOcL3596Re7d2N7RpmffGF...   \n",
              "4  4Cka/a5H763ZPaDuuNo6MhnfKQ56hvTrTxPgWmcJyh2ItB...   \n",
              "\n",
              "                                      subscriptionid  \\\n",
              "0  9j4lLAdcydRsC+LhAQG/IS6Q15Z+tw3IYiCwH6QuxxtuQ1...   \n",
              "1  NM+rYlOuvfObftjnvrHy7hUorr5ulWm8UgTM9A1SZniRTv...   \n",
              "2  8mYUop47Ih3Ka0m8+fxnNmM1rUjlJ9vDkclgoBJViVmWPr...   \n",
              "3  8mYUop47Ih3Ka0m8+fxnNmM1rUjlJ9vDkclgoBJViVmWPr...   \n",
              "4  HzLK24LbYXd1kU9jw99gYFREpnAkKefq7MKwAxhEwzct60...   \n",
              "\n",
              "                                        deploymentid  vmcreated  vmdeleted  \\\n",
              "0  amCh31pwRrNqxYhYZMQ9kTaBv6Nsj9KELkMwZXIujmvpbm...          0    2591400   \n",
              "1  tGInpwc5Wi0Tq15xunBKLtsbC6Bxk5LP2e+NIsoDe/D3jg...          0    2589000   \n",
              "2  fIRf+CYG8jmlnysPUgzCuo7L/D1tV9jirr4FaJCQtaI7/n...      28800    2591400   \n",
              "3  fIRf+CYG8jmlnysPUgzCuo7L/D1tV9jirr4FaJCQtaI7/n...      28500    2591400   \n",
              "4  wggQWvknTcqrfDqxcQGGT40iu8/aEgjBj5i6e3bu9qtUc8...          0    2591400   \n",
              "\n",
              "      maxcpu    avgcpu  p95maxcpu         vmcategory  vmcorecountbucket  \\\n",
              "0  96.715705  0.938933   0.863622  Delay-insensitive                  2   \n",
              "1  98.226568  2.410055   2.297678  Delay-insensitive                  2   \n",
              "2  97.194277  2.076477   1.938042  Delay-insensitive                  4   \n",
              "3  98.838522  2.479152   2.367730  Delay-insensitive                  4   \n",
              "4  99.278745  0.895093   0.716898  Delay-insensitive                  2   \n",
              "\n",
              "   vmmemorybucket    lifetime     corehour  target  delmaxavg  delmaxp95  \\\n",
              "0               2  719.833333  1439.666667       1  95.776771  95.852083   \n",
              "1               8  719.166667  1438.333333       1  95.816514  95.928891   \n",
              "2              32  711.833333  2847.333333       1  95.117800  95.256236   \n",
              "3              32  711.916667  2847.666667       1  96.359369  96.470792   \n",
              "4               2  719.833333  1439.666667       1  98.383652  98.561847   \n",
              "\n",
              "   delp95avg  kmeans  gm  p95avgcpuslope  \n",
              "0  -0.075311       0   1        0.919790  \n",
              "1  -0.112377       0   2        0.953372  \n",
              "2  -0.138435       0   1        0.933332  \n",
              "3  -0.111423       0   1        0.955056  \n",
              "4  -0.178195       0   1        0.800920  "
            ],
            "text/html": [
              "\n",
              "  <div id=\"df-ffd58869-81c4-443a-82c3-103f0c4cf332\">\n",
              "    <div class=\"colab-df-container\">\n",
              "      <div>\n",
              "<style scoped>\n",
              "    .dataframe tbody tr th:only-of-type {\n",
              "        vertical-align: middle;\n",
              "    }\n",
              "\n",
              "    .dataframe tbody tr th {\n",
              "        vertical-align: top;\n",
              "    }\n",
              "\n",
              "    .dataframe thead th {\n",
              "        text-align: right;\n",
              "    }\n",
              "</style>\n",
              "<table border=\"1\" class=\"dataframe\">\n",
              "  <thead>\n",
              "    <tr style=\"text-align: right;\">\n",
              "      <th></th>\n",
              "      <th>vmid</th>\n",
              "      <th>subscriptionid</th>\n",
              "      <th>deploymentid</th>\n",
              "      <th>vmcreated</th>\n",
              "      <th>vmdeleted</th>\n",
              "      <th>maxcpu</th>\n",
              "      <th>avgcpu</th>\n",
              "      <th>p95maxcpu</th>\n",
              "      <th>vmcategory</th>\n",
              "      <th>vmcorecountbucket</th>\n",
              "      <th>vmmemorybucket</th>\n",
              "      <th>lifetime</th>\n",
              "      <th>corehour</th>\n",
              "      <th>target</th>\n",
              "      <th>delmaxavg</th>\n",
              "      <th>delmaxp95</th>\n",
              "      <th>delp95avg</th>\n",
              "      <th>kmeans</th>\n",
              "      <th>gm</th>\n",
              "      <th>p95avgcpuslope</th>\n",
              "    </tr>\n",
              "  </thead>\n",
              "  <tbody>\n",
              "    <tr>\n",
              "      <th>0</th>\n",
              "      <td>trjCc/lisNnKRnpFtPMmULgw1gUoiymSCshiGZfLY/Oil4...</td>\n",
              "      <td>9j4lLAdcydRsC+LhAQG/IS6Q15Z+tw3IYiCwH6QuxxtuQ1...</td>\n",
              "      <td>amCh31pwRrNqxYhYZMQ9kTaBv6Nsj9KELkMwZXIujmvpbm...</td>\n",
              "      <td>0</td>\n",
              "      <td>2591400</td>\n",
              "      <td>96.715705</td>\n",
              "      <td>0.938933</td>\n",
              "      <td>0.863622</td>\n",
              "      <td>Delay-insensitive</td>\n",
              "      <td>2</td>\n",
              "      <td>2</td>\n",
              "      <td>719.833333</td>\n",
              "      <td>1439.666667</td>\n",
              "      <td>1</td>\n",
              "      <td>95.776771</td>\n",
              "      <td>95.852083</td>\n",
              "      <td>-0.075311</td>\n",
              "      <td>0</td>\n",
              "      <td>1</td>\n",
              "      <td>0.919790</td>\n",
              "    </tr>\n",
              "    <tr>\n",
              "      <th>1</th>\n",
              "      <td>RVfel1jVo2UTjdHeqMgqJcVcfBUG/V9mV6Un47p8vGHiFj...</td>\n",
              "      <td>NM+rYlOuvfObftjnvrHy7hUorr5ulWm8UgTM9A1SZniRTv...</td>\n",
              "      <td>tGInpwc5Wi0Tq15xunBKLtsbC6Bxk5LP2e+NIsoDe/D3jg...</td>\n",
              "      <td>0</td>\n",
              "      <td>2589000</td>\n",
              "      <td>98.226568</td>\n",
              "      <td>2.410055</td>\n",
              "      <td>2.297678</td>\n",
              "      <td>Delay-insensitive</td>\n",
              "      <td>2</td>\n",
              "      <td>8</td>\n",
              "      <td>719.166667</td>\n",
              "      <td>1438.333333</td>\n",
              "      <td>1</td>\n",
              "      <td>95.816514</td>\n",
              "      <td>95.928891</td>\n",
              "      <td>-0.112377</td>\n",
              "      <td>0</td>\n",
              "      <td>2</td>\n",
              "      <td>0.953372</td>\n",
              "    </tr>\n",
              "    <tr>\n",
              "      <th>2</th>\n",
              "      <td>mY+fWVBQe0tTfdVMO/2Ea9AAjDyN2ndi/40U59iUNxiTRu...</td>\n",
              "      <td>8mYUop47Ih3Ka0m8+fxnNmM1rUjlJ9vDkclgoBJViVmWPr...</td>\n",
              "      <td>fIRf+CYG8jmlnysPUgzCuo7L/D1tV9jirr4FaJCQtaI7/n...</td>\n",
              "      <td>28800</td>\n",
              "      <td>2591400</td>\n",
              "      <td>97.194277</td>\n",
              "      <td>2.076477</td>\n",
              "      <td>1.938042</td>\n",
              "      <td>Delay-insensitive</td>\n",
              "      <td>4</td>\n",
              "      <td>32</td>\n",
              "      <td>711.833333</td>\n",
              "      <td>2847.333333</td>\n",
              "      <td>1</td>\n",
              "      <td>95.117800</td>\n",
              "      <td>95.256236</td>\n",
              "      <td>-0.138435</td>\n",
              "      <td>0</td>\n",
              "      <td>1</td>\n",
              "      <td>0.933332</td>\n",
              "    </tr>\n",
              "    <tr>\n",
              "      <th>3</th>\n",
              "      <td>N0gBVBQviQ4n/jyolzXWac39GOcL3596Re7d2N7RpmffGF...</td>\n",
              "      <td>8mYUop47Ih3Ka0m8+fxnNmM1rUjlJ9vDkclgoBJViVmWPr...</td>\n",
              "      <td>fIRf+CYG8jmlnysPUgzCuo7L/D1tV9jirr4FaJCQtaI7/n...</td>\n",
              "      <td>28500</td>\n",
              "      <td>2591400</td>\n",
              "      <td>98.838522</td>\n",
              "      <td>2.479152</td>\n",
              "      <td>2.367730</td>\n",
              "      <td>Delay-insensitive</td>\n",
              "      <td>4</td>\n",
              "      <td>32</td>\n",
              "      <td>711.916667</td>\n",
              "      <td>2847.666667</td>\n",
              "      <td>1</td>\n",
              "      <td>96.359369</td>\n",
              "      <td>96.470792</td>\n",
              "      <td>-0.111423</td>\n",
              "      <td>0</td>\n",
              "      <td>1</td>\n",
              "      <td>0.955056</td>\n",
              "    </tr>\n",
              "    <tr>\n",
              "      <th>4</th>\n",
              "      <td>4Cka/a5H763ZPaDuuNo6MhnfKQ56hvTrTxPgWmcJyh2ItB...</td>\n",
              "      <td>HzLK24LbYXd1kU9jw99gYFREpnAkKefq7MKwAxhEwzct60...</td>\n",
              "      <td>wggQWvknTcqrfDqxcQGGT40iu8/aEgjBj5i6e3bu9qtUc8...</td>\n",
              "      <td>0</td>\n",
              "      <td>2591400</td>\n",
              "      <td>99.278745</td>\n",
              "      <td>0.895093</td>\n",
              "      <td>0.716898</td>\n",
              "      <td>Delay-insensitive</td>\n",
              "      <td>2</td>\n",
              "      <td>2</td>\n",
              "      <td>719.833333</td>\n",
              "      <td>1439.666667</td>\n",
              "      <td>1</td>\n",
              "      <td>98.383652</td>\n",
              "      <td>98.561847</td>\n",
              "      <td>-0.178195</td>\n",
              "      <td>0</td>\n",
              "      <td>1</td>\n",
              "      <td>0.800920</td>\n",
              "    </tr>\n",
              "  </tbody>\n",
              "</table>\n",
              "</div>\n",
              "      <button class=\"colab-df-convert\" onclick=\"convertToInteractive('df-ffd58869-81c4-443a-82c3-103f0c4cf332')\"\n",
              "              title=\"Convert this dataframe to an interactive table.\"\n",
              "              style=\"display:none;\">\n",
              "        \n",
              "  <svg xmlns=\"http://www.w3.org/2000/svg\" height=\"24px\"viewBox=\"0 0 24 24\"\n",
              "       width=\"24px\">\n",
              "    <path d=\"M0 0h24v24H0V0z\" fill=\"none\"/>\n",
              "    <path d=\"M18.56 5.44l.94 2.06.94-2.06 2.06-.94-2.06-.94-.94-2.06-.94 2.06-2.06.94zm-11 1L8.5 8.5l.94-2.06 2.06-.94-2.06-.94L8.5 2.5l-.94 2.06-2.06.94zm10 10l.94 2.06.94-2.06 2.06-.94-2.06-.94-.94-2.06-.94 2.06-2.06.94z\"/><path d=\"M17.41 7.96l-1.37-1.37c-.4-.4-.92-.59-1.43-.59-.52 0-1.04.2-1.43.59L10.3 9.45l-7.72 7.72c-.78.78-.78 2.05 0 2.83L4 21.41c.39.39.9.59 1.41.59.51 0 1.02-.2 1.41-.59l7.78-7.78 2.81-2.81c.8-.78.8-2.07 0-2.86zM5.41 20L4 18.59l7.72-7.72 1.47 1.35L5.41 20z\"/>\n",
              "  </svg>\n",
              "      </button>\n",
              "      \n",
              "  <style>\n",
              "    .colab-df-container {\n",
              "      display:flex;\n",
              "      flex-wrap:wrap;\n",
              "      gap: 12px;\n",
              "    }\n",
              "\n",
              "    .colab-df-convert {\n",
              "      background-color: #E8F0FE;\n",
              "      border: none;\n",
              "      border-radius: 50%;\n",
              "      cursor: pointer;\n",
              "      display: none;\n",
              "      fill: #1967D2;\n",
              "      height: 32px;\n",
              "      padding: 0 0 0 0;\n",
              "      width: 32px;\n",
              "    }\n",
              "\n",
              "    .colab-df-convert:hover {\n",
              "      background-color: #E2EBFA;\n",
              "      box-shadow: 0px 1px 2px rgba(60, 64, 67, 0.3), 0px 1px 3px 1px rgba(60, 64, 67, 0.15);\n",
              "      fill: #174EA6;\n",
              "    }\n",
              "\n",
              "    [theme=dark] .colab-df-convert {\n",
              "      background-color: #3B4455;\n",
              "      fill: #D2E3FC;\n",
              "    }\n",
              "\n",
              "    [theme=dark] .colab-df-convert:hover {\n",
              "      background-color: #434B5C;\n",
              "      box-shadow: 0px 1px 3px 1px rgba(0, 0, 0, 0.15);\n",
              "      filter: drop-shadow(0px 1px 2px rgba(0, 0, 0, 0.3));\n",
              "      fill: #FFFFFF;\n",
              "    }\n",
              "  </style>\n",
              "\n",
              "      <script>\n",
              "        const buttonEl =\n",
              "          document.querySelector('#df-ffd58869-81c4-443a-82c3-103f0c4cf332 button.colab-df-convert');\n",
              "        buttonEl.style.display =\n",
              "          google.colab.kernel.accessAllowed ? 'block' : 'none';\n",
              "\n",
              "        async function convertToInteractive(key) {\n",
              "          const element = document.querySelector('#df-ffd58869-81c4-443a-82c3-103f0c4cf332');\n",
              "          const dataTable =\n",
              "            await google.colab.kernel.invokeFunction('convertToInteractive',\n",
              "                                                     [key], {});\n",
              "          if (!dataTable) return;\n",
              "\n",
              "          const docLinkHtml = 'Like what you see? Visit the ' +\n",
              "            '<a target=\"_blank\" href=https://colab.research.google.com/notebooks/data_table.ipynb>data table notebook</a>'\n",
              "            + ' to learn more about interactive tables.';\n",
              "          element.innerHTML = '';\n",
              "          dataTable['output_type'] = 'display_data';\n",
              "          await google.colab.output.renderOutput(dataTable, element);\n",
              "          const docLink = document.createElement('div');\n",
              "          docLink.innerHTML = docLinkHtml;\n",
              "          element.appendChild(docLink);\n",
              "        }\n",
              "      </script>\n",
              "    </div>\n",
              "  </div>\n",
              "  "
            ]
          },
          "metadata": {},
          "execution_count": 256
        }
      ]
    },
    {
      "cell_type": "code",
      "source": [
        "core_hour_saved_per_core = (5*len(analysis_df[analysis_df['highcpu'] == 50])/60)/2\n",
        "total_core_hour_per_core = 5*len(analysis_df)/60\n",
        "core_count = vm_dataframe[vm_dataframe['vmid'] == vm_id].vmcorecountbucket.values[0]"
      ],
      "metadata": {
        "id": "-NzhBC2ZRHir"
      },
      "execution_count": 257,
      "outputs": []
    },
    {
      "cell_type": "code",
      "source": [
        "print(\"TOTAL CPU CORE HOUR (CURRENT)\", total_core_hour_per_core*core_count)\n",
        "print(\"TOTAL CPU CORE HOUR (PROPOSED)\", (total_core_hour_per_core*core_count) - (core_hour_saved_per_core*core_count))"
      ],
      "metadata": {
        "colab": {
          "base_uri": "https://localhost:8080/"
        },
        "id": "sPXzq_XJRX7v",
        "outputId": "800b9910-a4aa-46ee-efad-135fb4f66a43"
      },
      "execution_count": 258,
      "outputs": [
        {
          "output_type": "stream",
          "name": "stdout",
          "text": [
            "TOTAL CPU CORE HOUR (CURRENT) 554.0\n",
            "TOTAL CPU CORE HOUR (PROPOSED) 307.0\n"
          ]
        }
      ]
    },
    {
      "cell_type": "code",
      "source": [
        "print(\"WASTED CPU %\",100*(((total_core_hour_per_core*core_count) - (core_hour_saved_per_core*core_count))/(total_core_hour_per_core*core_count)))"
      ],
      "metadata": {
        "colab": {
          "base_uri": "https://localhost:8080/"
        },
        "id": "Jm0EDrfIRkgO",
        "outputId": "bbcfba20-149c-4a7c-ac5a-e6573f01be92"
      },
      "execution_count": 259,
      "outputs": [
        {
          "output_type": "stream",
          "name": "stdout",
          "text": [
            "WASTED CPU % 55.415162454873645\n"
          ]
        }
      ]
    }
  ]
}