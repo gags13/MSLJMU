{
  "nbformat": 4,
  "nbformat_minor": 0,
  "metadata": {
    "colab": {
      "provenance": []
    },
    "kernelspec": {
      "name": "python3",
      "display_name": "Python 3"
    },
    "language_info": {
      "name": "python"
    }
  },
  "cells": [
    {
      "cell_type": "code",
      "execution_count": 1,
      "metadata": {
        "id": "stVbMdoC1t7m"
      },
      "outputs": [],
      "source": [
        "import numpy as np\n",
        "import pandas as pd\n",
        "from IPython.display import display\n",
        "import matplotlib.pyplot as plt\n",
        "from matplotlib.backends.backend_pdf import PdfPages\n",
        "import seaborn as sns\n",
        "from sklearn import datasets\n",
        "from sklearn import linear_model\n",
        "\n",
        "%matplotlib inline\n"
      ]
    },
    {
      "cell_type": "code",
      "source": [
        "from google.colab import drive\n",
        "drive.mount('/content/drive/')"
      ],
      "metadata": {
        "colab": {
          "base_uri": "https://localhost:8080/"
        },
        "id": "Tb2qU1jN16yP",
        "outputId": "72a92968-c3a8-4f28-c64e-33305e51c757"
      },
      "execution_count": 2,
      "outputs": [
        {
          "output_type": "stream",
          "name": "stdout",
          "text": [
            "Drive already mounted at /content/drive/; to attempt to forcibly remount, call drive.mount(\"/content/drive/\", force_remount=True).\n"
          ]
        }
      ]
    },
    {
      "cell_type": "code",
      "source": [
        "base_path = '/content/drive/MyDrive/MS/dataset/'\n",
        "data_path = base_path + 'vmtable.csv.gz'\n",
        "headers=['vmid','subscriptionid','deploymentid','vmcreated', 'vmdeleted', 'maxcpu', 'avgcpu', 'p95maxcpu', 'vmcategory', 'vmcorecountbucket', 'vmmemorybucket']\n",
        "trace_dataframe = pd.read_csv(data_path, compression='gzip', header=None, index_col=False,names=headers,delimiter=',')\n",
        "\n",
        "deployment_data_path = base_path + 'deployments.csv.gz'\n",
        "deployment_headers=['deploymentid','deploymentsize']\n",
        "deployment_trace_dataframe = pd.read_csv(deployment_data_path, compression='gzip', header=None, index_col=False,names=deployment_headers,delimiter=',')\n",
        "\n",
        "#Compute VM Lifetime based on VM Created and VM Deleted timestamps and transform to Hour\n",
        "trace_dataframe['lifetime'] = np.maximum((trace_dataframe['vmdeleted'] - trace_dataframe['vmcreated']),300)/ 3600\n",
        "\n",
        "#Transform vmcorecount '>24' bucket to 30 and '>64' to 70\n",
        "max_value_vmcorecountbucket = 30\n",
        "max_value_vmmemorybucket = 70\n",
        "trace_dataframe = trace_dataframe.replace({'vmcorecountbucket':'>24'},max_value_vmcorecountbucket)\n",
        "trace_dataframe = trace_dataframe.replace({'vmmemorybucket':'>64'},max_value_vmmemorybucket)\n",
        "trace_dataframe = trace_dataframe.astype({\"vmcorecountbucket\": int, \"vmmemorybucket\": int})\n",
        "trace_dataframe['corehour'] = trace_dataframe['lifetime'] * trace_dataframe['vmcorecountbucket']\n",
        "trace_dataframe.head()"
      ],
      "metadata": {
        "colab": {
          "base_uri": "https://localhost:8080/",
          "height": 288
        },
        "id": "kl60JByn19Sc",
        "outputId": "0ef0feab-ea4d-499e-f5fe-ad76b3eb6981"
      },
      "execution_count": 3,
      "outputs": [
        {
          "output_type": "execute_result",
          "data": {
            "text/plain": [
              "                                                vmid  \\\n",
              "0  71fJw0x+SDRdAxKPwLyHZhTgQpYw2afS6tjJhfT6kHnmLH...   \n",
              "1  rKggHO/04j31UFy65mDTwtjdMQL/G03xWfl3xGeiilB4/W...   \n",
              "2  YrR8gPtBmfNaOdnNEW5If1SdTqQgGQHEnLHGPjySt53bKW...   \n",
              "3  xzQ++JF1UAkh70CDhmzkiOo+DQn+E2TLErCFKEmSswv1pl...   \n",
              "4  vZEivnhabRmImDr+JqKqZnpIM3WxtypwoxjfjnklR/idyR...   \n",
              "\n",
              "                                      subscriptionid  \\\n",
              "0  GB6uQC1NSArW5n+TtOybL7GQ1yByjuWtZnsj+5QccZ525R...   \n",
              "1  ub4ty8ygwOECrIz7eaZ/9hDwnCsERvZ3nJJ03sDSpD85et...   \n",
              "2  9LrdYRcUfGbmL2fFfLR/JUg2OTkjGRe3iluwIhDRPnPDPa...   \n",
              "3  0XnZZ8sMN5HY+Yg+0dykYB5oenlgsrCpzpgFSvn/MX42Ze...   \n",
              "4  HUGaZ+piPP4eHjycCBki2yq0raJywdzrVuriR6nQceH3hA...   \n",
              "\n",
              "                                        deploymentid  vmcreated  vmdeleted  \\\n",
              "0  2sh/ZjaYdfpslv4iYBfNzFe4rs982kHVvNGJGeQ8MIBCDr...     558300    1673700   \n",
              "1  +ZraIDUNaWYDZMBiBtZm7xSjr+j3zcHGjup1+wyKxHFmyJ...     424500     425400   \n",
              "2  GEyIElfPSFupze8T+T1niQMepeqG88VpLNuxUMyIDbz8VF...    1133100    1133700   \n",
              "3  7aCQS6fPUw9rwCPiqvghk/WCEbMV3KgNJjA+sssdfY5Ybl...          0    2591400   \n",
              "4  /s/D5VtTQDxyS6wq7N/VQAMczx61Ny1Ut3a3iFmDSOCXxp...     228300     229800   \n",
              "\n",
              "      maxcpu     avgcpu  p95maxcpu         vmcategory  vmcorecountbucket  \\\n",
              "0  91.776885   0.728879  20.759630  Delay-insensitive                  8   \n",
              "1  37.879261   3.325358  37.879261            Unknown                  4   \n",
              "2   0.304368   0.220553   0.304368            Unknown                  4   \n",
              "3  98.573424  30.340054  98.212503        Interactive                  2   \n",
              "4  82.581449  13.876299  82.581449            Unknown                  2   \n",
              "\n",
              "   vmmemorybucket    lifetime     corehour  \n",
              "0              32  309.833333  2478.666667  \n",
              "1              32    0.250000     1.000000  \n",
              "2              32    0.166667     0.666667  \n",
              "3               4  719.833333  1439.666667  \n",
              "4               4    0.416667     0.833333  "
            ],
            "text/html": [
              "\n",
              "  <div id=\"df-10705b3f-6935-4a15-9071-17a59b6374fa\">\n",
              "    <div class=\"colab-df-container\">\n",
              "      <div>\n",
              "<style scoped>\n",
              "    .dataframe tbody tr th:only-of-type {\n",
              "        vertical-align: middle;\n",
              "    }\n",
              "\n",
              "    .dataframe tbody tr th {\n",
              "        vertical-align: top;\n",
              "    }\n",
              "\n",
              "    .dataframe thead th {\n",
              "        text-align: right;\n",
              "    }\n",
              "</style>\n",
              "<table border=\"1\" class=\"dataframe\">\n",
              "  <thead>\n",
              "    <tr style=\"text-align: right;\">\n",
              "      <th></th>\n",
              "      <th>vmid</th>\n",
              "      <th>subscriptionid</th>\n",
              "      <th>deploymentid</th>\n",
              "      <th>vmcreated</th>\n",
              "      <th>vmdeleted</th>\n",
              "      <th>maxcpu</th>\n",
              "      <th>avgcpu</th>\n",
              "      <th>p95maxcpu</th>\n",
              "      <th>vmcategory</th>\n",
              "      <th>vmcorecountbucket</th>\n",
              "      <th>vmmemorybucket</th>\n",
              "      <th>lifetime</th>\n",
              "      <th>corehour</th>\n",
              "    </tr>\n",
              "  </thead>\n",
              "  <tbody>\n",
              "    <tr>\n",
              "      <th>0</th>\n",
              "      <td>71fJw0x+SDRdAxKPwLyHZhTgQpYw2afS6tjJhfT6kHnmLH...</td>\n",
              "      <td>GB6uQC1NSArW5n+TtOybL7GQ1yByjuWtZnsj+5QccZ525R...</td>\n",
              "      <td>2sh/ZjaYdfpslv4iYBfNzFe4rs982kHVvNGJGeQ8MIBCDr...</td>\n",
              "      <td>558300</td>\n",
              "      <td>1673700</td>\n",
              "      <td>91.776885</td>\n",
              "      <td>0.728879</td>\n",
              "      <td>20.759630</td>\n",
              "      <td>Delay-insensitive</td>\n",
              "      <td>8</td>\n",
              "      <td>32</td>\n",
              "      <td>309.833333</td>\n",
              "      <td>2478.666667</td>\n",
              "    </tr>\n",
              "    <tr>\n",
              "      <th>1</th>\n",
              "      <td>rKggHO/04j31UFy65mDTwtjdMQL/G03xWfl3xGeiilB4/W...</td>\n",
              "      <td>ub4ty8ygwOECrIz7eaZ/9hDwnCsERvZ3nJJ03sDSpD85et...</td>\n",
              "      <td>+ZraIDUNaWYDZMBiBtZm7xSjr+j3zcHGjup1+wyKxHFmyJ...</td>\n",
              "      <td>424500</td>\n",
              "      <td>425400</td>\n",
              "      <td>37.879261</td>\n",
              "      <td>3.325358</td>\n",
              "      <td>37.879261</td>\n",
              "      <td>Unknown</td>\n",
              "      <td>4</td>\n",
              "      <td>32</td>\n",
              "      <td>0.250000</td>\n",
              "      <td>1.000000</td>\n",
              "    </tr>\n",
              "    <tr>\n",
              "      <th>2</th>\n",
              "      <td>YrR8gPtBmfNaOdnNEW5If1SdTqQgGQHEnLHGPjySt53bKW...</td>\n",
              "      <td>9LrdYRcUfGbmL2fFfLR/JUg2OTkjGRe3iluwIhDRPnPDPa...</td>\n",
              "      <td>GEyIElfPSFupze8T+T1niQMepeqG88VpLNuxUMyIDbz8VF...</td>\n",
              "      <td>1133100</td>\n",
              "      <td>1133700</td>\n",
              "      <td>0.304368</td>\n",
              "      <td>0.220553</td>\n",
              "      <td>0.304368</td>\n",
              "      <td>Unknown</td>\n",
              "      <td>4</td>\n",
              "      <td>32</td>\n",
              "      <td>0.166667</td>\n",
              "      <td>0.666667</td>\n",
              "    </tr>\n",
              "    <tr>\n",
              "      <th>3</th>\n",
              "      <td>xzQ++JF1UAkh70CDhmzkiOo+DQn+E2TLErCFKEmSswv1pl...</td>\n",
              "      <td>0XnZZ8sMN5HY+Yg+0dykYB5oenlgsrCpzpgFSvn/MX42Ze...</td>\n",
              "      <td>7aCQS6fPUw9rwCPiqvghk/WCEbMV3KgNJjA+sssdfY5Ybl...</td>\n",
              "      <td>0</td>\n",
              "      <td>2591400</td>\n",
              "      <td>98.573424</td>\n",
              "      <td>30.340054</td>\n",
              "      <td>98.212503</td>\n",
              "      <td>Interactive</td>\n",
              "      <td>2</td>\n",
              "      <td>4</td>\n",
              "      <td>719.833333</td>\n",
              "      <td>1439.666667</td>\n",
              "    </tr>\n",
              "    <tr>\n",
              "      <th>4</th>\n",
              "      <td>vZEivnhabRmImDr+JqKqZnpIM3WxtypwoxjfjnklR/idyR...</td>\n",
              "      <td>HUGaZ+piPP4eHjycCBki2yq0raJywdzrVuriR6nQceH3hA...</td>\n",
              "      <td>/s/D5VtTQDxyS6wq7N/VQAMczx61Ny1Ut3a3iFmDSOCXxp...</td>\n",
              "      <td>228300</td>\n",
              "      <td>229800</td>\n",
              "      <td>82.581449</td>\n",
              "      <td>13.876299</td>\n",
              "      <td>82.581449</td>\n",
              "      <td>Unknown</td>\n",
              "      <td>2</td>\n",
              "      <td>4</td>\n",
              "      <td>0.416667</td>\n",
              "      <td>0.833333</td>\n",
              "    </tr>\n",
              "  </tbody>\n",
              "</table>\n",
              "</div>\n",
              "      <button class=\"colab-df-convert\" onclick=\"convertToInteractive('df-10705b3f-6935-4a15-9071-17a59b6374fa')\"\n",
              "              title=\"Convert this dataframe to an interactive table.\"\n",
              "              style=\"display:none;\">\n",
              "        \n",
              "  <svg xmlns=\"http://www.w3.org/2000/svg\" height=\"24px\"viewBox=\"0 0 24 24\"\n",
              "       width=\"24px\">\n",
              "    <path d=\"M0 0h24v24H0V0z\" fill=\"none\"/>\n",
              "    <path d=\"M18.56 5.44l.94 2.06.94-2.06 2.06-.94-2.06-.94-.94-2.06-.94 2.06-2.06.94zm-11 1L8.5 8.5l.94-2.06 2.06-.94-2.06-.94L8.5 2.5l-.94 2.06-2.06.94zm10 10l.94 2.06.94-2.06 2.06-.94-2.06-.94-.94-2.06-.94 2.06-2.06.94z\"/><path d=\"M17.41 7.96l-1.37-1.37c-.4-.4-.92-.59-1.43-.59-.52 0-1.04.2-1.43.59L10.3 9.45l-7.72 7.72c-.78.78-.78 2.05 0 2.83L4 21.41c.39.39.9.59 1.41.59.51 0 1.02-.2 1.41-.59l7.78-7.78 2.81-2.81c.8-.78.8-2.07 0-2.86zM5.41 20L4 18.59l7.72-7.72 1.47 1.35L5.41 20z\"/>\n",
              "  </svg>\n",
              "      </button>\n",
              "      \n",
              "  <style>\n",
              "    .colab-df-container {\n",
              "      display:flex;\n",
              "      flex-wrap:wrap;\n",
              "      gap: 12px;\n",
              "    }\n",
              "\n",
              "    .colab-df-convert {\n",
              "      background-color: #E8F0FE;\n",
              "      border: none;\n",
              "      border-radius: 50%;\n",
              "      cursor: pointer;\n",
              "      display: none;\n",
              "      fill: #1967D2;\n",
              "      height: 32px;\n",
              "      padding: 0 0 0 0;\n",
              "      width: 32px;\n",
              "    }\n",
              "\n",
              "    .colab-df-convert:hover {\n",
              "      background-color: #E2EBFA;\n",
              "      box-shadow: 0px 1px 2px rgba(60, 64, 67, 0.3), 0px 1px 3px 1px rgba(60, 64, 67, 0.15);\n",
              "      fill: #174EA6;\n",
              "    }\n",
              "\n",
              "    [theme=dark] .colab-df-convert {\n",
              "      background-color: #3B4455;\n",
              "      fill: #D2E3FC;\n",
              "    }\n",
              "\n",
              "    [theme=dark] .colab-df-convert:hover {\n",
              "      background-color: #434B5C;\n",
              "      box-shadow: 0px 1px 3px 1px rgba(0, 0, 0, 0.15);\n",
              "      filter: drop-shadow(0px 1px 2px rgba(0, 0, 0, 0.3));\n",
              "      fill: #FFFFFF;\n",
              "    }\n",
              "  </style>\n",
              "\n",
              "      <script>\n",
              "        const buttonEl =\n",
              "          document.querySelector('#df-10705b3f-6935-4a15-9071-17a59b6374fa button.colab-df-convert');\n",
              "        buttonEl.style.display =\n",
              "          google.colab.kernel.accessAllowed ? 'block' : 'none';\n",
              "\n",
              "        async function convertToInteractive(key) {\n",
              "          const element = document.querySelector('#df-10705b3f-6935-4a15-9071-17a59b6374fa');\n",
              "          const dataTable =\n",
              "            await google.colab.kernel.invokeFunction('convertToInteractive',\n",
              "                                                     [key], {});\n",
              "          if (!dataTable) return;\n",
              "\n",
              "          const docLinkHtml = 'Like what you see? Visit the ' +\n",
              "            '<a target=\"_blank\" href=https://colab.research.google.com/notebooks/data_table.ipynb>data table notebook</a>'\n",
              "            + ' to learn more about interactive tables.';\n",
              "          element.innerHTML = '';\n",
              "          dataTable['output_type'] = 'display_data';\n",
              "          await google.colab.output.renderOutput(dataTable, element);\n",
              "          const docLink = document.createElement('div');\n",
              "          docLink.innerHTML = docLinkHtml;\n",
              "          element.appendChild(docLink);\n",
              "        }\n",
              "      </script>\n",
              "    </div>\n",
              "  </div>\n",
              "  "
            ]
          },
          "metadata": {},
          "execution_count": 3
        }
      ]
    },
    {
      "cell_type": "code",
      "source": [
        "vm_count = trace_dataframe.shape[0]\n",
        "subscription_count = trace_dataframe['subscriptionid'].unique().shape[0]\n",
        "deployment_count = trace_dataframe['deploymentid'].unique().shape[0]\n",
        "total_vm_hour_available = trace_dataframe['lifetime'].sum()\n",
        "total_core_hour_available = trace_dataframe['corehour'].sum()\n",
        "\n",
        "print(\"Total Number of Virtual Machines in the Dataset: %d\" % vm_count)\n",
        "print(\"Total Number of Subscriptions in the Dataset: %d\" % subscription_count)\n",
        "print(\"Total Number of Deployments in the Dataset: %d\" % deployment_count)\n",
        "print(\"Total VM Hours Available in the Dataset: %f\" % total_vm_hour_available)\n",
        "print(\"Total Core Hours Available in the Dataset: %f\" % total_core_hour_available)"
      ],
      "metadata": {
        "colab": {
          "base_uri": "https://localhost:8080/"
        },
        "id": "4P1buXP-2EQI",
        "outputId": "034c5b90-2703-45f8-f2db-60669e305f1e"
      },
      "execution_count": 4,
      "outputs": [
        {
          "output_type": "stream",
          "name": "stdout",
          "text": [
            "Total Number of Virtual Machines in the Dataset: 2695548\n",
            "Total Number of Subscriptions in the Dataset: 6687\n",
            "Total Number of Deployments in the Dataset: 33205\n",
            "Total VM Hours Available in the Dataset: 162465708.083333\n",
            "Total Core Hours Available in the Dataset: 469439814.333334\n"
          ]
        }
      ]
    },
    {
      "cell_type": "code",
      "source": [
        "# Target variable - vmcategory - 1 Delay-insensitive 0 - Interactive & Unknown\n",
        "trace_dataframe['target'] = trace_dataframe['vmcategory'].apply(lambda x : 1 if x == 'Delay-insensitive' else 0)\n",
        "trace_dataframe.head()"
      ],
      "metadata": {
        "colab": {
          "base_uri": "https://localhost:8080/",
          "height": 288
        },
        "id": "NjN6lfSw2SZQ",
        "outputId": "0234b95f-9dc7-4be1-9cf1-c10b04e8aa4a"
      },
      "execution_count": 5,
      "outputs": [
        {
          "output_type": "execute_result",
          "data": {
            "text/plain": [
              "                                                vmid  \\\n",
              "0  71fJw0x+SDRdAxKPwLyHZhTgQpYw2afS6tjJhfT6kHnmLH...   \n",
              "1  rKggHO/04j31UFy65mDTwtjdMQL/G03xWfl3xGeiilB4/W...   \n",
              "2  YrR8gPtBmfNaOdnNEW5If1SdTqQgGQHEnLHGPjySt53bKW...   \n",
              "3  xzQ++JF1UAkh70CDhmzkiOo+DQn+E2TLErCFKEmSswv1pl...   \n",
              "4  vZEivnhabRmImDr+JqKqZnpIM3WxtypwoxjfjnklR/idyR...   \n",
              "\n",
              "                                      subscriptionid  \\\n",
              "0  GB6uQC1NSArW5n+TtOybL7GQ1yByjuWtZnsj+5QccZ525R...   \n",
              "1  ub4ty8ygwOECrIz7eaZ/9hDwnCsERvZ3nJJ03sDSpD85et...   \n",
              "2  9LrdYRcUfGbmL2fFfLR/JUg2OTkjGRe3iluwIhDRPnPDPa...   \n",
              "3  0XnZZ8sMN5HY+Yg+0dykYB5oenlgsrCpzpgFSvn/MX42Ze...   \n",
              "4  HUGaZ+piPP4eHjycCBki2yq0raJywdzrVuriR6nQceH3hA...   \n",
              "\n",
              "                                        deploymentid  vmcreated  vmdeleted  \\\n",
              "0  2sh/ZjaYdfpslv4iYBfNzFe4rs982kHVvNGJGeQ8MIBCDr...     558300    1673700   \n",
              "1  +ZraIDUNaWYDZMBiBtZm7xSjr+j3zcHGjup1+wyKxHFmyJ...     424500     425400   \n",
              "2  GEyIElfPSFupze8T+T1niQMepeqG88VpLNuxUMyIDbz8VF...    1133100    1133700   \n",
              "3  7aCQS6fPUw9rwCPiqvghk/WCEbMV3KgNJjA+sssdfY5Ybl...          0    2591400   \n",
              "4  /s/D5VtTQDxyS6wq7N/VQAMczx61Ny1Ut3a3iFmDSOCXxp...     228300     229800   \n",
              "\n",
              "      maxcpu     avgcpu  p95maxcpu         vmcategory  vmcorecountbucket  \\\n",
              "0  91.776885   0.728879  20.759630  Delay-insensitive                  8   \n",
              "1  37.879261   3.325358  37.879261            Unknown                  4   \n",
              "2   0.304368   0.220553   0.304368            Unknown                  4   \n",
              "3  98.573424  30.340054  98.212503        Interactive                  2   \n",
              "4  82.581449  13.876299  82.581449            Unknown                  2   \n",
              "\n",
              "   vmmemorybucket    lifetime     corehour  target  \n",
              "0              32  309.833333  2478.666667       1  \n",
              "1              32    0.250000     1.000000       0  \n",
              "2              32    0.166667     0.666667       0  \n",
              "3               4  719.833333  1439.666667       0  \n",
              "4               4    0.416667     0.833333       0  "
            ],
            "text/html": [
              "\n",
              "  <div id=\"df-a3ced834-2f5a-4ecb-a9ba-3d46185874a1\">\n",
              "    <div class=\"colab-df-container\">\n",
              "      <div>\n",
              "<style scoped>\n",
              "    .dataframe tbody tr th:only-of-type {\n",
              "        vertical-align: middle;\n",
              "    }\n",
              "\n",
              "    .dataframe tbody tr th {\n",
              "        vertical-align: top;\n",
              "    }\n",
              "\n",
              "    .dataframe thead th {\n",
              "        text-align: right;\n",
              "    }\n",
              "</style>\n",
              "<table border=\"1\" class=\"dataframe\">\n",
              "  <thead>\n",
              "    <tr style=\"text-align: right;\">\n",
              "      <th></th>\n",
              "      <th>vmid</th>\n",
              "      <th>subscriptionid</th>\n",
              "      <th>deploymentid</th>\n",
              "      <th>vmcreated</th>\n",
              "      <th>vmdeleted</th>\n",
              "      <th>maxcpu</th>\n",
              "      <th>avgcpu</th>\n",
              "      <th>p95maxcpu</th>\n",
              "      <th>vmcategory</th>\n",
              "      <th>vmcorecountbucket</th>\n",
              "      <th>vmmemorybucket</th>\n",
              "      <th>lifetime</th>\n",
              "      <th>corehour</th>\n",
              "      <th>target</th>\n",
              "    </tr>\n",
              "  </thead>\n",
              "  <tbody>\n",
              "    <tr>\n",
              "      <th>0</th>\n",
              "      <td>71fJw0x+SDRdAxKPwLyHZhTgQpYw2afS6tjJhfT6kHnmLH...</td>\n",
              "      <td>GB6uQC1NSArW5n+TtOybL7GQ1yByjuWtZnsj+5QccZ525R...</td>\n",
              "      <td>2sh/ZjaYdfpslv4iYBfNzFe4rs982kHVvNGJGeQ8MIBCDr...</td>\n",
              "      <td>558300</td>\n",
              "      <td>1673700</td>\n",
              "      <td>91.776885</td>\n",
              "      <td>0.728879</td>\n",
              "      <td>20.759630</td>\n",
              "      <td>Delay-insensitive</td>\n",
              "      <td>8</td>\n",
              "      <td>32</td>\n",
              "      <td>309.833333</td>\n",
              "      <td>2478.666667</td>\n",
              "      <td>1</td>\n",
              "    </tr>\n",
              "    <tr>\n",
              "      <th>1</th>\n",
              "      <td>rKggHO/04j31UFy65mDTwtjdMQL/G03xWfl3xGeiilB4/W...</td>\n",
              "      <td>ub4ty8ygwOECrIz7eaZ/9hDwnCsERvZ3nJJ03sDSpD85et...</td>\n",
              "      <td>+ZraIDUNaWYDZMBiBtZm7xSjr+j3zcHGjup1+wyKxHFmyJ...</td>\n",
              "      <td>424500</td>\n",
              "      <td>425400</td>\n",
              "      <td>37.879261</td>\n",
              "      <td>3.325358</td>\n",
              "      <td>37.879261</td>\n",
              "      <td>Unknown</td>\n",
              "      <td>4</td>\n",
              "      <td>32</td>\n",
              "      <td>0.250000</td>\n",
              "      <td>1.000000</td>\n",
              "      <td>0</td>\n",
              "    </tr>\n",
              "    <tr>\n",
              "      <th>2</th>\n",
              "      <td>YrR8gPtBmfNaOdnNEW5If1SdTqQgGQHEnLHGPjySt53bKW...</td>\n",
              "      <td>9LrdYRcUfGbmL2fFfLR/JUg2OTkjGRe3iluwIhDRPnPDPa...</td>\n",
              "      <td>GEyIElfPSFupze8T+T1niQMepeqG88VpLNuxUMyIDbz8VF...</td>\n",
              "      <td>1133100</td>\n",
              "      <td>1133700</td>\n",
              "      <td>0.304368</td>\n",
              "      <td>0.220553</td>\n",
              "      <td>0.304368</td>\n",
              "      <td>Unknown</td>\n",
              "      <td>4</td>\n",
              "      <td>32</td>\n",
              "      <td>0.166667</td>\n",
              "      <td>0.666667</td>\n",
              "      <td>0</td>\n",
              "    </tr>\n",
              "    <tr>\n",
              "      <th>3</th>\n",
              "      <td>xzQ++JF1UAkh70CDhmzkiOo+DQn+E2TLErCFKEmSswv1pl...</td>\n",
              "      <td>0XnZZ8sMN5HY+Yg+0dykYB5oenlgsrCpzpgFSvn/MX42Ze...</td>\n",
              "      <td>7aCQS6fPUw9rwCPiqvghk/WCEbMV3KgNJjA+sssdfY5Ybl...</td>\n",
              "      <td>0</td>\n",
              "      <td>2591400</td>\n",
              "      <td>98.573424</td>\n",
              "      <td>30.340054</td>\n",
              "      <td>98.212503</td>\n",
              "      <td>Interactive</td>\n",
              "      <td>2</td>\n",
              "      <td>4</td>\n",
              "      <td>719.833333</td>\n",
              "      <td>1439.666667</td>\n",
              "      <td>0</td>\n",
              "    </tr>\n",
              "    <tr>\n",
              "      <th>4</th>\n",
              "      <td>vZEivnhabRmImDr+JqKqZnpIM3WxtypwoxjfjnklR/idyR...</td>\n",
              "      <td>HUGaZ+piPP4eHjycCBki2yq0raJywdzrVuriR6nQceH3hA...</td>\n",
              "      <td>/s/D5VtTQDxyS6wq7N/VQAMczx61Ny1Ut3a3iFmDSOCXxp...</td>\n",
              "      <td>228300</td>\n",
              "      <td>229800</td>\n",
              "      <td>82.581449</td>\n",
              "      <td>13.876299</td>\n",
              "      <td>82.581449</td>\n",
              "      <td>Unknown</td>\n",
              "      <td>2</td>\n",
              "      <td>4</td>\n",
              "      <td>0.416667</td>\n",
              "      <td>0.833333</td>\n",
              "      <td>0</td>\n",
              "    </tr>\n",
              "  </tbody>\n",
              "</table>\n",
              "</div>\n",
              "      <button class=\"colab-df-convert\" onclick=\"convertToInteractive('df-a3ced834-2f5a-4ecb-a9ba-3d46185874a1')\"\n",
              "              title=\"Convert this dataframe to an interactive table.\"\n",
              "              style=\"display:none;\">\n",
              "        \n",
              "  <svg xmlns=\"http://www.w3.org/2000/svg\" height=\"24px\"viewBox=\"0 0 24 24\"\n",
              "       width=\"24px\">\n",
              "    <path d=\"M0 0h24v24H0V0z\" fill=\"none\"/>\n",
              "    <path d=\"M18.56 5.44l.94 2.06.94-2.06 2.06-.94-2.06-.94-.94-2.06-.94 2.06-2.06.94zm-11 1L8.5 8.5l.94-2.06 2.06-.94-2.06-.94L8.5 2.5l-.94 2.06-2.06.94zm10 10l.94 2.06.94-2.06 2.06-.94-2.06-.94-.94-2.06-.94 2.06-2.06.94z\"/><path d=\"M17.41 7.96l-1.37-1.37c-.4-.4-.92-.59-1.43-.59-.52 0-1.04.2-1.43.59L10.3 9.45l-7.72 7.72c-.78.78-.78 2.05 0 2.83L4 21.41c.39.39.9.59 1.41.59.51 0 1.02-.2 1.41-.59l7.78-7.78 2.81-2.81c.8-.78.8-2.07 0-2.86zM5.41 20L4 18.59l7.72-7.72 1.47 1.35L5.41 20z\"/>\n",
              "  </svg>\n",
              "      </button>\n",
              "      \n",
              "  <style>\n",
              "    .colab-df-container {\n",
              "      display:flex;\n",
              "      flex-wrap:wrap;\n",
              "      gap: 12px;\n",
              "    }\n",
              "\n",
              "    .colab-df-convert {\n",
              "      background-color: #E8F0FE;\n",
              "      border: none;\n",
              "      border-radius: 50%;\n",
              "      cursor: pointer;\n",
              "      display: none;\n",
              "      fill: #1967D2;\n",
              "      height: 32px;\n",
              "      padding: 0 0 0 0;\n",
              "      width: 32px;\n",
              "    }\n",
              "\n",
              "    .colab-df-convert:hover {\n",
              "      background-color: #E2EBFA;\n",
              "      box-shadow: 0px 1px 2px rgba(60, 64, 67, 0.3), 0px 1px 3px 1px rgba(60, 64, 67, 0.15);\n",
              "      fill: #174EA6;\n",
              "    }\n",
              "\n",
              "    [theme=dark] .colab-df-convert {\n",
              "      background-color: #3B4455;\n",
              "      fill: #D2E3FC;\n",
              "    }\n",
              "\n",
              "    [theme=dark] .colab-df-convert:hover {\n",
              "      background-color: #434B5C;\n",
              "      box-shadow: 0px 1px 3px 1px rgba(0, 0, 0, 0.15);\n",
              "      filter: drop-shadow(0px 1px 2px rgba(0, 0, 0, 0.3));\n",
              "      fill: #FFFFFF;\n",
              "    }\n",
              "  </style>\n",
              "\n",
              "      <script>\n",
              "        const buttonEl =\n",
              "          document.querySelector('#df-a3ced834-2f5a-4ecb-a9ba-3d46185874a1 button.colab-df-convert');\n",
              "        buttonEl.style.display =\n",
              "          google.colab.kernel.accessAllowed ? 'block' : 'none';\n",
              "\n",
              "        async function convertToInteractive(key) {\n",
              "          const element = document.querySelector('#df-a3ced834-2f5a-4ecb-a9ba-3d46185874a1');\n",
              "          const dataTable =\n",
              "            await google.colab.kernel.invokeFunction('convertToInteractive',\n",
              "                                                     [key], {});\n",
              "          if (!dataTable) return;\n",
              "\n",
              "          const docLinkHtml = 'Like what you see? Visit the ' +\n",
              "            '<a target=\"_blank\" href=https://colab.research.google.com/notebooks/data_table.ipynb>data table notebook</a>'\n",
              "            + ' to learn more about interactive tables.';\n",
              "          element.innerHTML = '';\n",
              "          dataTable['output_type'] = 'display_data';\n",
              "          await google.colab.output.renderOutput(dataTable, element);\n",
              "          const docLink = document.createElement('div');\n",
              "          docLink.innerHTML = docLinkHtml;\n",
              "          element.appendChild(docLink);\n",
              "        }\n",
              "      </script>\n",
              "    </div>\n",
              "  </div>\n",
              "  "
            ]
          },
          "metadata": {},
          "execution_count": 5
        }
      ]
    },
    {
      "cell_type": "code",
      "source": [
        "trace_dataframe.info()"
      ],
      "metadata": {
        "colab": {
          "base_uri": "https://localhost:8080/"
        },
        "id": "hVNi0c7G2VhV",
        "outputId": "b386ba2c-7b2a-4d92-c936-8ee67a44b847"
      },
      "execution_count": 6,
      "outputs": [
        {
          "output_type": "stream",
          "name": "stdout",
          "text": [
            "<class 'pandas.core.frame.DataFrame'>\n",
            "RangeIndex: 2695548 entries, 0 to 2695547\n",
            "Data columns (total 14 columns):\n",
            " #   Column             Dtype  \n",
            "---  ------             -----  \n",
            " 0   vmid               object \n",
            " 1   subscriptionid     object \n",
            " 2   deploymentid       object \n",
            " 3   vmcreated          int64  \n",
            " 4   vmdeleted          int64  \n",
            " 5   maxcpu             float64\n",
            " 6   avgcpu             float64\n",
            " 7   p95maxcpu          float64\n",
            " 8   vmcategory         object \n",
            " 9   vmcorecountbucket  int64  \n",
            " 10  vmmemorybucket     int64  \n",
            " 11  lifetime           float64\n",
            " 12  corehour           float64\n",
            " 13  target             int64  \n",
            "dtypes: float64(5), int64(5), object(4)\n",
            "memory usage: 287.9+ MB\n"
          ]
        }
      ]
    },
    {
      "cell_type": "code",
      "source": [
        "y = trace_dataframe['target']\n",
        "X = trace_dataframe.drop(['target', 'vmcategory', 'vmid', 'subscriptionid', 'deploymentid'], axis = 1)"
      ],
      "metadata": {
        "id": "EcyqRWOn5SnJ"
      },
      "execution_count": 7,
      "outputs": []
    },
    {
      "cell_type": "code",
      "source": [
        "# split X and y into training and testing sets\n",
        "\n",
        "from sklearn.model_selection import train_test_split\n",
        "\n",
        "X_train, X_test, y_train, y_test = train_test_split(X, y, test_size = 0.2, random_state = 0)"
      ],
      "metadata": {
        "id": "WCgpMUXy4ge4"
      },
      "execution_count": 8,
      "outputs": []
    },
    {
      "cell_type": "code",
      "source": [
        "X_train.shape, X_test.shape"
      ],
      "metadata": {
        "colab": {
          "base_uri": "https://localhost:8080/"
        },
        "id": "c1fSF_kn65es",
        "outputId": "8c5987fe-9c60-4c0f-d3d5-f12bd0d42392"
      },
      "execution_count": 9,
      "outputs": [
        {
          "output_type": "execute_result",
          "data": {
            "text/plain": [
              "((2156438, 9), (539110, 9))"
            ]
          },
          "metadata": {},
          "execution_count": 9
        }
      ]
    },
    {
      "cell_type": "code",
      "source": [
        "X_train.isnull().sum()"
      ],
      "metadata": {
        "colab": {
          "base_uri": "https://localhost:8080/"
        },
        "id": "wvK0fi5i68xr",
        "outputId": "35f0d254-90fb-46fb-c1ca-0269afec5a87"
      },
      "execution_count": 10,
      "outputs": [
        {
          "output_type": "execute_result",
          "data": {
            "text/plain": [
              "vmcreated            0\n",
              "vmdeleted            0\n",
              "maxcpu               0\n",
              "avgcpu               0\n",
              "p95maxcpu            0\n",
              "vmcorecountbucket    0\n",
              "vmmemorybucket       0\n",
              "lifetime             0\n",
              "corehour             0\n",
              "dtype: int64"
            ]
          },
          "metadata": {},
          "execution_count": 10
        }
      ]
    },
    {
      "cell_type": "code",
      "source": [
        "X_test.isnull().sum()"
      ],
      "metadata": {
        "colab": {
          "base_uri": "https://localhost:8080/"
        },
        "id": "fWWgrI3p7HL6",
        "outputId": "9cb22c1c-f001-4475-87da-3f7a6573fb1c"
      },
      "execution_count": 11,
      "outputs": [
        {
          "output_type": "execute_result",
          "data": {
            "text/plain": [
              "vmcreated            0\n",
              "vmdeleted            0\n",
              "maxcpu               0\n",
              "avgcpu               0\n",
              "p95maxcpu            0\n",
              "vmcorecountbucket    0\n",
              "vmmemorybucket       0\n",
              "lifetime             0\n",
              "corehour             0\n",
              "dtype: int64"
            ]
          },
          "metadata": {},
          "execution_count": 11
        }
      ]
    },
    {
      "cell_type": "code",
      "source": [
        "from sklearn.preprocessing import MinMaxScaler\n",
        "scaler = MinMaxScaler()\n",
        "X_train = scaler.fit_transform(X_train)\n",
        "X_test = scaler.transform(X_test)"
      ],
      "metadata": {
        "id": "pqb5HovQ7NIn"
      },
      "execution_count": 12,
      "outputs": []
    },
    {
      "cell_type": "code",
      "source": [
        "# train a logistic regression model on the training set\n",
        "from sklearn.linear_model import LogisticRegression\n",
        "\n",
        "# instantiate the model\n",
        "logreg = LogisticRegression(solver='liblinear', random_state=0)\n",
        "\n",
        "# fit the model\n",
        "logreg.fit(X_train, y_train)"
      ],
      "metadata": {
        "colab": {
          "base_uri": "https://localhost:8080/"
        },
        "id": "C7CwoZAV7ewn",
        "outputId": "e1f43cc7-8d74-4075-aa7d-d5598d0a4ee9"
      },
      "execution_count": 13,
      "outputs": [
        {
          "output_type": "execute_result",
          "data": {
            "text/plain": [
              "LogisticRegression(random_state=0, solver='liblinear')"
            ]
          },
          "metadata": {},
          "execution_count": 13
        }
      ]
    },
    {
      "cell_type": "code",
      "source": [
        "y_pred_test = logreg.predict(X_test)\n",
        "y_pred_test"
      ],
      "metadata": {
        "colab": {
          "base_uri": "https://localhost:8080/"
        },
        "id": "lhB-lMKp7l3i",
        "outputId": "bd11b3b5-ee46-4c4e-f3dc-62f4b22384e5"
      },
      "execution_count": 14,
      "outputs": [
        {
          "output_type": "execute_result",
          "data": {
            "text/plain": [
              "array([0, 0, 0, ..., 0, 0, 0])"
            ]
          },
          "metadata": {},
          "execution_count": 14
        }
      ]
    },
    {
      "cell_type": "code",
      "source": [
        "logreg.predict_proba(X_test)[:,0]"
      ],
      "metadata": {
        "colab": {
          "base_uri": "https://localhost:8080/"
        },
        "id": "go1SmbwU74MX",
        "outputId": "2a39ab53-8e03-4a36-ba61-f5bd02ac6f9e"
      },
      "execution_count": 15,
      "outputs": [
        {
          "output_type": "execute_result",
          "data": {
            "text/plain": [
              "array([0.9890772 , 0.97784961, 0.99117076, ..., 0.99495876, 0.98819246,\n",
              "       0.99837576])"
            ]
          },
          "metadata": {},
          "execution_count": 15
        }
      ]
    },
    {
      "cell_type": "code",
      "source": [
        "logreg.predict_proba(X_test)[:,1]"
      ],
      "metadata": {
        "colab": {
          "base_uri": "https://localhost:8080/"
        },
        "id": "imgFI_gj8Bsw",
        "outputId": "051841ad-babb-4db4-dd86-01e41556d099"
      },
      "execution_count": 16,
      "outputs": [
        {
          "output_type": "execute_result",
          "data": {
            "text/plain": [
              "array([0.0109228 , 0.02215039, 0.00882924, ..., 0.00504124, 0.01180754,\n",
              "       0.00162424])"
            ]
          },
          "metadata": {},
          "execution_count": 16
        }
      ]
    },
    {
      "cell_type": "code",
      "source": [
        "logreg.predict_proba(X_test)[:,1]"
      ],
      "metadata": {
        "colab": {
          "base_uri": "https://localhost:8080/"
        },
        "id": "tnWa_nhE8DXa",
        "outputId": "990d2daa-aea3-46a9-8194-a6010a7f7f8f"
      },
      "execution_count": 17,
      "outputs": [
        {
          "output_type": "execute_result",
          "data": {
            "text/plain": [
              "array([0.0109228 , 0.02215039, 0.00882924, ..., 0.00504124, 0.01180754,\n",
              "       0.00162424])"
            ]
          },
          "metadata": {},
          "execution_count": 17
        }
      ]
    },
    {
      "cell_type": "code",
      "source": [
        "# accuracy\n",
        "\n",
        "from sklearn.metrics import accuracy_score\n",
        "\n",
        "print('Model accuracy score: {0:0.4f}'. format(accuracy_score(y_test, y_pred_test)))"
      ],
      "metadata": {
        "colab": {
          "base_uri": "https://localhost:8080/"
        },
        "id": "fD8Au7Hz8HXi",
        "outputId": "861c531c-552e-498c-b2b4-d6d6dbcd7068"
      },
      "execution_count": 18,
      "outputs": [
        {
          "output_type": "stream",
          "name": "stdout",
          "text": [
            "Model accuracy score: 0.9651\n"
          ]
        }
      ]
    },
    {
      "cell_type": "code",
      "source": [
        "# predict\n",
        "y_pred_train = logreg.predict(X_train)\n",
        "\n",
        "y_pred_train"
      ],
      "metadata": {
        "colab": {
          "base_uri": "https://localhost:8080/"
        },
        "id": "f9EeiGe_8Ljf",
        "outputId": "541d8d44-caa0-46d8-d98c-f5e2abf48e92"
      },
      "execution_count": 19,
      "outputs": [
        {
          "output_type": "execute_result",
          "data": {
            "text/plain": [
              "array([0, 0, 0, ..., 0, 1, 0])"
            ]
          },
          "metadata": {},
          "execution_count": 19
        }
      ]
    },
    {
      "cell_type": "code",
      "source": [
        "print('Training-set accuracy score: {0:0.4f}'. format(accuracy_score(y_train, y_pred_train)))"
      ],
      "metadata": {
        "colab": {
          "base_uri": "https://localhost:8080/"
        },
        "id": "9uxe-xKq8ara",
        "outputId": "f25aaf26-3244-41d6-e171-c971a505af9e"
      },
      "execution_count": 20,
      "outputs": [
        {
          "output_type": "stream",
          "name": "stdout",
          "text": [
            "Training-set accuracy score: 0.9655\n"
          ]
        }
      ]
    },
    {
      "cell_type": "code",
      "source": [
        "# predict test\n",
        "y_pred_test = logreg.predict(X_test)\n",
        "\n",
        "y_pred_test"
      ],
      "metadata": {
        "colab": {
          "base_uri": "https://localhost:8080/"
        },
        "id": "DtviEyXi98I1",
        "outputId": "4b5299f2-7c5d-4ce8-fb98-dfea0fe31d25"
      },
      "execution_count": 21,
      "outputs": [
        {
          "output_type": "execute_result",
          "data": {
            "text/plain": [
              "array([0, 0, 0, ..., 0, 0, 0])"
            ]
          },
          "metadata": {},
          "execution_count": 21
        }
      ]
    },
    {
      "cell_type": "code",
      "source": [
        "print('Test-set accuracy score: {0:0.4f}'. format(accuracy_score(y_test, y_pred_test)))"
      ],
      "metadata": {
        "colab": {
          "base_uri": "https://localhost:8080/"
        },
        "id": "tzaRWQ7q-BKZ",
        "outputId": "0edd7708-359d-4107-909f-179bb9a1ffb9"
      },
      "execution_count": 22,
      "outputs": [
        {
          "output_type": "stream",
          "name": "stdout",
          "text": [
            "Test-set accuracy score: 0.9651\n"
          ]
        }
      ]
    },
    {
      "cell_type": "code",
      "source": [
        "np.bincount(y_pred_test)"
      ],
      "metadata": {
        "colab": {
          "base_uri": "https://localhost:8080/"
        },
        "id": "TZSzkLLp-PJJ",
        "outputId": "d0cb6e7f-fcd3-42c9-9fa5-f9d41414ab22"
      },
      "execution_count": 23,
      "outputs": [
        {
          "output_type": "execute_result",
          "data": {
            "text/plain": [
              "array([503588,  35522])"
            ]
          },
          "metadata": {},
          "execution_count": 23
        }
      ]
    },
    {
      "cell_type": "code",
      "source": [
        "# print the scores on training and test set\n",
        "\n",
        "print('Training set score: {:.4f}'.format(logreg.score(X_train, y_train)))\n",
        "\n",
        "print('Test set score: {:.4f}'.format(logreg.score(X_test, y_test)))"
      ],
      "metadata": {
        "colab": {
          "base_uri": "https://localhost:8080/"
        },
        "id": "to8PSCmu8c-B",
        "outputId": "7f843065-c013-4bfa-dd72-b3e83eb6b375"
      },
      "execution_count": 24,
      "outputs": [
        {
          "output_type": "stream",
          "name": "stdout",
          "text": [
            "Training set score: 0.9655\n",
            "Test set score: 0.9651\n"
          ]
        }
      ]
    },
    {
      "cell_type": "code",
      "source": [
        "# check class distribution in test set\n",
        "\n",
        "y_test.value_counts()"
      ],
      "metadata": {
        "colab": {
          "base_uri": "https://localhost:8080/"
        },
        "id": "4jyzVUnB8gg0",
        "outputId": "0d474ac0-7a40-4bb7-d838-731d016383a9"
      },
      "execution_count": 25,
      "outputs": [
        {
          "output_type": "execute_result",
          "data": {
            "text/plain": [
              "0    507348\n",
              "1     31762\n",
              "Name: target, dtype: int64"
            ]
          },
          "metadata": {},
          "execution_count": 25
        }
      ]
    },
    {
      "cell_type": "code",
      "source": [
        "y_train.value_counts()"
      ],
      "metadata": {
        "colab": {
          "base_uri": "https://localhost:8080/"
        },
        "id": "fu75srV388ah",
        "outputId": "13c41e8e-90d5-4597-e7f4-56adeae83c2c"
      },
      "execution_count": 26,
      "outputs": [
        {
          "output_type": "execute_result",
          "data": {
            "text/plain": [
              "0    2028585\n",
              "1     127853\n",
              "Name: target, dtype: int64"
            ]
          },
          "metadata": {},
          "execution_count": 26
        }
      ]
    },
    {
      "cell_type": "code",
      "source": [
        "# Print the Confusion Matrix and slice it into four pieces\n",
        "\n",
        "from sklearn.metrics import confusion_matrix\n",
        "\n",
        "cm = confusion_matrix(y_test, y_pred_test)\n",
        "\n",
        "print('Confusion matrix\\n\\n', cm)\n",
        "\n",
        "print('\\nTrue Positives(TP) = ', cm[0,0])\n",
        "\n",
        "print('\\nTrue Negatives(TN) = ', cm[1,1])\n",
        "\n",
        "print('\\nFalse Positives(FP) = ', cm[0,1])\n",
        "\n",
        "print('\\nFalse Negatives(FN) = ', cm[1,0])"
      ],
      "metadata": {
        "colab": {
          "base_uri": "https://localhost:8080/"
        },
        "id": "AhdPMVFI9CPE",
        "outputId": "63e3b732-13e9-4411-9c44-7347f08f0a04"
      },
      "execution_count": 27,
      "outputs": [
        {
          "output_type": "stream",
          "name": "stdout",
          "text": [
            "Confusion matrix\n",
            "\n",
            " [[496061  11287]\n",
            " [  7527  24235]]\n",
            "\n",
            "True Positives(TP) =  496061\n",
            "\n",
            "True Negatives(TN) =  24235\n",
            "\n",
            "False Positives(FP) =  11287\n",
            "\n",
            "False Negatives(FN) =  7527\n"
          ]
        }
      ]
    },
    {
      "cell_type": "code",
      "source": [
        "# visualize confusion matrix with seaborn heatmap\n",
        "\n",
        "cm_matrix = pd.DataFrame(data=cm, columns=['Actual Positive:1', 'Actual Negative:0'], \n",
        "                                 index=['Predict Positive:1', 'Predict Negative:0'])\n",
        "\n",
        "sns.heatmap(cm_matrix, annot=True, fmt='d', cmap='YlGnBu')"
      ],
      "metadata": {
        "colab": {
          "base_uri": "https://localhost:8080/",
          "height": 282
        },
        "id": "RG3zpLo39K8M",
        "outputId": "9d558665-b880-4c59-ff1c-68460138ee4d"
      },
      "execution_count": 28,
      "outputs": [
        {
          "output_type": "execute_result",
          "data": {
            "text/plain": [
              "<matplotlib.axes._subplots.AxesSubplot at 0x7fc3b4471bd0>"
            ]
          },
          "metadata": {},
          "execution_count": 28
        },
        {
          "output_type": "display_data",
          "data": {
            "text/plain": [
              "<Figure size 432x288 with 2 Axes>"
            ],
            "image/png": "[encoded data removed]"
          },
          "metadata": {
            "needs_background": "light"
          }
        }
      ]
    },
    {
      "cell_type": "code",
      "source": [
        "# classification report\n",
        "from sklearn.metrics import classification_report\n",
        "\n",
        "print(classification_report(y_test, y_pred_test))"
      ],
      "metadata": {
        "colab": {
          "base_uri": "https://localhost:8080/"
        },
        "id": "-EZENJWZ-sZ1",
        "outputId": "f278632c-cd75-47f7-ce6f-423e3ba60dbb"
      },
      "execution_count": 29,
      "outputs": [
        {
          "output_type": "stream",
          "name": "stdout",
          "text": [
            "              precision    recall  f1-score   support\n",
            "\n",
            "           0       0.99      0.98      0.98    507348\n",
            "           1       0.68      0.76      0.72     31762\n",
            "\n",
            "    accuracy                           0.97    539110\n",
            "   macro avg       0.83      0.87      0.85    539110\n",
            "weighted avg       0.97      0.97      0.97    539110\n",
            "\n"
          ]
        }
      ]
    },
    {
      "cell_type": "code",
      "source": [
        "TP = cm[0,0]\n",
        "TN = cm[1,1]\n",
        "FP = cm[0,1]\n",
        "FN = cm[1,0]"
      ],
      "metadata": {
        "id": "G943uceS_T79"
      },
      "execution_count": 30,
      "outputs": []
    },
    {
      "cell_type": "code",
      "source": [
        "# print classification accuracy\n",
        "\n",
        "classification_accuracy = (TP + TN) / float(TP + TN + FP + FN)\n",
        "\n",
        "print('Classification accuracy : {0:0.4f}'.format(classification_accuracy))"
      ],
      "metadata": {
        "colab": {
          "base_uri": "https://localhost:8080/"
        },
        "id": "OKGdapcN--uM",
        "outputId": "daebaf77-4238-4981-f29d-39182f1a4b43"
      },
      "execution_count": 31,
      "outputs": [
        {
          "output_type": "stream",
          "name": "stdout",
          "text": [
            "Classification accuracy : 0.9651\n"
          ]
        }
      ]
    },
    {
      "cell_type": "code",
      "source": [
        "# print classification error\n",
        "\n",
        "classification_error = (FP + FN) / float(TP + TN + FP + FN)\n",
        "\n",
        "print('Classification error : {0:0.4f}'.format(classification_error))"
      ],
      "metadata": {
        "colab": {
          "base_uri": "https://localhost:8080/"
        },
        "id": "ismG-maW_Hq6",
        "outputId": "ddf186df-81f9-406d-ad44-0fcc8710f7b4"
      },
      "execution_count": 32,
      "outputs": [
        {
          "output_type": "stream",
          "name": "stdout",
          "text": [
            "Classification error : 0.0349\n"
          ]
        }
      ]
    },
    {
      "cell_type": "code",
      "source": [
        "# print precision score\n",
        "\n",
        "precision = TP / float(TP + FP)\n",
        "print('Precision : {0:0.4f}'.format(precision))"
      ],
      "metadata": {
        "colab": {
          "base_uri": "https://localhost:8080/"
        },
        "id": "cDvRxox6_KDp",
        "outputId": "c5c797ce-9365-4064-e3ad-40273d626e82"
      },
      "execution_count": 33,
      "outputs": [
        {
          "output_type": "stream",
          "name": "stdout",
          "text": [
            "Precision : 0.9778\n"
          ]
        }
      ]
    },
    {
      "cell_type": "code",
      "source": [
        "recall = TP / float(TP + FN)\n",
        "\n",
        "print('Recall or Sensitivity : {0:0.4f}'.format(recall))"
      ],
      "metadata": {
        "colab": {
          "base_uri": "https://localhost:8080/"
        },
        "id": "Cw-QdX9M_Ykp",
        "outputId": "bc9702e5-1c4b-437a-c8c3-a793604c44eb"
      },
      "execution_count": 34,
      "outputs": [
        {
          "output_type": "stream",
          "name": "stdout",
          "text": [
            "Recall or Sensitivity : 0.9851\n"
          ]
        }
      ]
    },
    {
      "cell_type": "code",
      "source": [
        "true_positive_rate = TP / float(TP + FN)\n",
        "print('True Positive Rate : {0:0.4f}'.format(true_positive_rate))"
      ],
      "metadata": {
        "colab": {
          "base_uri": "https://localhost:8080/"
        },
        "id": "j5xpV648_atY",
        "outputId": "f4304374-b15d-4828-c1bc-9653e4d16268"
      },
      "execution_count": 35,
      "outputs": [
        {
          "output_type": "stream",
          "name": "stdout",
          "text": [
            "True Positive Rate : 0.9851\n"
          ]
        }
      ]
    },
    {
      "cell_type": "code",
      "source": [
        "false_positive_rate = FP / float(FP + TN)\n",
        "print('False Positive Rate : {0:0.4f}'.format(false_positive_rate))"
      ],
      "metadata": {
        "colab": {
          "base_uri": "https://localhost:8080/"
        },
        "id": "hk_Lx0SR_dUY",
        "outputId": "12506858-3cbd-4819-a5cd-cd87a4df3a69"
      },
      "execution_count": 36,
      "outputs": [
        {
          "output_type": "stream",
          "name": "stdout",
          "text": [
            "False Positive Rate : 0.3177\n"
          ]
        }
      ]
    },
    {
      "cell_type": "code",
      "source": [
        "specificity = TN / (TN + FP)\n",
        "print('Specificity : {0:0.4f}'.format(specificity))"
      ],
      "metadata": {
        "colab": {
          "base_uri": "https://localhost:8080/"
        },
        "id": "y2Tptxse_h7D",
        "outputId": "39c3ce1d-f4d6-4fee-edf8-ce00d8a6b2be"
      },
      "execution_count": 37,
      "outputs": [
        {
          "output_type": "stream",
          "name": "stdout",
          "text": [
            "Specificity : 0.6823\n"
          ]
        }
      ]
    },
    {
      "cell_type": "code",
      "source": [
        "# plotting correlation heatmap\n",
        "dataplot = sns.heatmap(trace_dataframe.corr(), cmap=\"YlGnBu\", annot=True)\n",
        "  \n",
        "# displaying heatmap\n",
        "plt.show()"
      ],
      "metadata": {
        "colab": {
          "base_uri": "https://localhost:8080/",
          "height": 358
        },
        "id": "acCMv5yk_lCu",
        "outputId": "90e42e46-f1ed-44fc-ffa5-428a1bfff372"
      },
      "execution_count": 38,
      "outputs": [
        {
          "output_type": "display_data",
          "data": {
            "text/plain": [
              "<Figure size 432x288 with 2 Axes>"
            ],
            "image/png": "[encoded data removed]"
          },
          "metadata": {
            "needs_background": "light"
          }
        }
      ]
    },
    {
      "cell_type": "code",
      "source": [
        "# Observation\n",
        "# corehour & lifetime is correlated with target i.e. Delay-insensitive & Others"
      ],
      "metadata": {
        "id": "PHGi_e1cAO_a"
      },
      "execution_count": 39,
      "outputs": []
    },
    {
      "cell_type": "code",
      "source": [
        "X_train"
      ],
      "metadata": {
        "colab": {
          "base_uri": "https://localhost:8080/"
        },
        "id": "MnRFODZsB74Y",
        "outputId": "ba0be494-8f41-4bd8-9ebd-03cb7ff41436"
      },
      "execution_count": 40,
      "outputs": [
        {
          "output_type": "execute_result",
          "data": {
            "text/plain": [
              "array([[9.97105812e-01, 9.97221579e-01, 5.62314360e-01, ...,\n",
              "        8.82352941e-02, 0.00000000e+00, 0.00000000e+00],\n",
              "       [3.65941190e-01, 3.66288493e-01, 9.60517223e-01, ...,\n",
              "        4.41176471e-01, 2.31561885e-04, 3.85894774e-05],\n",
              "       [4.98495022e-01, 5.10997916e-01, 6.97926124e-02, ...,\n",
              "        8.82352941e-02, 1.23885608e-02, 8.25814817e-04],\n",
              "       ...,\n",
              "       [4.74068071e-01, 4.74415374e-01, 3.23338392e-01, ...,\n",
              "        8.82352941e-02, 2.31561885e-04, 1.54357910e-05],\n",
              "       [0.00000000e+00, 1.00000000e+00, 7.78473009e-01, ...,\n",
              "        8.82352941e-02, 1.00000000e+00, 6.66594633e-02],\n",
              "       [9.33665200e-01, 9.47210002e-01, 9.09688719e-01, ...,\n",
              "        2.94117647e-02, 1.34305893e-02, 8.95275876e-04]])"
            ]
          },
          "metadata": {},
          "execution_count": 40
        }
      ]
    },
    {
      "cell_type": "code",
      "source": [
        "trace_dataframe[trace_dataframe['target'] == 1].describe()"
      ],
      "metadata": {
        "colab": {
          "base_uri": "https://localhost:8080/",
          "height": 300
        },
        "id": "zJ6mRtSVGCHQ",
        "outputId": "8feafeee-ff93-40c7-9242-883e783a0de4"
      },
      "execution_count": 42,
      "outputs": [
        {
          "output_type": "execute_result",
          "data": {
            "text/plain": [
              "          vmcreated     vmdeleted         maxcpu         avgcpu  \\\n",
              "count  1.596150e+05  1.596150e+05  159615.000000  159615.000000   \n",
              "mean   1.383098e+05  2.425149e+06      87.966700       8.142823   \n",
              "std    3.990099e+05  4.585940e+05      17.234943       9.503910   \n",
              "min    0.000000e+00  6.027000e+05       0.036403       0.004883   \n",
              "25%    0.000000e+00  2.591400e+06      84.808359       2.756611   \n",
              "50%    0.000000e+00  2.591400e+06      96.017085       5.689298   \n",
              "75%    0.000000e+00  2.591400e+06      98.464203      10.050941   \n",
              "max    2.067300e+06  2.591400e+06     100.000000      99.376264   \n",
              "\n",
              "           p95maxcpu  vmcorecountbucket  vmmemorybucket       lifetime  \\\n",
              "count  159615.000000      159615.000000   159615.000000  159615.000000   \n",
              "mean       36.949633           2.748326        8.105729     635.233088   \n",
              "std        28.377485           2.225715       10.898360     168.254763   \n",
              "min         0.028859           2.000000        2.000000     120.333333   \n",
              "25%        10.536261           2.000000        2.000000     719.833333   \n",
              "50%        27.560936           2.000000        4.000000     719.833333   \n",
              "75%        62.366698           2.000000        8.000000     719.833333   \n",
              "max       100.000000          30.000000       70.000000     719.833333   \n",
              "\n",
              "            corehour    target  \n",
              "count  159615.000000  159615.0  \n",
              "mean     1718.752502       1.0  \n",
              "std      1463.156457       0.0  \n",
              "min       240.666667       1.0  \n",
              "25%      1439.666667       1.0  \n",
              "50%      1439.666667       1.0  \n",
              "75%      1439.666667       1.0  \n",
              "max     21595.000000       1.0  "
            ],
            "text/html": [
              "\n",
              "  <div id=\"df-78366caf-ba40-4cb0-918b-439d50af8562\">\n",
              "    <div class=\"colab-df-container\">\n",
              "      <div>\n",
              "<style scoped>\n",
              "    .dataframe tbody tr th:only-of-type {\n",
              "        vertical-align: middle;\n",
              "    }\n",
              "\n",
              "    .dataframe tbody tr th {\n",
              "        vertical-align: top;\n",
              "    }\n",
              "\n",
              "    .dataframe thead th {\n",
              "        text-align: right;\n",
              "    }\n",
              "</style>\n",
              "<table border=\"1\" class=\"dataframe\">\n",
              "  <thead>\n",
              "    <tr style=\"text-align: right;\">\n",
              "      <th></th>\n",
              "      <th>vmcreated</th>\n",
              "      <th>vmdeleted</th>\n",
              "      <th>maxcpu</th>\n",
              "      <th>avgcpu</th>\n",
              "      <th>p95maxcpu</th>\n",
              "      <th>vmcorecountbucket</th>\n",
              "      <th>vmmemorybucket</th>\n",
              "      <th>lifetime</th>\n",
              "      <th>corehour</th>\n",
              "      <th>target</th>\n",
              "    </tr>\n",
              "  </thead>\n",
              "  <tbody>\n",
              "    <tr>\n",
              "      <th>count</th>\n",
              "      <td>1.596150e+05</td>\n",
              "      <td>1.596150e+05</td>\n",
              "      <td>159615.000000</td>\n",
              "      <td>159615.000000</td>\n",
              "      <td>159615.000000</td>\n",
              "      <td>159615.000000</td>\n",
              "      <td>159615.000000</td>\n",
              "      <td>159615.000000</td>\n",
              "      <td>159615.000000</td>\n",
              "      <td>159615.0</td>\n",
              "    </tr>\n",
              "    <tr>\n",
              "      <th>mean</th>\n",
              "      <td>1.383098e+05</td>\n",
              "      <td>2.425149e+06</td>\n",
              "      <td>87.966700</td>\n",
              "      <td>8.142823</td>\n",
              "      <td>36.949633</td>\n",
              "      <td>2.748326</td>\n",
              "      <td>8.105729</td>\n",
              "      <td>635.233088</td>\n",
              "      <td>1718.752502</td>\n",
              "      <td>1.0</td>\n",
              "    </tr>\n",
              "    <tr>\n",
              "      <th>std</th>\n",
              "      <td>3.990099e+05</td>\n",
              "      <td>4.585940e+05</td>\n",
              "      <td>17.234943</td>\n",
              "      <td>9.503910</td>\n",
              "      <td>28.377485</td>\n",
              "      <td>2.225715</td>\n",
              "      <td>10.898360</td>\n",
              "      <td>168.254763</td>\n",
              "      <td>1463.156457</td>\n",
              "      <td>0.0</td>\n",
              "    </tr>\n",
              "    <tr>\n",
              "      <th>min</th>\n",
              "      <td>0.000000e+00</td>\n",
              "      <td>6.027000e+05</td>\n",
              "      <td>0.036403</td>\n",
              "      <td>0.004883</td>\n",
              "      <td>0.028859</td>\n",
              "      <td>2.000000</td>\n",
              "      <td>2.000000</td>\n",
              "      <td>120.333333</td>\n",
              "      <td>240.666667</td>\n",
              "      <td>1.0</td>\n",
              "    </tr>\n",
              "    <tr>\n",
              "      <th>25%</th>\n",
              "      <td>0.000000e+00</td>\n",
              "      <td>2.591400e+06</td>\n",
              "      <td>84.808359</td>\n",
              "      <td>2.756611</td>\n",
              "      <td>10.536261</td>\n",
              "      <td>2.000000</td>\n",
              "      <td>2.000000</td>\n",
              "      <td>719.833333</td>\n",
              "      <td>1439.666667</td>\n",
              "      <td>1.0</td>\n",
              "    </tr>\n",
              "    <tr>\n",
              "      <th>50%</th>\n",
              "      <td>0.000000e+00</td>\n",
              "      <td>2.591400e+06</td>\n",
              "      <td>96.017085</td>\n",
              "      <td>5.689298</td>\n",
              "      <td>27.560936</td>\n",
              "      <td>2.000000</td>\n",
              "      <td>4.000000</td>\n",
              "      <td>719.833333</td>\n",
              "      <td>1439.666667</td>\n",
              "      <td>1.0</td>\n",
              "    </tr>\n",
              "    <tr>\n",
              "      <th>75%</th>\n",
              "      <td>0.000000e+00</td>\n",
              "      <td>2.591400e+06</td>\n",
              "      <td>98.464203</td>\n",
              "      <td>10.050941</td>\n",
              "      <td>62.366698</td>\n",
              "      <td>2.000000</td>\n",
              "      <td>8.000000</td>\n",
              "      <td>719.833333</td>\n",
              "      <td>1439.666667</td>\n",
              "      <td>1.0</td>\n",
              "    </tr>\n",
              "    <tr>\n",
              "      <th>max</th>\n",
              "      <td>2.067300e+06</td>\n",
              "      <td>2.591400e+06</td>\n",
              "      <td>100.000000</td>\n",
              "      <td>99.376264</td>\n",
              "      <td>100.000000</td>\n",
              "      <td>30.000000</td>\n",
              "      <td>70.000000</td>\n",
              "      <td>719.833333</td>\n",
              "      <td>21595.000000</td>\n",
              "      <td>1.0</td>\n",
              "    </tr>\n",
              "  </tbody>\n",
              "</table>\n",
              "</div>\n",
              "      <button class=\"colab-df-convert\" onclick=\"convertToInteractive('df-78366caf-ba40-4cb0-918b-439d50af8562')\"\n",
              "              title=\"Convert this dataframe to an interactive table.\"\n",
              "              style=\"display:none;\">\n",
              "        \n",
              "  <svg xmlns=\"http://www.w3.org/2000/svg\" height=\"24px\"viewBox=\"0 0 24 24\"\n",
              "       width=\"24px\">\n",
              "    <path d=\"M0 0h24v24H0V0z\" fill=\"none\"/>\n",
              "    <path d=\"M18.56 5.44l.94 2.06.94-2.06 2.06-.94-2.06-.94-.94-2.06-.94 2.06-2.06.94zm-11 1L8.5 8.5l.94-2.06 2.06-.94-2.06-.94L8.5 2.5l-.94 2.06-2.06.94zm10 10l.94 2.06.94-2.06 2.06-.94-2.06-.94-.94-2.06-.94 2.06-2.06.94z\"/><path d=\"M17.41 7.96l-1.37-1.37c-.4-.4-.92-.59-1.43-.59-.52 0-1.04.2-1.43.59L10.3 9.45l-7.72 7.72c-.78.78-.78 2.05 0 2.83L4 21.41c.39.39.9.59 1.41.59.51 0 1.02-.2 1.41-.59l7.78-7.78 2.81-2.81c.8-.78.8-2.07 0-2.86zM5.41 20L4 18.59l7.72-7.72 1.47 1.35L5.41 20z\"/>\n",
              "  </svg>\n",
              "      </button>\n",
              "      \n",
              "  <style>\n",
              "    .colab-df-container {\n",
              "      display:flex;\n",
              "      flex-wrap:wrap;\n",
              "      gap: 12px;\n",
              "    }\n",
              "\n",
              "    .colab-df-convert {\n",
              "      background-color: #E8F0FE;\n",
              "      border: none;\n",
              "      border-radius: 50%;\n",
              "      cursor: pointer;\n",
              "      display: none;\n",
              "      fill: #1967D2;\n",
              "      height: 32px;\n",
              "      padding: 0 0 0 0;\n",
              "      width: 32px;\n",
              "    }\n",
              "\n",
              "    .colab-df-convert:hover {\n",
              "      background-color: #E2EBFA;\n",
              "      box-shadow: 0px 1px 2px rgba(60, 64, 67, 0.3), 0px 1px 3px 1px rgba(60, 64, 67, 0.15);\n",
              "      fill: #174EA6;\n",
              "    }\n",
              "\n",
              "    [theme=dark] .colab-df-convert {\n",
              "      background-color: #3B4455;\n",
              "      fill: #D2E3FC;\n",
              "    }\n",
              "\n",
              "    [theme=dark] .colab-df-convert:hover {\n",
              "      background-color: #434B5C;\n",
              "      box-shadow: 0px 1px 3px 1px rgba(0, 0, 0, 0.15);\n",
              "      filter: drop-shadow(0px 1px 2px rgba(0, 0, 0, 0.3));\n",
              "      fill: #FFFFFF;\n",
              "    }\n",
              "  </style>\n",
              "\n",
              "      <script>\n",
              "        const buttonEl =\n",
              "          document.querySelector('#df-78366caf-ba40-4cb0-918b-439d50af8562 button.colab-df-convert');\n",
              "        buttonEl.style.display =\n",
              "          google.colab.kernel.accessAllowed ? 'block' : 'none';\n",
              "\n",
              "        async function convertToInteractive(key) {\n",
              "          const element = document.querySelector('#df-78366caf-ba40-4cb0-918b-439d50af8562');\n",
              "          const dataTable =\n",
              "            await google.colab.kernel.invokeFunction('convertToInteractive',\n",
              "                                                     [key], {});\n",
              "          if (!dataTable) return;\n",
              "\n",
              "          const docLinkHtml = 'Like what you see? Visit the ' +\n",
              "            '<a target=\"_blank\" href=https://colab.research.google.com/notebooks/data_table.ipynb>data table notebook</a>'\n",
              "            + ' to learn more about interactive tables.';\n",
              "          element.innerHTML = '';\n",
              "          dataTable['output_type'] = 'display_data';\n",
              "          await google.colab.output.renderOutput(dataTable, element);\n",
              "          const docLink = document.createElement('div');\n",
              "          docLink.innerHTML = docLinkHtml;\n",
              "          element.appendChild(docLink);\n",
              "        }\n",
              "      </script>\n",
              "    </div>\n",
              "  </div>\n",
              "  "
            ]
          },
          "metadata": {},
          "execution_count": 42
        }
      ]
    },
    {
      "cell_type": "code",
      "source": [
        "trace_dataframe[trace_dataframe['target'] == 0].describe()"
      ],
      "metadata": {
        "colab": {
          "base_uri": "https://localhost:8080/",
          "height": 300
        },
        "id": "7ELjOv0sGUDo",
        "outputId": "b47c569d-d21a-40a7-98df-aac2d2916f95"
      },
      "execution_count": 43,
      "outputs": [
        {
          "output_type": "execute_result",
          "data": {
            "text/plain": [
              "          vmcreated     vmdeleted        maxcpu        avgcpu     p95maxcpu  \\\n",
              "count  2.535933e+06  2.535933e+06  2.535933e+06  2.535933e+06  2.535933e+06   \n",
              "mean   1.248721e+06  1.335403e+06  5.366428e+01  1.605368e+01  4.781591e+01   \n",
              "std    7.710287e+05  7.721222e+05  3.693263e+01  1.907784e+01  3.609043e+01   \n",
              "min    0.000000e+00  0.000000e+00  0.000000e+00  0.000000e+00  0.000000e+00   \n",
              "25%    5.769000e+05  6.630000e+05  1.484034e+01  1.959539e+00  9.911397e+00   \n",
              "50%    1.220700e+06  1.305300e+06  5.770346e+01  8.435876e+00  4.935361e+01   \n",
              "75%    1.897500e+06  2.021700e+06  9.230984e+01  2.335342e+01  8.416641e+01   \n",
              "max    2.591400e+06  2.591400e+06  1.000000e+02  9.932801e+01  1.000000e+02   \n",
              "\n",
              "       vmcorecountbucket  vmmemorybucket      lifetime      corehour  \\\n",
              "count       2.535933e+06    2.535933e+06  2.535933e+06  2.535933e+06   \n",
              "mean        3.879808e+00    1.670369e+01  2.408304e+01  7.693466e+01   \n",
              "std         4.348432e+00    1.538696e+01  1.137798e+02  4.778791e+02   \n",
              "min         2.000000e+00    2.000000e+00  8.333333e-02  1.666667e-01   \n",
              "25%         2.000000e+00    4.000000e+00  1.666667e-01  3.333333e-01   \n",
              "50%         2.000000e+00    8.000000e+00  4.166667e-01  1.333333e+00   \n",
              "75%         4.000000e+00    3.200000e+01  1.916667e+00  7.000000e+00   \n",
              "max         3.000000e+01    7.000000e+01  7.198333e+02  2.159500e+04   \n",
              "\n",
              "          target  \n",
              "count  2535933.0  \n",
              "mean         0.0  \n",
              "std          0.0  \n",
              "min          0.0  \n",
              "25%          0.0  \n",
              "50%          0.0  \n",
              "75%          0.0  \n",
              "max          0.0  "
            ],
            "text/html": [
              "\n",
              "  <div id=\"df-2784102f-a688-4cb1-8f0f-ab20af645d14\">\n",
              "    <div class=\"colab-df-container\">\n",
              "      <div>\n",
              "<style scoped>\n",
              "    .dataframe tbody tr th:only-of-type {\n",
              "        vertical-align: middle;\n",
              "    }\n",
              "\n",
              "    .dataframe tbody tr th {\n",
              "        vertical-align: top;\n",
              "    }\n",
              "\n",
              "    .dataframe thead th {\n",
              "        text-align: right;\n",
              "    }\n",
              "</style>\n",
              "<table border=\"1\" class=\"dataframe\">\n",
              "  <thead>\n",
              "    <tr style=\"text-align: right;\">\n",
              "      <th></th>\n",
              "      <th>vmcreated</th>\n",
              "      <th>vmdeleted</th>\n",
              "      <th>maxcpu</th>\n",
              "      <th>avgcpu</th>\n",
              "      <th>p95maxcpu</th>\n",
              "      <th>vmcorecountbucket</th>\n",
              "      <th>vmmemorybucket</th>\n",
              "      <th>lifetime</th>\n",
              "      <th>corehour</th>\n",
              "      <th>target</th>\n",
              "    </tr>\n",
              "  </thead>\n",
              "  <tbody>\n",
              "    <tr>\n",
              "      <th>count</th>\n",
              "      <td>2.535933e+06</td>\n",
              "      <td>2.535933e+06</td>\n",
              "      <td>2.535933e+06</td>\n",
              "      <td>2.535933e+06</td>\n",
              "      <td>2.535933e+06</td>\n",
              "      <td>2.535933e+06</td>\n",
              "      <td>2.535933e+06</td>\n",
              "      <td>2.535933e+06</td>\n",
              "      <td>2.535933e+06</td>\n",
              "      <td>2535933.0</td>\n",
              "    </tr>\n",
              "    <tr>\n",
              "      <th>mean</th>\n",
              "      <td>1.248721e+06</td>\n",
              "      <td>1.335403e+06</td>\n",
              "      <td>5.366428e+01</td>\n",
              "      <td>1.605368e+01</td>\n",
              "      <td>4.781591e+01</td>\n",
              "      <td>3.879808e+00</td>\n",
              "      <td>1.670369e+01</td>\n",
              "      <td>2.408304e+01</td>\n",
              "      <td>7.693466e+01</td>\n",
              "      <td>0.0</td>\n",
              "    </tr>\n",
              "    <tr>\n",
              "      <th>std</th>\n",
              "      <td>7.710287e+05</td>\n",
              "      <td>7.721222e+05</td>\n",
              "      <td>3.693263e+01</td>\n",
              "      <td>1.907784e+01</td>\n",
              "      <td>3.609043e+01</td>\n",
              "      <td>4.348432e+00</td>\n",
              "      <td>1.538696e+01</td>\n",
              "      <td>1.137798e+02</td>\n",
              "      <td>4.778791e+02</td>\n",
              "      <td>0.0</td>\n",
              "    </tr>\n",
              "    <tr>\n",
              "      <th>min</th>\n",
              "      <td>0.000000e+00</td>\n",
              "      <td>0.000000e+00</td>\n",
              "      <td>0.000000e+00</td>\n",
              "      <td>0.000000e+00</td>\n",
              "      <td>0.000000e+00</td>\n",
              "      <td>2.000000e+00</td>\n",
              "      <td>2.000000e+00</td>\n",
              "      <td>8.333333e-02</td>\n",
              "      <td>1.666667e-01</td>\n",
              "      <td>0.0</td>\n",
              "    </tr>\n",
              "    <tr>\n",
              "      <th>25%</th>\n",
              "      <td>5.769000e+05</td>\n",
              "      <td>6.630000e+05</td>\n",
              "      <td>1.484034e+01</td>\n",
              "      <td>1.959539e+00</td>\n",
              "      <td>9.911397e+00</td>\n",
              "      <td>2.000000e+00</td>\n",
              "      <td>4.000000e+00</td>\n",
              "      <td>1.666667e-01</td>\n",
              "      <td>3.333333e-01</td>\n",
              "      <td>0.0</td>\n",
              "    </tr>\n",
              "    <tr>\n",
              "      <th>50%</th>\n",
              "      <td>1.220700e+06</td>\n",
              "      <td>1.305300e+06</td>\n",
              "      <td>5.770346e+01</td>\n",
              "      <td>8.435876e+00</td>\n",
              "      <td>4.935361e+01</td>\n",
              "      <td>2.000000e+00</td>\n",
              "      <td>8.000000e+00</td>\n",
              "      <td>4.166667e-01</td>\n",
              "      <td>1.333333e+00</td>\n",
              "      <td>0.0</td>\n",
              "    </tr>\n",
              "    <tr>\n",
              "      <th>75%</th>\n",
              "      <td>1.897500e+06</td>\n",
              "      <td>2.021700e+06</td>\n",
              "      <td>9.230984e+01</td>\n",
              "      <td>2.335342e+01</td>\n",
              "      <td>8.416641e+01</td>\n",
              "      <td>4.000000e+00</td>\n",
              "      <td>3.200000e+01</td>\n",
              "      <td>1.916667e+00</td>\n",
              "      <td>7.000000e+00</td>\n",
              "      <td>0.0</td>\n",
              "    </tr>\n",
              "    <tr>\n",
              "      <th>max</th>\n",
              "      <td>2.591400e+06</td>\n",
              "      <td>2.591400e+06</td>\n",
              "      <td>1.000000e+02</td>\n",
              "      <td>9.932801e+01</td>\n",
              "      <td>1.000000e+02</td>\n",
              "      <td>3.000000e+01</td>\n",
              "      <td>7.000000e+01</td>\n",
              "      <td>7.198333e+02</td>\n",
              "      <td>2.159500e+04</td>\n",
              "      <td>0.0</td>\n",
              "    </tr>\n",
              "  </tbody>\n",
              "</table>\n",
              "</div>\n",
              "      <button class=\"colab-df-convert\" onclick=\"convertToInteractive('df-2784102f-a688-4cb1-8f0f-ab20af645d14')\"\n",
              "              title=\"Convert this dataframe to an interactive table.\"\n",
              "              style=\"display:none;\">\n",
              "        \n",
              "  <svg xmlns=\"http://www.w3.org/2000/svg\" height=\"24px\"viewBox=\"0 0 24 24\"\n",
              "       width=\"24px\">\n",
              "    <path d=\"M0 0h24v24H0V0z\" fill=\"none\"/>\n",
              "    <path d=\"M18.56 5.44l.94 2.06.94-2.06 2.06-.94-2.06-.94-.94-2.06-.94 2.06-2.06.94zm-11 1L8.5 8.5l.94-2.06 2.06-.94-2.06-.94L8.5 2.5l-.94 2.06-2.06.94zm10 10l.94 2.06.94-2.06 2.06-.94-2.06-.94-.94-2.06-.94 2.06-2.06.94z\"/><path d=\"M17.41 7.96l-1.37-1.37c-.4-.4-.92-.59-1.43-.59-.52 0-1.04.2-1.43.59L10.3 9.45l-7.72 7.72c-.78.78-.78 2.05 0 2.83L4 21.41c.39.39.9.59 1.41.59.51 0 1.02-.2 1.41-.59l7.78-7.78 2.81-2.81c.8-.78.8-2.07 0-2.86zM5.41 20L4 18.59l7.72-7.72 1.47 1.35L5.41 20z\"/>\n",
              "  </svg>\n",
              "      </button>\n",
              "      \n",
              "  <style>\n",
              "    .colab-df-container {\n",
              "      display:flex;\n",
              "      flex-wrap:wrap;\n",
              "      gap: 12px;\n",
              "    }\n",
              "\n",
              "    .colab-df-convert {\n",
              "      background-color: #E8F0FE;\n",
              "      border: none;\n",
              "      border-radius: 50%;\n",
              "      cursor: pointer;\n",
              "      display: none;\n",
              "      fill: #1967D2;\n",
              "      height: 32px;\n",
              "      padding: 0 0 0 0;\n",
              "      width: 32px;\n",
              "    }\n",
              "\n",
              "    .colab-df-convert:hover {\n",
              "      background-color: #E2EBFA;\n",
              "      box-shadow: 0px 1px 2px rgba(60, 64, 67, 0.3), 0px 1px 3px 1px rgba(60, 64, 67, 0.15);\n",
              "      fill: #174EA6;\n",
              "    }\n",
              "\n",
              "    [theme=dark] .colab-df-convert {\n",
              "      background-color: #3B4455;\n",
              "      fill: #D2E3FC;\n",
              "    }\n",
              "\n",
              "    [theme=dark] .colab-df-convert:hover {\n",
              "      background-color: #434B5C;\n",
              "      box-shadow: 0px 1px 3px 1px rgba(0, 0, 0, 0.15);\n",
              "      filter: drop-shadow(0px 1px 2px rgba(0, 0, 0, 0.3));\n",
              "      fill: #FFFFFF;\n",
              "    }\n",
              "  </style>\n",
              "\n",
              "      <script>\n",
              "        const buttonEl =\n",
              "          document.querySelector('#df-2784102f-a688-4cb1-8f0f-ab20af645d14 button.colab-df-convert');\n",
              "        buttonEl.style.display =\n",
              "          google.colab.kernel.accessAllowed ? 'block' : 'none';\n",
              "\n",
              "        async function convertToInteractive(key) {\n",
              "          const element = document.querySelector('#df-2784102f-a688-4cb1-8f0f-ab20af645d14');\n",
              "          const dataTable =\n",
              "            await google.colab.kernel.invokeFunction('convertToInteractive',\n",
              "                                                     [key], {});\n",
              "          if (!dataTable) return;\n",
              "\n",
              "          const docLinkHtml = 'Like what you see? Visit the ' +\n",
              "            '<a target=\"_blank\" href=https://colab.research.google.com/notebooks/data_table.ipynb>data table notebook</a>'\n",
              "            + ' to learn more about interactive tables.';\n",
              "          element.innerHTML = '';\n",
              "          dataTable['output_type'] = 'display_data';\n",
              "          await google.colab.output.renderOutput(dataTable, element);\n",
              "          const docLink = document.createElement('div');\n",
              "          docLink.innerHTML = docLinkHtml;\n",
              "          element.appendChild(docLink);\n",
              "        }\n",
              "      </script>\n",
              "    </div>\n",
              "  </div>\n",
              "  "
            ]
          },
          "metadata": {},
          "execution_count": 43
        }
      ]
    },
    {
      "cell_type": "code",
      "source": [
        "# we can recommend to perform this exercise on Delay-insensitive vms as they constitute more core hours and lifetime\n",
        "# we can also see that delta between p95 and max cpu is higher\n",
        "# we can also see that the average is lower wrt max cpu\n",
        "# more spikes are observed"
      ],
      "metadata": {
        "id": "NvCFQGKVGlVd"
      },
      "execution_count": 44,
      "outputs": []
    },
    {
      "cell_type": "code",
      "source": [
        "# introducing 3 more fields delmaxavg delmaxp95 delp95avg\n",
        "trace_dataframe['delmaxavg'] = trace_dataframe['maxcpu'] - trace_dataframe['avgcpu']\n",
        "trace_dataframe['delmaxp95'] = trace_dataframe['maxcpu'] - trace_dataframe['p95maxcpu']\n",
        "trace_dataframe['delp95avg'] = trace_dataframe['p95maxcpu'] - trace_dataframe['avgcpu']"
      ],
      "metadata": {
        "id": "yazA76TXHyrT"
      },
      "execution_count": 45,
      "outputs": []
    },
    {
      "cell_type": "code",
      "source": [
        "trace_dataframe[trace_dataframe['target'] == 1].describe()"
      ],
      "metadata": {
        "colab": {
          "base_uri": "https://localhost:8080/",
          "height": 364
        },
        "id": "6NP_635tIg-W",
        "outputId": "2b1af6c7-d7fd-4448-84a3-7b84e648ec61"
      },
      "execution_count": 46,
      "outputs": [
        {
          "output_type": "execute_result",
          "data": {
            "text/plain": [
              "          vmcreated     vmdeleted         maxcpu         avgcpu  \\\n",
              "count  1.596150e+05  1.596150e+05  159615.000000  159615.000000   \n",
              "mean   1.383098e+05  2.425149e+06      87.966700       8.142823   \n",
              "std    3.990099e+05  4.585940e+05      17.234943       9.503910   \n",
              "min    0.000000e+00  6.027000e+05       0.036403       0.004883   \n",
              "25%    0.000000e+00  2.591400e+06      84.808359       2.756611   \n",
              "50%    0.000000e+00  2.591400e+06      96.017085       5.689298   \n",
              "75%    0.000000e+00  2.591400e+06      98.464203      10.050941   \n",
              "max    2.067300e+06  2.591400e+06     100.000000      99.376264   \n",
              "\n",
              "           p95maxcpu  vmcorecountbucket  vmmemorybucket       lifetime  \\\n",
              "count  159615.000000      159615.000000   159615.000000  159615.000000   \n",
              "mean       36.949633           2.748326        8.105729     635.233088   \n",
              "std        28.377485           2.225715       10.898360     168.254763   \n",
              "min         0.028859           2.000000        2.000000     120.333333   \n",
              "25%        10.536261           2.000000        2.000000     719.833333   \n",
              "50%        27.560936           2.000000        4.000000     719.833333   \n",
              "75%        62.366698           2.000000        8.000000     719.833333   \n",
              "max       100.000000          30.000000       70.000000     719.833333   \n",
              "\n",
              "            corehour    target      delmaxavg      delmaxp95      delp95avg  \n",
              "count  159615.000000  159615.0  159615.000000  159615.000000  159615.000000  \n",
              "mean     1718.752502       1.0      79.823877      51.017067      28.806810  \n",
              "std      1463.156457       0.0      17.074361      25.638681      23.406638  \n",
              "min       240.666667       1.0       0.009563       0.000000      -2.404596  \n",
              "25%      1439.666667       1.0      75.879780      32.878318       7.014693  \n",
              "50%      1439.666667       1.0      86.570268      46.626264      21.066135  \n",
              "75%      1439.666667       1.0      90.084304      76.291099      51.940450  \n",
              "max     21595.000000       1.0      99.429264      99.100141      96.396597  "
            ],
            "text/html": [
              "\n",
              "  <div id=\"df-462a80ca-0b12-445c-9bf9-5e71e2dd6ea9\">\n",
              "    <div class=\"colab-df-container\">\n",
              "      <div>\n",
              "<style scoped>\n",
              "    .dataframe tbody tr th:only-of-type {\n",
              "        vertical-align: middle;\n",
              "    }\n",
              "\n",
              "    .dataframe tbody tr th {\n",
              "        vertical-align: top;\n",
              "    }\n",
              "\n",
              "    .dataframe thead th {\n",
              "        text-align: right;\n",
              "    }\n",
              "</style>\n",
              "<table border=\"1\" class=\"dataframe\">\n",
              "  <thead>\n",
              "    <tr style=\"text-align: right;\">\n",
              "      <th></th>\n",
              "      <th>vmcreated</th>\n",
              "      <th>vmdeleted</th>\n",
              "      <th>maxcpu</th>\n",
              "      <th>avgcpu</th>\n",
              "      <th>p95maxcpu</th>\n",
              "      <th>vmcorecountbucket</th>\n",
              "      <th>vmmemorybucket</th>\n",
              "      <th>lifetime</th>\n",
              "      <th>corehour</th>\n",
              "      <th>target</th>\n",
              "      <th>delmaxavg</th>\n",
              "      <th>delmaxp95</th>\n",
              "      <th>delp95avg</th>\n",
              "    </tr>\n",
              "  </thead>\n",
              "  <tbody>\n",
              "    <tr>\n",
              "      <th>count</th>\n",
              "      <td>1.596150e+05</td>\n",
              "      <td>1.596150e+05</td>\n",
              "      <td>159615.000000</td>\n",
              "      <td>159615.000000</td>\n",
              "      <td>159615.000000</td>\n",
              "      <td>159615.000000</td>\n",
              "      <td>159615.000000</td>\n",
              "      <td>159615.000000</td>\n",
              "      <td>159615.000000</td>\n",
              "      <td>159615.0</td>\n",
              "      <td>159615.000000</td>\n",
              "      <td>159615.000000</td>\n",
              "      <td>159615.000000</td>\n",
              "    </tr>\n",
              "    <tr>\n",
              "      <th>mean</th>\n",
              "      <td>1.383098e+05</td>\n",
              "      <td>2.425149e+06</td>\n",
              "      <td>87.966700</td>\n",
              "      <td>8.142823</td>\n",
              "      <td>36.949633</td>\n",
              "      <td>2.748326</td>\n",
              "      <td>8.105729</td>\n",
              "      <td>635.233088</td>\n",
              "      <td>1718.752502</td>\n",
              "      <td>1.0</td>\n",
              "      <td>79.823877</td>\n",
              "      <td>51.017067</td>\n",
              "      <td>28.806810</td>\n",
              "    </tr>\n",
              "    <tr>\n",
              "      <th>std</th>\n",
              "      <td>3.990099e+05</td>\n",
              "      <td>4.585940e+05</td>\n",
              "      <td>17.234943</td>\n",
              "      <td>9.503910</td>\n",
              "      <td>28.377485</td>\n",
              "      <td>2.225715</td>\n",
              "      <td>10.898360</td>\n",
              "      <td>168.254763</td>\n",
              "      <td>1463.156457</td>\n",
              "      <td>0.0</td>\n",
              "      <td>17.074361</td>\n",
              "      <td>25.638681</td>\n",
              "      <td>23.406638</td>\n",
              "    </tr>\n",
              "    <tr>\n",
              "      <th>min</th>\n",
              "      <td>0.000000e+00</td>\n",
              "      <td>6.027000e+05</td>\n",
              "      <td>0.036403</td>\n",
              "      <td>0.004883</td>\n",
              "      <td>0.028859</td>\n",
              "      <td>2.000000</td>\n",
              "      <td>2.000000</td>\n",
              "      <td>120.333333</td>\n",
              "      <td>240.666667</td>\n",
              "      <td>1.0</td>\n",
              "      <td>0.009563</td>\n",
              "      <td>0.000000</td>\n",
              "      <td>-2.404596</td>\n",
              "    </tr>\n",
              "    <tr>\n",
              "      <th>25%</th>\n",
              "      <td>0.000000e+00</td>\n",
              "      <td>2.591400e+06</td>\n",
              "      <td>84.808359</td>\n",
              "      <td>2.756611</td>\n",
              "      <td>10.536261</td>\n",
              "      <td>2.000000</td>\n",
              "      <td>2.000000</td>\n",
              "      <td>719.833333</td>\n",
              "      <td>1439.666667</td>\n",
              "      <td>1.0</td>\n",
              "      <td>75.879780</td>\n",
              "      <td>32.878318</td>\n",
              "      <td>7.014693</td>\n",
              "    </tr>\n",
              "    <tr>\n",
              "      <th>50%</th>\n",
              "      <td>0.000000e+00</td>\n",
              "      <td>2.591400e+06</td>\n",
              "      <td>96.017085</td>\n",
              "      <td>5.689298</td>\n",
              "      <td>27.560936</td>\n",
              "      <td>2.000000</td>\n",
              "      <td>4.000000</td>\n",
              "      <td>719.833333</td>\n",
              "      <td>1439.666667</td>\n",
              "      <td>1.0</td>\n",
              "      <td>86.570268</td>\n",
              "      <td>46.626264</td>\n",
              "      <td>21.066135</td>\n",
              "    </tr>\n",
              "    <tr>\n",
              "      <th>75%</th>\n",
              "      <td>0.000000e+00</td>\n",
              "      <td>2.591400e+06</td>\n",
              "      <td>98.464203</td>\n",
              "      <td>10.050941</td>\n",
              "      <td>62.366698</td>\n",
              "      <td>2.000000</td>\n",
              "      <td>8.000000</td>\n",
              "      <td>719.833333</td>\n",
              "      <td>1439.666667</td>\n",
              "      <td>1.0</td>\n",
              "      <td>90.084304</td>\n",
              "      <td>76.291099</td>\n",
              "      <td>51.940450</td>\n",
              "    </tr>\n",
              "    <tr>\n",
              "      <th>max</th>\n",
              "      <td>2.067300e+06</td>\n",
              "      <td>2.591400e+06</td>\n",
              "      <td>100.000000</td>\n",
              "      <td>99.376264</td>\n",
              "      <td>100.000000</td>\n",
              "      <td>30.000000</td>\n",
              "      <td>70.000000</td>\n",
              "      <td>719.833333</td>\n",
              "      <td>21595.000000</td>\n",
              "      <td>1.0</td>\n",
              "      <td>99.429264</td>\n",
              "      <td>99.100141</td>\n",
              "      <td>96.396597</td>\n",
              "    </tr>\n",
              "  </tbody>\n",
              "</table>\n",
              "</div>\n",
              "      <button class=\"colab-df-convert\" onclick=\"convertToInteractive('df-462a80ca-0b12-445c-9bf9-5e71e2dd6ea9')\"\n",
              "              title=\"Convert this dataframe to an interactive table.\"\n",
              "              style=\"display:none;\">\n",
              "        \n",
              "  <svg xmlns=\"http://www.w3.org/2000/svg\" height=\"24px\"viewBox=\"0 0 24 24\"\n",
              "       width=\"24px\">\n",
              "    <path d=\"M0 0h24v24H0V0z\" fill=\"none\"/>\n",
              "    <path d=\"M18.56 5.44l.94 2.06.94-2.06 2.06-.94-2.06-.94-.94-2.06-.94 2.06-2.06.94zm-11 1L8.5 8.5l.94-2.06 2.06-.94-2.06-.94L8.5 2.5l-.94 2.06-2.06.94zm10 10l.94 2.06.94-2.06 2.06-.94-2.06-.94-.94-2.06-.94 2.06-2.06.94z\"/><path d=\"M17.41 7.96l-1.37-1.37c-.4-.4-.92-.59-1.43-.59-.52 0-1.04.2-1.43.59L10.3 9.45l-7.72 7.72c-.78.78-.78 2.05 0 2.83L4 21.41c.39.39.9.59 1.41.59.51 0 1.02-.2 1.41-.59l7.78-7.78 2.81-2.81c.8-.78.8-2.07 0-2.86zM5.41 20L4 18.59l7.72-7.72 1.47 1.35L5.41 20z\"/>\n",
              "  </svg>\n",
              "      </button>\n",
              "      \n",
              "  <style>\n",
              "    .colab-df-container {\n",
              "      display:flex;\n",
              "      flex-wrap:wrap;\n",
              "      gap: 12px;\n",
              "    }\n",
              "\n",
              "    .colab-df-convert {\n",
              "      background-color: #E8F0FE;\n",
              "      border: none;\n",
              "      border-radius: 50%;\n",
              "      cursor: pointer;\n",
              "      display: none;\n",
              "      fill: #1967D2;\n",
              "      height: 32px;\n",
              "      padding: 0 0 0 0;\n",
              "      width: 32px;\n",
              "    }\n",
              "\n",
              "    .colab-df-convert:hover {\n",
              "      background-color: #E2EBFA;\n",
              "      box-shadow: 0px 1px 2px rgba(60, 64, 67, 0.3), 0px 1px 3px 1px rgba(60, 64, 67, 0.15);\n",
              "      fill: #174EA6;\n",
              "    }\n",
              "\n",
              "    [theme=dark] .colab-df-convert {\n",
              "      background-color: #3B4455;\n",
              "      fill: #D2E3FC;\n",
              "    }\n",
              "\n",
              "    [theme=dark] .colab-df-convert:hover {\n",
              "      background-color: #434B5C;\n",
              "      box-shadow: 0px 1px 3px 1px rgba(0, 0, 0, 0.15);\n",
              "      filter: drop-shadow(0px 1px 2px rgba(0, 0, 0, 0.3));\n",
              "      fill: #FFFFFF;\n",
              "    }\n",
              "  </style>\n",
              "\n",
              "      <script>\n",
              "        const buttonEl =\n",
              "          document.querySelector('#df-462a80ca-0b12-445c-9bf9-5e71e2dd6ea9 button.colab-df-convert');\n",
              "        buttonEl.style.display =\n",
              "          google.colab.kernel.accessAllowed ? 'block' : 'none';\n",
              "\n",
              "        async function convertToInteractive(key) {\n",
              "          const element = document.querySelector('#df-462a80ca-0b12-445c-9bf9-5e71e2dd6ea9');\n",
              "          const dataTable =\n",
              "            await google.colab.kernel.invokeFunction('convertToInteractive',\n",
              "                                                     [key], {});\n",
              "          if (!dataTable) return;\n",
              "\n",
              "          const docLinkHtml = 'Like what you see? Visit the ' +\n",
              "            '<a target=\"_blank\" href=https://colab.research.google.com/notebooks/data_table.ipynb>data table notebook</a>'\n",
              "            + ' to learn more about interactive tables.';\n",
              "          element.innerHTML = '';\n",
              "          dataTable['output_type'] = 'display_data';\n",
              "          await google.colab.output.renderOutput(dataTable, element);\n",
              "          const docLink = document.createElement('div');\n",
              "          docLink.innerHTML = docLinkHtml;\n",
              "          element.appendChild(docLink);\n",
              "        }\n",
              "      </script>\n",
              "    </div>\n",
              "  </div>\n",
              "  "
            ]
          },
          "metadata": {},
          "execution_count": 46
        }
      ]
    },
    {
      "cell_type": "code",
      "source": [
        "# anomolous data\n",
        "trace_dataframe[trace_dataframe['delp95avg'] < 0].describe()"
      ],
      "metadata": {
        "colab": {
          "base_uri": "https://localhost:8080/",
          "height": 300
        },
        "id": "82z2zBriIjo7",
        "outputId": "a7a18077-43e8-4c93-ed8b-f8184b8358b5"
      },
      "execution_count": 50,
      "outputs": [
        {
          "output_type": "execute_result",
          "data": {
            "text/plain": [
              "          vmcreated     vmdeleted      maxcpu      avgcpu   p95maxcpu  \\\n",
              "count  5.330000e+02  5.330000e+02  533.000000  533.000000  533.000000   \n",
              "mean   5.047064e+05  1.909112e+06   83.061353    2.418145    1.660422   \n",
              "std    6.660730e+05  8.722939e+05   26.661177    1.388930    1.128104   \n",
              "min    0.000000e+00  1.230000e+04    1.024593    0.061715    0.029750   \n",
              "25%    6.540000e+04  9.711000e+05   84.187166    1.303841    1.018099   \n",
              "50%    8.520000e+04  2.591400e+06   97.612103    2.482900    1.438309   \n",
              "75%    8.538000e+05  2.591400e+06   98.413332    3.452097    1.937499   \n",
              "max    2.584500e+06  2.591400e+06  100.000000   14.392508   14.105560   \n",
              "\n",
              "       vmcorecountbucket  vmmemorybucket    lifetime     corehour      target  \\\n",
              "count         533.000000      533.000000  533.000000   533.000000  533.000000   \n",
              "mean            3.988743       20.833021  390.112570  1493.249218    0.489681   \n",
              "std             4.435827       16.532387  342.778693  1326.835380    0.500363   \n",
              "min             2.000000        2.000000    1.583333     3.166667    0.000000   \n",
              "25%             2.000000        4.000000    9.916667    20.333333    0.000000   \n",
              "50%             4.000000       32.000000  696.166667  1439.666667    0.000000   \n",
              "75%             4.000000       32.000000  701.666667  2785.333333    1.000000   \n",
              "max            30.000000       70.000000  719.833333  3538.000000    1.000000   \n",
              "\n",
              "        delmaxavg   delmaxp95   delp95avg  \n",
              "count  533.000000  533.000000  533.000000  \n",
              "mean    80.643209   81.400931   -0.757722  \n",
              "std     26.034957   26.369862    0.740102  \n",
              "min      0.927623    0.933952   -2.404596  \n",
              "25%     82.368618   83.012003   -1.356969  \n",
              "50%     94.125627   95.443116   -0.502333  \n",
              "75%     95.598259   96.799029   -0.102664  \n",
              "max     99.092683   99.100141   -0.000856  "
            ],
            "text/html": [
              "\n",
              "  <div id=\"df-171bb557-d901-4d6d-b658-3c798c335e07\">\n",
              "    <div class=\"colab-df-container\">\n",
              "      <div>\n",
              "<style scoped>\n",
              "    .dataframe tbody tr th:only-of-type {\n",
              "        vertical-align: middle;\n",
              "    }\n",
              "\n",
              "    .dataframe tbody tr th {\n",
              "        vertical-align: top;\n",
              "    }\n",
              "\n",
              "    .dataframe thead th {\n",
              "        text-align: right;\n",
              "    }\n",
              "</style>\n",
              "<table border=\"1\" class=\"dataframe\">\n",
              "  <thead>\n",
              "    <tr style=\"text-align: right;\">\n",
              "      <th></th>\n",
              "      <th>vmcreated</th>\n",
              "      <th>vmdeleted</th>\n",
              "      <th>maxcpu</th>\n",
              "      <th>avgcpu</th>\n",
              "      <th>p95maxcpu</th>\n",
              "      <th>vmcorecountbucket</th>\n",
              "      <th>vmmemorybucket</th>\n",
              "      <th>lifetime</th>\n",
              "      <th>corehour</th>\n",
              "      <th>target</th>\n",
              "      <th>delmaxavg</th>\n",
              "      <th>delmaxp95</th>\n",
              "      <th>delp95avg</th>\n",
              "    </tr>\n",
              "  </thead>\n",
              "  <tbody>\n",
              "    <tr>\n",
              "      <th>count</th>\n",
              "      <td>5.330000e+02</td>\n",
              "      <td>5.330000e+02</td>\n",
              "      <td>533.000000</td>\n",
              "      <td>533.000000</td>\n",
              "      <td>533.000000</td>\n",
              "      <td>533.000000</td>\n",
              "      <td>533.000000</td>\n",
              "      <td>533.000000</td>\n",
              "      <td>533.000000</td>\n",
              "      <td>533.000000</td>\n",
              "      <td>533.000000</td>\n",
              "      <td>533.000000</td>\n",
              "      <td>533.000000</td>\n",
              "    </tr>\n",
              "    <tr>\n",
              "      <th>mean</th>\n",
              "      <td>5.047064e+05</td>\n",
              "      <td>1.909112e+06</td>\n",
              "      <td>83.061353</td>\n",
              "      <td>2.418145</td>\n",
              "      <td>1.660422</td>\n",
              "      <td>3.988743</td>\n",
              "      <td>20.833021</td>\n",
              "      <td>390.112570</td>\n",
              "      <td>1493.249218</td>\n",
              "      <td>0.489681</td>\n",
              "      <td>80.643209</td>\n",
              "      <td>81.400931</td>\n",
              "      <td>-0.757722</td>\n",
              "    </tr>\n",
              "    <tr>\n",
              "      <th>std</th>\n",
              "      <td>6.660730e+05</td>\n",
              "      <td>8.722939e+05</td>\n",
              "      <td>26.661177</td>\n",
              "      <td>1.388930</td>\n",
              "      <td>1.128104</td>\n",
              "      <td>4.435827</td>\n",
              "      <td>16.532387</td>\n",
              "      <td>342.778693</td>\n",
              "      <td>1326.835380</td>\n",
              "      <td>0.500363</td>\n",
              "      <td>26.034957</td>\n",
              "      <td>26.369862</td>\n",
              "      <td>0.740102</td>\n",
              "    </tr>\n",
              "    <tr>\n",
              "      <th>min</th>\n",
              "      <td>0.000000e+00</td>\n",
              "      <td>1.230000e+04</td>\n",
              "      <td>1.024593</td>\n",
              "      <td>0.061715</td>\n",
              "      <td>0.029750</td>\n",
              "      <td>2.000000</td>\n",
              "      <td>2.000000</td>\n",
              "      <td>1.583333</td>\n",
              "      <td>3.166667</td>\n",
              "      <td>0.000000</td>\n",
              "      <td>0.927623</td>\n",
              "      <td>0.933952</td>\n",
              "      <td>-2.404596</td>\n",
              "    </tr>\n",
              "    <tr>\n",
              "      <th>25%</th>\n",
              "      <td>6.540000e+04</td>\n",
              "      <td>9.711000e+05</td>\n",
              "      <td>84.187166</td>\n",
              "      <td>1.303841</td>\n",
              "      <td>1.018099</td>\n",
              "      <td>2.000000</td>\n",
              "      <td>4.000000</td>\n",
              "      <td>9.916667</td>\n",
              "      <td>20.333333</td>\n",
              "      <td>0.000000</td>\n",
              "      <td>82.368618</td>\n",
              "      <td>83.012003</td>\n",
              "      <td>-1.356969</td>\n",
              "    </tr>\n",
              "    <tr>\n",
              "      <th>50%</th>\n",
              "      <td>8.520000e+04</td>\n",
              "      <td>2.591400e+06</td>\n",
              "      <td>97.612103</td>\n",
              "      <td>2.482900</td>\n",
              "      <td>1.438309</td>\n",
              "      <td>4.000000</td>\n",
              "      <td>32.000000</td>\n",
              "      <td>696.166667</td>\n",
              "      <td>1439.666667</td>\n",
              "      <td>0.000000</td>\n",
              "      <td>94.125627</td>\n",
              "      <td>95.443116</td>\n",
              "      <td>-0.502333</td>\n",
              "    </tr>\n",
              "    <tr>\n",
              "      <th>75%</th>\n",
              "      <td>8.538000e+05</td>\n",
              "      <td>2.591400e+06</td>\n",
              "      <td>98.413332</td>\n",
              "      <td>3.452097</td>\n",
              "      <td>1.937499</td>\n",
              "      <td>4.000000</td>\n",
              "      <td>32.000000</td>\n",
              "      <td>701.666667</td>\n",
              "      <td>2785.333333</td>\n",
              "      <td>1.000000</td>\n",
              "      <td>95.598259</td>\n",
              "      <td>96.799029</td>\n",
              "      <td>-0.102664</td>\n",
              "    </tr>\n",
              "    <tr>\n",
              "      <th>max</th>\n",
              "      <td>2.584500e+06</td>\n",
              "      <td>2.591400e+06</td>\n",
              "      <td>100.000000</td>\n",
              "      <td>14.392508</td>\n",
              "      <td>14.105560</td>\n",
              "      <td>30.000000</td>\n",
              "      <td>70.000000</td>\n",
              "      <td>719.833333</td>\n",
              "      <td>3538.000000</td>\n",
              "      <td>1.000000</td>\n",
              "      <td>99.092683</td>\n",
              "      <td>99.100141</td>\n",
              "      <td>-0.000856</td>\n",
              "    </tr>\n",
              "  </tbody>\n",
              "</table>\n",
              "</div>\n",
              "      <button class=\"colab-df-convert\" onclick=\"convertToInteractive('df-171bb557-d901-4d6d-b658-3c798c335e07')\"\n",
              "              title=\"Convert this dataframe to an interactive table.\"\n",
              "              style=\"display:none;\">\n",
              "        \n",
              "  <svg xmlns=\"http://www.w3.org/2000/svg\" height=\"24px\"viewBox=\"0 0 24 24\"\n",
              "       width=\"24px\">\n",
              "    <path d=\"M0 0h24v24H0V0z\" fill=\"none\"/>\n",
              "    <path d=\"M18.56 5.44l.94 2.06.94-2.06 2.06-.94-2.06-.94-.94-2.06-.94 2.06-2.06.94zm-11 1L8.5 8.5l.94-2.06 2.06-.94-2.06-.94L8.5 2.5l-.94 2.06-2.06.94zm10 10l.94 2.06.94-2.06 2.06-.94-2.06-.94-.94-2.06-.94 2.06-2.06.94z\"/><path d=\"M17.41 7.96l-1.37-1.37c-.4-.4-.92-.59-1.43-.59-.52 0-1.04.2-1.43.59L10.3 9.45l-7.72 7.72c-.78.78-.78 2.05 0 2.83L4 21.41c.39.39.9.59 1.41.59.51 0 1.02-.2 1.41-.59l7.78-7.78 2.81-2.81c.8-.78.8-2.07 0-2.86zM5.41 20L4 18.59l7.72-7.72 1.47 1.35L5.41 20z\"/>\n",
              "  </svg>\n",
              "      </button>\n",
              "      \n",
              "  <style>\n",
              "    .colab-df-container {\n",
              "      display:flex;\n",
              "      flex-wrap:wrap;\n",
              "      gap: 12px;\n",
              "    }\n",
              "\n",
              "    .colab-df-convert {\n",
              "      background-color: #E8F0FE;\n",
              "      border: none;\n",
              "      border-radius: 50%;\n",
              "      cursor: pointer;\n",
              "      display: none;\n",
              "      fill: #1967D2;\n",
              "      height: 32px;\n",
              "      padding: 0 0 0 0;\n",
              "      width: 32px;\n",
              "    }\n",
              "\n",
              "    .colab-df-convert:hover {\n",
              "      background-color: #E2EBFA;\n",
              "      box-shadow: 0px 1px 2px rgba(60, 64, 67, 0.3), 0px 1px 3px 1px rgba(60, 64, 67, 0.15);\n",
              "      fill: #174EA6;\n",
              "    }\n",
              "\n",
              "    [theme=dark] .colab-df-convert {\n",
              "      background-color: #3B4455;\n",
              "      fill: #D2E3FC;\n",
              "    }\n",
              "\n",
              "    [theme=dark] .colab-df-convert:hover {\n",
              "      background-color: #434B5C;\n",
              "      box-shadow: 0px 1px 3px 1px rgba(0, 0, 0, 0.15);\n",
              "      filter: drop-shadow(0px 1px 2px rgba(0, 0, 0, 0.3));\n",
              "      fill: #FFFFFF;\n",
              "    }\n",
              "  </style>\n",
              "\n",
              "      <script>\n",
              "        const buttonEl =\n",
              "          document.querySelector('#df-171bb557-d901-4d6d-b658-3c798c335e07 button.colab-df-convert');\n",
              "        buttonEl.style.display =\n",
              "          google.colab.kernel.accessAllowed ? 'block' : 'none';\n",
              "\n",
              "        async function convertToInteractive(key) {\n",
              "          const element = document.querySelector('#df-171bb557-d901-4d6d-b658-3c798c335e07');\n",
              "          const dataTable =\n",
              "            await google.colab.kernel.invokeFunction('convertToInteractive',\n",
              "                                                     [key], {});\n",
              "          if (!dataTable) return;\n",
              "\n",
              "          const docLinkHtml = 'Like what you see? Visit the ' +\n",
              "            '<a target=\"_blank\" href=https://colab.research.google.com/notebooks/data_table.ipynb>data table notebook</a>'\n",
              "            + ' to learn more about interactive tables.';\n",
              "          element.innerHTML = '';\n",
              "          dataTable['output_type'] = 'display_data';\n",
              "          await google.colab.output.renderOutput(dataTable, element);\n",
              "          const docLink = document.createElement('div');\n",
              "          docLink.innerHTML = docLinkHtml;\n",
              "          element.appendChild(docLink);\n",
              "        }\n",
              "      </script>\n",
              "    </div>\n",
              "  </div>\n",
              "  "
            ]
          },
          "metadata": {},
          "execution_count": 50
        }
      ]
    },
    {
      "cell_type": "code",
      "source": [
        "ts_target_df = trace_dataframe[trace_dataframe['delp95avg'] < 0]"
      ],
      "metadata": {
        "id": "qcsbM55KJPhR"
      },
      "execution_count": 51,
      "outputs": []
    },
    {
      "cell_type": "code",
      "source": [
        "ts_target_df.to_csv('p95avg_negative.csv')"
      ],
      "metadata": {
        "id": "WArOU5nONlzk"
      },
      "execution_count": 52,
      "outputs": []
    },
    {
      "cell_type": "markdown",
      "source": [],
      "metadata": {
        "id": "TsNFGWKtcqqG"
      }
    }
  ]
}