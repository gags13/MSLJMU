{
  "nbformat": 4,
  "nbformat_minor": 0,
  "metadata": {
    "colab": {
      "provenance": []
    },
    "kernelspec": {
      "name": "python3",
      "display_name": "Python 3"
    },
    "language_info": {
      "name": "python"
    },
    "accelerator": "GPU",
    "gpuClass": "standard"
  },
  "cells": [
    {
      "cell_type": "code",
      "source": [
        "ts_files = [\n",
        "    'vm_1_VmgiCwYcPy.csv',\n",
        "    'vm_2_rr2y46iWRI.csv',\n",
        "    'vm_3_Ch2tshNe8X.csv',\n",
        "    'vm_5_FXoWmAfKug.csv',\n",
        "    'vm_8_gesjL49nFh.csv',\n",
        "    'vm_12_aa1PrVE9ie.csv',\n",
        "    'vm_14_XpTL07_3it.csv',\n",
        "    'vm_15_PNj1J6v0YJ.csv',\n",
        "    'vm_17_YDo5PVK_75.csv',\n",
        "    'vm_19_GF6t1yYrx3.csv',\n",
        "    'vm_20_N0gBVBQviQ.csv',\n",
        "    'vm_21_gQI5vMY9+5.csv',\n",
        "    'vm_22_l93uKkSTv8.csv',\n",
        "    'vm_23_KxsOjS16uU.csv',\n",
        "    'vm_25_bImCpIMf2H.csv',\n",
        "    'vm_26_mY+fWVBQe0.csv'\n",
        "]"
      ],
      "metadata": {
        "id": "vbZ7AKs2VM6H"
      },
      "execution_count": 38,
      "outputs": []
    },
    {
      "cell_type": "code",
      "source": [
        "#base_path = '/content/drive/MyDrive/MS/dataset/singlets/'\n",
        "#data_path = base_path + ts_files[2]\n",
        "\n",
        "base_path = 'https://raw.githubusercontent.com/gags13/datasets/main/'\n",
        "data_path = base_path + ts_files[5]"
      ],
      "metadata": {
        "id": "ibHRMOU9Uxp9"
      },
      "execution_count": 39,
      "outputs": []
    },
    {
      "cell_type": "code",
      "execution_count": 40,
      "metadata": {
        "id": "nifmmUKpTrNT"
      },
      "outputs": [],
      "source": [
        "import numpy as np\n",
        "import pandas as pd\n",
        "from IPython.display import display\n",
        "import matplotlib.pyplot as plt\n",
        "from matplotlib.backends.backend_pdf import PdfPages\n",
        "\n",
        "%matplotlib inline"
      ]
    },
    {
      "cell_type": "code",
      "source": [
        "#from google.colab import drive\n",
        "#drive.mount('/content/drive/')"
      ],
      "metadata": {
        "id": "mKC7ZRE1U1FM"
      },
      "execution_count": 41,
      "outputs": []
    },
    {
      "cell_type": "code",
      "source": [
        "ts_df = pd.read_csv(data_path, index_col=False, delimiter=',')\n",
        "ts_df.drop(['Unnamed: 0'],axis=1, inplace=True)\n",
        "ts_df.head()"
      ],
      "metadata": {
        "colab": {
          "base_uri": "https://localhost:8080/",
          "height": 206
        },
        "id": "jbdsx0FBU5QO",
        "outputId": "b9e456d3-fc02-4254-f2c1-5f0849a03fc6"
      },
      "execution_count": 42,
      "outputs": [
        {
          "output_type": "execute_result",
          "data": {
            "text/plain": [
              "   timestamp                                              vm_id   min_cpu  \\\n",
              "0      28500  aa1PrVE9ieaRTobFuCsEK1LK0f0/nrqryHIRfPhadFJHg3...  0.203254   \n",
              "1      28800  aa1PrVE9ieaRTobFuCsEK1LK0f0/nrqryHIRfPhadFJHg3...  0.152905   \n",
              "2      29100  aa1PrVE9ieaRTobFuCsEK1LK0f0/nrqryHIRfPhadFJHg3...  0.733678   \n",
              "3      29400  aa1PrVE9ieaRTobFuCsEK1LK0f0/nrqryHIRfPhadFJHg3...  0.758270   \n",
              "4      29700  aa1PrVE9ieaRTobFuCsEK1LK0f0/nrqryHIRfPhadFJHg3...  0.946577   \n",
              "\n",
              "     max_cpu    avg_cpu  \n",
              "0   0.367289   0.261545  \n",
              "1  16.702479   1.819357  \n",
              "2  21.497362   2.928123  \n",
              "3   1.290136   0.983005  \n",
              "4  98.802719  18.434133  "
            ],
            "text/html": [
              "\n",
              "  <div id=\"df-62bbc754-8c9c-4887-8f40-1a379f8f6117\">\n",
              "    <div class=\"colab-df-container\">\n",
              "      <div>\n",
              "<style scoped>\n",
              "    .dataframe tbody tr th:only-of-type {\n",
              "        vertical-align: middle;\n",
              "    }\n",
              "\n",
              "    .dataframe tbody tr th {\n",
              "        vertical-align: top;\n",
              "    }\n",
              "\n",
              "    .dataframe thead th {\n",
              "        text-align: right;\n",
              "    }\n",
              "</style>\n",
              "<table border=\"1\" class=\"dataframe\">\n",
              "  <thead>\n",
              "    <tr style=\"text-align: right;\">\n",
              "      <th></th>\n",
              "      <th>timestamp</th>\n",
              "      <th>vm_id</th>\n",
              "      <th>min_cpu</th>\n",
              "      <th>max_cpu</th>\n",
              "      <th>avg_cpu</th>\n",
              "    </tr>\n",
              "  </thead>\n",
              "  <tbody>\n",
              "    <tr>\n",
              "      <th>0</th>\n",
              "      <td>28500</td>\n",
              "      <td>aa1PrVE9ieaRTobFuCsEK1LK0f0/nrqryHIRfPhadFJHg3...</td>\n",
              "      <td>0.203254</td>\n",
              "      <td>0.367289</td>\n",
              "      <td>0.261545</td>\n",
              "    </tr>\n",
              "    <tr>\n",
              "      <th>1</th>\n",
              "      <td>28800</td>\n",
              "      <td>aa1PrVE9ieaRTobFuCsEK1LK0f0/nrqryHIRfPhadFJHg3...</td>\n",
              "      <td>0.152905</td>\n",
              "      <td>16.702479</td>\n",
              "      <td>1.819357</td>\n",
              "    </tr>\n",
              "    <tr>\n",
              "      <th>2</th>\n",
              "      <td>29100</td>\n",
              "      <td>aa1PrVE9ieaRTobFuCsEK1LK0f0/nrqryHIRfPhadFJHg3...</td>\n",
              "      <td>0.733678</td>\n",
              "      <td>21.497362</td>\n",
              "      <td>2.928123</td>\n",
              "    </tr>\n",
              "    <tr>\n",
              "      <th>3</th>\n",
              "      <td>29400</td>\n",
              "      <td>aa1PrVE9ieaRTobFuCsEK1LK0f0/nrqryHIRfPhadFJHg3...</td>\n",
              "      <td>0.758270</td>\n",
              "      <td>1.290136</td>\n",
              "      <td>0.983005</td>\n",
              "    </tr>\n",
              "    <tr>\n",
              "      <th>4</th>\n",
              "      <td>29700</td>\n",
              "      <td>aa1PrVE9ieaRTobFuCsEK1LK0f0/nrqryHIRfPhadFJHg3...</td>\n",
              "      <td>0.946577</td>\n",
              "      <td>98.802719</td>\n",
              "      <td>18.434133</td>\n",
              "    </tr>\n",
              "  </tbody>\n",
              "</table>\n",
              "</div>\n",
              "      <button class=\"colab-df-convert\" onclick=\"convertToInteractive('df-62bbc754-8c9c-4887-8f40-1a379f8f6117')\"\n",
              "              title=\"Convert this dataframe to an interactive table.\"\n",
              "              style=\"display:none;\">\n",
              "        \n",
              "  <svg xmlns=\"http://www.w3.org/2000/svg\" height=\"24px\"viewBox=\"0 0 24 24\"\n",
              "       width=\"24px\">\n",
              "    <path d=\"M0 0h24v24H0V0z\" fill=\"none\"/>\n",
              "    <path d=\"M18.56 5.44l.94 2.06.94-2.06 2.06-.94-2.06-.94-.94-2.06-.94 2.06-2.06.94zm-11 1L8.5 8.5l.94-2.06 2.06-.94-2.06-.94L8.5 2.5l-.94 2.06-2.06.94zm10 10l.94 2.06.94-2.06 2.06-.94-2.06-.94-.94-2.06-.94 2.06-2.06.94z\"/><path d=\"M17.41 7.96l-1.37-1.37c-.4-.4-.92-.59-1.43-.59-.52 0-1.04.2-1.43.59L10.3 9.45l-7.72 7.72c-.78.78-.78 2.05 0 2.83L4 21.41c.39.39.9.59 1.41.59.51 0 1.02-.2 1.41-.59l7.78-7.78 2.81-2.81c.8-.78.8-2.07 0-2.86zM5.41 20L4 18.59l7.72-7.72 1.47 1.35L5.41 20z\"/>\n",
              "  </svg>\n",
              "      </button>\n",
              "      \n",
              "  <style>\n",
              "    .colab-df-container {\n",
              "      display:flex;\n",
              "      flex-wrap:wrap;\n",
              "      gap: 12px;\n",
              "    }\n",
              "\n",
              "    .colab-df-convert {\n",
              "      background-color: #E8F0FE;\n",
              "      border: none;\n",
              "      border-radius: 50%;\n",
              "      cursor: pointer;\n",
              "      display: none;\n",
              "      fill: #1967D2;\n",
              "      height: 32px;\n",
              "      padding: 0 0 0 0;\n",
              "      width: 32px;\n",
              "    }\n",
              "\n",
              "    .colab-df-convert:hover {\n",
              "      background-color: #E2EBFA;\n",
              "      box-shadow: 0px 1px 2px rgba(60, 64, 67, 0.3), 0px 1px 3px 1px rgba(60, 64, 67, 0.15);\n",
              "      fill: #174EA6;\n",
              "    }\n",
              "\n",
              "    [theme=dark] .colab-df-convert {\n",
              "      background-color: #3B4455;\n",
              "      fill: #D2E3FC;\n",
              "    }\n",
              "\n",
              "    [theme=dark] .colab-df-convert:hover {\n",
              "      background-color: #434B5C;\n",
              "      box-shadow: 0px 1px 3px 1px rgba(0, 0, 0, 0.15);\n",
              "      filter: drop-shadow(0px 1px 2px rgba(0, 0, 0, 0.3));\n",
              "      fill: #FFFFFF;\n",
              "    }\n",
              "  </style>\n",
              "\n",
              "      <script>\n",
              "        const buttonEl =\n",
              "          document.querySelector('#df-62bbc754-8c9c-4887-8f40-1a379f8f6117 button.colab-df-convert');\n",
              "        buttonEl.style.display =\n",
              "          google.colab.kernel.accessAllowed ? 'block' : 'none';\n",
              "\n",
              "        async function convertToInteractive(key) {\n",
              "          const element = document.querySelector('#df-62bbc754-8c9c-4887-8f40-1a379f8f6117');\n",
              "          const dataTable =\n",
              "            await google.colab.kernel.invokeFunction('convertToInteractive',\n",
              "                                                     [key], {});\n",
              "          if (!dataTable) return;\n",
              "\n",
              "          const docLinkHtml = 'Like what you see? Visit the ' +\n",
              "            '<a target=\"_blank\" href=https://colab.research.google.com/notebooks/data_table.ipynb>data table notebook</a>'\n",
              "            + ' to learn more about interactive tables.';\n",
              "          element.innerHTML = '';\n",
              "          dataTable['output_type'] = 'display_data';\n",
              "          await google.colab.output.renderOutput(dataTable, element);\n",
              "          const docLink = document.createElement('div');\n",
              "          docLink.innerHTML = docLinkHtml;\n",
              "          element.appendChild(docLink);\n",
              "        }\n",
              "      </script>\n",
              "    </div>\n",
              "  </div>\n",
              "  "
            ]
          },
          "metadata": {},
          "execution_count": 42
        }
      ]
    },
    {
      "cell_type": "code",
      "source": [
        "vm_id = ts_df.vm_id.values[0]\n",
        "print(\"VM ID :\", vm_id)"
      ],
      "metadata": {
        "colab": {
          "base_uri": "https://localhost:8080/"
        },
        "id": "Tr2YJgXEVcYv",
        "outputId": "0054d004-7537-4b94-fb28-47eafd16987d"
      },
      "execution_count": 43,
      "outputs": [
        {
          "output_type": "stream",
          "name": "stdout",
          "text": [
            "VM ID : aa1PrVE9ieaRTobFuCsEK1LK0f0/nrqryHIRfPhadFJHg3KqPZYqrKW5fwBwD2SE\n"
          ]
        }
      ]
    },
    {
      "cell_type": "code",
      "source": [
        "ts_df.drop(['vm_id'],axis=1, inplace=True)\n",
        "ts_df.head()"
      ],
      "metadata": {
        "colab": {
          "base_uri": "https://localhost:8080/",
          "height": 206
        },
        "id": "CZ4ZvKh1WnlR",
        "outputId": "be9cf99f-a274-472e-f25b-8753642afd90"
      },
      "execution_count": 44,
      "outputs": [
        {
          "output_type": "execute_result",
          "data": {
            "text/plain": [
              "   timestamp   min_cpu    max_cpu    avg_cpu\n",
              "0      28500  0.203254   0.367289   0.261545\n",
              "1      28800  0.152905  16.702479   1.819357\n",
              "2      29100  0.733678  21.497362   2.928123\n",
              "3      29400  0.758270   1.290136   0.983005\n",
              "4      29700  0.946577  98.802719  18.434133"
            ],
            "text/html": [
              "\n",
              "  <div id=\"df-22f3f56e-b769-4447-8228-bb56528c4081\">\n",
              "    <div class=\"colab-df-container\">\n",
              "      <div>\n",
              "<style scoped>\n",
              "    .dataframe tbody tr th:only-of-type {\n",
              "        vertical-align: middle;\n",
              "    }\n",
              "\n",
              "    .dataframe tbody tr th {\n",
              "        vertical-align: top;\n",
              "    }\n",
              "\n",
              "    .dataframe thead th {\n",
              "        text-align: right;\n",
              "    }\n",
              "</style>\n",
              "<table border=\"1\" class=\"dataframe\">\n",
              "  <thead>\n",
              "    <tr style=\"text-align: right;\">\n",
              "      <th></th>\n",
              "      <th>timestamp</th>\n",
              "      <th>min_cpu</th>\n",
              "      <th>max_cpu</th>\n",
              "      <th>avg_cpu</th>\n",
              "    </tr>\n",
              "  </thead>\n",
              "  <tbody>\n",
              "    <tr>\n",
              "      <th>0</th>\n",
              "      <td>28500</td>\n",
              "      <td>0.203254</td>\n",
              "      <td>0.367289</td>\n",
              "      <td>0.261545</td>\n",
              "    </tr>\n",
              "    <tr>\n",
              "      <th>1</th>\n",
              "      <td>28800</td>\n",
              "      <td>0.152905</td>\n",
              "      <td>16.702479</td>\n",
              "      <td>1.819357</td>\n",
              "    </tr>\n",
              "    <tr>\n",
              "      <th>2</th>\n",
              "      <td>29100</td>\n",
              "      <td>0.733678</td>\n",
              "      <td>21.497362</td>\n",
              "      <td>2.928123</td>\n",
              "    </tr>\n",
              "    <tr>\n",
              "      <th>3</th>\n",
              "      <td>29400</td>\n",
              "      <td>0.758270</td>\n",
              "      <td>1.290136</td>\n",
              "      <td>0.983005</td>\n",
              "    </tr>\n",
              "    <tr>\n",
              "      <th>4</th>\n",
              "      <td>29700</td>\n",
              "      <td>0.946577</td>\n",
              "      <td>98.802719</td>\n",
              "      <td>18.434133</td>\n",
              "    </tr>\n",
              "  </tbody>\n",
              "</table>\n",
              "</div>\n",
              "      <button class=\"colab-df-convert\" onclick=\"convertToInteractive('df-22f3f56e-b769-4447-8228-bb56528c4081')\"\n",
              "              title=\"Convert this dataframe to an interactive table.\"\n",
              "              style=\"display:none;\">\n",
              "        \n",
              "  <svg xmlns=\"http://www.w3.org/2000/svg\" height=\"24px\"viewBox=\"0 0 24 24\"\n",
              "       width=\"24px\">\n",
              "    <path d=\"M0 0h24v24H0V0z\" fill=\"none\"/>\n",
              "    <path d=\"M18.56 5.44l.94 2.06.94-2.06 2.06-.94-2.06-.94-.94-2.06-.94 2.06-2.06.94zm-11 1L8.5 8.5l.94-2.06 2.06-.94-2.06-.94L8.5 2.5l-.94 2.06-2.06.94zm10 10l.94 2.06.94-2.06 2.06-.94-2.06-.94-.94-2.06-.94 2.06-2.06.94z\"/><path d=\"M17.41 7.96l-1.37-1.37c-.4-.4-.92-.59-1.43-.59-.52 0-1.04.2-1.43.59L10.3 9.45l-7.72 7.72c-.78.78-.78 2.05 0 2.83L4 21.41c.39.39.9.59 1.41.59.51 0 1.02-.2 1.41-.59l7.78-7.78 2.81-2.81c.8-.78.8-2.07 0-2.86zM5.41 20L4 18.59l7.72-7.72 1.47 1.35L5.41 20z\"/>\n",
              "  </svg>\n",
              "      </button>\n",
              "      \n",
              "  <style>\n",
              "    .colab-df-container {\n",
              "      display:flex;\n",
              "      flex-wrap:wrap;\n",
              "      gap: 12px;\n",
              "    }\n",
              "\n",
              "    .colab-df-convert {\n",
              "      background-color: #E8F0FE;\n",
              "      border: none;\n",
              "      border-radius: 50%;\n",
              "      cursor: pointer;\n",
              "      display: none;\n",
              "      fill: #1967D2;\n",
              "      height: 32px;\n",
              "      padding: 0 0 0 0;\n",
              "      width: 32px;\n",
              "    }\n",
              "\n",
              "    .colab-df-convert:hover {\n",
              "      background-color: #E2EBFA;\n",
              "      box-shadow: 0px 1px 2px rgba(60, 64, 67, 0.3), 0px 1px 3px 1px rgba(60, 64, 67, 0.15);\n",
              "      fill: #174EA6;\n",
              "    }\n",
              "\n",
              "    [theme=dark] .colab-df-convert {\n",
              "      background-color: #3B4455;\n",
              "      fill: #D2E3FC;\n",
              "    }\n",
              "\n",
              "    [theme=dark] .colab-df-convert:hover {\n",
              "      background-color: #434B5C;\n",
              "      box-shadow: 0px 1px 3px 1px rgba(0, 0, 0, 0.15);\n",
              "      filter: drop-shadow(0px 1px 2px rgba(0, 0, 0, 0.3));\n",
              "      fill: #FFFFFF;\n",
              "    }\n",
              "  </style>\n",
              "\n",
              "      <script>\n",
              "        const buttonEl =\n",
              "          document.querySelector('#df-22f3f56e-b769-4447-8228-bb56528c4081 button.colab-df-convert');\n",
              "        buttonEl.style.display =\n",
              "          google.colab.kernel.accessAllowed ? 'block' : 'none';\n",
              "\n",
              "        async function convertToInteractive(key) {\n",
              "          const element = document.querySelector('#df-22f3f56e-b769-4447-8228-bb56528c4081');\n",
              "          const dataTable =\n",
              "            await google.colab.kernel.invokeFunction('convertToInteractive',\n",
              "                                                     [key], {});\n",
              "          if (!dataTable) return;\n",
              "\n",
              "          const docLinkHtml = 'Like what you see? Visit the ' +\n",
              "            '<a target=\"_blank\" href=https://colab.research.google.com/notebooks/data_table.ipynb>data table notebook</a>'\n",
              "            + ' to learn more about interactive tables.';\n",
              "          element.innerHTML = '';\n",
              "          dataTable['output_type'] = 'display_data';\n",
              "          await google.colab.output.renderOutput(dataTable, element);\n",
              "          const docLink = document.createElement('div');\n",
              "          docLink.innerHTML = docLinkHtml;\n",
              "          element.appendChild(docLink);\n",
              "        }\n",
              "      </script>\n",
              "    </div>\n",
              "  </div>\n",
              "  "
            ]
          },
          "metadata": {},
          "execution_count": 44
        }
      ]
    },
    {
      "cell_type": "code",
      "source": [
        "from sklearn.preprocessing import MinMaxScaler, StandardScaler\n",
        "import warnings\n",
        "warnings.filterwarnings('ignore')\n",
        "from scipy import stats\n",
        "import tensorflow as tf\n",
        "from tensorflow import keras\n",
        "from tensorflow.keras import Sequential, layers, callbacks\n",
        "from tensorflow.keras.layers import Dense, Dropout, GRU"
      ],
      "metadata": {
        "id": "2_9d7Uygo82M"
      },
      "execution_count": 45,
      "outputs": []
    },
    {
      "cell_type": "code",
      "source": [
        "tf.random.set_seed(1310)"
      ],
      "metadata": {
        "id": "75URiRLcpAYx"
      },
      "execution_count": 46,
      "outputs": []
    },
    {
      "cell_type": "code",
      "source": [
        "ts_df['timestamp'] = ts_df['timestamp']/300\n",
        "ts_df['timestamp'] = ts_df['timestamp'].astype('int')\n",
        "ts_df.head()"
      ],
      "metadata": {
        "colab": {
          "base_uri": "https://localhost:8080/",
          "height": 206
        },
        "id": "oyDro-5a8NBR",
        "outputId": "58c71d30-9cd1-4a14-e220-6f886f4c6d5f"
      },
      "execution_count": 47,
      "outputs": [
        {
          "output_type": "execute_result",
          "data": {
            "text/plain": [
              "   timestamp   min_cpu    max_cpu    avg_cpu\n",
              "0         95  0.203254   0.367289   0.261545\n",
              "1         96  0.152905  16.702479   1.819357\n",
              "2         97  0.733678  21.497362   2.928123\n",
              "3         98  0.758270   1.290136   0.983005\n",
              "4         99  0.946577  98.802719  18.434133"
            ],
            "text/html": [
              "\n",
              "  <div id=\"df-be703237-6842-44bb-810c-5a5924da5427\">\n",
              "    <div class=\"colab-df-container\">\n",
              "      <div>\n",
              "<style scoped>\n",
              "    .dataframe tbody tr th:only-of-type {\n",
              "        vertical-align: middle;\n",
              "    }\n",
              "\n",
              "    .dataframe tbody tr th {\n",
              "        vertical-align: top;\n",
              "    }\n",
              "\n",
              "    .dataframe thead th {\n",
              "        text-align: right;\n",
              "    }\n",
              "</style>\n",
              "<table border=\"1\" class=\"dataframe\">\n",
              "  <thead>\n",
              "    <tr style=\"text-align: right;\">\n",
              "      <th></th>\n",
              "      <th>timestamp</th>\n",
              "      <th>min_cpu</th>\n",
              "      <th>max_cpu</th>\n",
              "      <th>avg_cpu</th>\n",
              "    </tr>\n",
              "  </thead>\n",
              "  <tbody>\n",
              "    <tr>\n",
              "      <th>0</th>\n",
              "      <td>95</td>\n",
              "      <td>0.203254</td>\n",
              "      <td>0.367289</td>\n",
              "      <td>0.261545</td>\n",
              "    </tr>\n",
              "    <tr>\n",
              "      <th>1</th>\n",
              "      <td>96</td>\n",
              "      <td>0.152905</td>\n",
              "      <td>16.702479</td>\n",
              "      <td>1.819357</td>\n",
              "    </tr>\n",
              "    <tr>\n",
              "      <th>2</th>\n",
              "      <td>97</td>\n",
              "      <td>0.733678</td>\n",
              "      <td>21.497362</td>\n",
              "      <td>2.928123</td>\n",
              "    </tr>\n",
              "    <tr>\n",
              "      <th>3</th>\n",
              "      <td>98</td>\n",
              "      <td>0.758270</td>\n",
              "      <td>1.290136</td>\n",
              "      <td>0.983005</td>\n",
              "    </tr>\n",
              "    <tr>\n",
              "      <th>4</th>\n",
              "      <td>99</td>\n",
              "      <td>0.946577</td>\n",
              "      <td>98.802719</td>\n",
              "      <td>18.434133</td>\n",
              "    </tr>\n",
              "  </tbody>\n",
              "</table>\n",
              "</div>\n",
              "      <button class=\"colab-df-convert\" onclick=\"convertToInteractive('df-be703237-6842-44bb-810c-5a5924da5427')\"\n",
              "              title=\"Convert this dataframe to an interactive table.\"\n",
              "              style=\"display:none;\">\n",
              "        \n",
              "  <svg xmlns=\"http://www.w3.org/2000/svg\" height=\"24px\"viewBox=\"0 0 24 24\"\n",
              "       width=\"24px\">\n",
              "    <path d=\"M0 0h24v24H0V0z\" fill=\"none\"/>\n",
              "    <path d=\"M18.56 5.44l.94 2.06.94-2.06 2.06-.94-2.06-.94-.94-2.06-.94 2.06-2.06.94zm-11 1L8.5 8.5l.94-2.06 2.06-.94-2.06-.94L8.5 2.5l-.94 2.06-2.06.94zm10 10l.94 2.06.94-2.06 2.06-.94-2.06-.94-.94-2.06-.94 2.06-2.06.94z\"/><path d=\"M17.41 7.96l-1.37-1.37c-.4-.4-.92-.59-1.43-.59-.52 0-1.04.2-1.43.59L10.3 9.45l-7.72 7.72c-.78.78-.78 2.05 0 2.83L4 21.41c.39.39.9.59 1.41.59.51 0 1.02-.2 1.41-.59l7.78-7.78 2.81-2.81c.8-.78.8-2.07 0-2.86zM5.41 20L4 18.59l7.72-7.72 1.47 1.35L5.41 20z\"/>\n",
              "  </svg>\n",
              "      </button>\n",
              "      \n",
              "  <style>\n",
              "    .colab-df-container {\n",
              "      display:flex;\n",
              "      flex-wrap:wrap;\n",
              "      gap: 12px;\n",
              "    }\n",
              "\n",
              "    .colab-df-convert {\n",
              "      background-color: #E8F0FE;\n",
              "      border: none;\n",
              "      border-radius: 50%;\n",
              "      cursor: pointer;\n",
              "      display: none;\n",
              "      fill: #1967D2;\n",
              "      height: 32px;\n",
              "      padding: 0 0 0 0;\n",
              "      width: 32px;\n",
              "    }\n",
              "\n",
              "    .colab-df-convert:hover {\n",
              "      background-color: #E2EBFA;\n",
              "      box-shadow: 0px 1px 2px rgba(60, 64, 67, 0.3), 0px 1px 3px 1px rgba(60, 64, 67, 0.15);\n",
              "      fill: #174EA6;\n",
              "    }\n",
              "\n",
              "    [theme=dark] .colab-df-convert {\n",
              "      background-color: #3B4455;\n",
              "      fill: #D2E3FC;\n",
              "    }\n",
              "\n",
              "    [theme=dark] .colab-df-convert:hover {\n",
              "      background-color: #434B5C;\n",
              "      box-shadow: 0px 1px 3px 1px rgba(0, 0, 0, 0.15);\n",
              "      filter: drop-shadow(0px 1px 2px rgba(0, 0, 0, 0.3));\n",
              "      fill: #FFFFFF;\n",
              "    }\n",
              "  </style>\n",
              "\n",
              "      <script>\n",
              "        const buttonEl =\n",
              "          document.querySelector('#df-be703237-6842-44bb-810c-5a5924da5427 button.colab-df-convert');\n",
              "        buttonEl.style.display =\n",
              "          google.colab.kernel.accessAllowed ? 'block' : 'none';\n",
              "\n",
              "        async function convertToInteractive(key) {\n",
              "          const element = document.querySelector('#df-be703237-6842-44bb-810c-5a5924da5427');\n",
              "          const dataTable =\n",
              "            await google.colab.kernel.invokeFunction('convertToInteractive',\n",
              "                                                     [key], {});\n",
              "          if (!dataTable) return;\n",
              "\n",
              "          const docLinkHtml = 'Like what you see? Visit the ' +\n",
              "            '<a target=\"_blank\" href=https://colab.research.google.com/notebooks/data_table.ipynb>data table notebook</a>'\n",
              "            + ' to learn more about interactive tables.';\n",
              "          element.innerHTML = '';\n",
              "          dataTable['output_type'] = 'display_data';\n",
              "          await google.colab.output.renderOutput(dataTable, element);\n",
              "          const docLink = document.createElement('div');\n",
              "          docLink.innerHTML = docLinkHtml;\n",
              "          element.appendChild(docLink);\n",
              "        }\n",
              "      </script>\n",
              "    </div>\n",
              "  </div>\n",
              "  "
            ]
          },
          "metadata": {},
          "execution_count": 47
        }
      ]
    },
    {
      "cell_type": "code",
      "source": [
        "def timeseries (x_axis, y_axis, y_label):\n",
        "    plt.figure(figsize = (20, 6))\n",
        "    plt.plot(x_axis, y_axis, color ='blue')\n",
        "    plt.xlabel('time', {'fontsize': 12}) \n",
        "    plt.ylabel(y_label, {'fontsize': 12})"
      ],
      "metadata": {
        "id": "F2FLML_m8aJq"
      },
      "execution_count": 48,
      "outputs": []
    },
    {
      "cell_type": "code",
      "source": [
        "timeseries (ts_df['timestamp'], ts_df['max_cpu'], 'MAX CPU')"
      ],
      "metadata": {
        "colab": {
          "base_uri": "https://localhost:8080/",
          "height": 391
        },
        "id": "VJ0_WJ-q8djd",
        "outputId": "6c72f78b-3b48-40e8-de07-ba0d1cc2a32e"
      },
      "execution_count": 49,
      "outputs": [
        {
          "output_type": "display_data",
          "data": {
            "text/plain": [
              "<Figure size 1440x432 with 1 Axes>"
            ],
            "image/png": "[encoded data removed]"
          },
          "metadata": {
            "needs_background": "light"
          }
        }
      ]
    },
    {
      "cell_type": "code",
      "source": [
        "df_max = ts_df.drop(['min_cpu', 'avg_cpu'], axis=1)\n",
        "df_max = df_max.set_index('timestamp')\n",
        "df_max.head()"
      ],
      "metadata": {
        "colab": {
          "base_uri": "https://localhost:8080/",
          "height": 238
        },
        "id": "tvXQoXzY8iED",
        "outputId": "1c59c581-a41f-4157-c1c6-59ae95074e49"
      },
      "execution_count": 50,
      "outputs": [
        {
          "output_type": "execute_result",
          "data": {
            "text/plain": [
              "             max_cpu\n",
              "timestamp           \n",
              "95          0.367289\n",
              "96         16.702479\n",
              "97         21.497362\n",
              "98          1.290136\n",
              "99         98.802719"
            ],
            "text/html": [
              "\n",
              "  <div id=\"df-e7a8a4fe-03bb-4f8f-8e4a-2c40225ea780\">\n",
              "    <div class=\"colab-df-container\">\n",
              "      <div>\n",
              "<style scoped>\n",
              "    .dataframe tbody tr th:only-of-type {\n",
              "        vertical-align: middle;\n",
              "    }\n",
              "\n",
              "    .dataframe tbody tr th {\n",
              "        vertical-align: top;\n",
              "    }\n",
              "\n",
              "    .dataframe thead th {\n",
              "        text-align: right;\n",
              "    }\n",
              "</style>\n",
              "<table border=\"1\" class=\"dataframe\">\n",
              "  <thead>\n",
              "    <tr style=\"text-align: right;\">\n",
              "      <th></th>\n",
              "      <th>max_cpu</th>\n",
              "    </tr>\n",
              "    <tr>\n",
              "      <th>timestamp</th>\n",
              "      <th></th>\n",
              "    </tr>\n",
              "  </thead>\n",
              "  <tbody>\n",
              "    <tr>\n",
              "      <th>95</th>\n",
              "      <td>0.367289</td>\n",
              "    </tr>\n",
              "    <tr>\n",
              "      <th>96</th>\n",
              "      <td>16.702479</td>\n",
              "    </tr>\n",
              "    <tr>\n",
              "      <th>97</th>\n",
              "      <td>21.497362</td>\n",
              "    </tr>\n",
              "    <tr>\n",
              "      <th>98</th>\n",
              "      <td>1.290136</td>\n",
              "    </tr>\n",
              "    <tr>\n",
              "      <th>99</th>\n",
              "      <td>98.802719</td>\n",
              "    </tr>\n",
              "  </tbody>\n",
              "</table>\n",
              "</div>\n",
              "      <button class=\"colab-df-convert\" onclick=\"convertToInteractive('df-e7a8a4fe-03bb-4f8f-8e4a-2c40225ea780')\"\n",
              "              title=\"Convert this dataframe to an interactive table.\"\n",
              "              style=\"display:none;\">\n",
              "        \n",
              "  <svg xmlns=\"http://www.w3.org/2000/svg\" height=\"24px\"viewBox=\"0 0 24 24\"\n",
              "       width=\"24px\">\n",
              "    <path d=\"M0 0h24v24H0V0z\" fill=\"none\"/>\n",
              "    <path d=\"M18.56 5.44l.94 2.06.94-2.06 2.06-.94-2.06-.94-.94-2.06-.94 2.06-2.06.94zm-11 1L8.5 8.5l.94-2.06 2.06-.94-2.06-.94L8.5 2.5l-.94 2.06-2.06.94zm10 10l.94 2.06.94-2.06 2.06-.94-2.06-.94-.94-2.06-.94 2.06-2.06.94z\"/><path d=\"M17.41 7.96l-1.37-1.37c-.4-.4-.92-.59-1.43-.59-.52 0-1.04.2-1.43.59L10.3 9.45l-7.72 7.72c-.78.78-.78 2.05 0 2.83L4 21.41c.39.39.9.59 1.41.59.51 0 1.02-.2 1.41-.59l7.78-7.78 2.81-2.81c.8-.78.8-2.07 0-2.86zM5.41 20L4 18.59l7.72-7.72 1.47 1.35L5.41 20z\"/>\n",
              "  </svg>\n",
              "      </button>\n",
              "      \n",
              "  <style>\n",
              "    .colab-df-container {\n",
              "      display:flex;\n",
              "      flex-wrap:wrap;\n",
              "      gap: 12px;\n",
              "    }\n",
              "\n",
              "    .colab-df-convert {\n",
              "      background-color: #E8F0FE;\n",
              "      border: none;\n",
              "      border-radius: 50%;\n",
              "      cursor: pointer;\n",
              "      display: none;\n",
              "      fill: #1967D2;\n",
              "      height: 32px;\n",
              "      padding: 0 0 0 0;\n",
              "      width: 32px;\n",
              "    }\n",
              "\n",
              "    .colab-df-convert:hover {\n",
              "      background-color: #E2EBFA;\n",
              "      box-shadow: 0px 1px 2px rgba(60, 64, 67, 0.3), 0px 1px 3px 1px rgba(60, 64, 67, 0.15);\n",
              "      fill: #174EA6;\n",
              "    }\n",
              "\n",
              "    [theme=dark] .colab-df-convert {\n",
              "      background-color: #3B4455;\n",
              "      fill: #D2E3FC;\n",
              "    }\n",
              "\n",
              "    [theme=dark] .colab-df-convert:hover {\n",
              "      background-color: #434B5C;\n",
              "      box-shadow: 0px 1px 3px 1px rgba(0, 0, 0, 0.15);\n",
              "      filter: drop-shadow(0px 1px 2px rgba(0, 0, 0, 0.3));\n",
              "      fill: #FFFFFF;\n",
              "    }\n",
              "  </style>\n",
              "\n",
              "      <script>\n",
              "        const buttonEl =\n",
              "          document.querySelector('#df-e7a8a4fe-03bb-4f8f-8e4a-2c40225ea780 button.colab-df-convert');\n",
              "        buttonEl.style.display =\n",
              "          google.colab.kernel.accessAllowed ? 'block' : 'none';\n",
              "\n",
              "        async function convertToInteractive(key) {\n",
              "          const element = document.querySelector('#df-e7a8a4fe-03bb-4f8f-8e4a-2c40225ea780');\n",
              "          const dataTable =\n",
              "            await google.colab.kernel.invokeFunction('convertToInteractive',\n",
              "                                                     [key], {});\n",
              "          if (!dataTable) return;\n",
              "\n",
              "          const docLinkHtml = 'Like what you see? Visit the ' +\n",
              "            '<a target=\"_blank\" href=https://colab.research.google.com/notebooks/data_table.ipynb>data table notebook</a>'\n",
              "            + ' to learn more about interactive tables.';\n",
              "          element.innerHTML = '';\n",
              "          dataTable['output_type'] = 'display_data';\n",
              "          await google.colab.output.renderOutput(dataTable, element);\n",
              "          const docLink = document.createElement('div');\n",
              "          docLink.innerHTML = docLinkHtml;\n",
              "          element.appendChild(docLink);\n",
              "        }\n",
              "      </script>\n",
              "    </div>\n",
              "  </div>\n",
              "  "
            ]
          },
          "metadata": {},
          "execution_count": 50
        }
      ]
    },
    {
      "cell_type": "code",
      "source": [
        "# Split train data and test data\n",
        "train_size = int(len(df_max)*0.7)\n",
        "\n",
        "train_data = df_max.iloc[:train_size]\n",
        "test_data = df_max.iloc[train_size:]"
      ],
      "metadata": {
        "id": "X6SjiZG48p4B"
      },
      "execution_count": 51,
      "outputs": []
    },
    {
      "cell_type": "code",
      "source": [
        "test_data.shape"
      ],
      "metadata": {
        "colab": {
          "base_uri": "https://localhost:8080/"
        },
        "id": "6YTX4Bcq8tHn",
        "outputId": "44842203-9794-48bd-9ff7-b5a741d44205"
      },
      "execution_count": 52,
      "outputs": [
        {
          "output_type": "execute_result",
          "data": {
            "text/plain": [
              "(2537, 1)"
            ]
          },
          "metadata": {},
          "execution_count": 52
        }
      ]
    },
    {
      "cell_type": "code",
      "source": [
        "def df_input_to_X_y(df, window_size=864):\n",
        "  df_to_np = df.to_numpy()\n",
        "  X = []\n",
        "  y = []\n",
        "  for i in range(len(df_to_np)-window_size):\n",
        "    row = [[a] for a in df_to_np[i:i+window_size]]\n",
        "    X.append(row)\n",
        "    label = df_to_np[i+window_size]\n",
        "    y.append(label)\n",
        "  return np.array(X), np.array(y)"
      ],
      "metadata": {
        "id": "BOl9jShb8vEo"
      },
      "execution_count": 53,
      "outputs": []
    },
    {
      "cell_type": "code",
      "source": [
        "WINDOW_SIZE = 864\n",
        "X_train, y_train = df_input_to_X_y(train_data,WINDOW_SIZE)\n",
        "X_test, y_test = df_input_to_X_y(test_data,WINDOW_SIZE)\n",
        "# Print data shape\n",
        "print('X_train.shape: ', X_train.shape)\n",
        "print('y_train.shape: ', y_train.shape)\n",
        "print('X_test.shape: ', X_test.shape) \n",
        "print('y_test.shape: ', y_test.shape)"
      ],
      "metadata": {
        "colab": {
          "base_uri": "https://localhost:8080/"
        },
        "id": "_y5V_mwE8xhX",
        "outputId": "d58bff3d-a076-4060-ea65-cddc252cfdd0"
      },
      "execution_count": 54,
      "outputs": [
        {
          "output_type": "stream",
          "name": "stdout",
          "text": [
            "X_train.shape:  (5053, 864, 1, 1)\n",
            "y_train.shape:  (5053, 1)\n",
            "X_test.shape:  (1673, 864, 1, 1)\n",
            "y_test.shape:  (1673, 1)\n"
          ]
        }
      ]
    },
    {
      "cell_type": "code",
      "source": [
        "# Create GRU model\n",
        "def create_gru(units):\n",
        "    model = Sequential()\n",
        "    # Input layer\n",
        "    model.add(GRU (units = units, return_sequences = True, \n",
        "    input_shape = [X_train.shape[1], X_train.shape[2]]))\n",
        "    model.add(Dropout(0.2)) \n",
        "    # Hidden layer\n",
        "    model.add(GRU(units = units)) \n",
        "    model.add(Dropout(0.2))\n",
        "    model.add(Dense(units = 1)) \n",
        "    #Compile model\n",
        "    model.compile(optimizer='adam',loss='mse', metrics=[\"mae\", \"acc\"])\n",
        "    return model\n",
        "model_gru = create_gru(64)"
      ],
      "metadata": {
        "id": "sFiMcVTM83cT"
      },
      "execution_count": 55,
      "outputs": []
    },
    {
      "cell_type": "code",
      "source": [
        "def fit_model(model):\n",
        "    early_stop = keras.callbacks.EarlyStopping(monitor = 'val_loss',\n",
        "                                               patience = 10)\n",
        "    history = model.fit(X_train, y_train, epochs = 15,  \n",
        "                        validation_split = 0.3,\n",
        "                        batch_size = 8, shuffle = False)\n",
        "    return history\n",
        "history_gru = fit_model(model_gru)"
      ],
      "metadata": {
        "colab": {
          "base_uri": "https://localhost:8080/"
        },
        "id": "VwYq2qDM9GAD",
        "outputId": "84e1995a-3c9b-4ba7-957b-2cf3065363b7"
      },
      "execution_count": 56,
      "outputs": [
        {
          "output_type": "stream",
          "name": "stdout",
          "text": [
            "Epoch 1/15\n",
            "443/443 [==============================] - 29s 59ms/step - loss: 121.5625 - mae: 1.8167 - acc: 0.0000e+00 - val_loss: 331.3335 - val_mae: 6.1148 - val_acc: 0.0000e+00\n",
            "Epoch 2/15\n",
            "443/443 [==============================] - 26s 59ms/step - loss: 108.2979 - mae: 1.8268 - acc: 0.0000e+00 - val_loss: 295.4370 - val_mae: 5.6371 - val_acc: 0.0000e+00\n",
            "Epoch 3/15\n",
            "443/443 [==============================] - 26s 58ms/step - loss: 100.3903 - mae: 1.7669 - acc: 0.0000e+00 - val_loss: 265.2226 - val_mae: 5.4672 - val_acc: 0.0000e+00\n",
            "Epoch 4/15\n",
            "443/443 [==============================] - 26s 60ms/step - loss: 93.3468 - mae: 1.7049 - acc: 0.0000e+00 - val_loss: 243.2949 - val_mae: 5.1522 - val_acc: 0.0000e+00\n",
            "Epoch 5/15\n",
            "443/443 [==============================] - 26s 58ms/step - loss: 86.0583 - mae: 1.6792 - acc: 0.0000e+00 - val_loss: 220.6704 - val_mae: 4.8543 - val_acc: 0.0000e+00\n",
            "Epoch 6/15\n",
            "443/443 [==============================] - 26s 59ms/step - loss: 78.5518 - mae: 1.6483 - acc: 0.0000e+00 - val_loss: 194.2712 - val_mae: 4.5098 - val_acc: 0.0000e+00\n",
            "Epoch 7/15\n",
            "443/443 [==============================] - 26s 58ms/step - loss: 73.1776 - mae: 1.6396 - acc: 0.0000e+00 - val_loss: 180.1921 - val_mae: 4.3676 - val_acc: 0.0000e+00\n",
            "Epoch 8/15\n",
            "443/443 [==============================] - 27s 61ms/step - loss: 68.1839 - mae: 1.5776 - acc: 0.0000e+00 - val_loss: 164.1555 - val_mae: 4.1204 - val_acc: 0.0000e+00\n",
            "Epoch 9/15\n",
            "443/443 [==============================] - 26s 58ms/step - loss: 62.7779 - mae: 1.5521 - acc: 0.0000e+00 - val_loss: 153.7788 - val_mae: 3.8605 - val_acc: 0.0000e+00\n",
            "Epoch 10/15\n",
            "443/443 [==============================] - 26s 60ms/step - loss: 57.7593 - mae: 1.5430 - acc: 0.0000e+00 - val_loss: 131.5433 - val_mae: 3.5715 - val_acc: 0.0000e+00\n",
            "Epoch 11/15\n",
            "443/443 [==============================] - 25s 57ms/step - loss: 52.9917 - mae: 1.5104 - acc: 0.0000e+00 - val_loss: 125.1320 - val_mae: 3.4313 - val_acc: 0.0000e+00\n",
            "Epoch 12/15\n",
            "443/443 [==============================] - 26s 60ms/step - loss: 48.2901 - mae: 1.4737 - acc: 0.0000e+00 - val_loss: 119.1069 - val_mae: 3.4379 - val_acc: 0.0000e+00\n",
            "Epoch 13/15\n",
            "443/443 [==============================] - 26s 58ms/step - loss: 45.6253 - mae: 1.4737 - acc: 0.0000e+00 - val_loss: 106.8545 - val_mae: 3.2055 - val_acc: 0.0000e+00\n",
            "Epoch 14/15\n",
            "443/443 [==============================] - 26s 59ms/step - loss: 41.0386 - mae: 1.4154 - acc: 0.0000e+00 - val_loss: 103.4640 - val_mae: 3.1538 - val_acc: 0.0000e+00\n",
            "Epoch 15/15\n",
            "443/443 [==============================] - 25s 57ms/step - loss: 36.5982 - mae: 1.3945 - acc: 0.0000e+00 - val_loss: 96.0518 - val_mae: 3.2758 - val_acc: 0.0000e+00\n"
          ]
        }
      ]
    },
    {
      "cell_type": "code",
      "source": [
        "def plot_loss (history, model_name):\n",
        "    plt.figure(figsize = (10, 6))\n",
        "    plt.plot(history.history['loss'])\n",
        "    plt.plot(history.history['val_loss'])\n",
        "    plt.title('Model Train vs Validation Loss for ' + model_name)\n",
        "    plt.ylabel('Loss')\n",
        "    plt.xlabel('epoch')\n",
        "    plt.legend(['Train loss', 'Validation loss'], loc='upper right')\n",
        " \n",
        "plot_loss (history_gru, 'GRU')"
      ],
      "metadata": {
        "colab": {
          "base_uri": "https://localhost:8080/",
          "height": 404
        },
        "id": "X9Mo1deO9J0K",
        "outputId": "1e29735e-9018-4840-a487-c3ace10c6e3c"
      },
      "execution_count": 57,
      "outputs": [
        {
          "output_type": "display_data",
          "data": {
            "text/plain": [
              "<Figure size 720x432 with 1 Axes>"
            ],
            "image/png": "[encoded data removed]"
          },
          "metadata": {
            "needs_background": "light"
          }
        }
      ]
    },
    {
      "cell_type": "code",
      "source": [
        "# Make prediction\n",
        "def prediction(model):\n",
        "    prediction = model.predict(X_test)\n",
        "    return prediction\n",
        "prediction_gru = prediction(model_gru)"
      ],
      "metadata": {
        "colab": {
          "base_uri": "https://localhost:8080/"
        },
        "id": "zbcIsZR5-5Wg",
        "outputId": "b5405082-8bbc-4c90-e78d-1aa76d462076"
      },
      "execution_count": 58,
      "outputs": [
        {
          "output_type": "stream",
          "name": "stdout",
          "text": [
            "53/53 [==============================] - 2s 23ms/step\n"
          ]
        }
      ]
    },
    {
      "cell_type": "code",
      "source": [
        "# Plot test data vs prediction\n",
        "def plot_future(prediction, model_name, y_test):\n",
        "    plt.figure(figsize=(30, 6))\n",
        "    range_future = len(prediction)\n",
        "    plt.plot(np.arange(range_future), np.array(y_test), \n",
        "             label='Actual data')\n",
        "    plt.plot(np.arange(range_future), \n",
        "             np.array(prediction),label='Prediction')\n",
        "    plt.title('Test data vs prediction for ' + model_name)\n",
        "    plt.legend(loc='upper left')\n",
        "    plt.xlabel('Time ')\n",
        "    plt.ylabel('Max CPU')\n",
        " \n",
        "plot_future(prediction_gru, 'GRU', y_test)"
      ],
      "metadata": {
        "colab": {
          "base_uri": "https://localhost:8080/",
          "height": 306
        },
        "id": "9U2EvyRy_Bf1",
        "outputId": "99d39fa8-b817-40c4-83f7-de439e1baa04"
      },
      "execution_count": 59,
      "outputs": [
        {
          "output_type": "display_data",
          "data": {
            "text/plain": [
              "<Figure size 2160x432 with 1 Axes>"
            ],
            "image/png": "[encoded data removed]"
          },
          "metadata": {
            "needs_background": "light"
          }
        }
      ]
    },
    {
      "cell_type": "code",
      "source": [
        "predicted_max_list = []\n",
        "for looped in prediction_gru:\n",
        "  predicted_max_list.append(looped[0])\n",
        "len(predicted_max_list)"
      ],
      "metadata": {
        "colab": {
          "base_uri": "https://localhost:8080/"
        },
        "id": "xKgSvBcBBjz4",
        "outputId": "69d45df0-72fe-4cc9-bc3a-8b7710eaca6c"
      },
      "execution_count": 60,
      "outputs": [
        {
          "output_type": "execute_result",
          "data": {
            "text/plain": [
              "1673"
            ]
          },
          "metadata": {},
          "execution_count": 60
        }
      ]
    },
    {
      "cell_type": "code",
      "source": [
        "analysis_df = pd.DataFrame()\n",
        "analysis_df = test_data.tail(prediction_gru.shape[0])\n",
        "analysis_df['pred_max_cpu'] = predicted_max_list\n",
        "analysis_df.shape"
      ],
      "metadata": {
        "colab": {
          "base_uri": "https://localhost:8080/"
        },
        "id": "LGW-t3P7BkTY",
        "outputId": "43e493e1-1dd0-479d-9510-ca2f0205ec0e"
      },
      "execution_count": 61,
      "outputs": [
        {
          "output_type": "execute_result",
          "data": {
            "text/plain": [
              "(1673, 2)"
            ]
          },
          "metadata": {},
          "execution_count": 61
        }
      ]
    },
    {
      "cell_type": "code",
      "source": [
        "max_allowed_jump = 1.5\n",
        "peak_quantile = 0.9\n",
        "prev_val = analysis_df['pred_max_cpu'].quantile(q=peak_quantile)\n",
        "i = 0.91\n",
        "while i < 1:\n",
        "  curr_val = analysis_df['pred_max_cpu'].quantile(q=i)\n",
        "  if (curr_val - (prev_val*max_allowed_jump)) > 0.0:\n",
        "    break\n",
        "  peak_quantile = i\n",
        "  prev_val = curr_val\n",
        "  i = i + 0.01\n",
        "\n",
        "peak_val = analysis_df['pred_max_cpu'].quantile(q=peak_quantile)\n",
        "print(peak_val)"
      ],
      "metadata": {
        "colab": {
          "base_uri": "https://localhost:8080/"
        },
        "id": "hv2RhkQLBoXl",
        "outputId": "8c811453-82a8-4f38-f7d0-f4bedfca91e9"
      },
      "execution_count": 62,
      "outputs": [
        {
          "output_type": "stream",
          "name": "stdout",
          "text": [
            "1.928596153259294\n"
          ]
        }
      ]
    },
    {
      "cell_type": "code",
      "source": [
        "analysis_df.insert(0, 'id', range(1, 1 + len(analysis_df)))\n",
        "analysis_df.head()"
      ],
      "metadata": {
        "colab": {
          "base_uri": "https://localhost:8080/",
          "height": 238
        },
        "id": "kvZEXo-4GMcq",
        "outputId": "57057815-f81b-462e-889a-1017e80d273a"
      },
      "execution_count": 63,
      "outputs": [
        {
          "output_type": "execute_result",
          "data": {
            "text/plain": [
              "           id   max_cpu  pred_max_cpu\n",
              "timestamp                            \n",
              "6940        1  1.107492      0.748623\n",
              "6941        2  1.052091      0.758301\n",
              "6942        3  1.217272      0.744741\n",
              "6943        4  1.259317      0.678222\n",
              "6944        5  1.124939      0.704618"
            ],
            "text/html": [
              "\n",
              "  <div id=\"df-757b9038-bc0f-45a8-bd42-727cf8add2da\">\n",
              "    <div class=\"colab-df-container\">\n",
              "      <div>\n",
              "<style scoped>\n",
              "    .dataframe tbody tr th:only-of-type {\n",
              "        vertical-align: middle;\n",
              "    }\n",
              "\n",
              "    .dataframe tbody tr th {\n",
              "        vertical-align: top;\n",
              "    }\n",
              "\n",
              "    .dataframe thead th {\n",
              "        text-align: right;\n",
              "    }\n",
              "</style>\n",
              "<table border=\"1\" class=\"dataframe\">\n",
              "  <thead>\n",
              "    <tr style=\"text-align: right;\">\n",
              "      <th></th>\n",
              "      <th>id</th>\n",
              "      <th>max_cpu</th>\n",
              "      <th>pred_max_cpu</th>\n",
              "    </tr>\n",
              "    <tr>\n",
              "      <th>timestamp</th>\n",
              "      <th></th>\n",
              "      <th></th>\n",
              "      <th></th>\n",
              "    </tr>\n",
              "  </thead>\n",
              "  <tbody>\n",
              "    <tr>\n",
              "      <th>6940</th>\n",
              "      <td>1</td>\n",
              "      <td>1.107492</td>\n",
              "      <td>0.748623</td>\n",
              "    </tr>\n",
              "    <tr>\n",
              "      <th>6941</th>\n",
              "      <td>2</td>\n",
              "      <td>1.052091</td>\n",
              "      <td>0.758301</td>\n",
              "    </tr>\n",
              "    <tr>\n",
              "      <th>6942</th>\n",
              "      <td>3</td>\n",
              "      <td>1.217272</td>\n",
              "      <td>0.744741</td>\n",
              "    </tr>\n",
              "    <tr>\n",
              "      <th>6943</th>\n",
              "      <td>4</td>\n",
              "      <td>1.259317</td>\n",
              "      <td>0.678222</td>\n",
              "    </tr>\n",
              "    <tr>\n",
              "      <th>6944</th>\n",
              "      <td>5</td>\n",
              "      <td>1.124939</td>\n",
              "      <td>0.704618</td>\n",
              "    </tr>\n",
              "  </tbody>\n",
              "</table>\n",
              "</div>\n",
              "      <button class=\"colab-df-convert\" onclick=\"convertToInteractive('df-757b9038-bc0f-45a8-bd42-727cf8add2da')\"\n",
              "              title=\"Convert this dataframe to an interactive table.\"\n",
              "              style=\"display:none;\">\n",
              "        \n",
              "  <svg xmlns=\"http://www.w3.org/2000/svg\" height=\"24px\"viewBox=\"0 0 24 24\"\n",
              "       width=\"24px\">\n",
              "    <path d=\"M0 0h24v24H0V0z\" fill=\"none\"/>\n",
              "    <path d=\"M18.56 5.44l.94 2.06.94-2.06 2.06-.94-2.06-.94-.94-2.06-.94 2.06-2.06.94zm-11 1L8.5 8.5l.94-2.06 2.06-.94-2.06-.94L8.5 2.5l-.94 2.06-2.06.94zm10 10l.94 2.06.94-2.06 2.06-.94-2.06-.94-.94-2.06-.94 2.06-2.06.94z\"/><path d=\"M17.41 7.96l-1.37-1.37c-.4-.4-.92-.59-1.43-.59-.52 0-1.04.2-1.43.59L10.3 9.45l-7.72 7.72c-.78.78-.78 2.05 0 2.83L4 21.41c.39.39.9.59 1.41.59.51 0 1.02-.2 1.41-.59l7.78-7.78 2.81-2.81c.8-.78.8-2.07 0-2.86zM5.41 20L4 18.59l7.72-7.72 1.47 1.35L5.41 20z\"/>\n",
              "  </svg>\n",
              "      </button>\n",
              "      \n",
              "  <style>\n",
              "    .colab-df-container {\n",
              "      display:flex;\n",
              "      flex-wrap:wrap;\n",
              "      gap: 12px;\n",
              "    }\n",
              "\n",
              "    .colab-df-convert {\n",
              "      background-color: #E8F0FE;\n",
              "      border: none;\n",
              "      border-radius: 50%;\n",
              "      cursor: pointer;\n",
              "      display: none;\n",
              "      fill: #1967D2;\n",
              "      height: 32px;\n",
              "      padding: 0 0 0 0;\n",
              "      width: 32px;\n",
              "    }\n",
              "\n",
              "    .colab-df-convert:hover {\n",
              "      background-color: #E2EBFA;\n",
              "      box-shadow: 0px 1px 2px rgba(60, 64, 67, 0.3), 0px 1px 3px 1px rgba(60, 64, 67, 0.15);\n",
              "      fill: #174EA6;\n",
              "    }\n",
              "\n",
              "    [theme=dark] .colab-df-convert {\n",
              "      background-color: #3B4455;\n",
              "      fill: #D2E3FC;\n",
              "    }\n",
              "\n",
              "    [theme=dark] .colab-df-convert:hover {\n",
              "      background-color: #434B5C;\n",
              "      box-shadow: 0px 1px 3px 1px rgba(0, 0, 0, 0.15);\n",
              "      filter: drop-shadow(0px 1px 2px rgba(0, 0, 0, 0.3));\n",
              "      fill: #FFFFFF;\n",
              "    }\n",
              "  </style>\n",
              "\n",
              "      <script>\n",
              "        const buttonEl =\n",
              "          document.querySelector('#df-757b9038-bc0f-45a8-bd42-727cf8add2da button.colab-df-convert');\n",
              "        buttonEl.style.display =\n",
              "          google.colab.kernel.accessAllowed ? 'block' : 'none';\n",
              "\n",
              "        async function convertToInteractive(key) {\n",
              "          const element = document.querySelector('#df-757b9038-bc0f-45a8-bd42-727cf8add2da');\n",
              "          const dataTable =\n",
              "            await google.colab.kernel.invokeFunction('convertToInteractive',\n",
              "                                                     [key], {});\n",
              "          if (!dataTable) return;\n",
              "\n",
              "          const docLinkHtml = 'Like what you see? Visit the ' +\n",
              "            '<a target=\"_blank\" href=https://colab.research.google.com/notebooks/data_table.ipynb>data table notebook</a>'\n",
              "            + ' to learn more about interactive tables.';\n",
              "          element.innerHTML = '';\n",
              "          dataTable['output_type'] = 'display_data';\n",
              "          await google.colab.output.renderOutput(dataTable, element);\n",
              "          const docLink = document.createElement('div');\n",
              "          docLink.innerHTML = docLinkHtml;\n",
              "          element.appendChild(docLink);\n",
              "        }\n",
              "      </script>\n",
              "    </div>\n",
              "  </div>\n",
              "  "
            ]
          },
          "metadata": {},
          "execution_count": 63
        }
      ]
    },
    {
      "cell_type": "code",
      "source": [
        "analysis_df[analysis_df['pred_max_cpu'] > peak_val].id.values"
      ],
      "metadata": {
        "colab": {
          "base_uri": "https://localhost:8080/"
        },
        "id": "wAARGeP9LlFb",
        "outputId": "0c551146-7fdc-4eac-fb50-db50ff980eea"
      },
      "execution_count": 64,
      "outputs": [
        {
          "output_type": "execute_result",
          "data": {
            "text/plain": [
              "array([  31,  248,  249,  256,  301,  302,  303,  498,  499,  500,  523,\n",
              "        524,  525,  526,  810,  811,  812,  813,  814,  815,  823,  824,\n",
              "        873, 1089, 1090, 1091, 1142, 1377, 1378, 1379, 1446, 1665, 1666,\n",
              "       1667])"
            ]
          },
          "metadata": {},
          "execution_count": 64
        }
      ]
    },
    {
      "cell_type": "code",
      "source": [
        "high_cpu_values = set(analysis_df[analysis_df['pred_max_cpu'] > peak_val].id.values)\n",
        "len(high_cpu_values)"
      ],
      "metadata": {
        "colab": {
          "base_uri": "https://localhost:8080/"
        },
        "id": "loGpE0jvLlMr",
        "outputId": "9d0f06b6-0faa-494f-f04b-3dbdf0dfc0e0"
      },
      "execution_count": 65,
      "outputs": [
        {
          "output_type": "execute_result",
          "data": {
            "text/plain": [
              "34"
            ]
          },
          "metadata": {},
          "execution_count": 65
        }
      ]
    },
    {
      "cell_type": "code",
      "source": [
        "high_band_cpu = []\n",
        "for val in high_cpu_values:\n",
        "  high_band_cpu.extend(list(range(val-5,val+5)))"
      ],
      "metadata": {
        "id": "iA6eagAbHNKW"
      },
      "execution_count": 66,
      "outputs": []
    },
    {
      "cell_type": "code",
      "source": [
        "print(len(high_band_cpu))\n",
        "print(len(set(high_band_cpu)))"
      ],
      "metadata": {
        "colab": {
          "base_uri": "https://localhost:8080/"
        },
        "id": "okNw5SeVNohL",
        "outputId": "b78c8ea5-a415-4cdc-f3aa-05f918fe616f"
      },
      "execution_count": 67,
      "outputs": [
        {
          "output_type": "stream",
          "name": "stdout",
          "text": [
            "340\n",
            "155\n"
          ]
        }
      ]
    },
    {
      "cell_type": "code",
      "source": [
        "high_cpu_values = high_cpu_values.union(set(high_band_cpu))\n",
        "len(high_cpu_values)"
      ],
      "metadata": {
        "colab": {
          "base_uri": "https://localhost:8080/"
        },
        "id": "CL9hNX8kNYfN",
        "outputId": "41915902-612f-4968-9016-594c5e9d96de"
      },
      "execution_count": 68,
      "outputs": [
        {
          "output_type": "execute_result",
          "data": {
            "text/plain": [
              "155"
            ]
          },
          "metadata": {},
          "execution_count": 68
        }
      ]
    },
    {
      "cell_type": "code",
      "source": [
        "analysis_df['highcpu'] = analysis_df['id'].map(lambda p : 100 if p in high_cpu_values else 50)\n",
        "analysis_df[analysis_df['highcpu'] == 100].shape"
      ],
      "metadata": {
        "colab": {
          "base_uri": "https://localhost:8080/"
        },
        "id": "PTHgJAiICrBG",
        "outputId": "d043a1aa-8176-4201-df53-a6bc871f86b7"
      },
      "execution_count": 69,
      "outputs": [
        {
          "output_type": "execute_result",
          "data": {
            "text/plain": [
              "(155, 4)"
            ]
          },
          "metadata": {},
          "execution_count": 69
        }
      ]
    },
    {
      "cell_type": "code",
      "source": [
        "plt.figure(figsize=(30, 6))\n",
        "range_future = len(analysis_df)\n",
        "plt.plot(np.arange(range_future), np.array(analysis_df.max_cpu), \n",
        "         label='Actual data')\n",
        "plt.plot(np.arange(range_future), \n",
        "         np.array(analysis_df.pred_max_cpu),label='Predicted data')\n",
        "plt.plot(np.arange(range_future), \n",
        "         np.array(analysis_df.highcpu),label='High CPU')\n",
        "plt.title('High CPU Bands')\n",
        "plt.legend(loc='upper left')\n",
        "plt.xlabel('Time ')\n",
        "plt.ylabel('Max CPU')"
      ],
      "metadata": {
        "colab": {
          "base_uri": "https://localhost:8080/",
          "height": 323
        },
        "id": "3zRVsiAIJroD",
        "outputId": "20298ad9-fd7a-4a62-cad9-512dde5402eb"
      },
      "execution_count": 70,
      "outputs": [
        {
          "output_type": "execute_result",
          "data": {
            "text/plain": [
              "Text(0, 0.5, 'Max CPU')"
            ]
          },
          "metadata": {},
          "execution_count": 70
        },
        {
          "output_type": "display_data",
          "data": {
            "text/plain": [
              "<Figure size 2160x432 with 1 Axes>"
            ],
            "image/png": "[encoded data removed]"
          },
          "metadata": {
            "needs_background": "light"
          }
        }
      ]
    },
    {
      "cell_type": "code",
      "source": [
        "data_path = 'https://raw.githubusercontent.com/gags13/datasets/main/final_filtered.csv'\n",
        "\n",
        "vm_dataframe = pd.read_csv(data_path, index_col=False, delimiter=',')\n",
        "vm_dataframe.drop(['Unnamed: 0'],axis=1, inplace=True)\n",
        "vm_dataframe.head()"
      ],
      "metadata": {
        "colab": {
          "base_uri": "https://localhost:8080/",
          "height": 357
        },
        "id": "OZfxddVFP_zi",
        "outputId": "d719e315-1158-46c0-e629-c53879699f02"
      },
      "execution_count": 71,
      "outputs": [
        {
          "output_type": "execute_result",
          "data": {
            "text/plain": [
              "                                                vmid  \\\n",
              "0  trjCc/lisNnKRnpFtPMmULgw1gUoiymSCshiGZfLY/Oil4...   \n",
              "1  RVfel1jVo2UTjdHeqMgqJcVcfBUG/V9mV6Un47p8vGHiFj...   \n",
              "2  mY+fWVBQe0tTfdVMO/2Ea9AAjDyN2ndi/40U59iUNxiTRu...   \n",
              "3  N0gBVBQviQ4n/jyolzXWac39GOcL3596Re7d2N7RpmffGF...   \n",
              "4  4Cka/a5H763ZPaDuuNo6MhnfKQ56hvTrTxPgWmcJyh2ItB...   \n",
              "\n",
              "                                      subscriptionid  \\\n",
              "0  9j4lLAdcydRsC+LhAQG/IS6Q15Z+tw3IYiCwH6QuxxtuQ1...   \n",
              "1  NM+rYlOuvfObftjnvrHy7hUorr5ulWm8UgTM9A1SZniRTv...   \n",
              "2  8mYUop47Ih3Ka0m8+fxnNmM1rUjlJ9vDkclgoBJViVmWPr...   \n",
              "3  8mYUop47Ih3Ka0m8+fxnNmM1rUjlJ9vDkclgoBJViVmWPr...   \n",
              "4  HzLK24LbYXd1kU9jw99gYFREpnAkKefq7MKwAxhEwzct60...   \n",
              "\n",
              "                                        deploymentid  vmcreated  vmdeleted  \\\n",
              "0  amCh31pwRrNqxYhYZMQ9kTaBv6Nsj9KELkMwZXIujmvpbm...          0    2591400   \n",
              "1  tGInpwc5Wi0Tq15xunBKLtsbC6Bxk5LP2e+NIsoDe/D3jg...          0    2589000   \n",
              "2  fIRf+CYG8jmlnysPUgzCuo7L/D1tV9jirr4FaJCQtaI7/n...      28800    2591400   \n",
              "3  fIRf+CYG8jmlnysPUgzCuo7L/D1tV9jirr4FaJCQtaI7/n...      28500    2591400   \n",
              "4  wggQWvknTcqrfDqxcQGGT40iu8/aEgjBj5i6e3bu9qtUc8...          0    2591400   \n",
              "\n",
              "      maxcpu    avgcpu  p95maxcpu         vmcategory  vmcorecountbucket  \\\n",
              "0  96.715705  0.938933   0.863622  Delay-insensitive                  2   \n",
              "1  98.226568  2.410055   2.297678  Delay-insensitive                  2   \n",
              "2  97.194277  2.076477   1.938042  Delay-insensitive                  4   \n",
              "3  98.838522  2.479152   2.367730  Delay-insensitive                  4   \n",
              "4  99.278745  0.895093   0.716898  Delay-insensitive                  2   \n",
              "\n",
              "   vmmemorybucket    lifetime     corehour  target  delmaxavg  delmaxp95  \\\n",
              "0               2  719.833333  1439.666667       1  95.776771  95.852083   \n",
              "1               8  719.166667  1438.333333       1  95.816514  95.928891   \n",
              "2              32  711.833333  2847.333333       1  95.117800  95.256236   \n",
              "3              32  711.916667  2847.666667       1  96.359369  96.470792   \n",
              "4               2  719.833333  1439.666667       1  98.383652  98.561847   \n",
              "\n",
              "   delp95avg  kmeans  gm  p95avgcpuslope  \n",
              "0  -0.075311       0   1        0.919790  \n",
              "1  -0.112377       0   2        0.953372  \n",
              "2  -0.138435       0   1        0.933332  \n",
              "3  -0.111423       0   1        0.955056  \n",
              "4  -0.178195       0   1        0.800920  "
            ],
            "text/html": [
              "\n",
              "  <div id=\"df-7602a0cc-7d63-4cea-a7c0-d04ef4cd6e73\">\n",
              "    <div class=\"colab-df-container\">\n",
              "      <div>\n",
              "<style scoped>\n",
              "    .dataframe tbody tr th:only-of-type {\n",
              "        vertical-align: middle;\n",
              "    }\n",
              "\n",
              "    .dataframe tbody tr th {\n",
              "        vertical-align: top;\n",
              "    }\n",
              "\n",
              "    .dataframe thead th {\n",
              "        text-align: right;\n",
              "    }\n",
              "</style>\n",
              "<table border=\"1\" class=\"dataframe\">\n",
              "  <thead>\n",
              "    <tr style=\"text-align: right;\">\n",
              "      <th></th>\n",
              "      <th>vmid</th>\n",
              "      <th>subscriptionid</th>\n",
              "      <th>deploymentid</th>\n",
              "      <th>vmcreated</th>\n",
              "      <th>vmdeleted</th>\n",
              "      <th>maxcpu</th>\n",
              "      <th>avgcpu</th>\n",
              "      <th>p95maxcpu</th>\n",
              "      <th>vmcategory</th>\n",
              "      <th>vmcorecountbucket</th>\n",
              "      <th>vmmemorybucket</th>\n",
              "      <th>lifetime</th>\n",
              "      <th>corehour</th>\n",
              "      <th>target</th>\n",
              "      <th>delmaxavg</th>\n",
              "      <th>delmaxp95</th>\n",
              "      <th>delp95avg</th>\n",
              "      <th>kmeans</th>\n",
              "      <th>gm</th>\n",
              "      <th>p95avgcpuslope</th>\n",
              "    </tr>\n",
              "  </thead>\n",
              "  <tbody>\n",
              "    <tr>\n",
              "      <th>0</th>\n",
              "      <td>trjCc/lisNnKRnpFtPMmULgw1gUoiymSCshiGZfLY/Oil4...</td>\n",
              "      <td>9j4lLAdcydRsC+LhAQG/IS6Q15Z+tw3IYiCwH6QuxxtuQ1...</td>\n",
              "      <td>amCh31pwRrNqxYhYZMQ9kTaBv6Nsj9KELkMwZXIujmvpbm...</td>\n",
              "      <td>0</td>\n",
              "      <td>2591400</td>\n",
              "      <td>96.715705</td>\n",
              "      <td>0.938933</td>\n",
              "      <td>0.863622</td>\n",
              "      <td>Delay-insensitive</td>\n",
              "      <td>2</td>\n",
              "      <td>2</td>\n",
              "      <td>719.833333</td>\n",
              "      <td>1439.666667</td>\n",
              "      <td>1</td>\n",
              "      <td>95.776771</td>\n",
              "      <td>95.852083</td>\n",
              "      <td>-0.075311</td>\n",
              "      <td>0</td>\n",
              "      <td>1</td>\n",
              "      <td>0.919790</td>\n",
              "    </tr>\n",
              "    <tr>\n",
              "      <th>1</th>\n",
              "      <td>RVfel1jVo2UTjdHeqMgqJcVcfBUG/V9mV6Un47p8vGHiFj...</td>\n",
              "      <td>NM+rYlOuvfObftjnvrHy7hUorr5ulWm8UgTM9A1SZniRTv...</td>\n",
              "      <td>tGInpwc5Wi0Tq15xunBKLtsbC6Bxk5LP2e+NIsoDe/D3jg...</td>\n",
              "      <td>0</td>\n",
              "      <td>2589000</td>\n",
              "      <td>98.226568</td>\n",
              "      <td>2.410055</td>\n",
              "      <td>2.297678</td>\n",
              "      <td>Delay-insensitive</td>\n",
              "      <td>2</td>\n",
              "      <td>8</td>\n",
              "      <td>719.166667</td>\n",
              "      <td>1438.333333</td>\n",
              "      <td>1</td>\n",
              "      <td>95.816514</td>\n",
              "      <td>95.928891</td>\n",
              "      <td>-0.112377</td>\n",
              "      <td>0</td>\n",
              "      <td>2</td>\n",
              "      <td>0.953372</td>\n",
              "    </tr>\n",
              "    <tr>\n",
              "      <th>2</th>\n",
              "      <td>mY+fWVBQe0tTfdVMO/2Ea9AAjDyN2ndi/40U59iUNxiTRu...</td>\n",
              "      <td>8mYUop47Ih3Ka0m8+fxnNmM1rUjlJ9vDkclgoBJViVmWPr...</td>\n",
              "      <td>fIRf+CYG8jmlnysPUgzCuo7L/D1tV9jirr4FaJCQtaI7/n...</td>\n",
              "      <td>28800</td>\n",
              "      <td>2591400</td>\n",
              "      <td>97.194277</td>\n",
              "      <td>2.076477</td>\n",
              "      <td>1.938042</td>\n",
              "      <td>Delay-insensitive</td>\n",
              "      <td>4</td>\n",
              "      <td>32</td>\n",
              "      <td>711.833333</td>\n",
              "      <td>2847.333333</td>\n",
              "      <td>1</td>\n",
              "      <td>95.117800</td>\n",
              "      <td>95.256236</td>\n",
              "      <td>-0.138435</td>\n",
              "      <td>0</td>\n",
              "      <td>1</td>\n",
              "      <td>0.933332</td>\n",
              "    </tr>\n",
              "    <tr>\n",
              "      <th>3</th>\n",
              "      <td>N0gBVBQviQ4n/jyolzXWac39GOcL3596Re7d2N7RpmffGF...</td>\n",
              "      <td>8mYUop47Ih3Ka0m8+fxnNmM1rUjlJ9vDkclgoBJViVmWPr...</td>\n",
              "      <td>fIRf+CYG8jmlnysPUgzCuo7L/D1tV9jirr4FaJCQtaI7/n...</td>\n",
              "      <td>28500</td>\n",
              "      <td>2591400</td>\n",
              "      <td>98.838522</td>\n",
              "      <td>2.479152</td>\n",
              "      <td>2.367730</td>\n",
              "      <td>Delay-insensitive</td>\n",
              "      <td>4</td>\n",
              "      <td>32</td>\n",
              "      <td>711.916667</td>\n",
              "      <td>2847.666667</td>\n",
              "      <td>1</td>\n",
              "      <td>96.359369</td>\n",
              "      <td>96.470792</td>\n",
              "      <td>-0.111423</td>\n",
              "      <td>0</td>\n",
              "      <td>1</td>\n",
              "      <td>0.955056</td>\n",
              "    </tr>\n",
              "    <tr>\n",
              "      <th>4</th>\n",
              "      <td>4Cka/a5H763ZPaDuuNo6MhnfKQ56hvTrTxPgWmcJyh2ItB...</td>\n",
              "      <td>HzLK24LbYXd1kU9jw99gYFREpnAkKefq7MKwAxhEwzct60...</td>\n",
              "      <td>wggQWvknTcqrfDqxcQGGT40iu8/aEgjBj5i6e3bu9qtUc8...</td>\n",
              "      <td>0</td>\n",
              "      <td>2591400</td>\n",
              "      <td>99.278745</td>\n",
              "      <td>0.895093</td>\n",
              "      <td>0.716898</td>\n",
              "      <td>Delay-insensitive</td>\n",
              "      <td>2</td>\n",
              "      <td>2</td>\n",
              "      <td>719.833333</td>\n",
              "      <td>1439.666667</td>\n",
              "      <td>1</td>\n",
              "      <td>98.383652</td>\n",
              "      <td>98.561847</td>\n",
              "      <td>-0.178195</td>\n",
              "      <td>0</td>\n",
              "      <td>1</td>\n",
              "      <td>0.800920</td>\n",
              "    </tr>\n",
              "  </tbody>\n",
              "</table>\n",
              "</div>\n",
              "      <button class=\"colab-df-convert\" onclick=\"convertToInteractive('df-7602a0cc-7d63-4cea-a7c0-d04ef4cd6e73')\"\n",
              "              title=\"Convert this dataframe to an interactive table.\"\n",
              "              style=\"display:none;\">\n",
              "        \n",
              "  <svg xmlns=\"http://www.w3.org/2000/svg\" height=\"24px\"viewBox=\"0 0 24 24\"\n",
              "       width=\"24px\">\n",
              "    <path d=\"M0 0h24v24H0V0z\" fill=\"none\"/>\n",
              "    <path d=\"M18.56 5.44l.94 2.06.94-2.06 2.06-.94-2.06-.94-.94-2.06-.94 2.06-2.06.94zm-11 1L8.5 8.5l.94-2.06 2.06-.94-2.06-.94L8.5 2.5l-.94 2.06-2.06.94zm10 10l.94 2.06.94-2.06 2.06-.94-2.06-.94-.94-2.06-.94 2.06-2.06.94z\"/><path d=\"M17.41 7.96l-1.37-1.37c-.4-.4-.92-.59-1.43-.59-.52 0-1.04.2-1.43.59L10.3 9.45l-7.72 7.72c-.78.78-.78 2.05 0 2.83L4 21.41c.39.39.9.59 1.41.59.51 0 1.02-.2 1.41-.59l7.78-7.78 2.81-2.81c.8-.78.8-2.07 0-2.86zM5.41 20L4 18.59l7.72-7.72 1.47 1.35L5.41 20z\"/>\n",
              "  </svg>\n",
              "      </button>\n",
              "      \n",
              "  <style>\n",
              "    .colab-df-container {\n",
              "      display:flex;\n",
              "      flex-wrap:wrap;\n",
              "      gap: 12px;\n",
              "    }\n",
              "\n",
              "    .colab-df-convert {\n",
              "      background-color: #E8F0FE;\n",
              "      border: none;\n",
              "      border-radius: 50%;\n",
              "      cursor: pointer;\n",
              "      display: none;\n",
              "      fill: #1967D2;\n",
              "      height: 32px;\n",
              "      padding: 0 0 0 0;\n",
              "      width: 32px;\n",
              "    }\n",
              "\n",
              "    .colab-df-convert:hover {\n",
              "      background-color: #E2EBFA;\n",
              "      box-shadow: 0px 1px 2px rgba(60, 64, 67, 0.3), 0px 1px 3px 1px rgba(60, 64, 67, 0.15);\n",
              "      fill: #174EA6;\n",
              "    }\n",
              "\n",
              "    [theme=dark] .colab-df-convert {\n",
              "      background-color: #3B4455;\n",
              "      fill: #D2E3FC;\n",
              "    }\n",
              "\n",
              "    [theme=dark] .colab-df-convert:hover {\n",
              "      background-color: #434B5C;\n",
              "      box-shadow: 0px 1px 3px 1px rgba(0, 0, 0, 0.15);\n",
              "      filter: drop-shadow(0px 1px 2px rgba(0, 0, 0, 0.3));\n",
              "      fill: #FFFFFF;\n",
              "    }\n",
              "  </style>\n",
              "\n",
              "      <script>\n",
              "        const buttonEl =\n",
              "          document.querySelector('#df-7602a0cc-7d63-4cea-a7c0-d04ef4cd6e73 button.colab-df-convert');\n",
              "        buttonEl.style.display =\n",
              "          google.colab.kernel.accessAllowed ? 'block' : 'none';\n",
              "\n",
              "        async function convertToInteractive(key) {\n",
              "          const element = document.querySelector('#df-7602a0cc-7d63-4cea-a7c0-d04ef4cd6e73');\n",
              "          const dataTable =\n",
              "            await google.colab.kernel.invokeFunction('convertToInteractive',\n",
              "                                                     [key], {});\n",
              "          if (!dataTable) return;\n",
              "\n",
              "          const docLinkHtml = 'Like what you see? Visit the ' +\n",
              "            '<a target=\"_blank\" href=https://colab.research.google.com/notebooks/data_table.ipynb>data table notebook</a>'\n",
              "            + ' to learn more about interactive tables.';\n",
              "          element.innerHTML = '';\n",
              "          dataTable['output_type'] = 'display_data';\n",
              "          await google.colab.output.renderOutput(dataTable, element);\n",
              "          const docLink = document.createElement('div');\n",
              "          docLink.innerHTML = docLinkHtml;\n",
              "          element.appendChild(docLink);\n",
              "        }\n",
              "      </script>\n",
              "    </div>\n",
              "  </div>\n",
              "  "
            ]
          },
          "metadata": {},
          "execution_count": 71
        }
      ]
    },
    {
      "cell_type": "code",
      "source": [
        "core_hour_saved_per_core = (5*len(analysis_df[analysis_df['highcpu'] == 50])/60)/2\n",
        "total_core_hour_per_core = 5*len(analysis_df)/60\n",
        "core_count = vm_dataframe[vm_dataframe['vmid'] == vm_id].vmcorecountbucket.values[0]"
      ],
      "metadata": {
        "id": "-NzhBC2ZRHir"
      },
      "execution_count": 72,
      "outputs": []
    },
    {
      "cell_type": "code",
      "source": [
        "print(\"TOTAL CPU CORE HOUR (CURRENT)\", total_core_hour_per_core*core_count)\n",
        "print(\"TOTAL CPU CORE HOUR (PROPOSED)\", (total_core_hour_per_core*core_count) - (core_hour_saved_per_core*core_count))"
      ],
      "metadata": {
        "colab": {
          "base_uri": "https://localhost:8080/"
        },
        "id": "sPXzq_XJRX7v",
        "outputId": "c4faf83a-3a02-44e8-bdba-550e857ca91f"
      },
      "execution_count": 73,
      "outputs": [
        {
          "output_type": "stream",
          "name": "stdout",
          "text": [
            "TOTAL CPU CORE HOUR (CURRENT) 557.6666666666666\n",
            "TOTAL CPU CORE HOUR (PROPOSED) 304.66666666666663\n"
          ]
        }
      ]
    },
    {
      "cell_type": "code",
      "source": [
        "print(\"WASTED CPU %\",100*(((total_core_hour_per_core*core_count) - (core_hour_saved_per_core*core_count))/(total_core_hour_per_core*core_count)))"
      ],
      "metadata": {
        "colab": {
          "base_uri": "https://localhost:8080/"
        },
        "id": "Jm0EDrfIRkgO",
        "outputId": "4c72f47b-9b39-4048-d0fe-3dcf615ffcb3"
      },
      "execution_count": 74,
      "outputs": [
        {
          "output_type": "stream",
          "name": "stdout",
          "text": [
            "WASTED CPU % 54.63239689181112\n"
          ]
        }
      ]
    }
  ]
}